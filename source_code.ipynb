{
 "cells": [
  {
   "cell_type": "code",
   "execution_count": 1,
   "id": "7814eff5-de81-4f85-966a-8259b92d771e",
   "metadata": {},
   "outputs": [],
   "source": [
    "import pandas as pd"
   ]
  },
  {
   "cell_type": "code",
   "execution_count": 244,
   "id": "5b6a2ba0-734b-48cc-a322-437a1681fb9c",
   "metadata": {},
   "outputs": [
    {
     "data": {
      "text/html": [
       "<div>\n",
       "<style scoped>\n",
       "    .dataframe tbody tr th:only-of-type {\n",
       "        vertical-align: middle;\n",
       "    }\n",
       "\n",
       "    .dataframe tbody tr th {\n",
       "        vertical-align: top;\n",
       "    }\n",
       "\n",
       "    .dataframe thead th {\n",
       "        text-align: right;\n",
       "    }\n",
       "</style>\n",
       "<table border=\"1\" class=\"dataframe\">\n",
       "  <thead>\n",
       "    <tr style=\"text-align: right;\">\n",
       "      <th></th>\n",
       "      <th>battery_power</th>\n",
       "      <th>blue</th>\n",
       "      <th>clock_speed</th>\n",
       "      <th>dual_sim</th>\n",
       "      <th>fc</th>\n",
       "      <th>four_g</th>\n",
       "      <th>int_memory</th>\n",
       "      <th>m_dep</th>\n",
       "      <th>mobile_wt</th>\n",
       "      <th>n_cores</th>\n",
       "      <th>...</th>\n",
       "      <th>px_height</th>\n",
       "      <th>px_width</th>\n",
       "      <th>ram</th>\n",
       "      <th>sc_h</th>\n",
       "      <th>sc_w</th>\n",
       "      <th>talk_time</th>\n",
       "      <th>three_g</th>\n",
       "      <th>touch_screen</th>\n",
       "      <th>wifi</th>\n",
       "      <th>price_range</th>\n",
       "    </tr>\n",
       "  </thead>\n",
       "  <tbody>\n",
       "    <tr>\n",
       "      <th>0</th>\n",
       "      <td>842</td>\n",
       "      <td>0</td>\n",
       "      <td>2.2</td>\n",
       "      <td>0</td>\n",
       "      <td>1</td>\n",
       "      <td>0</td>\n",
       "      <td>7</td>\n",
       "      <td>0.6</td>\n",
       "      <td>188</td>\n",
       "      <td>2</td>\n",
       "      <td>...</td>\n",
       "      <td>20</td>\n",
       "      <td>756</td>\n",
       "      <td>2549</td>\n",
       "      <td>9</td>\n",
       "      <td>7</td>\n",
       "      <td>19</td>\n",
       "      <td>0</td>\n",
       "      <td>0</td>\n",
       "      <td>1</td>\n",
       "      <td>1</td>\n",
       "    </tr>\n",
       "    <tr>\n",
       "      <th>1</th>\n",
       "      <td>1021</td>\n",
       "      <td>1</td>\n",
       "      <td>0.5</td>\n",
       "      <td>1</td>\n",
       "      <td>0</td>\n",
       "      <td>1</td>\n",
       "      <td>53</td>\n",
       "      <td>0.7</td>\n",
       "      <td>136</td>\n",
       "      <td>3</td>\n",
       "      <td>...</td>\n",
       "      <td>905</td>\n",
       "      <td>1988</td>\n",
       "      <td>2631</td>\n",
       "      <td>17</td>\n",
       "      <td>3</td>\n",
       "      <td>7</td>\n",
       "      <td>1</td>\n",
       "      <td>1</td>\n",
       "      <td>0</td>\n",
       "      <td>2</td>\n",
       "    </tr>\n",
       "    <tr>\n",
       "      <th>2</th>\n",
       "      <td>563</td>\n",
       "      <td>1</td>\n",
       "      <td>0.5</td>\n",
       "      <td>1</td>\n",
       "      <td>2</td>\n",
       "      <td>1</td>\n",
       "      <td>41</td>\n",
       "      <td>0.9</td>\n",
       "      <td>145</td>\n",
       "      <td>5</td>\n",
       "      <td>...</td>\n",
       "      <td>1263</td>\n",
       "      <td>1716</td>\n",
       "      <td>2603</td>\n",
       "      <td>11</td>\n",
       "      <td>2</td>\n",
       "      <td>9</td>\n",
       "      <td>1</td>\n",
       "      <td>1</td>\n",
       "      <td>0</td>\n",
       "      <td>2</td>\n",
       "    </tr>\n",
       "    <tr>\n",
       "      <th>3</th>\n",
       "      <td>615</td>\n",
       "      <td>1</td>\n",
       "      <td>2.5</td>\n",
       "      <td>0</td>\n",
       "      <td>0</td>\n",
       "      <td>0</td>\n",
       "      <td>10</td>\n",
       "      <td>0.8</td>\n",
       "      <td>131</td>\n",
       "      <td>6</td>\n",
       "      <td>...</td>\n",
       "      <td>1216</td>\n",
       "      <td>1786</td>\n",
       "      <td>2769</td>\n",
       "      <td>16</td>\n",
       "      <td>8</td>\n",
       "      <td>11</td>\n",
       "      <td>1</td>\n",
       "      <td>0</td>\n",
       "      <td>0</td>\n",
       "      <td>2</td>\n",
       "    </tr>\n",
       "    <tr>\n",
       "      <th>4</th>\n",
       "      <td>1821</td>\n",
       "      <td>1</td>\n",
       "      <td>1.2</td>\n",
       "      <td>0</td>\n",
       "      <td>13</td>\n",
       "      <td>1</td>\n",
       "      <td>44</td>\n",
       "      <td>0.6</td>\n",
       "      <td>141</td>\n",
       "      <td>2</td>\n",
       "      <td>...</td>\n",
       "      <td>1208</td>\n",
       "      <td>1212</td>\n",
       "      <td>1411</td>\n",
       "      <td>8</td>\n",
       "      <td>2</td>\n",
       "      <td>15</td>\n",
       "      <td>1</td>\n",
       "      <td>1</td>\n",
       "      <td>0</td>\n",
       "      <td>1</td>\n",
       "    </tr>\n",
       "    <tr>\n",
       "      <th>...</th>\n",
       "      <td>...</td>\n",
       "      <td>...</td>\n",
       "      <td>...</td>\n",
       "      <td>...</td>\n",
       "      <td>...</td>\n",
       "      <td>...</td>\n",
       "      <td>...</td>\n",
       "      <td>...</td>\n",
       "      <td>...</td>\n",
       "      <td>...</td>\n",
       "      <td>...</td>\n",
       "      <td>...</td>\n",
       "      <td>...</td>\n",
       "      <td>...</td>\n",
       "      <td>...</td>\n",
       "      <td>...</td>\n",
       "      <td>...</td>\n",
       "      <td>...</td>\n",
       "      <td>...</td>\n",
       "      <td>...</td>\n",
       "      <td>...</td>\n",
       "    </tr>\n",
       "    <tr>\n",
       "      <th>1995</th>\n",
       "      <td>794</td>\n",
       "      <td>1</td>\n",
       "      <td>0.5</td>\n",
       "      <td>1</td>\n",
       "      <td>0</td>\n",
       "      <td>1</td>\n",
       "      <td>2</td>\n",
       "      <td>0.8</td>\n",
       "      <td>106</td>\n",
       "      <td>6</td>\n",
       "      <td>...</td>\n",
       "      <td>1222</td>\n",
       "      <td>1890</td>\n",
       "      <td>668</td>\n",
       "      <td>13</td>\n",
       "      <td>4</td>\n",
       "      <td>19</td>\n",
       "      <td>1</td>\n",
       "      <td>1</td>\n",
       "      <td>0</td>\n",
       "      <td>0</td>\n",
       "    </tr>\n",
       "    <tr>\n",
       "      <th>1996</th>\n",
       "      <td>1965</td>\n",
       "      <td>1</td>\n",
       "      <td>2.6</td>\n",
       "      <td>1</td>\n",
       "      <td>0</td>\n",
       "      <td>0</td>\n",
       "      <td>39</td>\n",
       "      <td>0.2</td>\n",
       "      <td>187</td>\n",
       "      <td>4</td>\n",
       "      <td>...</td>\n",
       "      <td>915</td>\n",
       "      <td>1965</td>\n",
       "      <td>2032</td>\n",
       "      <td>11</td>\n",
       "      <td>10</td>\n",
       "      <td>16</td>\n",
       "      <td>1</td>\n",
       "      <td>1</td>\n",
       "      <td>1</td>\n",
       "      <td>2</td>\n",
       "    </tr>\n",
       "    <tr>\n",
       "      <th>1997</th>\n",
       "      <td>1911</td>\n",
       "      <td>0</td>\n",
       "      <td>0.9</td>\n",
       "      <td>1</td>\n",
       "      <td>1</td>\n",
       "      <td>1</td>\n",
       "      <td>36</td>\n",
       "      <td>0.7</td>\n",
       "      <td>108</td>\n",
       "      <td>8</td>\n",
       "      <td>...</td>\n",
       "      <td>868</td>\n",
       "      <td>1632</td>\n",
       "      <td>3057</td>\n",
       "      <td>9</td>\n",
       "      <td>1</td>\n",
       "      <td>5</td>\n",
       "      <td>1</td>\n",
       "      <td>1</td>\n",
       "      <td>0</td>\n",
       "      <td>3</td>\n",
       "    </tr>\n",
       "    <tr>\n",
       "      <th>1998</th>\n",
       "      <td>1512</td>\n",
       "      <td>0</td>\n",
       "      <td>0.9</td>\n",
       "      <td>0</td>\n",
       "      <td>4</td>\n",
       "      <td>1</td>\n",
       "      <td>46</td>\n",
       "      <td>0.1</td>\n",
       "      <td>145</td>\n",
       "      <td>5</td>\n",
       "      <td>...</td>\n",
       "      <td>336</td>\n",
       "      <td>670</td>\n",
       "      <td>869</td>\n",
       "      <td>18</td>\n",
       "      <td>10</td>\n",
       "      <td>19</td>\n",
       "      <td>1</td>\n",
       "      <td>1</td>\n",
       "      <td>1</td>\n",
       "      <td>0</td>\n",
       "    </tr>\n",
       "    <tr>\n",
       "      <th>1999</th>\n",
       "      <td>510</td>\n",
       "      <td>1</td>\n",
       "      <td>2.0</td>\n",
       "      <td>1</td>\n",
       "      <td>5</td>\n",
       "      <td>1</td>\n",
       "      <td>45</td>\n",
       "      <td>0.9</td>\n",
       "      <td>168</td>\n",
       "      <td>6</td>\n",
       "      <td>...</td>\n",
       "      <td>483</td>\n",
       "      <td>754</td>\n",
       "      <td>3919</td>\n",
       "      <td>19</td>\n",
       "      <td>4</td>\n",
       "      <td>2</td>\n",
       "      <td>1</td>\n",
       "      <td>1</td>\n",
       "      <td>1</td>\n",
       "      <td>3</td>\n",
       "    </tr>\n",
       "  </tbody>\n",
       "</table>\n",
       "<p>2000 rows × 21 columns</p>\n",
       "</div>"
      ],
      "text/plain": [
       "      battery_power  blue  clock_speed  dual_sim  fc  four_g  int_memory  \\\n",
       "0               842     0          2.2         0   1       0           7   \n",
       "1              1021     1          0.5         1   0       1          53   \n",
       "2               563     1          0.5         1   2       1          41   \n",
       "3               615     1          2.5         0   0       0          10   \n",
       "4              1821     1          1.2         0  13       1          44   \n",
       "...             ...   ...          ...       ...  ..     ...         ...   \n",
       "1995            794     1          0.5         1   0       1           2   \n",
       "1996           1965     1          2.6         1   0       0          39   \n",
       "1997           1911     0          0.9         1   1       1          36   \n",
       "1998           1512     0          0.9         0   4       1          46   \n",
       "1999            510     1          2.0         1   5       1          45   \n",
       "\n",
       "      m_dep  mobile_wt  n_cores  ...  px_height  px_width   ram  sc_h  sc_w  \\\n",
       "0       0.6        188        2  ...         20       756  2549     9     7   \n",
       "1       0.7        136        3  ...        905      1988  2631    17     3   \n",
       "2       0.9        145        5  ...       1263      1716  2603    11     2   \n",
       "3       0.8        131        6  ...       1216      1786  2769    16     8   \n",
       "4       0.6        141        2  ...       1208      1212  1411     8     2   \n",
       "...     ...        ...      ...  ...        ...       ...   ...   ...   ...   \n",
       "1995    0.8        106        6  ...       1222      1890   668    13     4   \n",
       "1996    0.2        187        4  ...        915      1965  2032    11    10   \n",
       "1997    0.7        108        8  ...        868      1632  3057     9     1   \n",
       "1998    0.1        145        5  ...        336       670   869    18    10   \n",
       "1999    0.9        168        6  ...        483       754  3919    19     4   \n",
       "\n",
       "      talk_time  three_g  touch_screen  wifi  price_range  \n",
       "0            19        0             0     1            1  \n",
       "1             7        1             1     0            2  \n",
       "2             9        1             1     0            2  \n",
       "3            11        1             0     0            2  \n",
       "4            15        1             1     0            1  \n",
       "...         ...      ...           ...   ...          ...  \n",
       "1995         19        1             1     0            0  \n",
       "1996         16        1             1     1            2  \n",
       "1997          5        1             1     0            3  \n",
       "1998         19        1             1     1            0  \n",
       "1999          2        1             1     1            3  \n",
       "\n",
       "[2000 rows x 21 columns]"
      ]
     },
     "execution_count": 244,
     "metadata": {},
     "output_type": "execute_result"
    }
   ],
   "source": [
    "df=pd.read_csv('train_data.csv')\n",
    "df"
   ]
  },
  {
   "cell_type": "code",
   "execution_count": 49,
   "id": "52135ebb-c10a-44f7-b0fe-724509c33aea",
   "metadata": {},
   "outputs": [
    {
     "name": "stdout",
     "output_type": "stream",
     "text": [
      "<class 'pandas.core.frame.DataFrame'>\n",
      "RangeIndex: 2000 entries, 0 to 1999\n",
      "Data columns (total 21 columns):\n",
      " #   Column         Non-Null Count  Dtype  \n",
      "---  ------         --------------  -----  \n",
      " 0   battery_power  2000 non-null   int64  \n",
      " 1   blue           2000 non-null   int64  \n",
      " 2   clock_speed    2000 non-null   float64\n",
      " 3   dual_sim       2000 non-null   int64  \n",
      " 4   fc             2000 non-null   int64  \n",
      " 5   four_g         2000 non-null   int64  \n",
      " 6   int_memory     2000 non-null   int64  \n",
      " 7   m_dep          2000 non-null   float64\n",
      " 8   mobile_wt      2000 non-null   int64  \n",
      " 9   n_cores        2000 non-null   int64  \n",
      " 10  pc             2000 non-null   int64  \n",
      " 11  px_height      2000 non-null   int64  \n",
      " 12  px_width       2000 non-null   int64  \n",
      " 13  ram            2000 non-null   int64  \n",
      " 14  sc_h           2000 non-null   int64  \n",
      " 15  sc_w           2000 non-null   int64  \n",
      " 16  talk_time      2000 non-null   int64  \n",
      " 17  three_g        2000 non-null   int64  \n",
      " 18  touch_screen   2000 non-null   int64  \n",
      " 19  wifi           2000 non-null   int64  \n",
      " 20  price_range    2000 non-null   int64  \n",
      "dtypes: float64(2), int64(19)\n",
      "memory usage: 328.3 KB\n"
     ]
    }
   ],
   "source": [
    "df.info()"
   ]
  },
  {
   "cell_type": "code",
   "execution_count": null,
   "id": "e3245895-abfa-4f0e-95fe-8bb369d82954",
   "metadata": {},
   "outputs": [],
   "source": [
    "#no null values\n",
    "#apt data type for all columns"
   ]
  },
  {
   "cell_type": "code",
   "execution_count": null,
   "id": "777c98a4-0067-4ae4-8787-bb947871d452",
   "metadata": {},
   "outputs": [],
   "source": [
    "#chech uniqueness for every column to find continuous or category\n",
    "unique_values = df['sc_w'].unique()\n",
    "sorted_unique_values = sorted(unique_values)\n",
    "print(sorted_unique_values)"
   ]
  },
  {
   "cell_type": "code",
   "execution_count": 63,
   "id": "975dfd4a-44cb-41e4-82b1-b18e6bbfc85a",
   "metadata": {},
   "outputs": [],
   "source": [
    "duplicates=df.duplicated()"
   ]
  },
  {
   "cell_type": "code",
   "execution_count": 64,
   "id": "d7891741-bb57-456b-a982-ed31ca1cd7fb",
   "metadata": {},
   "outputs": [
    {
     "data": {
      "text/plain": [
       "0"
      ]
     },
     "execution_count": 64,
     "metadata": {},
     "output_type": "execute_result"
    }
   ],
   "source": [
    "duplicates.sum()"
   ]
  },
  {
   "cell_type": "code",
   "execution_count": null,
   "id": "11c9dbf6-6913-40ab-b730-3c33fb63f1d7",
   "metadata": {},
   "outputs": [],
   "source": [
    "#no duplicates found\n",
    "#finally this data looks good and doesnt need data cleaning"
   ]
  },
  {
   "cell_type": "code",
   "execution_count": 106,
   "id": "861c76ce-29bf-4b76-a9fe-b0b8e4d1f750",
   "metadata": {},
   "outputs": [
    {
     "data": {
      "text/html": [
       "<div>\n",
       "<style scoped>\n",
       "    .dataframe tbody tr th:only-of-type {\n",
       "        vertical-align: middle;\n",
       "    }\n",
       "\n",
       "    .dataframe tbody tr th {\n",
       "        vertical-align: top;\n",
       "    }\n",
       "\n",
       "    .dataframe thead th {\n",
       "        text-align: right;\n",
       "    }\n",
       "</style>\n",
       "<table border=\"1\" class=\"dataframe\">\n",
       "  <thead>\n",
       "    <tr style=\"text-align: right;\">\n",
       "      <th></th>\n",
       "      <th>battery_power</th>\n",
       "      <th>clock_speed</th>\n",
       "      <th>fc</th>\n",
       "      <th>int_memory</th>\n",
       "      <th>m_dep</th>\n",
       "      <th>mobile_wt</th>\n",
       "      <th>n_cores</th>\n",
       "      <th>pc</th>\n",
       "      <th>px_height</th>\n",
       "      <th>px_width</th>\n",
       "      <th>ram</th>\n",
       "      <th>sc_h</th>\n",
       "      <th>sc_w</th>\n",
       "    </tr>\n",
       "  </thead>\n",
       "  <tbody>\n",
       "    <tr>\n",
       "      <th>0</th>\n",
       "      <td>842</td>\n",
       "      <td>2.2</td>\n",
       "      <td>1</td>\n",
       "      <td>7</td>\n",
       "      <td>0.6</td>\n",
       "      <td>188</td>\n",
       "      <td>2</td>\n",
       "      <td>2</td>\n",
       "      <td>20</td>\n",
       "      <td>756</td>\n",
       "      <td>2549</td>\n",
       "      <td>9</td>\n",
       "      <td>7</td>\n",
       "    </tr>\n",
       "    <tr>\n",
       "      <th>1</th>\n",
       "      <td>1021</td>\n",
       "      <td>0.5</td>\n",
       "      <td>0</td>\n",
       "      <td>53</td>\n",
       "      <td>0.7</td>\n",
       "      <td>136</td>\n",
       "      <td>3</td>\n",
       "      <td>6</td>\n",
       "      <td>905</td>\n",
       "      <td>1988</td>\n",
       "      <td>2631</td>\n",
       "      <td>17</td>\n",
       "      <td>3</td>\n",
       "    </tr>\n",
       "    <tr>\n",
       "      <th>2</th>\n",
       "      <td>563</td>\n",
       "      <td>0.5</td>\n",
       "      <td>2</td>\n",
       "      <td>41</td>\n",
       "      <td>0.9</td>\n",
       "      <td>145</td>\n",
       "      <td>5</td>\n",
       "      <td>6</td>\n",
       "      <td>1263</td>\n",
       "      <td>1716</td>\n",
       "      <td>2603</td>\n",
       "      <td>11</td>\n",
       "      <td>2</td>\n",
       "    </tr>\n",
       "    <tr>\n",
       "      <th>3</th>\n",
       "      <td>615</td>\n",
       "      <td>2.5</td>\n",
       "      <td>0</td>\n",
       "      <td>10</td>\n",
       "      <td>0.8</td>\n",
       "      <td>131</td>\n",
       "      <td>6</td>\n",
       "      <td>9</td>\n",
       "      <td>1216</td>\n",
       "      <td>1786</td>\n",
       "      <td>2769</td>\n",
       "      <td>16</td>\n",
       "      <td>8</td>\n",
       "    </tr>\n",
       "    <tr>\n",
       "      <th>4</th>\n",
       "      <td>1821</td>\n",
       "      <td>1.2</td>\n",
       "      <td>13</td>\n",
       "      <td>44</td>\n",
       "      <td>0.6</td>\n",
       "      <td>141</td>\n",
       "      <td>2</td>\n",
       "      <td>14</td>\n",
       "      <td>1208</td>\n",
       "      <td>1212</td>\n",
       "      <td>1411</td>\n",
       "      <td>8</td>\n",
       "      <td>2</td>\n",
       "    </tr>\n",
       "    <tr>\n",
       "      <th>...</th>\n",
       "      <td>...</td>\n",
       "      <td>...</td>\n",
       "      <td>...</td>\n",
       "      <td>...</td>\n",
       "      <td>...</td>\n",
       "      <td>...</td>\n",
       "      <td>...</td>\n",
       "      <td>...</td>\n",
       "      <td>...</td>\n",
       "      <td>...</td>\n",
       "      <td>...</td>\n",
       "      <td>...</td>\n",
       "      <td>...</td>\n",
       "    </tr>\n",
       "    <tr>\n",
       "      <th>1995</th>\n",
       "      <td>794</td>\n",
       "      <td>0.5</td>\n",
       "      <td>0</td>\n",
       "      <td>2</td>\n",
       "      <td>0.8</td>\n",
       "      <td>106</td>\n",
       "      <td>6</td>\n",
       "      <td>14</td>\n",
       "      <td>1222</td>\n",
       "      <td>1890</td>\n",
       "      <td>668</td>\n",
       "      <td>13</td>\n",
       "      <td>4</td>\n",
       "    </tr>\n",
       "    <tr>\n",
       "      <th>1996</th>\n",
       "      <td>1965</td>\n",
       "      <td>2.6</td>\n",
       "      <td>0</td>\n",
       "      <td>39</td>\n",
       "      <td>0.2</td>\n",
       "      <td>187</td>\n",
       "      <td>4</td>\n",
       "      <td>3</td>\n",
       "      <td>915</td>\n",
       "      <td>1965</td>\n",
       "      <td>2032</td>\n",
       "      <td>11</td>\n",
       "      <td>10</td>\n",
       "    </tr>\n",
       "    <tr>\n",
       "      <th>1997</th>\n",
       "      <td>1911</td>\n",
       "      <td>0.9</td>\n",
       "      <td>1</td>\n",
       "      <td>36</td>\n",
       "      <td>0.7</td>\n",
       "      <td>108</td>\n",
       "      <td>8</td>\n",
       "      <td>3</td>\n",
       "      <td>868</td>\n",
       "      <td>1632</td>\n",
       "      <td>3057</td>\n",
       "      <td>9</td>\n",
       "      <td>1</td>\n",
       "    </tr>\n",
       "    <tr>\n",
       "      <th>1998</th>\n",
       "      <td>1512</td>\n",
       "      <td>0.9</td>\n",
       "      <td>4</td>\n",
       "      <td>46</td>\n",
       "      <td>0.1</td>\n",
       "      <td>145</td>\n",
       "      <td>5</td>\n",
       "      <td>5</td>\n",
       "      <td>336</td>\n",
       "      <td>670</td>\n",
       "      <td>869</td>\n",
       "      <td>18</td>\n",
       "      <td>10</td>\n",
       "    </tr>\n",
       "    <tr>\n",
       "      <th>1999</th>\n",
       "      <td>510</td>\n",
       "      <td>2.0</td>\n",
       "      <td>5</td>\n",
       "      <td>45</td>\n",
       "      <td>0.9</td>\n",
       "      <td>168</td>\n",
       "      <td>6</td>\n",
       "      <td>16</td>\n",
       "      <td>483</td>\n",
       "      <td>754</td>\n",
       "      <td>3919</td>\n",
       "      <td>19</td>\n",
       "      <td>4</td>\n",
       "    </tr>\n",
       "  </tbody>\n",
       "</table>\n",
       "<p>2000 rows × 13 columns</p>\n",
       "</div>"
      ],
      "text/plain": [
       "      battery_power  clock_speed  fc  int_memory  m_dep  mobile_wt  n_cores  \\\n",
       "0               842          2.2   1           7    0.6        188        2   \n",
       "1              1021          0.5   0          53    0.7        136        3   \n",
       "2               563          0.5   2          41    0.9        145        5   \n",
       "3               615          2.5   0          10    0.8        131        6   \n",
       "4              1821          1.2  13          44    0.6        141        2   \n",
       "...             ...          ...  ..         ...    ...        ...      ...   \n",
       "1995            794          0.5   0           2    0.8        106        6   \n",
       "1996           1965          2.6   0          39    0.2        187        4   \n",
       "1997           1911          0.9   1          36    0.7        108        8   \n",
       "1998           1512          0.9   4          46    0.1        145        5   \n",
       "1999            510          2.0   5          45    0.9        168        6   \n",
       "\n",
       "      pc  px_height  px_width   ram  sc_h  sc_w  \n",
       "0      2         20       756  2549     9     7  \n",
       "1      6        905      1988  2631    17     3  \n",
       "2      6       1263      1716  2603    11     2  \n",
       "3      9       1216      1786  2769    16     8  \n",
       "4     14       1208      1212  1411     8     2  \n",
       "...   ..        ...       ...   ...   ...   ...  \n",
       "1995  14       1222      1890   668    13     4  \n",
       "1996   3        915      1965  2032    11    10  \n",
       "1997   3        868      1632  3057     9     1  \n",
       "1998   5        336       670   869    18    10  \n",
       "1999  16        483       754  3919    19     4  \n",
       "\n",
       "[2000 rows x 13 columns]"
      ]
     },
     "execution_count": 106,
     "metadata": {},
     "output_type": "execute_result"
    }
   ],
   "source": [
    "#seperating quantitative into seperate table\n",
    "columns_to_drop = ['blue','dual_sim', 'four_g',\n",
    "                   'talk_time', 'three_g',\n",
    "                   'touch_screen', 'wifi', 'price_range']\n",
    "df_quantitative = df.drop(columns=columns_to_drop, axis=1)\n",
    "df_quantitative"
   ]
  },
  {
   "cell_type": "code",
   "execution_count": null,
   "id": "a27a2eb8-082d-4012-8107-085953945f17",
   "metadata": {},
   "outputs": [],
   "source": [
    "#seperating continuous and categorical column\n",
    "#continuous = battery_power,clock_speed, m_dep, mobile_wt, px_height, px_width, ram, sc_h, sc_w, =Total - 9\n",
    "\n",
    "#categorical = blue, dual_sim, fc, four_g, int_memory, n_cores, pc,  talk_time, three_g, touch_screen, wifi, price_range\n",
    "                Total - 12"
   ]
  },
  {
   "cell_type": "code",
   "execution_count": 98,
   "id": "2d4658c8-8a6a-4b05-bb10-85dc1ae44a78",
   "metadata": {},
   "outputs": [
    {
     "data": {
      "text/html": [
       "<div>\n",
       "<style scoped>\n",
       "    .dataframe tbody tr th:only-of-type {\n",
       "        vertical-align: middle;\n",
       "    }\n",
       "\n",
       "    .dataframe tbody tr th {\n",
       "        vertical-align: top;\n",
       "    }\n",
       "\n",
       "    .dataframe thead th {\n",
       "        text-align: right;\n",
       "    }\n",
       "</style>\n",
       "<table border=\"1\" class=\"dataframe\">\n",
       "  <thead>\n",
       "    <tr style=\"text-align: right;\">\n",
       "      <th></th>\n",
       "      <th>battery_power</th>\n",
       "      <th>clock_speed</th>\n",
       "      <th>m_dep</th>\n",
       "      <th>mobile_wt</th>\n",
       "      <th>px_height</th>\n",
       "      <th>px_width</th>\n",
       "      <th>ram</th>\n",
       "      <th>sc_h</th>\n",
       "      <th>sc_w</th>\n",
       "    </tr>\n",
       "  </thead>\n",
       "  <tbody>\n",
       "    <tr>\n",
       "      <th>0</th>\n",
       "      <td>842</td>\n",
       "      <td>2.2</td>\n",
       "      <td>0.6</td>\n",
       "      <td>188</td>\n",
       "      <td>20</td>\n",
       "      <td>756</td>\n",
       "      <td>2549</td>\n",
       "      <td>9</td>\n",
       "      <td>7</td>\n",
       "    </tr>\n",
       "    <tr>\n",
       "      <th>1</th>\n",
       "      <td>1021</td>\n",
       "      <td>0.5</td>\n",
       "      <td>0.7</td>\n",
       "      <td>136</td>\n",
       "      <td>905</td>\n",
       "      <td>1988</td>\n",
       "      <td>2631</td>\n",
       "      <td>17</td>\n",
       "      <td>3</td>\n",
       "    </tr>\n",
       "    <tr>\n",
       "      <th>2</th>\n",
       "      <td>563</td>\n",
       "      <td>0.5</td>\n",
       "      <td>0.9</td>\n",
       "      <td>145</td>\n",
       "      <td>1263</td>\n",
       "      <td>1716</td>\n",
       "      <td>2603</td>\n",
       "      <td>11</td>\n",
       "      <td>2</td>\n",
       "    </tr>\n",
       "    <tr>\n",
       "      <th>3</th>\n",
       "      <td>615</td>\n",
       "      <td>2.5</td>\n",
       "      <td>0.8</td>\n",
       "      <td>131</td>\n",
       "      <td>1216</td>\n",
       "      <td>1786</td>\n",
       "      <td>2769</td>\n",
       "      <td>16</td>\n",
       "      <td>8</td>\n",
       "    </tr>\n",
       "    <tr>\n",
       "      <th>4</th>\n",
       "      <td>1821</td>\n",
       "      <td>1.2</td>\n",
       "      <td>0.6</td>\n",
       "      <td>141</td>\n",
       "      <td>1208</td>\n",
       "      <td>1212</td>\n",
       "      <td>1411</td>\n",
       "      <td>8</td>\n",
       "      <td>2</td>\n",
       "    </tr>\n",
       "    <tr>\n",
       "      <th>...</th>\n",
       "      <td>...</td>\n",
       "      <td>...</td>\n",
       "      <td>...</td>\n",
       "      <td>...</td>\n",
       "      <td>...</td>\n",
       "      <td>...</td>\n",
       "      <td>...</td>\n",
       "      <td>...</td>\n",
       "      <td>...</td>\n",
       "    </tr>\n",
       "    <tr>\n",
       "      <th>1995</th>\n",
       "      <td>794</td>\n",
       "      <td>0.5</td>\n",
       "      <td>0.8</td>\n",
       "      <td>106</td>\n",
       "      <td>1222</td>\n",
       "      <td>1890</td>\n",
       "      <td>668</td>\n",
       "      <td>13</td>\n",
       "      <td>4</td>\n",
       "    </tr>\n",
       "    <tr>\n",
       "      <th>1996</th>\n",
       "      <td>1965</td>\n",
       "      <td>2.6</td>\n",
       "      <td>0.2</td>\n",
       "      <td>187</td>\n",
       "      <td>915</td>\n",
       "      <td>1965</td>\n",
       "      <td>2032</td>\n",
       "      <td>11</td>\n",
       "      <td>10</td>\n",
       "    </tr>\n",
       "    <tr>\n",
       "      <th>1997</th>\n",
       "      <td>1911</td>\n",
       "      <td>0.9</td>\n",
       "      <td>0.7</td>\n",
       "      <td>108</td>\n",
       "      <td>868</td>\n",
       "      <td>1632</td>\n",
       "      <td>3057</td>\n",
       "      <td>9</td>\n",
       "      <td>1</td>\n",
       "    </tr>\n",
       "    <tr>\n",
       "      <th>1998</th>\n",
       "      <td>1512</td>\n",
       "      <td>0.9</td>\n",
       "      <td>0.1</td>\n",
       "      <td>145</td>\n",
       "      <td>336</td>\n",
       "      <td>670</td>\n",
       "      <td>869</td>\n",
       "      <td>18</td>\n",
       "      <td>10</td>\n",
       "    </tr>\n",
       "    <tr>\n",
       "      <th>1999</th>\n",
       "      <td>510</td>\n",
       "      <td>2.0</td>\n",
       "      <td>0.9</td>\n",
       "      <td>168</td>\n",
       "      <td>483</td>\n",
       "      <td>754</td>\n",
       "      <td>3919</td>\n",
       "      <td>19</td>\n",
       "      <td>4</td>\n",
       "    </tr>\n",
       "  </tbody>\n",
       "</table>\n",
       "<p>2000 rows × 9 columns</p>\n",
       "</div>"
      ],
      "text/plain": [
       "      battery_power  clock_speed  m_dep  mobile_wt  px_height  px_width   ram  \\\n",
       "0               842          2.2    0.6        188         20       756  2549   \n",
       "1              1021          0.5    0.7        136        905      1988  2631   \n",
       "2               563          0.5    0.9        145       1263      1716  2603   \n",
       "3               615          2.5    0.8        131       1216      1786  2769   \n",
       "4              1821          1.2    0.6        141       1208      1212  1411   \n",
       "...             ...          ...    ...        ...        ...       ...   ...   \n",
       "1995            794          0.5    0.8        106       1222      1890   668   \n",
       "1996           1965          2.6    0.2        187        915      1965  2032   \n",
       "1997           1911          0.9    0.7        108        868      1632  3057   \n",
       "1998           1512          0.9    0.1        145        336       670   869   \n",
       "1999            510          2.0    0.9        168        483       754  3919   \n",
       "\n",
       "      sc_h  sc_w  \n",
       "0        9     7  \n",
       "1       17     3  \n",
       "2       11     2  \n",
       "3       16     8  \n",
       "4        8     2  \n",
       "...    ...   ...  \n",
       "1995    13     4  \n",
       "1996    11    10  \n",
       "1997     9     1  \n",
       "1998    18    10  \n",
       "1999    19     4  \n",
       "\n",
       "[2000 rows x 9 columns]"
      ]
     },
     "execution_count": 98,
     "metadata": {},
     "output_type": "execute_result"
    }
   ],
   "source": [
    "#seperating continuous and categorical columns into seperate table\n",
    "columns_to_drop = ['blue','dual_sim', 'fc', 'four_g',\n",
    "                   'int_memory', 'n_cores', 'pc', 'talk_time', 'three_g',\n",
    "                   'touch_screen', 'wifi', 'price_range']\n",
    "df_continuous = df.drop(columns=columns_to_drop, axis=1)\n",
    "df_continuous"
   ]
  },
  {
   "cell_type": "code",
   "execution_count": 4,
   "id": "212d3ca0-84fe-4258-afb3-248fca322b14",
   "metadata": {},
   "outputs": [
    {
     "data": {
      "text/html": [
       "<div>\n",
       "<style scoped>\n",
       "    .dataframe tbody tr th:only-of-type {\n",
       "        vertical-align: middle;\n",
       "    }\n",
       "\n",
       "    .dataframe tbody tr th {\n",
       "        vertical-align: top;\n",
       "    }\n",
       "\n",
       "    .dataframe thead th {\n",
       "        text-align: right;\n",
       "    }\n",
       "</style>\n",
       "<table border=\"1\" class=\"dataframe\">\n",
       "  <thead>\n",
       "    <tr style=\"text-align: right;\">\n",
       "      <th></th>\n",
       "      <th>blue</th>\n",
       "      <th>dual_sim</th>\n",
       "      <th>fc</th>\n",
       "      <th>four_g</th>\n",
       "      <th>int_memory</th>\n",
       "      <th>n_cores</th>\n",
       "      <th>pc</th>\n",
       "      <th>talk_time</th>\n",
       "      <th>three_g</th>\n",
       "      <th>touch_screen</th>\n",
       "      <th>wifi</th>\n",
       "      <th>price_range</th>\n",
       "    </tr>\n",
       "  </thead>\n",
       "  <tbody>\n",
       "    <tr>\n",
       "      <th>0</th>\n",
       "      <td>0</td>\n",
       "      <td>0</td>\n",
       "      <td>1</td>\n",
       "      <td>0</td>\n",
       "      <td>7</td>\n",
       "      <td>2</td>\n",
       "      <td>2</td>\n",
       "      <td>19</td>\n",
       "      <td>0</td>\n",
       "      <td>0</td>\n",
       "      <td>1</td>\n",
       "      <td>1</td>\n",
       "    </tr>\n",
       "    <tr>\n",
       "      <th>1</th>\n",
       "      <td>1</td>\n",
       "      <td>1</td>\n",
       "      <td>0</td>\n",
       "      <td>1</td>\n",
       "      <td>53</td>\n",
       "      <td>3</td>\n",
       "      <td>6</td>\n",
       "      <td>7</td>\n",
       "      <td>1</td>\n",
       "      <td>1</td>\n",
       "      <td>0</td>\n",
       "      <td>2</td>\n",
       "    </tr>\n",
       "    <tr>\n",
       "      <th>2</th>\n",
       "      <td>1</td>\n",
       "      <td>1</td>\n",
       "      <td>2</td>\n",
       "      <td>1</td>\n",
       "      <td>41</td>\n",
       "      <td>5</td>\n",
       "      <td>6</td>\n",
       "      <td>9</td>\n",
       "      <td>1</td>\n",
       "      <td>1</td>\n",
       "      <td>0</td>\n",
       "      <td>2</td>\n",
       "    </tr>\n",
       "    <tr>\n",
       "      <th>3</th>\n",
       "      <td>1</td>\n",
       "      <td>0</td>\n",
       "      <td>0</td>\n",
       "      <td>0</td>\n",
       "      <td>10</td>\n",
       "      <td>6</td>\n",
       "      <td>9</td>\n",
       "      <td>11</td>\n",
       "      <td>1</td>\n",
       "      <td>0</td>\n",
       "      <td>0</td>\n",
       "      <td>2</td>\n",
       "    </tr>\n",
       "    <tr>\n",
       "      <th>4</th>\n",
       "      <td>1</td>\n",
       "      <td>0</td>\n",
       "      <td>13</td>\n",
       "      <td>1</td>\n",
       "      <td>44</td>\n",
       "      <td>2</td>\n",
       "      <td>14</td>\n",
       "      <td>15</td>\n",
       "      <td>1</td>\n",
       "      <td>1</td>\n",
       "      <td>0</td>\n",
       "      <td>1</td>\n",
       "    </tr>\n",
       "    <tr>\n",
       "      <th>...</th>\n",
       "      <td>...</td>\n",
       "      <td>...</td>\n",
       "      <td>...</td>\n",
       "      <td>...</td>\n",
       "      <td>...</td>\n",
       "      <td>...</td>\n",
       "      <td>...</td>\n",
       "      <td>...</td>\n",
       "      <td>...</td>\n",
       "      <td>...</td>\n",
       "      <td>...</td>\n",
       "      <td>...</td>\n",
       "    </tr>\n",
       "    <tr>\n",
       "      <th>1995</th>\n",
       "      <td>1</td>\n",
       "      <td>1</td>\n",
       "      <td>0</td>\n",
       "      <td>1</td>\n",
       "      <td>2</td>\n",
       "      <td>6</td>\n",
       "      <td>14</td>\n",
       "      <td>19</td>\n",
       "      <td>1</td>\n",
       "      <td>1</td>\n",
       "      <td>0</td>\n",
       "      <td>0</td>\n",
       "    </tr>\n",
       "    <tr>\n",
       "      <th>1996</th>\n",
       "      <td>1</td>\n",
       "      <td>1</td>\n",
       "      <td>0</td>\n",
       "      <td>0</td>\n",
       "      <td>39</td>\n",
       "      <td>4</td>\n",
       "      <td>3</td>\n",
       "      <td>16</td>\n",
       "      <td>1</td>\n",
       "      <td>1</td>\n",
       "      <td>1</td>\n",
       "      <td>2</td>\n",
       "    </tr>\n",
       "    <tr>\n",
       "      <th>1997</th>\n",
       "      <td>0</td>\n",
       "      <td>1</td>\n",
       "      <td>1</td>\n",
       "      <td>1</td>\n",
       "      <td>36</td>\n",
       "      <td>8</td>\n",
       "      <td>3</td>\n",
       "      <td>5</td>\n",
       "      <td>1</td>\n",
       "      <td>1</td>\n",
       "      <td>0</td>\n",
       "      <td>3</td>\n",
       "    </tr>\n",
       "    <tr>\n",
       "      <th>1998</th>\n",
       "      <td>0</td>\n",
       "      <td>0</td>\n",
       "      <td>4</td>\n",
       "      <td>1</td>\n",
       "      <td>46</td>\n",
       "      <td>5</td>\n",
       "      <td>5</td>\n",
       "      <td>19</td>\n",
       "      <td>1</td>\n",
       "      <td>1</td>\n",
       "      <td>1</td>\n",
       "      <td>0</td>\n",
       "    </tr>\n",
       "    <tr>\n",
       "      <th>1999</th>\n",
       "      <td>1</td>\n",
       "      <td>1</td>\n",
       "      <td>5</td>\n",
       "      <td>1</td>\n",
       "      <td>45</td>\n",
       "      <td>6</td>\n",
       "      <td>16</td>\n",
       "      <td>2</td>\n",
       "      <td>1</td>\n",
       "      <td>1</td>\n",
       "      <td>1</td>\n",
       "      <td>3</td>\n",
       "    </tr>\n",
       "  </tbody>\n",
       "</table>\n",
       "<p>2000 rows × 12 columns</p>\n",
       "</div>"
      ],
      "text/plain": [
       "      blue  dual_sim  fc  four_g  int_memory  n_cores  pc  talk_time  three_g  \\\n",
       "0        0         0   1       0           7        2   2         19        0   \n",
       "1        1         1   0       1          53        3   6          7        1   \n",
       "2        1         1   2       1          41        5   6          9        1   \n",
       "3        1         0   0       0          10        6   9         11        1   \n",
       "4        1         0  13       1          44        2  14         15        1   \n",
       "...    ...       ...  ..     ...         ...      ...  ..        ...      ...   \n",
       "1995     1         1   0       1           2        6  14         19        1   \n",
       "1996     1         1   0       0          39        4   3         16        1   \n",
       "1997     0         1   1       1          36        8   3          5        1   \n",
       "1998     0         0   4       1          46        5   5         19        1   \n",
       "1999     1         1   5       1          45        6  16          2        1   \n",
       "\n",
       "      touch_screen  wifi  price_range  \n",
       "0                0     1            1  \n",
       "1                1     0            2  \n",
       "2                1     0            2  \n",
       "3                0     0            2  \n",
       "4                1     0            1  \n",
       "...            ...   ...          ...  \n",
       "1995             1     0            0  \n",
       "1996             1     1            2  \n",
       "1997             1     0            3  \n",
       "1998             1     1            0  \n",
       "1999             1     1            3  \n",
       "\n",
       "[2000 rows x 12 columns]"
      ]
     },
     "execution_count": 4,
     "metadata": {},
     "output_type": "execute_result"
    }
   ],
   "source": [
    "\n",
    "columns_to_drop = ['battery_power',\t'clock_speed', 'm_dep', 'px_height',\n",
    "                   'mobile_wt', 'px_width', 'ram', 'sc_h', 'sc_w']\n",
    "df_category = df.drop(columns=columns_to_drop, axis=1)\n",
    "df_category"
   ]
  },
  {
   "cell_type": "code",
   "execution_count": null,
   "id": "b2eca734-849a-4f6d-96cd-3989f33ad26e",
   "metadata": {},
   "outputs": [],
   "source": [
    "#checking distribution for Quantitative Variables by histogram\n",
    "\n",
    " -battery_power, clock_speed, int_memory, m_dep, mobile_wt,n_cores, pc, px_width, ram, sc_h, talk_time is okay distributed normally\n",
    " -but fc, px_height, sc_w is skewed towards right so need to check with maths\n",
    "\n",
    "skewness = -1 to 1 is normal\n",
    "kurtosis = -2 to 2 is normal\n",
    "\n",
    "-fc(Skewness: 1.0190463925723268, Kurtosis: 0.27338561771466496), \n",
    "-px_height(Skewness: 0.6657714484857727, Kurtosis: -0.3180748831869664), \n",
    "-sc_w(Skewness: 0.6333116340766181, Kurtosis: -0.39154816455030694)\n",
    "\n",
    "from this fc alone not dtributed well and seen more skewness towards right"
   ]
  },
  {
   "cell_type": "code",
   "execution_count": 139,
   "id": "5ceaca2b-67c6-4c97-9339-107493535b7b",
   "metadata": {},
   "outputs": [
    {
     "data": {
      "application/vnd.plotly.v1+json": {
       "config": {
        "plotlyServerURL": "https://plot.ly"
       },
       "data": [
        {
         "histnorm": "probability density",
         "marker": {
          "color": "rgba(0, 128, 128, 0.6)"
         },
         "name": "Histogram",
         "opacity": 0.6,
         "type": "histogram",
         "x": [
          0.6931471805599453,
          0,
          1.0986122886681098,
          0,
          2.6390573296152584,
          1.3862943611198906,
          1.6094379124341003,
          0,
          0,
          1.0986122886681098,
          0,
          1.791759469228055,
          1.0986122886681098,
          2.0794415416798357,
          2.6390573296152584,
          1.3862943611198906,
          0.6931471805599453,
          2.0794415416798357,
          2.4849066497880004,
          1.6094379124341003,
          2.5649493574615367,
          0.6931471805599453,
          1.6094379124341003,
          1.6094379124341003,
          1.791759469228055,
          0,
          2.0794415416798357,
          0.6931471805599453,
          2.5649493574615367,
          1.3862943611198906,
          0,
          2.833213344056216,
          1.3862943611198906,
          0,
          0,
          2.833213344056216,
          0.6931471805599453,
          1.9459101490553132,
          2.833213344056216,
          2.772588722239781,
          1.791759469228055,
          2.1972245773362196,
          1.791759469228055,
          1.791759469228055,
          0.6931471805599453,
          0,
          0.6931471805599453,
          1.3862943611198906,
          1.0986122886681098,
          2.302585092994046,
          1.0986122886681098,
          1.791759469228055,
          0,
          0.6931471805599453,
          0,
          2.3978952727983707,
          2.6390573296152584,
          0,
          2.1972245773362196,
          1.0986122886681098,
          1.3862943611198906,
          0.6931471805599453,
          0,
          2.772588722239781,
          1.0986122886681098,
          2.6390573296152584,
          2.4849066497880004,
          0,
          0,
          0,
          1.9459101490553132,
          0.6931471805599453,
          2.1972245773362196,
          1.3862943611198906,
          1.6094379124341003,
          2.1972245773362196,
          1.6094379124341003,
          0.6931471805599453,
          2.772588722239781,
          1.9459101490553132,
          0,
          2.4849066497880004,
          1.0986122886681098,
          2.4849066497880004,
          1.791759469228055,
          1.791759469228055,
          1.6094379124341003,
          0.6931471805599453,
          0,
          0,
          1.0986122886681098,
          2.0794415416798357,
          0,
          2.4849066497880004,
          1.9459101490553132,
          2.9444389791664403,
          2.3978952727983707,
          1.3862943611198906,
          0,
          1.9459101490553132,
          1.3862943611198906,
          1.6094379124341003,
          0,
          0,
          0.6931471805599453,
          1.0986122886681098,
          1.791759469228055,
          1.3862943611198906,
          0,
          1.3862943611198906,
          0,
          0,
          0,
          2.6390573296152584,
          2.302585092994046,
          0.6931471805599453,
          0,
          1.3862943611198906,
          2.1972245773362196,
          0,
          1.3862943611198906,
          0.6931471805599453,
          2.0794415416798357,
          1.791759469228055,
          1.3862943611198906,
          1.791759469228055,
          0,
          1.6094379124341003,
          2.4849066497880004,
          0,
          1.0986122886681098,
          2.302585092994046,
          0.6931471805599453,
          2.0794415416798357,
          0.6931471805599453,
          0,
          0,
          1.791759469228055,
          2.5649493574615367,
          0.6931471805599453,
          0,
          0.6931471805599453,
          1.6094379124341003,
          0,
          1.3862943611198906,
          0.6931471805599453,
          0,
          1.3862943611198906,
          1.6094379124341003,
          1.9459101490553132,
          0.6931471805599453,
          1.6094379124341003,
          1.3862943611198906,
          1.0986122886681098,
          1.9459101490553132,
          1.6094379124341003,
          1.3862943611198906,
          2.833213344056216,
          0,
          2.5649493574615367,
          1.6094379124341003,
          2.3978952727983707,
          0,
          2.4849066497880004,
          2.4849066497880004,
          1.3862943611198906,
          0,
          1.0986122886681098,
          0,
          2.8903717578961645,
          1.0986122886681098,
          1.0986122886681098,
          1.791759469228055,
          0,
          0,
          2.1972245773362196,
          1.0986122886681098,
          0,
          0,
          1.0986122886681098,
          2.5649493574615367,
          2.4849066497880004,
          0,
          2.772588722239781,
          0,
          0.6931471805599453,
          0,
          0,
          1.3862943611198906,
          1.0986122886681098,
          2.1972245773362196,
          0.6931471805599453,
          1.6094379124341003,
          1.791759469228055,
          0,
          0.6931471805599453,
          0,
          0,
          1.3862943611198906,
          2.302585092994046,
          0,
          2.0794415416798357,
          0,
          2.3978952727983707,
          1.9459101490553132,
          0,
          2.833213344056216,
          2.0794415416798357,
          0.6931471805599453,
          0,
          0,
          0,
          2.302585092994046,
          1.6094379124341003,
          0,
          1.3862943611198906,
          0,
          1.791759469228055,
          0,
          1.6094379124341003,
          1.9459101490553132,
          1.791759469228055,
          2.1972245773362196,
          0.6931471805599453,
          1.3862943611198906,
          0.6931471805599453,
          2.9444389791664403,
          0,
          1.0986122886681098,
          2.8903717578961645,
          0.6931471805599453,
          1.6094379124341003,
          1.6094379124341003,
          0,
          2.5649493574615367,
          1.9459101490553132,
          1.3862943611198906,
          2.70805020110221,
          0,
          0,
          0,
          0,
          0,
          1.0986122886681098,
          2.0794415416798357,
          1.0986122886681098,
          1.3862943611198906,
          1.3862943611198906,
          1.6094379124341003,
          1.3862943611198906,
          0,
          0,
          0,
          1.0986122886681098,
          2.302585092994046,
          1.791759469228055,
          1.6094379124341003,
          0.6931471805599453,
          0,
          1.9459101490553132,
          2.0794415416798357,
          0,
          0,
          1.6094379124341003,
          2.1972245773362196,
          1.791759469228055,
          2.3978952727983707,
          2.3978952727983707,
          1.6094379124341003,
          0,
          1.0986122886681098,
          0,
          2.0794415416798357,
          2.4849066497880004,
          1.791759469228055,
          1.3862943611198906,
          0,
          1.3862943611198906,
          2.5649493574615367,
          0,
          1.3862943611198906,
          0,
          2.302585092994046,
          1.9459101490553132,
          2.0794415416798357,
          0,
          1.9459101490553132,
          0,
          2.833213344056216,
          0,
          2.1972245773362196,
          2.3978952727983707,
          1.9459101490553132,
          1.9459101490553132,
          0.6931471805599453,
          0,
          2.0794415416798357,
          0.6931471805599453,
          2.4849066497880004,
          2.1972245773362196,
          2.8903717578961645,
          1.0986122886681098,
          2.833213344056216,
          2.4849066497880004,
          0.6931471805599453,
          2.9444389791664403,
          0,
          1.9459101490553132,
          2.4849066497880004,
          0.6931471805599453,
          1.791759469228055,
          0,
          0.6931471805599453,
          1.9459101490553132,
          0,
          1.3862943611198906,
          1.9459101490553132,
          1.9459101490553132,
          2.0794415416798357,
          1.9459101490553132,
          0,
          1.0986122886681098,
          0.6931471805599453,
          2.70805020110221,
          1.791759469228055,
          1.791759469228055,
          0,
          1.9459101490553132,
          0.6931471805599453,
          1.791759469228055,
          1.791759469228055,
          0,
          0,
          0.6931471805599453,
          2.1972245773362196,
          0,
          0,
          1.0986122886681098,
          1.0986122886681098,
          0,
          1.791759469228055,
          1.791759469228055,
          2.1972245773362196,
          1.9459101490553132,
          1.0986122886681098,
          0,
          1.0986122886681098,
          1.9459101490553132,
          2.0794415416798357,
          1.0986122886681098,
          2.772588722239781,
          2.833213344056216,
          1.0986122886681098,
          2.0794415416798357,
          2.3978952727983707,
          2.0794415416798357,
          0,
          0.6931471805599453,
          2.3978952727983707,
          0.6931471805599453,
          2.3978952727983707,
          2.6390573296152584,
          1.6094379124341003,
          0,
          0,
          2.1972245773362196,
          0,
          0,
          2.1972245773362196,
          2.1972245773362196,
          2.3978952727983707,
          1.6094379124341003,
          2.8903717578961645,
          0,
          1.791759469228055,
          0,
          0,
          0.6931471805599453,
          1.0986122886681098,
          0,
          2.3978952727983707,
          1.0986122886681098,
          1.3862943611198906,
          0,
          2.5649493574615367,
          1.6094379124341003,
          2.5649493574615367,
          2.70805020110221,
          0.6931471805599453,
          0.6931471805599453,
          1.3862943611198906,
          0,
          2.772588722239781,
          1.3862943611198906,
          0,
          2.1972245773362196,
          1.6094379124341003,
          0,
          2.3978952727983707,
          0,
          0,
          2.833213344056216,
          2.1972245773362196,
          0,
          1.9459101490553132,
          0.6931471805599453,
          0,
          2.302585092994046,
          2.5649493574615367,
          1.0986122886681098,
          1.791759469228055,
          1.0986122886681098,
          2.5649493574615367,
          0,
          1.0986122886681098,
          1.791759469228055,
          0.6931471805599453,
          1.0986122886681098,
          0.6931471805599453,
          1.0986122886681098,
          2.0794415416798357,
          1.9459101490553132,
          2.3978952727983707,
          1.0986122886681098,
          1.6094379124341003,
          1.3862943611198906,
          2.302585092994046,
          0,
          1.3862943611198906,
          2.3978952727983707,
          1.9459101490553132,
          1.3862943611198906,
          0,
          0,
          1.6094379124341003,
          0,
          2.1972245773362196,
          0.6931471805599453,
          2.3978952727983707,
          0,
          1.9459101490553132,
          0.6931471805599453,
          1.3862943611198906,
          2.6390573296152584,
          1.0986122886681098,
          2.0794415416798357,
          1.791759469228055,
          2.772588722239781,
          1.791759469228055,
          0.6931471805599453,
          1.3862943611198906,
          0,
          1.0986122886681098,
          2.3978952727983707,
          0.6931471805599453,
          1.9459101490553132,
          1.6094379124341003,
          2.5649493574615367,
          0,
          1.9459101490553132,
          2.302585092994046,
          2.5649493574615367,
          1.3862943611198906,
          1.791759469228055,
          1.3862943611198906,
          1.791759469228055,
          1.0986122886681098,
          2.0794415416798357,
          0,
          2.3978952727983707,
          0.6931471805599453,
          2.1972245773362196,
          0,
          0.6931471805599453,
          0,
          2.302585092994046,
          0,
          1.6094379124341003,
          2.70805020110221,
          1.0986122886681098,
          1.0986122886681098,
          0.6931471805599453,
          2.70805020110221,
          0,
          0,
          0,
          2.5649493574615367,
          2.6390573296152584,
          0,
          1.791759469228055,
          2.0794415416798357,
          1.791759469228055,
          1.3862943611198906,
          1.9459101490553132,
          0,
          1.791759469228055,
          2.4849066497880004,
          2.6390573296152584,
          0.6931471805599453,
          1.3862943611198906,
          0.6931471805599453,
          2.833213344056216,
          0.6931471805599453,
          0,
          0,
          0.6931471805599453,
          1.0986122886681098,
          2.0794415416798357,
          0,
          1.9459101490553132,
          2.302585092994046,
          1.9459101490553132,
          2.4849066497880004,
          2.3978952727983707,
          1.0986122886681098,
          1.0986122886681098,
          0,
          2.1972245773362196,
          1.3862943611198906,
          2.302585092994046,
          2.4849066497880004,
          2.302585092994046,
          1.9459101490553132,
          1.791759469228055,
          0,
          1.3862943611198906,
          2.1972245773362196,
          1.9459101490553132,
          2.0794415416798357,
          2.302585092994046,
          1.3862943611198906,
          1.3862943611198906,
          1.3862943611198906,
          1.3862943611198906,
          0,
          0,
          2.1972245773362196,
          2.0794415416798357,
          1.6094379124341003,
          1.791759469228055,
          1.791759469228055,
          0.6931471805599453,
          1.0986122886681098,
          1.3862943611198906,
          0,
          2.833213344056216,
          0,
          0,
          0,
          0,
          2.3978952727983707,
          0.6931471805599453,
          0,
          2.5649493574615367,
          1.9459101490553132,
          1.9459101490553132,
          2.3978952727983707,
          0,
          1.6094379124341003,
          1.0986122886681098,
          2.302585092994046,
          2.772588722239781,
          2.4849066497880004,
          0,
          2.833213344056216,
          2.5649493574615367,
          1.6094379124341003,
          2.70805020110221,
          2.772588722239781,
          0,
          2.0794415416798357,
          2.302585092994046,
          2.6390573296152584,
          0,
          1.6094379124341003,
          2.302585092994046,
          1.6094379124341003,
          2.0794415416798357,
          0.6931471805599453,
          1.0986122886681098,
          1.6094379124341003,
          2.1972245773362196,
          0.6931471805599453,
          0,
          2.8903717578961645,
          1.0986122886681098,
          2.1972245773362196,
          0,
          1.0986122886681098,
          0,
          1.9459101490553132,
          0,
          2.5649493574615367,
          0,
          0,
          0.6931471805599453,
          2.3978952727983707,
          0,
          1.9459101490553132,
          1.6094379124341003,
          1.0986122886681098,
          0,
          0,
          0,
          0,
          1.791759469228055,
          2.0794415416798357,
          0.6931471805599453,
          1.9459101490553132,
          0.6931471805599453,
          1.3862943611198906,
          0,
          0,
          0,
          2.302585092994046,
          0.6931471805599453,
          1.9459101490553132,
          0.6931471805599453,
          0,
          2.0794415416798357,
          0.6931471805599453,
          1.791759469228055,
          0,
          2.0794415416798357,
          1.791759469228055,
          2.5649493574615367,
          0,
          0,
          0.6931471805599453,
          0.6931471805599453,
          0.6931471805599453,
          0,
          0,
          1.791759469228055,
          2.6390573296152584,
          2.0794415416798357,
          1.0986122886681098,
          2.3978952727983707,
          1.6094379124341003,
          0,
          0,
          0,
          0,
          1.0986122886681098,
          1.6094379124341003,
          1.9459101490553132,
          1.6094379124341003,
          2.6390573296152584,
          0.6931471805599453,
          0,
          2.0794415416798357,
          2.3978952727983707,
          0.6931471805599453,
          2.1972245773362196,
          2.0794415416798357,
          1.0986122886681098,
          2.4849066497880004,
          1.3862943611198906,
          2.6390573296152584,
          2.302585092994046,
          0.6931471805599453,
          0.6931471805599453,
          1.9459101490553132,
          1.9459101490553132,
          0,
          1.6094379124341003,
          1.6094379124341003,
          0.6931471805599453,
          1.6094379124341003,
          0,
          2.4849066497880004,
          1.6094379124341003,
          0,
          1.9459101490553132,
          1.0986122886681098,
          2.1972245773362196,
          1.0986122886681098,
          1.791759469228055,
          2.3978952727983707,
          2.3978952727983707,
          0,
          0,
          2.5649493574615367,
          0.6931471805599453,
          2.6390573296152584,
          1.3862943611198906,
          2.3978952727983707,
          0,
          2.1972245773362196,
          1.791759469228055,
          1.0986122886681098,
          2.0794415416798357,
          1.0986122886681098,
          0.6931471805599453,
          0,
          1.9459101490553132,
          0,
          1.3862943611198906,
          1.6094379124341003,
          0,
          2.0794415416798357,
          0.6931471805599453,
          0.6931471805599453,
          1.6094379124341003,
          0,
          1.0986122886681098,
          1.0986122886681098,
          1.3862943611198906,
          1.0986122886681098,
          2.3978952727983707,
          0,
          0.6931471805599453,
          2.1972245773362196,
          2.70805020110221,
          0,
          0,
          1.791759469228055,
          1.791759469228055,
          1.3862943611198906,
          0.6931471805599453,
          2.5649493574615367,
          0,
          1.9459101490553132,
          1.0986122886681098,
          1.9459101490553132,
          2.6390573296152584,
          0,
          0,
          1.6094379124341003,
          2.302585092994046,
          2.1972245773362196,
          1.0986122886681098,
          2.6390573296152584,
          0,
          2.5649493574615367,
          1.3862943611198906,
          1.3862943611198906,
          0.6931471805599453,
          2.6390573296152584,
          0,
          0,
          0,
          0,
          1.791759469228055,
          1.9459101490553132,
          2.833213344056216,
          2.0794415416798357,
          0.6931471805599453,
          1.791759469228055,
          0.6931471805599453,
          1.0986122886681098,
          0,
          1.9459101490553132,
          1.791759469228055,
          2.1972245773362196,
          2.0794415416798357,
          0,
          0,
          1.0986122886681098,
          1.3862943611198906,
          1.9459101490553132,
          0.6931471805599453,
          0,
          0,
          2.0794415416798357,
          1.791759469228055,
          0,
          0.6931471805599453,
          1.6094379124341003,
          2.302585092994046,
          2.0794415416798357,
          2.833213344056216,
          0,
          0.6931471805599453,
          0,
          0.6931471805599453,
          1.0986122886681098,
          2.302585092994046,
          1.0986122886681098,
          0,
          2.772588722239781,
          2.3978952727983707,
          1.9459101490553132,
          2.4849066497880004,
          1.791759469228055,
          1.9459101490553132,
          2.0794415416798357,
          1.0986122886681098,
          2.5649493574615367,
          2.1972245773362196,
          0,
          0.6931471805599453,
          1.3862943611198906,
          2.1972245773362196,
          1.6094379124341003,
          0,
          0,
          0,
          1.0986122886681098,
          1.3862943611198906,
          2.5649493574615367,
          2.772588722239781,
          1.6094379124341003,
          1.0986122886681098,
          0,
          0,
          1.3862943611198906,
          1.791759469228055,
          1.6094379124341003,
          2.1972245773362196,
          1.6094379124341003,
          2.302585092994046,
          0,
          2.3978952727983707,
          0,
          0.6931471805599453,
          0,
          0.6931471805599453,
          2.0794415416798357,
          1.0986122886681098,
          0,
          1.9459101490553132,
          0,
          0,
          2.0794415416798357,
          2.1972245773362196,
          2.772588722239781,
          1.791759469228055,
          1.9459101490553132,
          1.6094379124341003,
          0.6931471805599453,
          0.6931471805599453,
          1.0986122886681098,
          1.6094379124341003,
          0,
          2.302585092994046,
          0,
          2.772588722239781,
          1.0986122886681098,
          0.6931471805599453,
          1.791759469228055,
          1.3862943611198906,
          2.1972245773362196,
          1.3862943611198906,
          2.0794415416798357,
          2.6390573296152584,
          2.1972245773362196,
          2.6390573296152584,
          2.4849066497880004,
          2.3978952727983707,
          0,
          1.791759469228055,
          1.0986122886681098,
          1.0986122886681098,
          2.0794415416798357,
          1.9459101490553132,
          0,
          1.9459101490553132,
          2.302585092994046,
          1.0986122886681098,
          0,
          2.4849066497880004,
          0,
          2.302585092994046,
          1.3862943611198906,
          1.3862943611198906,
          2.302585092994046,
          1.3862943611198906,
          0,
          1.9459101490553132,
          2.0794415416798357,
          1.9459101490553132,
          2.3978952727983707,
          0,
          1.0986122886681098,
          0,
          0.6931471805599453,
          1.0986122886681098,
          1.791759469228055,
          2.0794415416798357,
          1.3862943611198906,
          0,
          0.6931471805599453,
          0.6931471805599453,
          2.1972245773362196,
          1.9459101490553132,
          2.6390573296152584,
          0,
          2.1972245773362196,
          0,
          0,
          1.6094379124341003,
          0,
          2.5649493574615367,
          1.791759469228055,
          1.3862943611198906,
          1.3862943611198906,
          1.6094379124341003,
          2.0794415416798357,
          0,
          0,
          2.302585092994046,
          2.3978952727983707,
          1.3862943611198906,
          1.3862943611198906,
          1.6094379124341003,
          1.9459101490553132,
          1.791759469228055,
          0,
          0,
          1.3862943611198906,
          0,
          1.0986122886681098,
          0.6931471805599453,
          2.772588722239781,
          1.6094379124341003,
          1.6094379124341003,
          1.3862943611198906,
          0,
          0,
          1.0986122886681098,
          0,
          1.791759469228055,
          0,
          2.772588722239781,
          1.0986122886681098,
          2.6390573296152584,
          2.772588722239781,
          1.791759469228055,
          0,
          0,
          1.3862943611198906,
          1.3862943611198906,
          2.4849066497880004,
          1.0986122886681098,
          1.0986122886681098,
          0.6931471805599453,
          0.6931471805599453,
          1.791759469228055,
          2.302585092994046,
          2.302585092994046,
          0,
          1.3862943611198906,
          0,
          0,
          0,
          1.0986122886681098,
          1.3862943611198906,
          1.0986122886681098,
          1.9459101490553132,
          2.0794415416798357,
          0,
          2.302585092994046,
          1.9459101490553132,
          0,
          1.6094379124341003,
          2.302585092994046,
          0.6931471805599453,
          1.3862943611198906,
          1.3862943611198906,
          2.0794415416798357,
          1.0986122886681098,
          1.6094379124341003,
          1.6094379124341003,
          1.6094379124341003,
          0.6931471805599453,
          0,
          0,
          2.0794415416798357,
          2.0794415416798357,
          1.791759469228055,
          1.791759469228055,
          1.9459101490553132,
          0.6931471805599453,
          0,
          0,
          0,
          1.6094379124341003,
          1.6094379124341003,
          1.3862943611198906,
          2.4849066497880004,
          0,
          1.0986122886681098,
          1.0986122886681098,
          0,
          2.302585092994046,
          1.791759469228055,
          0,
          1.6094379124341003,
          2.3978952727983707,
          2.6390573296152584,
          2.6390573296152584,
          1.791759469228055,
          2.4849066497880004,
          2.70805020110221,
          1.791759469228055,
          1.0986122886681098,
          0,
          0.6931471805599453,
          1.3862943611198906,
          1.0986122886681098,
          1.791759469228055,
          2.5649493574615367,
          1.3862943611198906,
          2.772588722239781,
          0,
          2.4849066497880004,
          2.833213344056216,
          1.0986122886681098,
          1.6094379124341003,
          1.791759469228055,
          2.0794415416798357,
          0,
          0,
          1.3862943611198906,
          1.6094379124341003,
          0,
          0.6931471805599453,
          2.5649493574615367,
          1.3862943611198906,
          0,
          0.6931471805599453,
          2.6390573296152584,
          2.0794415416798357,
          2.302585092994046,
          2.6390573296152584,
          0.6931471805599453,
          2.0794415416798357,
          0,
          0,
          1.9459101490553132,
          1.3862943611198906,
          2.1972245773362196,
          0,
          2.0794415416798357,
          0.6931471805599453,
          0,
          0.6931471805599453,
          0,
          1.0986122886681098,
          2.5649493574615367,
          1.0986122886681098,
          0,
          1.791759469228055,
          1.3862943611198906,
          2.3978952727983707,
          1.6094379124341003,
          0.6931471805599453,
          0.6931471805599453,
          1.3862943611198906,
          0,
          1.3862943611198906,
          0.6931471805599453,
          0.6931471805599453,
          2.4849066497880004,
          0,
          0.6931471805599453,
          0,
          2.302585092994046,
          0,
          1.3862943611198906,
          1.6094379124341003,
          2.833213344056216,
          1.791759469228055,
          1.3862943611198906,
          2.0794415416798357,
          1.9459101490553132,
          1.791759469228055,
          1.6094379124341003,
          0.6931471805599453,
          1.0986122886681098,
          0.6931471805599453,
          0,
          2.6390573296152584,
          0,
          1.3862943611198906,
          0,
          2.1972245773362196,
          0,
          0.6931471805599453,
          1.3862943611198906,
          0.6931471805599453,
          2.0794415416798357,
          2.4849066497880004,
          0,
          0.6931471805599453,
          0,
          2.1972245773362196,
          1.9459101490553132,
          2.302585092994046,
          1.0986122886681098,
          2.1972245773362196,
          0,
          1.3862943611198906,
          0,
          0.6931471805599453,
          1.9459101490553132,
          1.0986122886681098,
          1.6094379124341003,
          0,
          0.6931471805599453,
          2.6390573296152584,
          1.6094379124341003,
          1.0986122886681098,
          1.6094379124341003,
          2.4849066497880004,
          0.6931471805599453,
          0,
          1.3862943611198906,
          0.6931471805599453,
          1.791759469228055,
          0,
          0.6931471805599453,
          0,
          0.6931471805599453,
          2.70805020110221,
          1.0986122886681098,
          2.4849066497880004,
          0,
          2.4849066497880004,
          2.1972245773362196,
          2.772588722239781,
          1.6094379124341003,
          0.6931471805599453,
          2.302585092994046,
          1.6094379124341003,
          0.6931471805599453,
          2.1972245773362196,
          2.6390573296152584,
          0,
          1.0986122886681098,
          1.0986122886681098,
          0,
          1.3862943611198906,
          1.0986122886681098,
          0.6931471805599453,
          0.6931471805599453,
          0.6931471805599453,
          1.0986122886681098,
          2.3978952727983707,
          1.3862943611198906,
          1.3862943611198906,
          2.3978952727983707,
          2.3978952727983707,
          0.6931471805599453,
          0,
          1.791759469228055,
          1.3862943611198906,
          0,
          0,
          2.302585092994046,
          2.4849066497880004,
          1.0986122886681098,
          1.0986122886681098,
          0.6931471805599453,
          0,
          1.0986122886681098,
          0,
          2.3978952727983707,
          0,
          2.6390573296152584,
          0,
          2.1972245773362196,
          2.4849066497880004,
          2.1972245773362196,
          2.302585092994046,
          0,
          0,
          2.1972245773362196,
          2.302585092994046,
          2.5649493574615367,
          1.6094379124341003,
          1.0986122886681098,
          0,
          1.0986122886681098,
          1.3862943611198906,
          2.5649493574615367,
          1.0986122886681098,
          2.302585092994046,
          0,
          0,
          0,
          2.4849066497880004,
          0,
          0,
          0,
          2.4849066497880004,
          1.791759469228055,
          2.0794415416798357,
          0.6931471805599453,
          2.3978952727983707,
          2.5649493574615367,
          1.6094379124341003,
          0,
          1.0986122886681098,
          2.0794415416798357,
          2.833213344056216,
          0,
          0,
          1.0986122886681098,
          0.6931471805599453,
          0,
          0,
          1.9459101490553132,
          2.4849066497880004,
          1.0986122886681098,
          0,
          1.0986122886681098,
          2.6390573296152584,
          1.0986122886681098,
          0,
          2.0794415416798357,
          2.3978952727983707,
          0.6931471805599453,
          2.1972245773362196,
          1.3862943611198906,
          0.6931471805599453,
          1.791759469228055,
          1.791759469228055,
          1.3862943611198906,
          0,
          0,
          1.0986122886681098,
          2.0794415416798357,
          0,
          1.9459101490553132,
          1.3862943611198906,
          1.0986122886681098,
          0,
          1.6094379124341003,
          1.791759469228055,
          1.6094379124341003,
          1.791759469228055,
          0,
          2.302585092994046,
          0,
          1.791759469228055,
          1.0986122886681098,
          1.6094379124341003,
          0,
          1.0986122886681098,
          2.0794415416798357,
          2.4849066497880004,
          1.791759469228055,
          2.3978952727983707,
          0,
          0.6931471805599453,
          0,
          0,
          1.0986122886681098,
          0.6931471805599453,
          1.0986122886681098,
          0.6931471805599453,
          0.6931471805599453,
          1.9459101490553132,
          1.791759469228055,
          1.6094379124341003,
          0,
          2.70805020110221,
          1.791759469228055,
          0,
          0.6931471805599453,
          2.1972245773362196,
          0.6931471805599453,
          0.6931471805599453,
          0.6931471805599453,
          2.6390573296152584,
          1.3862943611198906,
          1.6094379124341003,
          0.6931471805599453,
          2.0794415416798357,
          0,
          0.6931471805599453,
          1.3862943611198906,
          1.6094379124341003,
          1.6094379124341003,
          2.3978952727983707,
          1.0986122886681098,
          1.0986122886681098,
          2.5649493574615367,
          1.6094379124341003,
          1.791759469228055,
          1.6094379124341003,
          1.791759469228055,
          1.0986122886681098,
          0,
          0,
          0.6931471805599453,
          2.3978952727983707,
          2.0794415416798357,
          1.9459101490553132,
          2.3978952727983707,
          0,
          2.0794415416798357,
          0.6931471805599453,
          2.3978952727983707,
          0,
          0.6931471805599453,
          2.3978952727983707,
          1.0986122886681098,
          1.791759469228055,
          0.6931471805599453,
          1.791759469228055,
          1.0986122886681098,
          0.6931471805599453,
          1.791759469228055,
          1.0986122886681098,
          2.0794415416798357,
          0,
          1.0986122886681098,
          0,
          1.3862943611198906,
          0,
          1.3862943611198906,
          1.791759469228055,
          0.6931471805599453,
          0,
          2.6390573296152584,
          1.3862943611198906,
          2.302585092994046,
          1.9459101490553132,
          1.6094379124341003,
          2.0794415416798357,
          1.9459101490553132,
          0,
          1.3862943611198906,
          1.0986122886681098,
          2.70805020110221,
          0,
          2.772588722239781,
          0.6931471805599453,
          1.791759469228055,
          1.3862943611198906,
          2.302585092994046,
          2.1972245773362196,
          1.791759469228055,
          1.6094379124341003,
          1.3862943611198906,
          2.0794415416798357,
          0,
          1.3862943611198906,
          2.5649493574615367,
          2.302585092994046,
          1.0986122886681098,
          2.1972245773362196,
          0.6931471805599453,
          0,
          1.791759469228055,
          0,
          0,
          2.1972245773362196,
          2.5649493574615367,
          2.0794415416798357,
          0,
          2.1972245773362196,
          0,
          2.0794415416798357,
          0,
          2.302585092994046,
          1.0986122886681098,
          2.302585092994046,
          0,
          0.6931471805599453,
          1.0986122886681098,
          1.6094379124341003,
          0,
          2.1972245773362196,
          2.1972245773362196,
          1.6094379124341003,
          1.0986122886681098,
          0,
          1.3862943611198906,
          1.0986122886681098,
          1.3862943611198906,
          0.6931471805599453,
          0,
          0.6931471805599453,
          0,
          0,
          1.0986122886681098,
          0,
          2.0794415416798357,
          0.6931471805599453,
          2.5649493574615367,
          1.9459101490553132,
          0,
          2.302585092994046,
          2.9444389791664403,
          1.3862943611198906,
          1.9459101490553132,
          0.6931471805599453,
          2.772588722239781,
          1.6094379124341003,
          0,
          0,
          2.1972245773362196,
          1.9459101490553132,
          1.0986122886681098,
          0,
          2.0794415416798357,
          0,
          1.9459101490553132,
          1.9459101490553132,
          1.791759469228055,
          1.3862943611198906,
          1.3862943611198906,
          2.9444389791664403,
          0.6931471805599453,
          0.6931471805599453,
          2.0794415416798357,
          0,
          0.6931471805599453,
          1.9459101490553132,
          1.9459101490553132,
          1.0986122886681098,
          2.3978952727983707,
          2.9444389791664403,
          0,
          0.6931471805599453,
          1.0986122886681098,
          1.6094379124341003,
          1.6094379124341003,
          0.6931471805599453,
          1.3862943611198906,
          1.791759469228055,
          0.6931471805599453,
          2.1972245773362196,
          0,
          2.4849066497880004,
          2.302585092994046,
          0.6931471805599453,
          0,
          2.302585092994046,
          0,
          0,
          2.302585092994046,
          1.791759469228055,
          0.6931471805599453,
          2.1972245773362196,
          1.6094379124341003,
          1.0986122886681098,
          0,
          1.791759469228055,
          0,
          2.0794415416798357,
          2.0794415416798357,
          1.9459101490553132,
          2.833213344056216,
          0,
          2.302585092994046,
          1.3862943611198906,
          0,
          0.6931471805599453,
          0.6931471805599453,
          1.791759469228055,
          0,
          2.833213344056216,
          1.9459101490553132,
          2.3978952727983707,
          1.3862943611198906,
          2.0794415416798357,
          0.6931471805599453,
          1.6094379124341003,
          2.4849066497880004,
          0,
          0,
          1.3862943611198906,
          1.6094379124341003,
          0,
          0,
          0,
          1.791759469228055,
          0.6931471805599453,
          0,
          2.70805020110221,
          1.0986122886681098,
          1.9459101490553132,
          0,
          0,
          1.0986122886681098,
          2.1972245773362196,
          2.0794415416798357,
          0,
          0.6931471805599453,
          2.4849066497880004,
          0,
          0.6931471805599453,
          2.302585092994046,
          0,
          2.0794415416798357,
          1.791759469228055,
          2.302585092994046,
          0.6931471805599453,
          1.3862943611198906,
          0,
          1.6094379124341003,
          1.0986122886681098,
          1.0986122886681098,
          0.6931471805599453,
          1.791759469228055,
          1.9459101490553132,
          0,
          1.0986122886681098,
          2.0794415416798357,
          1.6094379124341003,
          1.791759469228055,
          1.6094379124341003,
          0,
          2.0794415416798357,
          0,
          2.302585092994046,
          2.0794415416798357,
          0.6931471805599453,
          1.791759469228055,
          1.0986122886681098,
          0,
          2.6390573296152584,
          1.3862943611198906,
          0.6931471805599453,
          1.3862943611198906,
          2.302585092994046,
          1.9459101490553132,
          2.70805020110221,
          0,
          0,
          1.0986122886681098,
          0.6931471805599453,
          1.791759469228055,
          0.6931471805599453,
          1.6094379124341003,
          1.791759469228055,
          0,
          1.791759469228055,
          0,
          2.5649493574615367,
          2.302585092994046,
          2.302585092994046,
          2.0794415416798357,
          2.302585092994046,
          0.6931471805599453,
          1.791759469228055,
          2.302585092994046,
          2.302585092994046,
          2.0794415416798357,
          0.6931471805599453,
          1.0986122886681098,
          1.0986122886681098,
          1.6094379124341003,
          0,
          2.8903717578961645,
          0,
          1.0986122886681098,
          0,
          0.6931471805599453,
          2.9444389791664403,
          0.6931471805599453,
          0.6931471805599453,
          0,
          2.5649493574615367,
          2.0794415416798357,
          1.791759469228055,
          0,
          1.0986122886681098,
          0.6931471805599453,
          0.6931471805599453,
          1.3862943611198906,
          1.9459101490553132,
          0,
          0,
          1.9459101490553132,
          1.0986122886681098,
          0,
          1.9459101490553132,
          0,
          2.4849066497880004,
          1.0986122886681098,
          1.0986122886681098,
          1.9459101490553132,
          0,
          2.302585092994046,
          1.0986122886681098,
          0,
          1.0986122886681098,
          0,
          1.9459101490553132,
          2.4849066497880004,
          1.791759469228055,
          0.6931471805599453,
          2.4849066497880004,
          1.3862943611198906,
          0.6931471805599453,
          0,
          1.3862943611198906,
          0,
          2.833213344056216,
          2.3978952727983707,
          0.6931471805599453,
          0.6931471805599453,
          0,
          2.0794415416798357,
          2.3978952727983707,
          1.0986122886681098,
          1.6094379124341003,
          0,
          0.6931471805599453,
          2.1972245773362196,
          1.3862943611198906,
          0,
          2.302585092994046,
          0,
          2.5649493574615367,
          1.3862943611198906,
          0.6931471805599453,
          1.0986122886681098,
          0.6931471805599453,
          0,
          2.0794415416798357,
          1.791759469228055,
          2.0794415416798357,
          1.9459101490553132,
          0,
          1.3862943611198906,
          1.3862943611198906,
          0.6931471805599453,
          1.791759469228055,
          0.6931471805599453,
          1.9459101490553132,
          1.791759469228055,
          2.4849066497880004,
          2.5649493574615367,
          1.9459101490553132,
          0.6931471805599453,
          0,
          2.4849066497880004,
          2.6390573296152584,
          0.6931471805599453,
          2.3978952727983707,
          1.0986122886681098,
          1.3862943611198906,
          0,
          2.833213344056216,
          1.9459101490553132,
          2.70805020110221,
          2.302585092994046,
          0.6931471805599453,
          0,
          1.0986122886681098,
          0,
          2.3978952727983707,
          1.0986122886681098,
          1.6094379124341003,
          1.791759469228055,
          1.3862943611198906,
          0,
          2.3978952727983707,
          2.70805020110221,
          1.6094379124341003,
          1.791759469228055,
          1.6094379124341003,
          1.9459101490553132,
          2.3978952727983707,
          2.3978952727983707,
          0.6931471805599453,
          0,
          1.3862943611198906,
          2.833213344056216,
          0.6931471805599453,
          0,
          2.70805020110221,
          1.791759469228055,
          1.6094379124341003,
          1.791759469228055,
          1.9459101490553132,
          2.0794415416798357,
          1.3862943611198906,
          0,
          2.3978952727983707,
          1.6094379124341003,
          1.791759469228055,
          1.9459101490553132,
          1.791759469228055,
          0,
          0,
          1.3862943611198906,
          2.70805020110221,
          1.791759469228055,
          2.6390573296152584,
          1.791759469228055,
          2.6390573296152584,
          1.791759469228055,
          0,
          0.6931471805599453,
          1.9459101490553132,
          2.9444389791664403,
          0,
          1.6094379124341003,
          1.6094379124341003,
          0,
          1.3862943611198906,
          0.6931471805599453,
          0,
          1.0986122886681098,
          0,
          2.1972245773362196,
          2.1972245773362196,
          2.995732273553991,
          0,
          2.833213344056216,
          0.6931471805599453,
          2.772588722239781,
          0,
          0,
          2.1972245773362196,
          1.0986122886681098,
          2.3978952727983707,
          1.791759469228055,
          0,
          0,
          1.0986122886681098,
          0,
          1.9459101490553132,
          2.0794415416798357,
          1.3862943611198906,
          2.0794415416798357,
          1.0986122886681098,
          1.0986122886681098,
          1.3862943611198906,
          1.791759469228055,
          0,
          2.5649493574615367,
          1.9459101490553132,
          1.9459101490553132,
          2.5649493574615367,
          0,
          1.6094379124341003,
          2.4849066497880004,
          1.0986122886681098,
          1.6094379124341003,
          2.772588722239781,
          1.6094379124341003,
          1.791759469228055,
          2.302585092994046,
          1.0986122886681098,
          1.0986122886681098,
          0,
          1.9459101490553132,
          1.3862943611198906,
          2.4849066497880004,
          1.791759469228055,
          0,
          2.3978952727983707,
          0.6931471805599453,
          1.791759469228055,
          0.6931471805599453,
          0,
          0.6931471805599453,
          1.0986122886681098,
          0.6931471805599453,
          1.791759469228055,
          1.3862943611198906,
          1.0986122886681098,
          1.791759469228055,
          1.3862943611198906,
          1.6094379124341003,
          1.3862943611198906,
          1.3862943611198906,
          0,
          2.772588722239781,
          0,
          0,
          2.1972245773362196,
          0,
          0,
          1.3862943611198906,
          1.3862943611198906,
          0.6931471805599453,
          1.9459101490553132,
          0.6931471805599453,
          1.791759469228055,
          0,
          2.0794415416798357,
          2.302585092994046,
          1.3862943611198906,
          2.3978952727983707,
          2.1972245773362196,
          1.3862943611198906,
          1.3862943611198906,
          2.0794415416798357,
          2.833213344056216,
          0.6931471805599453,
          2.302585092994046,
          0,
          0,
          0,
          1.0986122886681098,
          1.6094379124341003,
          0.6931471805599453,
          1.9459101490553132,
          2.5649493574615367,
          2.70805020110221,
          0,
          2.1972245773362196,
          1.3862943611198906,
          1.0986122886681098,
          2.5649493574615367,
          1.6094379124341003,
          1.791759469228055,
          1.6094379124341003,
          0,
          2.0794415416798357,
          0.6931471805599453,
          0.6931471805599453,
          0,
          0.6931471805599453,
          1.6094379124341003,
          0.6931471805599453,
          0.6931471805599453,
          1.9459101490553132,
          0.6931471805599453,
          1.3862943611198906,
          0,
          2.6390573296152584,
          0,
          2.6390573296152584,
          1.3862943611198906,
          1.6094379124341003,
          2.302585092994046,
          1.6094379124341003,
          2.1972245773362196,
          1.6094379124341003,
          2.302585092994046,
          1.9459101490553132,
          0.6931471805599453,
          1.6094379124341003,
          1.3862943611198906,
          1.9459101490553132,
          0,
          0,
          2.5649493574615367,
          1.0986122886681098,
          0.6931471805599453,
          0.6931471805599453,
          1.0986122886681098,
          0,
          2.1972245773362196,
          1.3862943611198906,
          1.3862943611198906,
          2.70805020110221,
          1.3862943611198906,
          2.4849066497880004,
          2.302585092994046,
          2.6390573296152584,
          0.6931471805599453,
          2.1972245773362196,
          0.6931471805599453,
          2.70805020110221,
          1.9459101490553132,
          0.6931471805599453,
          1.3862943611198906,
          1.6094379124341003,
          1.3862943611198906,
          1.791759469228055,
          1.3862943611198906,
          1.3862943611198906,
          0.6931471805599453,
          2.4849066497880004,
          2.0794415416798357,
          2.0794415416798357,
          0.6931471805599453,
          2.0794415416798357,
          2.1972245773362196,
          2.3978952727983707,
          0,
          0.6931471805599453,
          0.6931471805599453,
          1.791759469228055,
          0,
          0,
          0,
          0,
          2.9444389791664403,
          2.1972245773362196,
          2.9444389791664403,
          1.791759469228055,
          1.3862943611198906,
          0,
          2.4849066497880004,
          0,
          2.9444389791664403,
          0.6931471805599453,
          1.3862943611198906,
          1.6094379124341003,
          2.0794415416798357,
          0.6931471805599453,
          0,
          1.3862943611198906,
          0.6931471805599453,
          1.0986122886681098,
          1.3862943611198906,
          2.302585092994046,
          1.0986122886681098,
          0.6931471805599453,
          2.302585092994046,
          0.6931471805599453,
          1.3862943611198906,
          2.0794415416798357,
          0,
          0.6931471805599453,
          1.0986122886681098,
          1.0986122886681098,
          1.791759469228055,
          0,
          0.6931471805599453,
          2.302585092994046,
          1.3862943611198906,
          0.6931471805599453,
          1.0986122886681098,
          0,
          0,
          0.6931471805599453,
          0.6931471805599453,
          0,
          2.302585092994046,
          2.1972245773362196,
          1.0986122886681098,
          1.791759469228055,
          0,
          1.0986122886681098,
          2.1972245773362196,
          0,
          1.791759469228055,
          0,
          0.6931471805599453,
          1.3862943611198906,
          0,
          1.9459101490553132,
          0.6931471805599453,
          0,
          2.0794415416798357,
          2.5649493574615367,
          0.6931471805599453,
          1.6094379124341003,
          1.791759469228055,
          2.0794415416798357,
          1.0986122886681098,
          1.791759469228055,
          0,
          0,
          0,
          1.6094379124341003,
          0.6931471805599453,
          2.3978952727983707,
          1.6094379124341003,
          0,
          0,
          1.6094379124341003,
          1.0986122886681098,
          0,
          1.9459101490553132,
          1.3862943611198906,
          0,
          2.6390573296152584,
          2.302585092994046,
          1.3862943611198906,
          1.6094379124341003,
          1.0986122886681098,
          0,
          1.0986122886681098,
          0,
          1.791759469228055,
          0,
          0,
          1.9459101490553132,
          1.0986122886681098,
          2.302585092994046,
          2.0794415416798357,
          1.0986122886681098,
          0.6931471805599453,
          1.3862943611198906,
          0.6931471805599453,
          1.6094379124341003,
          2.1972245773362196,
          1.6094379124341003,
          2.5649493574615367,
          0,
          2.1972245773362196,
          1.9459101490553132,
          2.302585092994046,
          1.0986122886681098,
          1.0986122886681098,
          2.1972245773362196,
          2.4849066497880004,
          0.6931471805599453,
          0,
          0.6931471805599453,
          0,
          0,
          0.6931471805599453,
          1.6094379124341003,
          1.791759469228055
         ]
        },
        {
         "line": {
          "color": "black",
          "width": 2
         },
         "mode": "lines",
         "name": "Normal Distribution",
         "type": "scatter",
         "x": [
          0,
          0.030259921955090818,
          0.060519843910181635,
          0.09077976586527245,
          0.12103968782036327,
          0.1512996097754541,
          0.1815595317305449,
          0.21181945368563573,
          0.24207937564072654,
          0.2723392975958174,
          0.3025992195509082,
          0.332859141505999,
          0.3631190634610898,
          0.3933789854161806,
          0.42363890737127147,
          0.4538988293263623,
          0.4841587512814531,
          0.5144186732365439,
          0.5446785951916348,
          0.5749385171467255,
          0.6051984391018164,
          0.6354583610569071,
          0.665718283011998,
          0.6959782049670888,
          0.7262381269221796,
          0.7564980488772705,
          0.7867579708323612,
          0.8170178927874521,
          0.8472778147425429,
          0.8775377366976337,
          0.9077976586527245,
          0.9380575806078153,
          0.9683175025629062,
          0.998577424517997,
          1.0288373464730878,
          1.0590972684281785,
          1.0893571903832695,
          1.1196171123383603,
          1.149877034293451,
          1.180136956248542,
          1.2103968782036327,
          1.2406568001587235,
          1.2709167221138142,
          1.3011766440689052,
          1.331436566023996,
          1.3616964879790867,
          1.3919564099341777,
          1.4222163318892684,
          1.4524762538443592,
          1.4827361757994502,
          1.512996097754541,
          1.5432560197096317,
          1.5735159416647224,
          1.6037758636198134,
          1.6340357855749041,
          1.664295707529995,
          1.6945556294850859,
          1.7248155514401766,
          1.7550754733952674,
          1.7853353953503583,
          1.815595317305449,
          1.8458552392605398,
          1.8761151612156306,
          1.9063750831707216,
          1.9366350051258123,
          1.966894927080903,
          1.997154849035994,
          2.0274147709910846,
          2.0576746929461756,
          2.0879346149012665,
          2.118194536856357,
          2.148454458811448,
          2.178714380766539,
          2.2089743027216295,
          2.2392342246767205,
          2.2694941466318115,
          2.299754068586902,
          2.330013990541993,
          2.360273912497084,
          2.3905338344521745,
          2.4207937564072655,
          2.4510536783623564,
          2.481313600317447,
          2.511573522272538,
          2.5418334442276285,
          2.5720933661827194,
          2.6023532881378104,
          2.632613210092901,
          2.662873132047992,
          2.693133054003083,
          2.7233929759581734,
          2.7536528979132644,
          2.7839128198683554,
          2.814172741823446,
          2.844432663778537,
          2.874692585733628,
          2.9049525076887184,
          2.9352124296438094,
          2.9654723515989003,
          2.995732273553991
         ],
         "y": [
          0.16082784979460615,
          0.16841281456741408,
          0.1761631532512072,
          0.18406918096599717,
          0.19212025192041252,
          0.20030476376904127,
          0.20861016749150638,
          0.2170229829686479,
          0.22552882039435593,
          0.23411240762197622,
          0.24275762350205699,
          0.2514475372238601,
          0.26016445362685386,
          0.2688899644007547,
          0.277605005043989,
          0.2862899174011709,
          0.2949245175507932,
          0.3034881687653091,
          0.3119598592176292,
          0.3203182840612909,
          0.32854193146667543,
          0.33660917215315583,
          0.34449835191745243,
          0.35218788662221207,
          0.3596563590763788,
          0.3668826172106822,
          0.3738458729279406,
          0.38052580098917593,
          0.38690263728308005,
          0.3929572758183805,
          0.3986713637763272,
          0.4040273939639794,
          0.40900879401828505,
          0.41360001172611194,
          0.41778659584635186,
          0.42155527184684943,
          0.42489401200101573,
          0.42779209932632195,
          0.43024018488911714,
          0.43223033804700844,
          0.43375608925095704,
          0.43481246508381344,
          0.4353960152697191,
          0.43550483144909685,
          0.4351385575762504,
          0.4342983918602894,
          0.43298708023457344,
          0.4312089014044881,
          0.42896964358749473,
          0.4262765731224168,
          0.4231383951862052,
          0.4195652069153902,
          0.4155684432854979,
          0.41116081615435796,
          0.40635624692396843,
          0.4011697933199619,
          0.39561757082734494,
          0.38971666935572064,
          0.3834850657363699,
          0.37694153267714525,
          0.37010554481896357,
          0.36299718254968083,
          0.3556370342372678,
          0.34804609754451593,
          0.3402456804820854,
          0.33225730284572647,
          0.32410259866717456,
          0.31580322028680635,
          0.30738074462996895,
          0.29885658223832945,
          0.29025188957301284,
          0.2815874850681752,
          0.2728837693724221,
          0.26416065017163565,
          0.2554374719408052,
          0.2467329509248796,
          0.23806511559996504,
          0.22945125281691478,
          0.22090785977996147,
          0.21245060196402257,
          0.20409427702613042,
          0.19585278471951786,
          0.18773910277364816,
          0.17976526866027562,
          0.17194236712481248,
          0.16428052332412507,
          0.15678890137669005,
          0.14947570809897465,
          0.14234820167317783,
          0.1354127049661847,
          0.12867462319784082,
          0.12213846563849276,
          0.11580787100117024,
          0.10968563618276157,
          0.10377374800100655,
          0.09807341756997802,
          0.09258511695581831,
          0.08730861775668529,
          0.0822430312559472,
          0.07738684980544515
         ]
        }
       ],
       "layout": {
        "autosize": true,
        "bargap": 0.2,
        "template": {
         "data": {
          "bar": [
           {
            "error_x": {
             "color": "#2a3f5f"
            },
            "error_y": {
             "color": "#2a3f5f"
            },
            "marker": {
             "line": {
              "color": "#E5ECF6",
              "width": 0.5
             },
             "pattern": {
              "fillmode": "overlay",
              "size": 10,
              "solidity": 0.2
             }
            },
            "type": "bar"
           }
          ],
          "barpolar": [
           {
            "marker": {
             "line": {
              "color": "#E5ECF6",
              "width": 0.5
             },
             "pattern": {
              "fillmode": "overlay",
              "size": 10,
              "solidity": 0.2
             }
            },
            "type": "barpolar"
           }
          ],
          "carpet": [
           {
            "aaxis": {
             "endlinecolor": "#2a3f5f",
             "gridcolor": "white",
             "linecolor": "white",
             "minorgridcolor": "white",
             "startlinecolor": "#2a3f5f"
            },
            "baxis": {
             "endlinecolor": "#2a3f5f",
             "gridcolor": "white",
             "linecolor": "white",
             "minorgridcolor": "white",
             "startlinecolor": "#2a3f5f"
            },
            "type": "carpet"
           }
          ],
          "choropleth": [
           {
            "colorbar": {
             "outlinewidth": 0,
             "ticks": ""
            },
            "type": "choropleth"
           }
          ],
          "contour": [
           {
            "colorbar": {
             "outlinewidth": 0,
             "ticks": ""
            },
            "colorscale": [
             [
              0,
              "#0d0887"
             ],
             [
              0.1111111111111111,
              "#46039f"
             ],
             [
              0.2222222222222222,
              "#7201a8"
             ],
             [
              0.3333333333333333,
              "#9c179e"
             ],
             [
              0.4444444444444444,
              "#bd3786"
             ],
             [
              0.5555555555555556,
              "#d8576b"
             ],
             [
              0.6666666666666666,
              "#ed7953"
             ],
             [
              0.7777777777777778,
              "#fb9f3a"
             ],
             [
              0.8888888888888888,
              "#fdca26"
             ],
             [
              1,
              "#f0f921"
             ]
            ],
            "type": "contour"
           }
          ],
          "contourcarpet": [
           {
            "colorbar": {
             "outlinewidth": 0,
             "ticks": ""
            },
            "type": "contourcarpet"
           }
          ],
          "heatmap": [
           {
            "colorbar": {
             "outlinewidth": 0,
             "ticks": ""
            },
            "colorscale": [
             [
              0,
              "#0d0887"
             ],
             [
              0.1111111111111111,
              "#46039f"
             ],
             [
              0.2222222222222222,
              "#7201a8"
             ],
             [
              0.3333333333333333,
              "#9c179e"
             ],
             [
              0.4444444444444444,
              "#bd3786"
             ],
             [
              0.5555555555555556,
              "#d8576b"
             ],
             [
              0.6666666666666666,
              "#ed7953"
             ],
             [
              0.7777777777777778,
              "#fb9f3a"
             ],
             [
              0.8888888888888888,
              "#fdca26"
             ],
             [
              1,
              "#f0f921"
             ]
            ],
            "type": "heatmap"
           }
          ],
          "heatmapgl": [
           {
            "colorbar": {
             "outlinewidth": 0,
             "ticks": ""
            },
            "colorscale": [
             [
              0,
              "#0d0887"
             ],
             [
              0.1111111111111111,
              "#46039f"
             ],
             [
              0.2222222222222222,
              "#7201a8"
             ],
             [
              0.3333333333333333,
              "#9c179e"
             ],
             [
              0.4444444444444444,
              "#bd3786"
             ],
             [
              0.5555555555555556,
              "#d8576b"
             ],
             [
              0.6666666666666666,
              "#ed7953"
             ],
             [
              0.7777777777777778,
              "#fb9f3a"
             ],
             [
              0.8888888888888888,
              "#fdca26"
             ],
             [
              1,
              "#f0f921"
             ]
            ],
            "type": "heatmapgl"
           }
          ],
          "histogram": [
           {
            "marker": {
             "pattern": {
              "fillmode": "overlay",
              "size": 10,
              "solidity": 0.2
             }
            },
            "type": "histogram"
           }
          ],
          "histogram2d": [
           {
            "colorbar": {
             "outlinewidth": 0,
             "ticks": ""
            },
            "colorscale": [
             [
              0,
              "#0d0887"
             ],
             [
              0.1111111111111111,
              "#46039f"
             ],
             [
              0.2222222222222222,
              "#7201a8"
             ],
             [
              0.3333333333333333,
              "#9c179e"
             ],
             [
              0.4444444444444444,
              "#bd3786"
             ],
             [
              0.5555555555555556,
              "#d8576b"
             ],
             [
              0.6666666666666666,
              "#ed7953"
             ],
             [
              0.7777777777777778,
              "#fb9f3a"
             ],
             [
              0.8888888888888888,
              "#fdca26"
             ],
             [
              1,
              "#f0f921"
             ]
            ],
            "type": "histogram2d"
           }
          ],
          "histogram2dcontour": [
           {
            "colorbar": {
             "outlinewidth": 0,
             "ticks": ""
            },
            "colorscale": [
             [
              0,
              "#0d0887"
             ],
             [
              0.1111111111111111,
              "#46039f"
             ],
             [
              0.2222222222222222,
              "#7201a8"
             ],
             [
              0.3333333333333333,
              "#9c179e"
             ],
             [
              0.4444444444444444,
              "#bd3786"
             ],
             [
              0.5555555555555556,
              "#d8576b"
             ],
             [
              0.6666666666666666,
              "#ed7953"
             ],
             [
              0.7777777777777778,
              "#fb9f3a"
             ],
             [
              0.8888888888888888,
              "#fdca26"
             ],
             [
              1,
              "#f0f921"
             ]
            ],
            "type": "histogram2dcontour"
           }
          ],
          "mesh3d": [
           {
            "colorbar": {
             "outlinewidth": 0,
             "ticks": ""
            },
            "type": "mesh3d"
           }
          ],
          "parcoords": [
           {
            "line": {
             "colorbar": {
              "outlinewidth": 0,
              "ticks": ""
             }
            },
            "type": "parcoords"
           }
          ],
          "pie": [
           {
            "automargin": true,
            "type": "pie"
           }
          ],
          "scatter": [
           {
            "fillpattern": {
             "fillmode": "overlay",
             "size": 10,
             "solidity": 0.2
            },
            "type": "scatter"
           }
          ],
          "scatter3d": [
           {
            "line": {
             "colorbar": {
              "outlinewidth": 0,
              "ticks": ""
             }
            },
            "marker": {
             "colorbar": {
              "outlinewidth": 0,
              "ticks": ""
             }
            },
            "type": "scatter3d"
           }
          ],
          "scattercarpet": [
           {
            "marker": {
             "colorbar": {
              "outlinewidth": 0,
              "ticks": ""
             }
            },
            "type": "scattercarpet"
           }
          ],
          "scattergeo": [
           {
            "marker": {
             "colorbar": {
              "outlinewidth": 0,
              "ticks": ""
             }
            },
            "type": "scattergeo"
           }
          ],
          "scattergl": [
           {
            "marker": {
             "colorbar": {
              "outlinewidth": 0,
              "ticks": ""
             }
            },
            "type": "scattergl"
           }
          ],
          "scattermapbox": [
           {
            "marker": {
             "colorbar": {
              "outlinewidth": 0,
              "ticks": ""
             }
            },
            "type": "scattermapbox"
           }
          ],
          "scatterpolar": [
           {
            "marker": {
             "colorbar": {
              "outlinewidth": 0,
              "ticks": ""
             }
            },
            "type": "scatterpolar"
           }
          ],
          "scatterpolargl": [
           {
            "marker": {
             "colorbar": {
              "outlinewidth": 0,
              "ticks": ""
             }
            },
            "type": "scatterpolargl"
           }
          ],
          "scatterternary": [
           {
            "marker": {
             "colorbar": {
              "outlinewidth": 0,
              "ticks": ""
             }
            },
            "type": "scatterternary"
           }
          ],
          "surface": [
           {
            "colorbar": {
             "outlinewidth": 0,
             "ticks": ""
            },
            "colorscale": [
             [
              0,
              "#0d0887"
             ],
             [
              0.1111111111111111,
              "#46039f"
             ],
             [
              0.2222222222222222,
              "#7201a8"
             ],
             [
              0.3333333333333333,
              "#9c179e"
             ],
             [
              0.4444444444444444,
              "#bd3786"
             ],
             [
              0.5555555555555556,
              "#d8576b"
             ],
             [
              0.6666666666666666,
              "#ed7953"
             ],
             [
              0.7777777777777778,
              "#fb9f3a"
             ],
             [
              0.8888888888888888,
              "#fdca26"
             ],
             [
              1,
              "#f0f921"
             ]
            ],
            "type": "surface"
           }
          ],
          "table": [
           {
            "cells": {
             "fill": {
              "color": "#EBF0F8"
             },
             "line": {
              "color": "white"
             }
            },
            "header": {
             "fill": {
              "color": "#C8D4E3"
             },
             "line": {
              "color": "white"
             }
            },
            "type": "table"
           }
          ]
         },
         "layout": {
          "annotationdefaults": {
           "arrowcolor": "#2a3f5f",
           "arrowhead": 0,
           "arrowwidth": 1
          },
          "autotypenumbers": "strict",
          "coloraxis": {
           "colorbar": {
            "outlinewidth": 0,
            "ticks": ""
           }
          },
          "colorscale": {
           "diverging": [
            [
             0,
             "#8e0152"
            ],
            [
             0.1,
             "#c51b7d"
            ],
            [
             0.2,
             "#de77ae"
            ],
            [
             0.3,
             "#f1b6da"
            ],
            [
             0.4,
             "#fde0ef"
            ],
            [
             0.5,
             "#f7f7f7"
            ],
            [
             0.6,
             "#e6f5d0"
            ],
            [
             0.7,
             "#b8e186"
            ],
            [
             0.8,
             "#7fbc41"
            ],
            [
             0.9,
             "#4d9221"
            ],
            [
             1,
             "#276419"
            ]
           ],
           "sequential": [
            [
             0,
             "#0d0887"
            ],
            [
             0.1111111111111111,
             "#46039f"
            ],
            [
             0.2222222222222222,
             "#7201a8"
            ],
            [
             0.3333333333333333,
             "#9c179e"
            ],
            [
             0.4444444444444444,
             "#bd3786"
            ],
            [
             0.5555555555555556,
             "#d8576b"
            ],
            [
             0.6666666666666666,
             "#ed7953"
            ],
            [
             0.7777777777777778,
             "#fb9f3a"
            ],
            [
             0.8888888888888888,
             "#fdca26"
            ],
            [
             1,
             "#f0f921"
            ]
           ],
           "sequentialminus": [
            [
             0,
             "#0d0887"
            ],
            [
             0.1111111111111111,
             "#46039f"
            ],
            [
             0.2222222222222222,
             "#7201a8"
            ],
            [
             0.3333333333333333,
             "#9c179e"
            ],
            [
             0.4444444444444444,
             "#bd3786"
            ],
            [
             0.5555555555555556,
             "#d8576b"
            ],
            [
             0.6666666666666666,
             "#ed7953"
            ],
            [
             0.7777777777777778,
             "#fb9f3a"
            ],
            [
             0.8888888888888888,
             "#fdca26"
            ],
            [
             1,
             "#f0f921"
            ]
           ]
          },
          "colorway": [
           "#636efa",
           "#EF553B",
           "#00cc96",
           "#ab63fa",
           "#FFA15A",
           "#19d3f3",
           "#FF6692",
           "#B6E880",
           "#FF97FF",
           "#FECB52"
          ],
          "font": {
           "color": "#2a3f5f"
          },
          "geo": {
           "bgcolor": "white",
           "lakecolor": "white",
           "landcolor": "#E5ECF6",
           "showlakes": true,
           "showland": true,
           "subunitcolor": "white"
          },
          "hoverlabel": {
           "align": "left"
          },
          "hovermode": "closest",
          "mapbox": {
           "style": "light"
          },
          "paper_bgcolor": "white",
          "plot_bgcolor": "#E5ECF6",
          "polar": {
           "angularaxis": {
            "gridcolor": "white",
            "linecolor": "white",
            "ticks": ""
           },
           "bgcolor": "#E5ECF6",
           "radialaxis": {
            "gridcolor": "white",
            "linecolor": "white",
            "ticks": ""
           }
          },
          "scene": {
           "xaxis": {
            "backgroundcolor": "#E5ECF6",
            "gridcolor": "white",
            "gridwidth": 2,
            "linecolor": "white",
            "showbackground": true,
            "ticks": "",
            "zerolinecolor": "white"
           },
           "yaxis": {
            "backgroundcolor": "#E5ECF6",
            "gridcolor": "white",
            "gridwidth": 2,
            "linecolor": "white",
            "showbackground": true,
            "ticks": "",
            "zerolinecolor": "white"
           },
           "zaxis": {
            "backgroundcolor": "#E5ECF6",
            "gridcolor": "white",
            "gridwidth": 2,
            "linecolor": "white",
            "showbackground": true,
            "ticks": "",
            "zerolinecolor": "white"
           }
          },
          "shapedefaults": {
           "line": {
            "color": "#2a3f5f"
           }
          },
          "ternary": {
           "aaxis": {
            "gridcolor": "white",
            "linecolor": "white",
            "ticks": ""
           },
           "baxis": {
            "gridcolor": "white",
            "linecolor": "white",
            "ticks": ""
           },
           "bgcolor": "#E5ECF6",
           "caxis": {
            "gridcolor": "white",
            "linecolor": "white",
            "ticks": ""
           }
          },
          "title": {
           "x": 0.05
          },
          "xaxis": {
           "automargin": true,
           "gridcolor": "white",
           "linecolor": "white",
           "ticks": "",
           "title": {
            "standoff": 15
           },
           "zerolinecolor": "white",
           "zerolinewidth": 2
          },
          "yaxis": {
           "automargin": true,
           "gridcolor": "white",
           "linecolor": "white",
           "ticks": "",
           "title": {
            "standoff": 15
           },
           "zerolinecolor": "white",
           "zerolinewidth": 2
          }
         }
        },
        "title": {
         "text": "Histogram with Fitted Normal Distribution"
        },
        "xaxis": {
         "autorange": true,
         "range": [
          -0.04999999999999982,
          3.05
         ],
         "title": {
          "text": "fc_log transformation"
         },
         "type": "linear"
        },
        "yaxis": {
         "autorange": true,
         "range": [
          -0.04998054742758566,
          2.497367397233031
         ],
         "title": {
          "text": "Probability Density"
         },
         "type": "linear"
        }
       }
      },
      "image/png": "[encoded data removed]",
      "text/html": [
       "<div>                            <div id=\"3939f18c-f926-4ae2-a915-0547a9711422\" class=\"plotly-graph-div\" style=\"height:525px; width:100%;\"></div>            <script type=\"text/javascript\">                require([\"plotly\"], function(Plotly) {                    window.PLOTLYENV=window.PLOTLYENV || {};                                    if (document.getElementById(\"3939f18c-f926-4ae2-a915-0547a9711422\")) {                    Plotly.newPlot(                        \"3939f18c-f926-4ae2-a915-0547a9711422\",                        [{\"histnorm\":\"probability density\",\"marker\":{\"color\":\"rgba(0, 128, 128, 0.6)\"},\"name\":\"Histogram\",\"opacity\":0.6,\"x\":[0.6931471805599453,0.0,1.0986122886681098,0.0,2.6390573296152584,1.3862943611198906,1.6094379124341003,0.0,0.0,1.0986122886681098,0.0,1.791759469228055,1.0986122886681098,2.0794415416798357,2.6390573296152584,1.3862943611198906,0.6931471805599453,2.0794415416798357,2.4849066497880004,1.6094379124341003,2.5649493574615367,0.6931471805599453,1.6094379124341003,1.6094379124341003,1.791759469228055,0.0,2.0794415416798357,0.6931471805599453,2.5649493574615367,1.3862943611198906,0.0,2.833213344056216,1.3862943611198906,0.0,0.0,2.833213344056216,0.6931471805599453,1.9459101490553132,2.833213344056216,2.772588722239781,1.791759469228055,2.1972245773362196,1.791759469228055,1.791759469228055,0.6931471805599453,0.0,0.6931471805599453,1.3862943611198906,1.0986122886681098,2.302585092994046,1.0986122886681098,1.791759469228055,0.0,0.6931471805599453,0.0,2.3978952727983707,2.6390573296152584,0.0,2.1972245773362196,1.0986122886681098,1.3862943611198906,0.6931471805599453,0.0,2.772588722239781,1.0986122886681098,2.6390573296152584,2.4849066497880004,0.0,0.0,0.0,1.9459101490553132,0.6931471805599453,2.1972245773362196,1.3862943611198906,1.6094379124341003,2.1972245773362196,1.6094379124341003,0.6931471805599453,2.772588722239781,1.9459101490553132,0.0,2.4849066497880004,1.0986122886681098,2.4849066497880004,1.791759469228055,1.791759469228055,1.6094379124341003,0.6931471805599453,0.0,0.0,1.0986122886681098,2.0794415416798357,0.0,2.4849066497880004,1.9459101490553132,2.9444389791664403,2.3978952727983707,1.3862943611198906,0.0,1.9459101490553132,1.3862943611198906,1.6094379124341003,0.0,0.0,0.6931471805599453,1.0986122886681098,1.791759469228055,1.3862943611198906,0.0,1.3862943611198906,0.0,0.0,0.0,2.6390573296152584,2.302585092994046,0.6931471805599453,0.0,1.3862943611198906,2.1972245773362196,0.0,1.3862943611198906,0.6931471805599453,2.0794415416798357,1.791759469228055,1.3862943611198906,1.791759469228055,0.0,1.6094379124341003,2.4849066497880004,0.0,1.0986122886681098,2.302585092994046,0.6931471805599453,2.0794415416798357,0.6931471805599453,0.0,0.0,1.791759469228055,2.5649493574615367,0.6931471805599453,0.0,0.6931471805599453,1.6094379124341003,0.0,1.3862943611198906,0.6931471805599453,0.0,1.3862943611198906,1.6094379124341003,1.9459101490553132,0.6931471805599453,1.6094379124341003,1.3862943611198906,1.0986122886681098,1.9459101490553132,1.6094379124341003,1.3862943611198906,2.833213344056216,0.0,2.5649493574615367,1.6094379124341003,2.3978952727983707,0.0,2.4849066497880004,2.4849066497880004,1.3862943611198906,0.0,1.0986122886681098,0.0,2.8903717578961645,1.0986122886681098,1.0986122886681098,1.791759469228055,0.0,0.0,2.1972245773362196,1.0986122886681098,0.0,0.0,1.0986122886681098,2.5649493574615367,2.4849066497880004,0.0,2.772588722239781,0.0,0.6931471805599453,0.0,0.0,1.3862943611198906,1.0986122886681098,2.1972245773362196,0.6931471805599453,1.6094379124341003,1.791759469228055,0.0,0.6931471805599453,0.0,0.0,1.3862943611198906,2.302585092994046,0.0,2.0794415416798357,0.0,2.3978952727983707,1.9459101490553132,0.0,2.833213344056216,2.0794415416798357,0.6931471805599453,0.0,0.0,0.0,2.302585092994046,1.6094379124341003,0.0,1.3862943611198906,0.0,1.791759469228055,0.0,1.6094379124341003,1.9459101490553132,1.791759469228055,2.1972245773362196,0.6931471805599453,1.3862943611198906,0.6931471805599453,2.9444389791664403,0.0,1.0986122886681098,2.8903717578961645,0.6931471805599453,1.6094379124341003,1.6094379124341003,0.0,2.5649493574615367,1.9459101490553132,1.3862943611198906,2.70805020110221,0.0,0.0,0.0,0.0,0.0,1.0986122886681098,2.0794415416798357,1.0986122886681098,1.3862943611198906,1.3862943611198906,1.6094379124341003,1.3862943611198906,0.0,0.0,0.0,1.0986122886681098,2.302585092994046,1.791759469228055,1.6094379124341003,0.6931471805599453,0.0,1.9459101490553132,2.0794415416798357,0.0,0.0,1.6094379124341003,2.1972245773362196,1.791759469228055,2.3978952727983707,2.3978952727983707,1.6094379124341003,0.0,1.0986122886681098,0.0,2.0794415416798357,2.4849066497880004,1.791759469228055,1.3862943611198906,0.0,1.3862943611198906,2.5649493574615367,0.0,1.3862943611198906,0.0,2.302585092994046,1.9459101490553132,2.0794415416798357,0.0,1.9459101490553132,0.0,2.833213344056216,0.0,2.1972245773362196,2.3978952727983707,1.9459101490553132,1.9459101490553132,0.6931471805599453,0.0,2.0794415416798357,0.6931471805599453,2.4849066497880004,2.1972245773362196,2.8903717578961645,1.0986122886681098,2.833213344056216,2.4849066497880004,0.6931471805599453,2.9444389791664403,0.0,1.9459101490553132,2.4849066497880004,0.6931471805599453,1.791759469228055,0.0,0.6931471805599453,1.9459101490553132,0.0,1.3862943611198906,1.9459101490553132,1.9459101490553132,2.0794415416798357,1.9459101490553132,0.0,1.0986122886681098,0.6931471805599453,2.70805020110221,1.791759469228055,1.791759469228055,0.0,1.9459101490553132,0.6931471805599453,1.791759469228055,1.791759469228055,0.0,0.0,0.6931471805599453,2.1972245773362196,0.0,0.0,1.0986122886681098,1.0986122886681098,0.0,1.791759469228055,1.791759469228055,2.1972245773362196,1.9459101490553132,1.0986122886681098,0.0,1.0986122886681098,1.9459101490553132,2.0794415416798357,1.0986122886681098,2.772588722239781,2.833213344056216,1.0986122886681098,2.0794415416798357,2.3978952727983707,2.0794415416798357,0.0,0.6931471805599453,2.3978952727983707,0.6931471805599453,2.3978952727983707,2.6390573296152584,1.6094379124341003,0.0,0.0,2.1972245773362196,0.0,0.0,2.1972245773362196,2.1972245773362196,2.3978952727983707,1.6094379124341003,2.8903717578961645,0.0,1.791759469228055,0.0,0.0,0.6931471805599453,1.0986122886681098,0.0,2.3978952727983707,1.0986122886681098,1.3862943611198906,0.0,2.5649493574615367,1.6094379124341003,2.5649493574615367,2.70805020110221,0.6931471805599453,0.6931471805599453,1.3862943611198906,0.0,2.772588722239781,1.3862943611198906,0.0,2.1972245773362196,1.6094379124341003,0.0,2.3978952727983707,0.0,0.0,2.833213344056216,2.1972245773362196,0.0,1.9459101490553132,0.6931471805599453,0.0,2.302585092994046,2.5649493574615367,1.0986122886681098,1.791759469228055,1.0986122886681098,2.5649493574615367,0.0,1.0986122886681098,1.791759469228055,0.6931471805599453,1.0986122886681098,0.6931471805599453,1.0986122886681098,2.0794415416798357,1.9459101490553132,2.3978952727983707,1.0986122886681098,1.6094379124341003,1.3862943611198906,2.302585092994046,0.0,1.3862943611198906,2.3978952727983707,1.9459101490553132,1.3862943611198906,0.0,0.0,1.6094379124341003,0.0,2.1972245773362196,0.6931471805599453,2.3978952727983707,0.0,1.9459101490553132,0.6931471805599453,1.3862943611198906,2.6390573296152584,1.0986122886681098,2.0794415416798357,1.791759469228055,2.772588722239781,1.791759469228055,0.6931471805599453,1.3862943611198906,0.0,1.0986122886681098,2.3978952727983707,0.6931471805599453,1.9459101490553132,1.6094379124341003,2.5649493574615367,0.0,1.9459101490553132,2.302585092994046,2.5649493574615367,1.3862943611198906,1.791759469228055,1.3862943611198906,1.791759469228055,1.0986122886681098,2.0794415416798357,0.0,2.3978952727983707,0.6931471805599453,2.1972245773362196,0.0,0.6931471805599453,0.0,2.302585092994046,0.0,1.6094379124341003,2.70805020110221,1.0986122886681098,1.0986122886681098,0.6931471805599453,2.70805020110221,0.0,0.0,0.0,2.5649493574615367,2.6390573296152584,0.0,1.791759469228055,2.0794415416798357,1.791759469228055,1.3862943611198906,1.9459101490553132,0.0,1.791759469228055,2.4849066497880004,2.6390573296152584,0.6931471805599453,1.3862943611198906,0.6931471805599453,2.833213344056216,0.6931471805599453,0.0,0.0,0.6931471805599453,1.0986122886681098,2.0794415416798357,0.0,1.9459101490553132,2.302585092994046,1.9459101490553132,2.4849066497880004,2.3978952727983707,1.0986122886681098,1.0986122886681098,0.0,2.1972245773362196,1.3862943611198906,2.302585092994046,2.4849066497880004,2.302585092994046,1.9459101490553132,1.791759469228055,0.0,1.3862943611198906,2.1972245773362196,1.9459101490553132,2.0794415416798357,2.302585092994046,1.3862943611198906,1.3862943611198906,1.3862943611198906,1.3862943611198906,0.0,0.0,2.1972245773362196,2.0794415416798357,1.6094379124341003,1.791759469228055,1.791759469228055,0.6931471805599453,1.0986122886681098,1.3862943611198906,0.0,2.833213344056216,0.0,0.0,0.0,0.0,2.3978952727983707,0.6931471805599453,0.0,2.5649493574615367,1.9459101490553132,1.9459101490553132,2.3978952727983707,0.0,1.6094379124341003,1.0986122886681098,2.302585092994046,2.772588722239781,2.4849066497880004,0.0,2.833213344056216,2.5649493574615367,1.6094379124341003,2.70805020110221,2.772588722239781,0.0,2.0794415416798357,2.302585092994046,2.6390573296152584,0.0,1.6094379124341003,2.302585092994046,1.6094379124341003,2.0794415416798357,0.6931471805599453,1.0986122886681098,1.6094379124341003,2.1972245773362196,0.6931471805599453,0.0,2.8903717578961645,1.0986122886681098,2.1972245773362196,0.0,1.0986122886681098,0.0,1.9459101490553132,0.0,2.5649493574615367,0.0,0.0,0.6931471805599453,2.3978952727983707,0.0,1.9459101490553132,1.6094379124341003,1.0986122886681098,0.0,0.0,0.0,0.0,1.791759469228055,2.0794415416798357,0.6931471805599453,1.9459101490553132,0.6931471805599453,1.3862943611198906,0.0,0.0,0.0,2.302585092994046,0.6931471805599453,1.9459101490553132,0.6931471805599453,0.0,2.0794415416798357,0.6931471805599453,1.791759469228055,0.0,2.0794415416798357,1.791759469228055,2.5649493574615367,0.0,0.0,0.6931471805599453,0.6931471805599453,0.6931471805599453,0.0,0.0,1.791759469228055,2.6390573296152584,2.0794415416798357,1.0986122886681098,2.3978952727983707,1.6094379124341003,0.0,0.0,0.0,0.0,1.0986122886681098,1.6094379124341003,1.9459101490553132,1.6094379124341003,2.6390573296152584,0.6931471805599453,0.0,2.0794415416798357,2.3978952727983707,0.6931471805599453,2.1972245773362196,2.0794415416798357,1.0986122886681098,2.4849066497880004,1.3862943611198906,2.6390573296152584,2.302585092994046,0.6931471805599453,0.6931471805599453,1.9459101490553132,1.9459101490553132,0.0,1.6094379124341003,1.6094379124341003,0.6931471805599453,1.6094379124341003,0.0,2.4849066497880004,1.6094379124341003,0.0,1.9459101490553132,1.0986122886681098,2.1972245773362196,1.0986122886681098,1.791759469228055,2.3978952727983707,2.3978952727983707,0.0,0.0,2.5649493574615367,0.6931471805599453,2.6390573296152584,1.3862943611198906,2.3978952727983707,0.0,2.1972245773362196,1.791759469228055,1.0986122886681098,2.0794415416798357,1.0986122886681098,0.6931471805599453,0.0,1.9459101490553132,0.0,1.3862943611198906,1.6094379124341003,0.0,2.0794415416798357,0.6931471805599453,0.6931471805599453,1.6094379124341003,0.0,1.0986122886681098,1.0986122886681098,1.3862943611198906,1.0986122886681098,2.3978952727983707,0.0,0.6931471805599453,2.1972245773362196,2.70805020110221,0.0,0.0,1.791759469228055,1.791759469228055,1.3862943611198906,0.6931471805599453,2.5649493574615367,0.0,1.9459101490553132,1.0986122886681098,1.9459101490553132,2.6390573296152584,0.0,0.0,1.6094379124341003,2.302585092994046,2.1972245773362196,1.0986122886681098,2.6390573296152584,0.0,2.5649493574615367,1.3862943611198906,1.3862943611198906,0.6931471805599453,2.6390573296152584,0.0,0.0,0.0,0.0,1.791759469228055,1.9459101490553132,2.833213344056216,2.0794415416798357,0.6931471805599453,1.791759469228055,0.6931471805599453,1.0986122886681098,0.0,1.9459101490553132,1.791759469228055,2.1972245773362196,2.0794415416798357,0.0,0.0,1.0986122886681098,1.3862943611198906,1.9459101490553132,0.6931471805599453,0.0,0.0,2.0794415416798357,1.791759469228055,0.0,0.6931471805599453,1.6094379124341003,2.302585092994046,2.0794415416798357,2.833213344056216,0.0,0.6931471805599453,0.0,0.6931471805599453,1.0986122886681098,2.302585092994046,1.0986122886681098,0.0,2.772588722239781,2.3978952727983707,1.9459101490553132,2.4849066497880004,1.791759469228055,1.9459101490553132,2.0794415416798357,1.0986122886681098,2.5649493574615367,2.1972245773362196,0.0,0.6931471805599453,1.3862943611198906,2.1972245773362196,1.6094379124341003,0.0,0.0,0.0,1.0986122886681098,1.3862943611198906,2.5649493574615367,2.772588722239781,1.6094379124341003,1.0986122886681098,0.0,0.0,1.3862943611198906,1.791759469228055,1.6094379124341003,2.1972245773362196,1.6094379124341003,2.302585092994046,0.0,2.3978952727983707,0.0,0.6931471805599453,0.0,0.6931471805599453,2.0794415416798357,1.0986122886681098,0.0,1.9459101490553132,0.0,0.0,2.0794415416798357,2.1972245773362196,2.772588722239781,1.791759469228055,1.9459101490553132,1.6094379124341003,0.6931471805599453,0.6931471805599453,1.0986122886681098,1.6094379124341003,0.0,2.302585092994046,0.0,2.772588722239781,1.0986122886681098,0.6931471805599453,1.791759469228055,1.3862943611198906,2.1972245773362196,1.3862943611198906,2.0794415416798357,2.6390573296152584,2.1972245773362196,2.6390573296152584,2.4849066497880004,2.3978952727983707,0.0,1.791759469228055,1.0986122886681098,1.0986122886681098,2.0794415416798357,1.9459101490553132,0.0,1.9459101490553132,2.302585092994046,1.0986122886681098,0.0,2.4849066497880004,0.0,2.302585092994046,1.3862943611198906,1.3862943611198906,2.302585092994046,1.3862943611198906,0.0,1.9459101490553132,2.0794415416798357,1.9459101490553132,2.3978952727983707,0.0,1.0986122886681098,0.0,0.6931471805599453,1.0986122886681098,1.791759469228055,2.0794415416798357,1.3862943611198906,0.0,0.6931471805599453,0.6931471805599453,2.1972245773362196,1.9459101490553132,2.6390573296152584,0.0,2.1972245773362196,0.0,0.0,1.6094379124341003,0.0,2.5649493574615367,1.791759469228055,1.3862943611198906,1.3862943611198906,1.6094379124341003,2.0794415416798357,0.0,0.0,2.302585092994046,2.3978952727983707,1.3862943611198906,1.3862943611198906,1.6094379124341003,1.9459101490553132,1.791759469228055,0.0,0.0,1.3862943611198906,0.0,1.0986122886681098,0.6931471805599453,2.772588722239781,1.6094379124341003,1.6094379124341003,1.3862943611198906,0.0,0.0,1.0986122886681098,0.0,1.791759469228055,0.0,2.772588722239781,1.0986122886681098,2.6390573296152584,2.772588722239781,1.791759469228055,0.0,0.0,1.3862943611198906,1.3862943611198906,2.4849066497880004,1.0986122886681098,1.0986122886681098,0.6931471805599453,0.6931471805599453,1.791759469228055,2.302585092994046,2.302585092994046,0.0,1.3862943611198906,0.0,0.0,0.0,1.0986122886681098,1.3862943611198906,1.0986122886681098,1.9459101490553132,2.0794415416798357,0.0,2.302585092994046,1.9459101490553132,0.0,1.6094379124341003,2.302585092994046,0.6931471805599453,1.3862943611198906,1.3862943611198906,2.0794415416798357,1.0986122886681098,1.6094379124341003,1.6094379124341003,1.6094379124341003,0.6931471805599453,0.0,0.0,2.0794415416798357,2.0794415416798357,1.791759469228055,1.791759469228055,1.9459101490553132,0.6931471805599453,0.0,0.0,0.0,1.6094379124341003,1.6094379124341003,1.3862943611198906,2.4849066497880004,0.0,1.0986122886681098,1.0986122886681098,0.0,2.302585092994046,1.791759469228055,0.0,1.6094379124341003,2.3978952727983707,2.6390573296152584,2.6390573296152584,1.791759469228055,2.4849066497880004,2.70805020110221,1.791759469228055,1.0986122886681098,0.0,0.6931471805599453,1.3862943611198906,1.0986122886681098,1.791759469228055,2.5649493574615367,1.3862943611198906,2.772588722239781,0.0,2.4849066497880004,2.833213344056216,1.0986122886681098,1.6094379124341003,1.791759469228055,2.0794415416798357,0.0,0.0,1.3862943611198906,1.6094379124341003,0.0,0.6931471805599453,2.5649493574615367,1.3862943611198906,0.0,0.6931471805599453,2.6390573296152584,2.0794415416798357,2.302585092994046,2.6390573296152584,0.6931471805599453,2.0794415416798357,0.0,0.0,1.9459101490553132,1.3862943611198906,2.1972245773362196,0.0,2.0794415416798357,0.6931471805599453,0.0,0.6931471805599453,0.0,1.0986122886681098,2.5649493574615367,1.0986122886681098,0.0,1.791759469228055,1.3862943611198906,2.3978952727983707,1.6094379124341003,0.6931471805599453,0.6931471805599453,1.3862943611198906,0.0,1.3862943611198906,0.6931471805599453,0.6931471805599453,2.4849066497880004,0.0,0.6931471805599453,0.0,2.302585092994046,0.0,1.3862943611198906,1.6094379124341003,2.833213344056216,1.791759469228055,1.3862943611198906,2.0794415416798357,1.9459101490553132,1.791759469228055,1.6094379124341003,0.6931471805599453,1.0986122886681098,0.6931471805599453,0.0,2.6390573296152584,0.0,1.3862943611198906,0.0,2.1972245773362196,0.0,0.6931471805599453,1.3862943611198906,0.6931471805599453,2.0794415416798357,2.4849066497880004,0.0,0.6931471805599453,0.0,2.1972245773362196,1.9459101490553132,2.302585092994046,1.0986122886681098,2.1972245773362196,0.0,1.3862943611198906,0.0,0.6931471805599453,1.9459101490553132,1.0986122886681098,1.6094379124341003,0.0,0.6931471805599453,2.6390573296152584,1.6094379124341003,1.0986122886681098,1.6094379124341003,2.4849066497880004,0.6931471805599453,0.0,1.3862943611198906,0.6931471805599453,1.791759469228055,0.0,0.6931471805599453,0.0,0.6931471805599453,2.70805020110221,1.0986122886681098,2.4849066497880004,0.0,2.4849066497880004,2.1972245773362196,2.772588722239781,1.6094379124341003,0.6931471805599453,2.302585092994046,1.6094379124341003,0.6931471805599453,2.1972245773362196,2.6390573296152584,0.0,1.0986122886681098,1.0986122886681098,0.0,1.3862943611198906,1.0986122886681098,0.6931471805599453,0.6931471805599453,0.6931471805599453,1.0986122886681098,2.3978952727983707,1.3862943611198906,1.3862943611198906,2.3978952727983707,2.3978952727983707,0.6931471805599453,0.0,1.791759469228055,1.3862943611198906,0.0,0.0,2.302585092994046,2.4849066497880004,1.0986122886681098,1.0986122886681098,0.6931471805599453,0.0,1.0986122886681098,0.0,2.3978952727983707,0.0,2.6390573296152584,0.0,2.1972245773362196,2.4849066497880004,2.1972245773362196,2.302585092994046,0.0,0.0,2.1972245773362196,2.302585092994046,2.5649493574615367,1.6094379124341003,1.0986122886681098,0.0,1.0986122886681098,1.3862943611198906,2.5649493574615367,1.0986122886681098,2.302585092994046,0.0,0.0,0.0,2.4849066497880004,0.0,0.0,0.0,2.4849066497880004,1.791759469228055,2.0794415416798357,0.6931471805599453,2.3978952727983707,2.5649493574615367,1.6094379124341003,0.0,1.0986122886681098,2.0794415416798357,2.833213344056216,0.0,0.0,1.0986122886681098,0.6931471805599453,0.0,0.0,1.9459101490553132,2.4849066497880004,1.0986122886681098,0.0,1.0986122886681098,2.6390573296152584,1.0986122886681098,0.0,2.0794415416798357,2.3978952727983707,0.6931471805599453,2.1972245773362196,1.3862943611198906,0.6931471805599453,1.791759469228055,1.791759469228055,1.3862943611198906,0.0,0.0,1.0986122886681098,2.0794415416798357,0.0,1.9459101490553132,1.3862943611198906,1.0986122886681098,0.0,1.6094379124341003,1.791759469228055,1.6094379124341003,1.791759469228055,0.0,2.302585092994046,0.0,1.791759469228055,1.0986122886681098,1.6094379124341003,0.0,1.0986122886681098,2.0794415416798357,2.4849066497880004,1.791759469228055,2.3978952727983707,0.0,0.6931471805599453,0.0,0.0,1.0986122886681098,0.6931471805599453,1.0986122886681098,0.6931471805599453,0.6931471805599453,1.9459101490553132,1.791759469228055,1.6094379124341003,0.0,2.70805020110221,1.791759469228055,0.0,0.6931471805599453,2.1972245773362196,0.6931471805599453,0.6931471805599453,0.6931471805599453,2.6390573296152584,1.3862943611198906,1.6094379124341003,0.6931471805599453,2.0794415416798357,0.0,0.6931471805599453,1.3862943611198906,1.6094379124341003,1.6094379124341003,2.3978952727983707,1.0986122886681098,1.0986122886681098,2.5649493574615367,1.6094379124341003,1.791759469228055,1.6094379124341003,1.791759469228055,1.0986122886681098,0.0,0.0,0.6931471805599453,2.3978952727983707,2.0794415416798357,1.9459101490553132,2.3978952727983707,0.0,2.0794415416798357,0.6931471805599453,2.3978952727983707,0.0,0.6931471805599453,2.3978952727983707,1.0986122886681098,1.791759469228055,0.6931471805599453,1.791759469228055,1.0986122886681098,0.6931471805599453,1.791759469228055,1.0986122886681098,2.0794415416798357,0.0,1.0986122886681098,0.0,1.3862943611198906,0.0,1.3862943611198906,1.791759469228055,0.6931471805599453,0.0,2.6390573296152584,1.3862943611198906,2.302585092994046,1.9459101490553132,1.6094379124341003,2.0794415416798357,1.9459101490553132,0.0,1.3862943611198906,1.0986122886681098,2.70805020110221,0.0,2.772588722239781,0.6931471805599453,1.791759469228055,1.3862943611198906,2.302585092994046,2.1972245773362196,1.791759469228055,1.6094379124341003,1.3862943611198906,2.0794415416798357,0.0,1.3862943611198906,2.5649493574615367,2.302585092994046,1.0986122886681098,2.1972245773362196,0.6931471805599453,0.0,1.791759469228055,0.0,0.0,2.1972245773362196,2.5649493574615367,2.0794415416798357,0.0,2.1972245773362196,0.0,2.0794415416798357,0.0,2.302585092994046,1.0986122886681098,2.302585092994046,0.0,0.6931471805599453,1.0986122886681098,1.6094379124341003,0.0,2.1972245773362196,2.1972245773362196,1.6094379124341003,1.0986122886681098,0.0,1.3862943611198906,1.0986122886681098,1.3862943611198906,0.6931471805599453,0.0,0.6931471805599453,0.0,0.0,1.0986122886681098,0.0,2.0794415416798357,0.6931471805599453,2.5649493574615367,1.9459101490553132,0.0,2.302585092994046,2.9444389791664403,1.3862943611198906,1.9459101490553132,0.6931471805599453,2.772588722239781,1.6094379124341003,0.0,0.0,2.1972245773362196,1.9459101490553132,1.0986122886681098,0.0,2.0794415416798357,0.0,1.9459101490553132,1.9459101490553132,1.791759469228055,1.3862943611198906,1.3862943611198906,2.9444389791664403,0.6931471805599453,0.6931471805599453,2.0794415416798357,0.0,0.6931471805599453,1.9459101490553132,1.9459101490553132,1.0986122886681098,2.3978952727983707,2.9444389791664403,0.0,0.6931471805599453,1.0986122886681098,1.6094379124341003,1.6094379124341003,0.6931471805599453,1.3862943611198906,1.791759469228055,0.6931471805599453,2.1972245773362196,0.0,2.4849066497880004,2.302585092994046,0.6931471805599453,0.0,2.302585092994046,0.0,0.0,2.302585092994046,1.791759469228055,0.6931471805599453,2.1972245773362196,1.6094379124341003,1.0986122886681098,0.0,1.791759469228055,0.0,2.0794415416798357,2.0794415416798357,1.9459101490553132,2.833213344056216,0.0,2.302585092994046,1.3862943611198906,0.0,0.6931471805599453,0.6931471805599453,1.791759469228055,0.0,2.833213344056216,1.9459101490553132,2.3978952727983707,1.3862943611198906,2.0794415416798357,0.6931471805599453,1.6094379124341003,2.4849066497880004,0.0,0.0,1.3862943611198906,1.6094379124341003,0.0,0.0,0.0,1.791759469228055,0.6931471805599453,0.0,2.70805020110221,1.0986122886681098,1.9459101490553132,0.0,0.0,1.0986122886681098,2.1972245773362196,2.0794415416798357,0.0,0.6931471805599453,2.4849066497880004,0.0,0.6931471805599453,2.302585092994046,0.0,2.0794415416798357,1.791759469228055,2.302585092994046,0.6931471805599453,1.3862943611198906,0.0,1.6094379124341003,1.0986122886681098,1.0986122886681098,0.6931471805599453,1.791759469228055,1.9459101490553132,0.0,1.0986122886681098,2.0794415416798357,1.6094379124341003,1.791759469228055,1.6094379124341003,0.0,2.0794415416798357,0.0,2.302585092994046,2.0794415416798357,0.6931471805599453,1.791759469228055,1.0986122886681098,0.0,2.6390573296152584,1.3862943611198906,0.6931471805599453,1.3862943611198906,2.302585092994046,1.9459101490553132,2.70805020110221,0.0,0.0,1.0986122886681098,0.6931471805599453,1.791759469228055,0.6931471805599453,1.6094379124341003,1.791759469228055,0.0,1.791759469228055,0.0,2.5649493574615367,2.302585092994046,2.302585092994046,2.0794415416798357,2.302585092994046,0.6931471805599453,1.791759469228055,2.302585092994046,2.302585092994046,2.0794415416798357,0.6931471805599453,1.0986122886681098,1.0986122886681098,1.6094379124341003,0.0,2.8903717578961645,0.0,1.0986122886681098,0.0,0.6931471805599453,2.9444389791664403,0.6931471805599453,0.6931471805599453,0.0,2.5649493574615367,2.0794415416798357,1.791759469228055,0.0,1.0986122886681098,0.6931471805599453,0.6931471805599453,1.3862943611198906,1.9459101490553132,0.0,0.0,1.9459101490553132,1.0986122886681098,0.0,1.9459101490553132,0.0,2.4849066497880004,1.0986122886681098,1.0986122886681098,1.9459101490553132,0.0,2.302585092994046,1.0986122886681098,0.0,1.0986122886681098,0.0,1.9459101490553132,2.4849066497880004,1.791759469228055,0.6931471805599453,2.4849066497880004,1.3862943611198906,0.6931471805599453,0.0,1.3862943611198906,0.0,2.833213344056216,2.3978952727983707,0.6931471805599453,0.6931471805599453,0.0,2.0794415416798357,2.3978952727983707,1.0986122886681098,1.6094379124341003,0.0,0.6931471805599453,2.1972245773362196,1.3862943611198906,0.0,2.302585092994046,0.0,2.5649493574615367,1.3862943611198906,0.6931471805599453,1.0986122886681098,0.6931471805599453,0.0,2.0794415416798357,1.791759469228055,2.0794415416798357,1.9459101490553132,0.0,1.3862943611198906,1.3862943611198906,0.6931471805599453,1.791759469228055,0.6931471805599453,1.9459101490553132,1.791759469228055,2.4849066497880004,2.5649493574615367,1.9459101490553132,0.6931471805599453,0.0,2.4849066497880004,2.6390573296152584,0.6931471805599453,2.3978952727983707,1.0986122886681098,1.3862943611198906,0.0,2.833213344056216,1.9459101490553132,2.70805020110221,2.302585092994046,0.6931471805599453,0.0,1.0986122886681098,0.0,2.3978952727983707,1.0986122886681098,1.6094379124341003,1.791759469228055,1.3862943611198906,0.0,2.3978952727983707,2.70805020110221,1.6094379124341003,1.791759469228055,1.6094379124341003,1.9459101490553132,2.3978952727983707,2.3978952727983707,0.6931471805599453,0.0,1.3862943611198906,2.833213344056216,0.6931471805599453,0.0,2.70805020110221,1.791759469228055,1.6094379124341003,1.791759469228055,1.9459101490553132,2.0794415416798357,1.3862943611198906,0.0,2.3978952727983707,1.6094379124341003,1.791759469228055,1.9459101490553132,1.791759469228055,0.0,0.0,1.3862943611198906,2.70805020110221,1.791759469228055,2.6390573296152584,1.791759469228055,2.6390573296152584,1.791759469228055,0.0,0.6931471805599453,1.9459101490553132,2.9444389791664403,0.0,1.6094379124341003,1.6094379124341003,0.0,1.3862943611198906,0.6931471805599453,0.0,1.0986122886681098,0.0,2.1972245773362196,2.1972245773362196,2.995732273553991,0.0,2.833213344056216,0.6931471805599453,2.772588722239781,0.0,0.0,2.1972245773362196,1.0986122886681098,2.3978952727983707,1.791759469228055,0.0,0.0,1.0986122886681098,0.0,1.9459101490553132,2.0794415416798357,1.3862943611198906,2.0794415416798357,1.0986122886681098,1.0986122886681098,1.3862943611198906,1.791759469228055,0.0,2.5649493574615367,1.9459101490553132,1.9459101490553132,2.5649493574615367,0.0,1.6094379124341003,2.4849066497880004,1.0986122886681098,1.6094379124341003,2.772588722239781,1.6094379124341003,1.791759469228055,2.302585092994046,1.0986122886681098,1.0986122886681098,0.0,1.9459101490553132,1.3862943611198906,2.4849066497880004,1.791759469228055,0.0,2.3978952727983707,0.6931471805599453,1.791759469228055,0.6931471805599453,0.0,0.6931471805599453,1.0986122886681098,0.6931471805599453,1.791759469228055,1.3862943611198906,1.0986122886681098,1.791759469228055,1.3862943611198906,1.6094379124341003,1.3862943611198906,1.3862943611198906,0.0,2.772588722239781,0.0,0.0,2.1972245773362196,0.0,0.0,1.3862943611198906,1.3862943611198906,0.6931471805599453,1.9459101490553132,0.6931471805599453,1.791759469228055,0.0,2.0794415416798357,2.302585092994046,1.3862943611198906,2.3978952727983707,2.1972245773362196,1.3862943611198906,1.3862943611198906,2.0794415416798357,2.833213344056216,0.6931471805599453,2.302585092994046,0.0,0.0,0.0,1.0986122886681098,1.6094379124341003,0.6931471805599453,1.9459101490553132,2.5649493574615367,2.70805020110221,0.0,2.1972245773362196,1.3862943611198906,1.0986122886681098,2.5649493574615367,1.6094379124341003,1.791759469228055,1.6094379124341003,0.0,2.0794415416798357,0.6931471805599453,0.6931471805599453,0.0,0.6931471805599453,1.6094379124341003,0.6931471805599453,0.6931471805599453,1.9459101490553132,0.6931471805599453,1.3862943611198906,0.0,2.6390573296152584,0.0,2.6390573296152584,1.3862943611198906,1.6094379124341003,2.302585092994046,1.6094379124341003,2.1972245773362196,1.6094379124341003,2.302585092994046,1.9459101490553132,0.6931471805599453,1.6094379124341003,1.3862943611198906,1.9459101490553132,0.0,0.0,2.5649493574615367,1.0986122886681098,0.6931471805599453,0.6931471805599453,1.0986122886681098,0.0,2.1972245773362196,1.3862943611198906,1.3862943611198906,2.70805020110221,1.3862943611198906,2.4849066497880004,2.302585092994046,2.6390573296152584,0.6931471805599453,2.1972245773362196,0.6931471805599453,2.70805020110221,1.9459101490553132,0.6931471805599453,1.3862943611198906,1.6094379124341003,1.3862943611198906,1.791759469228055,1.3862943611198906,1.3862943611198906,0.6931471805599453,2.4849066497880004,2.0794415416798357,2.0794415416798357,0.6931471805599453,2.0794415416798357,2.1972245773362196,2.3978952727983707,0.0,0.6931471805599453,0.6931471805599453,1.791759469228055,0.0,0.0,0.0,0.0,2.9444389791664403,2.1972245773362196,2.9444389791664403,1.791759469228055,1.3862943611198906,0.0,2.4849066497880004,0.0,2.9444389791664403,0.6931471805599453,1.3862943611198906,1.6094379124341003,2.0794415416798357,0.6931471805599453,0.0,1.3862943611198906,0.6931471805599453,1.0986122886681098,1.3862943611198906,2.302585092994046,1.0986122886681098,0.6931471805599453,2.302585092994046,0.6931471805599453,1.3862943611198906,2.0794415416798357,0.0,0.6931471805599453,1.0986122886681098,1.0986122886681098,1.791759469228055,0.0,0.6931471805599453,2.302585092994046,1.3862943611198906,0.6931471805599453,1.0986122886681098,0.0,0.0,0.6931471805599453,0.6931471805599453,0.0,2.302585092994046,2.1972245773362196,1.0986122886681098,1.791759469228055,0.0,1.0986122886681098,2.1972245773362196,0.0,1.791759469228055,0.0,0.6931471805599453,1.3862943611198906,0.0,1.9459101490553132,0.6931471805599453,0.0,2.0794415416798357,2.5649493574615367,0.6931471805599453,1.6094379124341003,1.791759469228055,2.0794415416798357,1.0986122886681098,1.791759469228055,0.0,0.0,0.0,1.6094379124341003,0.6931471805599453,2.3978952727983707,1.6094379124341003,0.0,0.0,1.6094379124341003,1.0986122886681098,0.0,1.9459101490553132,1.3862943611198906,0.0,2.6390573296152584,2.302585092994046,1.3862943611198906,1.6094379124341003,1.0986122886681098,0.0,1.0986122886681098,0.0,1.791759469228055,0.0,0.0,1.9459101490553132,1.0986122886681098,2.302585092994046,2.0794415416798357,1.0986122886681098,0.6931471805599453,1.3862943611198906,0.6931471805599453,1.6094379124341003,2.1972245773362196,1.6094379124341003,2.5649493574615367,0.0,2.1972245773362196,1.9459101490553132,2.302585092994046,1.0986122886681098,1.0986122886681098,2.1972245773362196,2.4849066497880004,0.6931471805599453,0.0,0.6931471805599453,0.0,0.0,0.6931471805599453,1.6094379124341003,1.791759469228055],\"type\":\"histogram\"},{\"line\":{\"color\":\"black\",\"width\":2},\"mode\":\"lines\",\"name\":\"Normal Distribution\",\"x\":[0.0,0.030259921955090818,0.060519843910181635,0.09077976586527245,0.12103968782036327,0.1512996097754541,0.1815595317305449,0.21181945368563573,0.24207937564072654,0.2723392975958174,0.3025992195509082,0.332859141505999,0.3631190634610898,0.3933789854161806,0.42363890737127147,0.4538988293263623,0.4841587512814531,0.5144186732365439,0.5446785951916348,0.5749385171467255,0.6051984391018164,0.6354583610569071,0.665718283011998,0.6959782049670888,0.7262381269221796,0.7564980488772705,0.7867579708323612,0.8170178927874521,0.8472778147425429,0.8775377366976337,0.9077976586527245,0.9380575806078153,0.9683175025629062,0.998577424517997,1.0288373464730878,1.0590972684281785,1.0893571903832695,1.1196171123383603,1.149877034293451,1.180136956248542,1.2103968782036327,1.2406568001587235,1.2709167221138142,1.3011766440689052,1.331436566023996,1.3616964879790867,1.3919564099341777,1.4222163318892684,1.4524762538443592,1.4827361757994502,1.512996097754541,1.5432560197096317,1.5735159416647224,1.6037758636198134,1.6340357855749041,1.664295707529995,1.6945556294850859,1.7248155514401766,1.7550754733952674,1.7853353953503583,1.815595317305449,1.8458552392605398,1.8761151612156306,1.9063750831707216,1.9366350051258123,1.966894927080903,1.997154849035994,2.0274147709910846,2.0576746929461756,2.0879346149012665,2.118194536856357,2.148454458811448,2.178714380766539,2.2089743027216295,2.2392342246767205,2.2694941466318115,2.299754068586902,2.330013990541993,2.360273912497084,2.3905338344521745,2.4207937564072655,2.4510536783623564,2.481313600317447,2.511573522272538,2.5418334442276285,2.5720933661827194,2.6023532881378104,2.632613210092901,2.662873132047992,2.693133054003083,2.7233929759581734,2.7536528979132644,2.7839128198683554,2.814172741823446,2.844432663778537,2.874692585733628,2.9049525076887184,2.9352124296438094,2.9654723515989003,2.995732273553991],\"y\":[0.16082784979460615,0.16841281456741408,0.1761631532512072,0.18406918096599717,0.19212025192041252,0.20030476376904127,0.20861016749150638,0.2170229829686479,0.22552882039435593,0.23411240762197622,0.24275762350205699,0.2514475372238601,0.26016445362685386,0.2688899644007547,0.277605005043989,0.2862899174011709,0.2949245175507932,0.3034881687653091,0.3119598592176292,0.3203182840612909,0.32854193146667543,0.33660917215315583,0.34449835191745243,0.35218788662221207,0.3596563590763788,0.3668826172106822,0.3738458729279406,0.38052580098917593,0.38690263728308005,0.3929572758183805,0.3986713637763272,0.4040273939639794,0.40900879401828505,0.41360001172611194,0.41778659584635186,0.42155527184684943,0.42489401200101573,0.42779209932632195,0.43024018488911714,0.43223033804700844,0.43375608925095704,0.43481246508381344,0.4353960152697191,0.43550483144909685,0.4351385575762504,0.4342983918602894,0.43298708023457344,0.4312089014044881,0.42896964358749473,0.4262765731224168,0.4231383951862052,0.4195652069153902,0.4155684432854979,0.41116081615435796,0.40635624692396843,0.4011697933199619,0.39561757082734494,0.38971666935572064,0.3834850657363699,0.37694153267714525,0.37010554481896357,0.36299718254968083,0.3556370342372678,0.34804609754451593,0.3402456804820854,0.33225730284572647,0.32410259866717456,0.31580322028680635,0.30738074462996895,0.29885658223832945,0.29025188957301284,0.2815874850681752,0.2728837693724221,0.26416065017163565,0.2554374719408052,0.2467329509248796,0.23806511559996504,0.22945125281691478,0.22090785977996147,0.21245060196402257,0.20409427702613042,0.19585278471951786,0.18773910277364816,0.17976526866027562,0.17194236712481248,0.16428052332412507,0.15678890137669005,0.14947570809897465,0.14234820167317783,0.1354127049661847,0.12867462319784082,0.12213846563849276,0.11580787100117024,0.10968563618276157,0.10377374800100655,0.09807341756997802,0.09258511695581831,0.08730861775668529,0.0822430312559472,0.07738684980544515],\"type\":\"scatter\"}],                        {\"bargap\":0.2,\"title\":{\"text\":\"Histogram with Fitted Normal Distribution\"},\"xaxis\":{\"title\":{\"text\":\"fc_log transformation\"}},\"yaxis\":{\"title\":{\"text\":\"Probability Density\"}},\"template\":{\"data\":{\"histogram2dcontour\":[{\"type\":\"histogram2dcontour\",\"colorbar\":{\"outlinewidth\":0,\"ticks\":\"\"},\"colorscale\":[[0.0,\"#0d0887\"],[0.1111111111111111,\"#46039f\"],[0.2222222222222222,\"#7201a8\"],[0.3333333333333333,\"#9c179e\"],[0.4444444444444444,\"#bd3786\"],[0.5555555555555556,\"#d8576b\"],[0.6666666666666666,\"#ed7953\"],[0.7777777777777778,\"#fb9f3a\"],[0.8888888888888888,\"#fdca26\"],[1.0,\"#f0f921\"]]}],\"choropleth\":[{\"type\":\"choropleth\",\"colorbar\":{\"outlinewidth\":0,\"ticks\":\"\"}}],\"histogram2d\":[{\"type\":\"histogram2d\",\"colorbar\":{\"outlinewidth\":0,\"ticks\":\"\"},\"colorscale\":[[0.0,\"#0d0887\"],[0.1111111111111111,\"#46039f\"],[0.2222222222222222,\"#7201a8\"],[0.3333333333333333,\"#9c179e\"],[0.4444444444444444,\"#bd3786\"],[0.5555555555555556,\"#d8576b\"],[0.6666666666666666,\"#ed7953\"],[0.7777777777777778,\"#fb9f3a\"],[0.8888888888888888,\"#fdca26\"],[1.0,\"#f0f921\"]]}],\"heatmap\":[{\"type\":\"heatmap\",\"colorbar\":{\"outlinewidth\":0,\"ticks\":\"\"},\"colorscale\":[[0.0,\"#0d0887\"],[0.1111111111111111,\"#46039f\"],[0.2222222222222222,\"#7201a8\"],[0.3333333333333333,\"#9c179e\"],[0.4444444444444444,\"#bd3786\"],[0.5555555555555556,\"#d8576b\"],[0.6666666666666666,\"#ed7953\"],[0.7777777777777778,\"#fb9f3a\"],[0.8888888888888888,\"#fdca26\"],[1.0,\"#f0f921\"]]}],\"heatmapgl\":[{\"type\":\"heatmapgl\",\"colorbar\":{\"outlinewidth\":0,\"ticks\":\"\"},\"colorscale\":[[0.0,\"#0d0887\"],[0.1111111111111111,\"#46039f\"],[0.2222222222222222,\"#7201a8\"],[0.3333333333333333,\"#9c179e\"],[0.4444444444444444,\"#bd3786\"],[0.5555555555555556,\"#d8576b\"],[0.6666666666666666,\"#ed7953\"],[0.7777777777777778,\"#fb9f3a\"],[0.8888888888888888,\"#fdca26\"],[1.0,\"#f0f921\"]]}],\"contourcarpet\":[{\"type\":\"contourcarpet\",\"colorbar\":{\"outlinewidth\":0,\"ticks\":\"\"}}],\"contour\":[{\"type\":\"contour\",\"colorbar\":{\"outlinewidth\":0,\"ticks\":\"\"},\"colorscale\":[[0.0,\"#0d0887\"],[0.1111111111111111,\"#46039f\"],[0.2222222222222222,\"#7201a8\"],[0.3333333333333333,\"#9c179e\"],[0.4444444444444444,\"#bd3786\"],[0.5555555555555556,\"#d8576b\"],[0.6666666666666666,\"#ed7953\"],[0.7777777777777778,\"#fb9f3a\"],[0.8888888888888888,\"#fdca26\"],[1.0,\"#f0f921\"]]}],\"surface\":[{\"type\":\"surface\",\"colorbar\":{\"outlinewidth\":0,\"ticks\":\"\"},\"colorscale\":[[0.0,\"#0d0887\"],[0.1111111111111111,\"#46039f\"],[0.2222222222222222,\"#7201a8\"],[0.3333333333333333,\"#9c179e\"],[0.4444444444444444,\"#bd3786\"],[0.5555555555555556,\"#d8576b\"],[0.6666666666666666,\"#ed7953\"],[0.7777777777777778,\"#fb9f3a\"],[0.8888888888888888,\"#fdca26\"],[1.0,\"#f0f921\"]]}],\"mesh3d\":[{\"type\":\"mesh3d\",\"colorbar\":{\"outlinewidth\":0,\"ticks\":\"\"}}],\"scatter\":[{\"fillpattern\":{\"fillmode\":\"overlay\",\"size\":10,\"solidity\":0.2},\"type\":\"scatter\"}],\"parcoords\":[{\"type\":\"parcoords\",\"line\":{\"colorbar\":{\"outlinewidth\":0,\"ticks\":\"\"}}}],\"scatterpolargl\":[{\"type\":\"scatterpolargl\",\"marker\":{\"colorbar\":{\"outlinewidth\":0,\"ticks\":\"\"}}}],\"bar\":[{\"error_x\":{\"color\":\"#2a3f5f\"},\"error_y\":{\"color\":\"#2a3f5f\"},\"marker\":{\"line\":{\"color\":\"#E5ECF6\",\"width\":0.5},\"pattern\":{\"fillmode\":\"overlay\",\"size\":10,\"solidity\":0.2}},\"type\":\"bar\"}],\"scattergeo\":[{\"type\":\"scattergeo\",\"marker\":{\"colorbar\":{\"outlinewidth\":0,\"ticks\":\"\"}}}],\"scatterpolar\":[{\"type\":\"scatterpolar\",\"marker\":{\"colorbar\":{\"outlinewidth\":0,\"ticks\":\"\"}}}],\"histogram\":[{\"marker\":{\"pattern\":{\"fillmode\":\"overlay\",\"size\":10,\"solidity\":0.2}},\"type\":\"histogram\"}],\"scattergl\":[{\"type\":\"scattergl\",\"marker\":{\"colorbar\":{\"outlinewidth\":0,\"ticks\":\"\"}}}],\"scatter3d\":[{\"type\":\"scatter3d\",\"line\":{\"colorbar\":{\"outlinewidth\":0,\"ticks\":\"\"}},\"marker\":{\"colorbar\":{\"outlinewidth\":0,\"ticks\":\"\"}}}],\"scattermapbox\":[{\"type\":\"scattermapbox\",\"marker\":{\"colorbar\":{\"outlinewidth\":0,\"ticks\":\"\"}}}],\"scatterternary\":[{\"type\":\"scatterternary\",\"marker\":{\"colorbar\":{\"outlinewidth\":0,\"ticks\":\"\"}}}],\"scattercarpet\":[{\"type\":\"scattercarpet\",\"marker\":{\"colorbar\":{\"outlinewidth\":0,\"ticks\":\"\"}}}],\"carpet\":[{\"aaxis\":{\"endlinecolor\":\"#2a3f5f\",\"gridcolor\":\"white\",\"linecolor\":\"white\",\"minorgridcolor\":\"white\",\"startlinecolor\":\"#2a3f5f\"},\"baxis\":{\"endlinecolor\":\"#2a3f5f\",\"gridcolor\":\"white\",\"linecolor\":\"white\",\"minorgridcolor\":\"white\",\"startlinecolor\":\"#2a3f5f\"},\"type\":\"carpet\"}],\"table\":[{\"cells\":{\"fill\":{\"color\":\"#EBF0F8\"},\"line\":{\"color\":\"white\"}},\"header\":{\"fill\":{\"color\":\"#C8D4E3\"},\"line\":{\"color\":\"white\"}},\"type\":\"table\"}],\"barpolar\":[{\"marker\":{\"line\":{\"color\":\"#E5ECF6\",\"width\":0.5},\"pattern\":{\"fillmode\":\"overlay\",\"size\":10,\"solidity\":0.2}},\"type\":\"barpolar\"}],\"pie\":[{\"automargin\":true,\"type\":\"pie\"}]},\"layout\":{\"autotypenumbers\":\"strict\",\"colorway\":[\"#636efa\",\"#EF553B\",\"#00cc96\",\"#ab63fa\",\"#FFA15A\",\"#19d3f3\",\"#FF6692\",\"#B6E880\",\"#FF97FF\",\"#FECB52\"],\"font\":{\"color\":\"#2a3f5f\"},\"hovermode\":\"closest\",\"hoverlabel\":{\"align\":\"left\"},\"paper_bgcolor\":\"white\",\"plot_bgcolor\":\"#E5ECF6\",\"polar\":{\"bgcolor\":\"#E5ECF6\",\"angularaxis\":{\"gridcolor\":\"white\",\"linecolor\":\"white\",\"ticks\":\"\"},\"radialaxis\":{\"gridcolor\":\"white\",\"linecolor\":\"white\",\"ticks\":\"\"}},\"ternary\":{\"bgcolor\":\"#E5ECF6\",\"aaxis\":{\"gridcolor\":\"white\",\"linecolor\":\"white\",\"ticks\":\"\"},\"baxis\":{\"gridcolor\":\"white\",\"linecolor\":\"white\",\"ticks\":\"\"},\"caxis\":{\"gridcolor\":\"white\",\"linecolor\":\"white\",\"ticks\":\"\"}},\"coloraxis\":{\"colorbar\":{\"outlinewidth\":0,\"ticks\":\"\"}},\"colorscale\":{\"sequential\":[[0.0,\"#0d0887\"],[0.1111111111111111,\"#46039f\"],[0.2222222222222222,\"#7201a8\"],[0.3333333333333333,\"#9c179e\"],[0.4444444444444444,\"#bd3786\"],[0.5555555555555556,\"#d8576b\"],[0.6666666666666666,\"#ed7953\"],[0.7777777777777778,\"#fb9f3a\"],[0.8888888888888888,\"#fdca26\"],[1.0,\"#f0f921\"]],\"sequentialminus\":[[0.0,\"#0d0887\"],[0.1111111111111111,\"#46039f\"],[0.2222222222222222,\"#7201a8\"],[0.3333333333333333,\"#9c179e\"],[0.4444444444444444,\"#bd3786\"],[0.5555555555555556,\"#d8576b\"],[0.6666666666666666,\"#ed7953\"],[0.7777777777777778,\"#fb9f3a\"],[0.8888888888888888,\"#fdca26\"],[1.0,\"#f0f921\"]],\"diverging\":[[0,\"#8e0152\"],[0.1,\"#c51b7d\"],[0.2,\"#de77ae\"],[0.3,\"#f1b6da\"],[0.4,\"#fde0ef\"],[0.5,\"#f7f7f7\"],[0.6,\"#e6f5d0\"],[0.7,\"#b8e186\"],[0.8,\"#7fbc41\"],[0.9,\"#4d9221\"],[1,\"#276419\"]]},\"xaxis\":{\"gridcolor\":\"white\",\"linecolor\":\"white\",\"ticks\":\"\",\"title\":{\"standoff\":15},\"zerolinecolor\":\"white\",\"automargin\":true,\"zerolinewidth\":2},\"yaxis\":{\"gridcolor\":\"white\",\"linecolor\":\"white\",\"ticks\":\"\",\"title\":{\"standoff\":15},\"zerolinecolor\":\"white\",\"automargin\":true,\"zerolinewidth\":2},\"scene\":{\"xaxis\":{\"backgroundcolor\":\"#E5ECF6\",\"gridcolor\":\"white\",\"linecolor\":\"white\",\"showbackground\":true,\"ticks\":\"\",\"zerolinecolor\":\"white\",\"gridwidth\":2},\"yaxis\":{\"backgroundcolor\":\"#E5ECF6\",\"gridcolor\":\"white\",\"linecolor\":\"white\",\"showbackground\":true,\"ticks\":\"\",\"zerolinecolor\":\"white\",\"gridwidth\":2},\"zaxis\":{\"backgroundcolor\":\"#E5ECF6\",\"gridcolor\":\"white\",\"linecolor\":\"white\",\"showbackground\":true,\"ticks\":\"\",\"zerolinecolor\":\"white\",\"gridwidth\":2}},\"shapedefaults\":{\"line\":{\"color\":\"#2a3f5f\"}},\"annotationdefaults\":{\"arrowcolor\":\"#2a3f5f\",\"arrowhead\":0,\"arrowwidth\":1},\"geo\":{\"bgcolor\":\"white\",\"landcolor\":\"#E5ECF6\",\"subunitcolor\":\"white\",\"showland\":true,\"showlakes\":true,\"lakecolor\":\"white\"},\"title\":{\"x\":0.05},\"mapbox\":{\"style\":\"light\"}}}},                        {\"responsive\": true}                    ).then(function(){\n",
       "                            \n",
       "var gd = document.getElementById('3939f18c-f926-4ae2-a915-0547a9711422');\n",
       "var x = new MutationObserver(function (mutations, observer) {{\n",
       "        var display = window.getComputedStyle(gd).display;\n",
       "        if (!display || display === 'none') {{\n",
       "            console.log([gd, 'removed!']);\n",
       "            Plotly.purge(gd);\n",
       "            observer.disconnect();\n",
       "        }}\n",
       "}});\n",
       "\n",
       "// Listen for the removal of the full notebook cells\n",
       "var notebookContainer = gd.closest('#notebook-container');\n",
       "if (notebookContainer) {{\n",
       "    x.observe(notebookContainer, {childList: true});\n",
       "}}\n",
       "\n",
       "// Listen for the clearing of the current output cell\n",
       "var outputEl = gd.closest('.output');\n",
       "if (outputEl) {{\n",
       "    x.observe(outputEl, {childList: true});\n",
       "}}\n",
       "\n",
       "                        })                };                });            </script>        </div>"
      ]
     },
     "metadata": {},
     "output_type": "display_data"
    }
   ],
   "source": [
    "import numpy as np\n",
    "import plotly.graph_objs as go\n",
    "from scipy.stats import norm\n",
    "\n",
    "# Generate some random data\n",
    "data = df['fc_log']\n",
    "\n",
    "# Fit a normal distribution to the data\n",
    "mu, sigma = norm.fit(data)\n",
    "\n",
    "# Create a histogram trace\n",
    "hist_trace = go.Histogram(\n",
    "    x=data,\n",
    "    histnorm='probability density',\n",
    "    opacity=0.6,\n",
    "    marker_color='rgba(0, 128, 128, 0.6)',\n",
    "    name='Histogram'\n",
    ")\n",
    "\n",
    "# Create a normal distribution curve trace\n",
    "x_range = np.linspace(min(data), max(data), 100)\n",
    "pdf_values = norm.pdf(x_range, mu, sigma)\n",
    "normal_trace = go.Scatter(\n",
    "    x=x_range,\n",
    "    y=pdf_values,\n",
    "    mode='lines',\n",
    "    line=dict(color='black', width=2),\n",
    "    name='Normal Distribution'\n",
    ")\n",
    "\n",
    "# Create layout\n",
    "layout = go.Layout(\n",
    "    title='Histogram with Fitted Normal Distribution',\n",
    "    xaxis=dict(title='fc_log transformation'),\n",
    "    yaxis=dict(title='Probability Density'),\n",
    "    bargap=0.2\n",
    ")\n",
    "\n",
    "# Create figure\n",
    "fig = go.Figure(data=[hist_trace, normal_trace], layout=layout)\n",
    "\n",
    "# Show plot\n",
    "fig.show()\n"
   ]
  },
  {
   "cell_type": "code",
   "execution_count": null,
   "id": "44f2b418-e40d-4c7d-9202-f354137f5087",
   "metadata": {},
   "outputs": [],
   "source": [
    "# Assuming 'data' is your numerical data\n",
    "import numpy as np\n",
    "from scipy import stats\n",
    "data=df['three_g']\n",
    "mean = np.mean(data)\n",
    "median = np.median(data)\n",
    "mode = stats.mode(data)\n",
    "std_dev = np.std(data)\n",
    "skewness = stats.skew(data)\n",
    "kurtosis = stats.kurtosis(data)\n",
    "\n",
    "print(data)\n",
    "print(\"Mean:\", mean)\n",
    "print(\"Median:\", median)\n",
    "print(\"Mode:\", mode)\n",
    "print(\"Standard Deviation:\", std_dev)\n",
    "print(\"Skewness:\", skewness)\n",
    "print(\"Kurtosis:\", kurtosis)\n"
   ]
  },
  {
   "cell_type": "code",
   "execution_count": null,
   "id": "d2d94a52-2865-4213-a496-3f59380c5639",
   "metadata": {},
   "outputs": [],
   "source": [
    "#checking distribution for Qualitative Variables by violin plot\n",
    "\n",
    "blue, dual_sim, touch_screen, four_g, wifi is distributed well\n",
    "\n",
    "three_g is not distributed well seen nearly 75% value in 3g\n",
    "\n",
    "so removing three_g column "
   ]
  },
  {
   "cell_type": "code",
   "execution_count": 208,
   "id": "a726cc5b-8117-4be5-8d2b-6f5da5ef3fa8",
   "metadata": {},
   "outputs": [
    {
     "data": {
      "application/vnd.plotly.v1+json": {
       "config": {
        "plotlyServerURL": "https://plot.ly"
       },
       "data": [
        {
         "alignmentgroup": "True",
         "box": {
          "visible": false
         },
         "hovertemplate": "y=%{y}<extra></extra>",
         "legendgroup": "",
         "marker": {
          "color": "#636efa"
         },
         "name": "",
         "offsetgroup": "",
         "orientation": "v",
         "scalegroup": "True",
         "showlegend": false,
         "type": "violin",
         "x0": " ",
         "xaxis": "x",
         "y": [
          0,
          1,
          1,
          0,
          1,
          0,
          1,
          0,
          0,
          1,
          0,
          1,
          0,
          0,
          1,
          0,
          1,
          1,
          0,
          0,
          0,
          0,
          0,
          1,
          1,
          1,
          1,
          1,
          1,
          0,
          0,
          0,
          1,
          1,
          0,
          0,
          0,
          1,
          1,
          0,
          0,
          1,
          1,
          1,
          1,
          0,
          0,
          1,
          1,
          0,
          1,
          0,
          1,
          1,
          0,
          1,
          0,
          1,
          0,
          1,
          0,
          1,
          1,
          1,
          1,
          1,
          1,
          0,
          0,
          1,
          1,
          1,
          1,
          0,
          0,
          1,
          1,
          0,
          1,
          0,
          1,
          1,
          0,
          0,
          1,
          0,
          0,
          1,
          0,
          0,
          1,
          1,
          1,
          1,
          0,
          0,
          1,
          1,
          0,
          0,
          1,
          1,
          0,
          1,
          1,
          1,
          0,
          0,
          0,
          0,
          1,
          0,
          1,
          0,
          1,
          1,
          0,
          1,
          0,
          0,
          0,
          1,
          0,
          1,
          1,
          0,
          1,
          1,
          0,
          1,
          0,
          0,
          0,
          0,
          0,
          0,
          0,
          1,
          1,
          0,
          1,
          1,
          1,
          0,
          1,
          1,
          0,
          1,
          0,
          1,
          1,
          0,
          1,
          1,
          0,
          1,
          1,
          1,
          0,
          0,
          1,
          0,
          1,
          0,
          1,
          1,
          1,
          1,
          1,
          0,
          1,
          1,
          1,
          1,
          1,
          1,
          0,
          0,
          1,
          0,
          1,
          0,
          0,
          0,
          0,
          1,
          1,
          1,
          1,
          0,
          0,
          1,
          1,
          1,
          0,
          1,
          1,
          1,
          0,
          1,
          1,
          1,
          1,
          0,
          0,
          1,
          1,
          0,
          1,
          1,
          0,
          0,
          0,
          1,
          1,
          1,
          1,
          1,
          1,
          0,
          1,
          1,
          0,
          1,
          0,
          1,
          1,
          0,
          1,
          0,
          0,
          0,
          1,
          0,
          1,
          1,
          0,
          1,
          0,
          0,
          1,
          0,
          1,
          0,
          1,
          0,
          0,
          1,
          0,
          1,
          0,
          0,
          1,
          0,
          0,
          1,
          1,
          0,
          1,
          1,
          1,
          0,
          1,
          0,
          0,
          1,
          1,
          1,
          0,
          0,
          1,
          1,
          1,
          0,
          1,
          0,
          1,
          1,
          1,
          0,
          1,
          1,
          1,
          1,
          0,
          1,
          0,
          1,
          1,
          0,
          0,
          0,
          0,
          1,
          1,
          1,
          0,
          0,
          0,
          1,
          0,
          0,
          1,
          0,
          1,
          0,
          1,
          0,
          0,
          0,
          0,
          0,
          1,
          1,
          0,
          0,
          1,
          1,
          1,
          0,
          1,
          1,
          0,
          1,
          1,
          0,
          0,
          0,
          0,
          0,
          0,
          1,
          1,
          1,
          0,
          0,
          0,
          1,
          1,
          1,
          0,
          1,
          0,
          0,
          0,
          1,
          1,
          1,
          1,
          0,
          1,
          0,
          0,
          1,
          1,
          1,
          0,
          1,
          1,
          1,
          0,
          1,
          0,
          1,
          0,
          1,
          0,
          0,
          1,
          1,
          0,
          1,
          1,
          0,
          1,
          0,
          0,
          1,
          0,
          1,
          0,
          0,
          1,
          1,
          1,
          1,
          1,
          0,
          0,
          0,
          0,
          0,
          0,
          1,
          1,
          1,
          1,
          0,
          1,
          1,
          1,
          1,
          0,
          1,
          1,
          0,
          0,
          1,
          1,
          0,
          1,
          1,
          0,
          0,
          0,
          1,
          0,
          1,
          1,
          0,
          0,
          0,
          1,
          0,
          0,
          1,
          0,
          1,
          1,
          1,
          1,
          0,
          1,
          1,
          0,
          0,
          1,
          0,
          1,
          0,
          0,
          0,
          0,
          0,
          1,
          0,
          1,
          0,
          1,
          0,
          1,
          1,
          1,
          1,
          0,
          1,
          0,
          0,
          0,
          1,
          1,
          0,
          1,
          0,
          1,
          1,
          1,
          0,
          1,
          0,
          0,
          0,
          1,
          1,
          0,
          0,
          1,
          0,
          0,
          0,
          1,
          1,
          0,
          1,
          0,
          1,
          1,
          1,
          0,
          1,
          0,
          1,
          0,
          0,
          0,
          0,
          0,
          0,
          1,
          0,
          0,
          1,
          1,
          1,
          0,
          0,
          1,
          0,
          0,
          0,
          1,
          0,
          0,
          1,
          1,
          0,
          1,
          0,
          0,
          1,
          1,
          1,
          1,
          0,
          1,
          1,
          1,
          0,
          1,
          1,
          1,
          0,
          0,
          0,
          0,
          0,
          1,
          0,
          0,
          0,
          0,
          1,
          0,
          1,
          1,
          1,
          1,
          0,
          1,
          1,
          0,
          0,
          0,
          1,
          1,
          0,
          1,
          0,
          0,
          0,
          0,
          0,
          1,
          0,
          0,
          0,
          0,
          0,
          0,
          1,
          1,
          1,
          1,
          1,
          0,
          0,
          0,
          0,
          1,
          0,
          1,
          1,
          1,
          1,
          0,
          1,
          1,
          0,
          0,
          0,
          0,
          1,
          0,
          1,
          0,
          0,
          0,
          0,
          1,
          1,
          0,
          1,
          0,
          0,
          1,
          1,
          1,
          1,
          1,
          1,
          0,
          0,
          1,
          0,
          0,
          0,
          0,
          0,
          0,
          0,
          0,
          1,
          1,
          1,
          1,
          1,
          1,
          0,
          1,
          0,
          0,
          1,
          1,
          0,
          0,
          0,
          0,
          1,
          0,
          1,
          0,
          0,
          1,
          0,
          1,
          0,
          1,
          1,
          0,
          0,
          0,
          1,
          0,
          0,
          1,
          1,
          0,
          1,
          1,
          1,
          0,
          1,
          1,
          1,
          1,
          1,
          0,
          0,
          0,
          1,
          0,
          1,
          0,
          0,
          1,
          1,
          1,
          1,
          0,
          0,
          1,
          1,
          1,
          0,
          1,
          0,
          1,
          0,
          1,
          1,
          1,
          0,
          0,
          1,
          0,
          1,
          0,
          0,
          0,
          1,
          1,
          0,
          1,
          1,
          0,
          0,
          0,
          1,
          0,
          1,
          0,
          1,
          0,
          1,
          1,
          0,
          1,
          1,
          0,
          1,
          1,
          0,
          0,
          0,
          0,
          0,
          1,
          0,
          0,
          0,
          1,
          0,
          1,
          1,
          0,
          0,
          0,
          0,
          1,
          1,
          0,
          0,
          0,
          1,
          1,
          0,
          1,
          1,
          0,
          0,
          0,
          0,
          0,
          1,
          0,
          0,
          1,
          0,
          1,
          1,
          1,
          1,
          0,
          0,
          1,
          1,
          0,
          0,
          0,
          1,
          1,
          1,
          1,
          1,
          0,
          1,
          1,
          1,
          1,
          1,
          1,
          0,
          1,
          0,
          0,
          0,
          1,
          1,
          1,
          1,
          0,
          1,
          1,
          1,
          0,
          1,
          0,
          1,
          1,
          0,
          1,
          0,
          1,
          0,
          1,
          0,
          0,
          1,
          1,
          0,
          1,
          0,
          0,
          0,
          0,
          0,
          0,
          0,
          0,
          1,
          1,
          1,
          0,
          1,
          0,
          0,
          1,
          1,
          1,
          0,
          1,
          0,
          1,
          0,
          1,
          0,
          0,
          0,
          0,
          1,
          1,
          0,
          1,
          0,
          0,
          0,
          0,
          1,
          0,
          1,
          1,
          1,
          0,
          1,
          1,
          1,
          0,
          0,
          0,
          0,
          1,
          0,
          1,
          1,
          0,
          0,
          1,
          1,
          0,
          1,
          0,
          1,
          1,
          1,
          0,
          1,
          1,
          0,
          1,
          0,
          1,
          1,
          1,
          0,
          0,
          0,
          1,
          0,
          0,
          0,
          0,
          1,
          0,
          1,
          0,
          1,
          0,
          0,
          0,
          1,
          0,
          1,
          1,
          1,
          0,
          0,
          1,
          0,
          1,
          0,
          0,
          0,
          1,
          1,
          0,
          1,
          0,
          1,
          1,
          1,
          0,
          0,
          0,
          0,
          1,
          1,
          0,
          0,
          0,
          1,
          1,
          0,
          1,
          0,
          1,
          0,
          0,
          0,
          1,
          0,
          1,
          1,
          1,
          0,
          1,
          1,
          1,
          0,
          1,
          0,
          1,
          1,
          0,
          1,
          1,
          1,
          1,
          1,
          0,
          0,
          0,
          1,
          0,
          1,
          0,
          0,
          0,
          1,
          0,
          1,
          1,
          1,
          1,
          0,
          0,
          1,
          1,
          1,
          0,
          1,
          0,
          1,
          1,
          0,
          1,
          0,
          1,
          1,
          1,
          0,
          0,
          0,
          0,
          0,
          0,
          0,
          1,
          1,
          1,
          0,
          1,
          0,
          0,
          0,
          0,
          0,
          0,
          1,
          0,
          0,
          0,
          0,
          1,
          0,
          1,
          0,
          1,
          1,
          0,
          1,
          1,
          0,
          1,
          0,
          0,
          0,
          1,
          0,
          1,
          1,
          0,
          0,
          1,
          0,
          0,
          0,
          0,
          1,
          0,
          1,
          1,
          1,
          1,
          1,
          0,
          0,
          0,
          0,
          0,
          1,
          1,
          1,
          0,
          1,
          0,
          0,
          0,
          1,
          1,
          1,
          0,
          0,
          1,
          0,
          0,
          0,
          0,
          1,
          0,
          0,
          0,
          0,
          1,
          0,
          1,
          1,
          1,
          0,
          0,
          0,
          0,
          0,
          0,
          0,
          0,
          1,
          1,
          0,
          1,
          1,
          0,
          1,
          1,
          0,
          0,
          1,
          1,
          1,
          0,
          1,
          0,
          1,
          0,
          0,
          1,
          0,
          0,
          0,
          0,
          0,
          0,
          1,
          0,
          0,
          0,
          0,
          1,
          1,
          1,
          1,
          0,
          1,
          1,
          0,
          1,
          0,
          1,
          0,
          0,
          1,
          0,
          1,
          0,
          1,
          0,
          0,
          0,
          0,
          0,
          0,
          0,
          0,
          0,
          1,
          1,
          1,
          1,
          1,
          1,
          1,
          1,
          1,
          0,
          1,
          0,
          1,
          0,
          0,
          1,
          0,
          1,
          0,
          0,
          0,
          1,
          1,
          1,
          1,
          0,
          1,
          0,
          0,
          1,
          1,
          0,
          0,
          1,
          1,
          0,
          1,
          1,
          0,
          1,
          1,
          1,
          1,
          0,
          0,
          1,
          1,
          0,
          1,
          1,
          0,
          0,
          1,
          0,
          0,
          0,
          1,
          0,
          0,
          1,
          1,
          1,
          1,
          0,
          0,
          1,
          1,
          1,
          1,
          1,
          0,
          0,
          1,
          1,
          1,
          0,
          1,
          0,
          0,
          0,
          1,
          1,
          1,
          0,
          1,
          1,
          0,
          1,
          0,
          0,
          0,
          1,
          0,
          1,
          1,
          1,
          0,
          1,
          1,
          1,
          1,
          0,
          0,
          1,
          0,
          1,
          0,
          1,
          0,
          1,
          0,
          0,
          1,
          0,
          0,
          0,
          0,
          0,
          1,
          1,
          0,
          1,
          1,
          1,
          1,
          1,
          1,
          0,
          1,
          1,
          1,
          1,
          1,
          1,
          0,
          0,
          0,
          1,
          1,
          1,
          1,
          1,
          1,
          1,
          1,
          1,
          0,
          1,
          1,
          1,
          0,
          1,
          0,
          1,
          0,
          0,
          0,
          1,
          0,
          0,
          1,
          0,
          1,
          1,
          1,
          1,
          1,
          1,
          1,
          1,
          1,
          1,
          0,
          1,
          1,
          1,
          0,
          1,
          1,
          0,
          0,
          1,
          0,
          0,
          0,
          1,
          0,
          0,
          1,
          1,
          0,
          0,
          1,
          1,
          0,
          0,
          1,
          1,
          0,
          0,
          1,
          0,
          1,
          1,
          1,
          1,
          1,
          1,
          1,
          0,
          1,
          0,
          1,
          0,
          0,
          0,
          1,
          1,
          1,
          1,
          0,
          0,
          1,
          1,
          1,
          0,
          1,
          1,
          1,
          1,
          0,
          1,
          1,
          0,
          0,
          1,
          0,
          0,
          0,
          0,
          0,
          0,
          0,
          0,
          1,
          1,
          0,
          1,
          0,
          0,
          0,
          1,
          0,
          1,
          1,
          1,
          1,
          1,
          1,
          0,
          1,
          0,
          0,
          0,
          1,
          1,
          1,
          1,
          0,
          1,
          1,
          0,
          1,
          0,
          0,
          0,
          0,
          0,
          1,
          0,
          1,
          1,
          0,
          0,
          0,
          0,
          0,
          1,
          1,
          1,
          1,
          0,
          0,
          0,
          0,
          1,
          1,
          1,
          1,
          0,
          1,
          0,
          1,
          0,
          1,
          1,
          0,
          1,
          1,
          0,
          0,
          1,
          1,
          0,
          0,
          1,
          0,
          0,
          1,
          0,
          0,
          1,
          0,
          1,
          1,
          1,
          1,
          1,
          1,
          0,
          1,
          0,
          1,
          0,
          0,
          1,
          1,
          0,
          1,
          1,
          0,
          0,
          0,
          1,
          0,
          0,
          1,
          0,
          1,
          1,
          1,
          1,
          1,
          1,
          0,
          0,
          1,
          0,
          1,
          0,
          0,
          1,
          1,
          1,
          1,
          0,
          0,
          1,
          0,
          0,
          1,
          1,
          1,
          1,
          0,
          1,
          0,
          0,
          0,
          1,
          1,
          0,
          1,
          1,
          1,
          1,
          0,
          1,
          0,
          0,
          1,
          0,
          1,
          0,
          0,
          0,
          0,
          0,
          1,
          1,
          1,
          0,
          1,
          0,
          1,
          1,
          1,
          1,
          0,
          0,
          1,
          1,
          0,
          1,
          0,
          1,
          1,
          1,
          1,
          0,
          1,
          0,
          1,
          0,
          0,
          0,
          1,
          1,
          1,
          0,
          1,
          0,
          0,
          1,
          0,
          1,
          1,
          1,
          0,
          0,
          1,
          0,
          0,
          0,
          1,
          0,
          0,
          1,
          0,
          0,
          1,
          1,
          1,
          1,
          0,
          0,
          0,
          0,
          1,
          1,
          1,
          0,
          0,
          0,
          1,
          1,
          1,
          1,
          0,
          0,
          0,
          0,
          1,
          1,
          0,
          0,
          0,
          1,
          0,
          1,
          0,
          1,
          1,
          1,
          0,
          1,
          0,
          1,
          1,
          0,
          1,
          1,
          1,
          1,
          1,
          0,
          1,
          0,
          0,
          1,
          1,
          1,
          1,
          1,
          1,
          1,
          0,
          0,
          0,
          1,
          0,
          0,
          0,
          1,
          1,
          1,
          0,
          1,
          0,
          0,
          0,
          1,
          1,
          1,
          1,
          0,
          1,
          1,
          1,
          1,
          1,
          0,
          1,
          0,
          1,
          1,
          0,
          1,
          0,
          1,
          0,
          1,
          1,
          1,
          0,
          1,
          0,
          1,
          1,
          1,
          1,
          1,
          1,
          1,
          1,
          0,
          0,
          1,
          1,
          0,
          0,
          1,
          1,
          0,
          0,
          0,
          1,
          1,
          1,
          0,
          1,
          1,
          1,
          0,
          0,
          0,
          1,
          1,
          0,
          1,
          0,
          1,
          0,
          0,
          1,
          1,
          0,
          1,
          1,
          1,
          1,
          1,
          1,
          0,
          1,
          1,
          1,
          0,
          0,
          0,
          0,
          1,
          1,
          1,
          1,
          1,
          1,
          1,
          0,
          0,
          0,
          1,
          1,
          0,
          1,
          1,
          1,
          0,
          1,
          0,
          0,
          1,
          0,
          0,
          0,
          1,
          0,
          0,
          1,
          1,
          1,
          0,
          1,
          0,
          0,
          0,
          0,
          0,
          1,
          1,
          1,
          1,
          1,
          1,
          1,
          1,
          0,
          1,
          1,
          0,
          0,
          1,
          0,
          1,
          0,
          0,
          1,
          0,
          0,
          1,
          0,
          1,
          0,
          0,
          0,
          0,
          0,
          0,
          1,
          0,
          0,
          1,
          0,
          1,
          1,
          0,
          1,
          1,
          1,
          1,
          0,
          1,
          0,
          0,
          1,
          0,
          1,
          1,
          1,
          0,
          1,
          1,
          1,
          1,
          1,
          1,
          1,
          0,
          0,
          1,
          0,
          0,
          1,
          1,
          0,
          1,
          0,
          1,
          1,
          1,
          0,
          0,
          1,
          0,
          1,
          0,
          1,
          1,
          0,
          0,
          1,
          0,
          1,
          0,
          0,
          1,
          1,
          0,
          0,
          1,
          0,
          1,
          0,
          1,
          0,
          0,
          1,
          1,
          0,
          1,
          0,
          0,
          0,
          0,
          0,
          1,
          1,
          1,
          0,
          1,
          1,
          0,
          0,
          1,
          0,
          1,
          0,
          1,
          0,
          0,
          0,
          1,
          0,
          1,
          0,
          0,
          0,
          0,
          0,
          1,
          0,
          1,
          0,
          1,
          1,
          1,
          1,
          1,
          0,
          1,
          1,
          1,
          0,
          1,
          1,
          1,
          1,
          1,
          1,
          1,
          1,
          0,
          1,
          0,
          0,
          1,
          1,
          1,
          0,
          1,
          0,
          1,
          1,
          0,
          1,
          0,
          0,
          1,
          0,
          0,
          1,
          0,
          1,
          0,
          0,
          0,
          0,
          0,
          0,
          0,
          0,
          0,
          1,
          0,
          0,
          1,
          1,
          0,
          1,
          1,
          0,
          1,
          0,
          0,
          1,
          1,
          1,
          1,
          0,
          0,
          0,
          0,
          0,
          1,
          1,
          0,
          0,
          1,
          1,
          0,
          0,
          0,
          1,
          0,
          1,
          1,
          1
         ],
         "y0": " ",
         "yaxis": "y"
        }
       ],
       "layout": {
        "autosize": true,
        "legend": {
         "tracegroupgap": 0
        },
        "template": {
         "data": {
          "bar": [
           {
            "error_x": {
             "color": "#2a3f5f"
            },
            "error_y": {
             "color": "#2a3f5f"
            },
            "marker": {
             "line": {
              "color": "#E5ECF6",
              "width": 0.5
             },
             "pattern": {
              "fillmode": "overlay",
              "size": 10,
              "solidity": 0.2
             }
            },
            "type": "bar"
           }
          ],
          "barpolar": [
           {
            "marker": {
             "line": {
              "color": "#E5ECF6",
              "width": 0.5
             },
             "pattern": {
              "fillmode": "overlay",
              "size": 10,
              "solidity": 0.2
             }
            },
            "type": "barpolar"
           }
          ],
          "carpet": [
           {
            "aaxis": {
             "endlinecolor": "#2a3f5f",
             "gridcolor": "white",
             "linecolor": "white",
             "minorgridcolor": "white",
             "startlinecolor": "#2a3f5f"
            },
            "baxis": {
             "endlinecolor": "#2a3f5f",
             "gridcolor": "white",
             "linecolor": "white",
             "minorgridcolor": "white",
             "startlinecolor": "#2a3f5f"
            },
            "type": "carpet"
           }
          ],
          "choropleth": [
           {
            "colorbar": {
             "outlinewidth": 0,
             "ticks": ""
            },
            "type": "choropleth"
           }
          ],
          "contour": [
           {
            "colorbar": {
             "outlinewidth": 0,
             "ticks": ""
            },
            "colorscale": [
             [
              0,
              "#0d0887"
             ],
             [
              0.1111111111111111,
              "#46039f"
             ],
             [
              0.2222222222222222,
              "#7201a8"
             ],
             [
              0.3333333333333333,
              "#9c179e"
             ],
             [
              0.4444444444444444,
              "#bd3786"
             ],
             [
              0.5555555555555556,
              "#d8576b"
             ],
             [
              0.6666666666666666,
              "#ed7953"
             ],
             [
              0.7777777777777778,
              "#fb9f3a"
             ],
             [
              0.8888888888888888,
              "#fdca26"
             ],
             [
              1,
              "#f0f921"
             ]
            ],
            "type": "contour"
           }
          ],
          "contourcarpet": [
           {
            "colorbar": {
             "outlinewidth": 0,
             "ticks": ""
            },
            "type": "contourcarpet"
           }
          ],
          "heatmap": [
           {
            "colorbar": {
             "outlinewidth": 0,
             "ticks": ""
            },
            "colorscale": [
             [
              0,
              "#0d0887"
             ],
             [
              0.1111111111111111,
              "#46039f"
             ],
             [
              0.2222222222222222,
              "#7201a8"
             ],
             [
              0.3333333333333333,
              "#9c179e"
             ],
             [
              0.4444444444444444,
              "#bd3786"
             ],
             [
              0.5555555555555556,
              "#d8576b"
             ],
             [
              0.6666666666666666,
              "#ed7953"
             ],
             [
              0.7777777777777778,
              "#fb9f3a"
             ],
             [
              0.8888888888888888,
              "#fdca26"
             ],
             [
              1,
              "#f0f921"
             ]
            ],
            "type": "heatmap"
           }
          ],
          "heatmapgl": [
           {
            "colorbar": {
             "outlinewidth": 0,
             "ticks": ""
            },
            "colorscale": [
             [
              0,
              "#0d0887"
             ],
             [
              0.1111111111111111,
              "#46039f"
             ],
             [
              0.2222222222222222,
              "#7201a8"
             ],
             [
              0.3333333333333333,
              "#9c179e"
             ],
             [
              0.4444444444444444,
              "#bd3786"
             ],
             [
              0.5555555555555556,
              "#d8576b"
             ],
             [
              0.6666666666666666,
              "#ed7953"
             ],
             [
              0.7777777777777778,
              "#fb9f3a"
             ],
             [
              0.8888888888888888,
              "#fdca26"
             ],
             [
              1,
              "#f0f921"
             ]
            ],
            "type": "heatmapgl"
           }
          ],
          "histogram": [
           {
            "marker": {
             "pattern": {
              "fillmode": "overlay",
              "size": 10,
              "solidity": 0.2
             }
            },
            "type": "histogram"
           }
          ],
          "histogram2d": [
           {
            "colorbar": {
             "outlinewidth": 0,
             "ticks": ""
            },
            "colorscale": [
             [
              0,
              "#0d0887"
             ],
             [
              0.1111111111111111,
              "#46039f"
             ],
             [
              0.2222222222222222,
              "#7201a8"
             ],
             [
              0.3333333333333333,
              "#9c179e"
             ],
             [
              0.4444444444444444,
              "#bd3786"
             ],
             [
              0.5555555555555556,
              "#d8576b"
             ],
             [
              0.6666666666666666,
              "#ed7953"
             ],
             [
              0.7777777777777778,
              "#fb9f3a"
             ],
             [
              0.8888888888888888,
              "#fdca26"
             ],
             [
              1,
              "#f0f921"
             ]
            ],
            "type": "histogram2d"
           }
          ],
          "histogram2dcontour": [
           {
            "colorbar": {
             "outlinewidth": 0,
             "ticks": ""
            },
            "colorscale": [
             [
              0,
              "#0d0887"
             ],
             [
              0.1111111111111111,
              "#46039f"
             ],
             [
              0.2222222222222222,
              "#7201a8"
             ],
             [
              0.3333333333333333,
              "#9c179e"
             ],
             [
              0.4444444444444444,
              "#bd3786"
             ],
             [
              0.5555555555555556,
              "#d8576b"
             ],
             [
              0.6666666666666666,
              "#ed7953"
             ],
             [
              0.7777777777777778,
              "#fb9f3a"
             ],
             [
              0.8888888888888888,
              "#fdca26"
             ],
             [
              1,
              "#f0f921"
             ]
            ],
            "type": "histogram2dcontour"
           }
          ],
          "mesh3d": [
           {
            "colorbar": {
             "outlinewidth": 0,
             "ticks": ""
            },
            "type": "mesh3d"
           }
          ],
          "parcoords": [
           {
            "line": {
             "colorbar": {
              "outlinewidth": 0,
              "ticks": ""
             }
            },
            "type": "parcoords"
           }
          ],
          "pie": [
           {
            "automargin": true,
            "type": "pie"
           }
          ],
          "scatter": [
           {
            "fillpattern": {
             "fillmode": "overlay",
             "size": 10,
             "solidity": 0.2
            },
            "type": "scatter"
           }
          ],
          "scatter3d": [
           {
            "line": {
             "colorbar": {
              "outlinewidth": 0,
              "ticks": ""
             }
            },
            "marker": {
             "colorbar": {
              "outlinewidth": 0,
              "ticks": ""
             }
            },
            "type": "scatter3d"
           }
          ],
          "scattercarpet": [
           {
            "marker": {
             "colorbar": {
              "outlinewidth": 0,
              "ticks": ""
             }
            },
            "type": "scattercarpet"
           }
          ],
          "scattergeo": [
           {
            "marker": {
             "colorbar": {
              "outlinewidth": 0,
              "ticks": ""
             }
            },
            "type": "scattergeo"
           }
          ],
          "scattergl": [
           {
            "marker": {
             "colorbar": {
              "outlinewidth": 0,
              "ticks": ""
             }
            },
            "type": "scattergl"
           }
          ],
          "scattermapbox": [
           {
            "marker": {
             "colorbar": {
              "outlinewidth": 0,
              "ticks": ""
             }
            },
            "type": "scattermapbox"
           }
          ],
          "scatterpolar": [
           {
            "marker": {
             "colorbar": {
              "outlinewidth": 0,
              "ticks": ""
             }
            },
            "type": "scatterpolar"
           }
          ],
          "scatterpolargl": [
           {
            "marker": {
             "colorbar": {
              "outlinewidth": 0,
              "ticks": ""
             }
            },
            "type": "scatterpolargl"
           }
          ],
          "scatterternary": [
           {
            "marker": {
             "colorbar": {
              "outlinewidth": 0,
              "ticks": ""
             }
            },
            "type": "scatterternary"
           }
          ],
          "surface": [
           {
            "colorbar": {
             "outlinewidth": 0,
             "ticks": ""
            },
            "colorscale": [
             [
              0,
              "#0d0887"
             ],
             [
              0.1111111111111111,
              "#46039f"
             ],
             [
              0.2222222222222222,
              "#7201a8"
             ],
             [
              0.3333333333333333,
              "#9c179e"
             ],
             [
              0.4444444444444444,
              "#bd3786"
             ],
             [
              0.5555555555555556,
              "#d8576b"
             ],
             [
              0.6666666666666666,
              "#ed7953"
             ],
             [
              0.7777777777777778,
              "#fb9f3a"
             ],
             [
              0.8888888888888888,
              "#fdca26"
             ],
             [
              1,
              "#f0f921"
             ]
            ],
            "type": "surface"
           }
          ],
          "table": [
           {
            "cells": {
             "fill": {
              "color": "#EBF0F8"
             },
             "line": {
              "color": "white"
             }
            },
            "header": {
             "fill": {
              "color": "#C8D4E3"
             },
             "line": {
              "color": "white"
             }
            },
            "type": "table"
           }
          ]
         },
         "layout": {
          "annotationdefaults": {
           "arrowcolor": "#2a3f5f",
           "arrowhead": 0,
           "arrowwidth": 1
          },
          "autotypenumbers": "strict",
          "coloraxis": {
           "colorbar": {
            "outlinewidth": 0,
            "ticks": ""
           }
          },
          "colorscale": {
           "diverging": [
            [
             0,
             "#8e0152"
            ],
            [
             0.1,
             "#c51b7d"
            ],
            [
             0.2,
             "#de77ae"
            ],
            [
             0.3,
             "#f1b6da"
            ],
            [
             0.4,
             "#fde0ef"
            ],
            [
             0.5,
             "#f7f7f7"
            ],
            [
             0.6,
             "#e6f5d0"
            ],
            [
             0.7,
             "#b8e186"
            ],
            [
             0.8,
             "#7fbc41"
            ],
            [
             0.9,
             "#4d9221"
            ],
            [
             1,
             "#276419"
            ]
           ],
           "sequential": [
            [
             0,
             "#0d0887"
            ],
            [
             0.1111111111111111,
             "#46039f"
            ],
            [
             0.2222222222222222,
             "#7201a8"
            ],
            [
             0.3333333333333333,
             "#9c179e"
            ],
            [
             0.4444444444444444,
             "#bd3786"
            ],
            [
             0.5555555555555556,
             "#d8576b"
            ],
            [
             0.6666666666666666,
             "#ed7953"
            ],
            [
             0.7777777777777778,
             "#fb9f3a"
            ],
            [
             0.8888888888888888,
             "#fdca26"
            ],
            [
             1,
             "#f0f921"
            ]
           ],
           "sequentialminus": [
            [
             0,
             "#0d0887"
            ],
            [
             0.1111111111111111,
             "#46039f"
            ],
            [
             0.2222222222222222,
             "#7201a8"
            ],
            [
             0.3333333333333333,
             "#9c179e"
            ],
            [
             0.4444444444444444,
             "#bd3786"
            ],
            [
             0.5555555555555556,
             "#d8576b"
            ],
            [
             0.6666666666666666,
             "#ed7953"
            ],
            [
             0.7777777777777778,
             "#fb9f3a"
            ],
            [
             0.8888888888888888,
             "#fdca26"
            ],
            [
             1,
             "#f0f921"
            ]
           ]
          },
          "colorway": [
           "#636efa",
           "#EF553B",
           "#00cc96",
           "#ab63fa",
           "#FFA15A",
           "#19d3f3",
           "#FF6692",
           "#B6E880",
           "#FF97FF",
           "#FECB52"
          ],
          "font": {
           "color": "#2a3f5f"
          },
          "geo": {
           "bgcolor": "white",
           "lakecolor": "white",
           "landcolor": "#E5ECF6",
           "showlakes": true,
           "showland": true,
           "subunitcolor": "white"
          },
          "hoverlabel": {
           "align": "left"
          },
          "hovermode": "closest",
          "mapbox": {
           "style": "light"
          },
          "paper_bgcolor": "white",
          "plot_bgcolor": "#E5ECF6",
          "polar": {
           "angularaxis": {
            "gridcolor": "white",
            "linecolor": "white",
            "ticks": ""
           },
           "bgcolor": "#E5ECF6",
           "radialaxis": {
            "gridcolor": "white",
            "linecolor": "white",
            "ticks": ""
           }
          },
          "scene": {
           "xaxis": {
            "backgroundcolor": "#E5ECF6",
            "gridcolor": "white",
            "gridwidth": 2,
            "linecolor": "white",
            "showbackground": true,
            "ticks": "",
            "zerolinecolor": "white"
           },
           "yaxis": {
            "backgroundcolor": "#E5ECF6",
            "gridcolor": "white",
            "gridwidth": 2,
            "linecolor": "white",
            "showbackground": true,
            "ticks": "",
            "zerolinecolor": "white"
           },
           "zaxis": {
            "backgroundcolor": "#E5ECF6",
            "gridcolor": "white",
            "gridwidth": 2,
            "linecolor": "white",
            "showbackground": true,
            "ticks": "",
            "zerolinecolor": "white"
           }
          },
          "shapedefaults": {
           "line": {
            "color": "#2a3f5f"
           }
          },
          "ternary": {
           "aaxis": {
            "gridcolor": "white",
            "linecolor": "white",
            "ticks": ""
           },
           "baxis": {
            "gridcolor": "white",
            "linecolor": "white",
            "ticks": ""
           },
           "bgcolor": "#E5ECF6",
           "caxis": {
            "gridcolor": "white",
            "linecolor": "white",
            "ticks": ""
           }
          },
          "title": {
           "x": 0.05
          },
          "xaxis": {
           "automargin": true,
           "gridcolor": "white",
           "linecolor": "white",
           "ticks": "",
           "title": {
            "standoff": 15
           },
           "zerolinecolor": "white",
           "zerolinewidth": 2
          },
          "yaxis": {
           "automargin": true,
           "gridcolor": "white",
           "linecolor": "white",
           "ticks": "",
           "title": {
            "standoff": 15
           },
           "zerolinecolor": "white",
           "zerolinewidth": 2
          }
         }
        },
        "title": {
         "text": "Violin Plot-four_g"
        },
        "violinmode": "group",
        "xaxis": {
         "anchor": "y",
         "autorange": true,
         "domain": [
          0,
          1
         ],
         "range": [
          -0.5,
          0.5
         ],
         "type": "category"
        },
        "yaxis": {
         "anchor": "x",
         "autorange": true,
         "domain": [
          0,
          1
         ],
         "range": [
          -0.3126863995958027,
          1.3126863995958027
         ],
         "title": {
          "text": "y"
         },
         "type": "linear"
        }
       }
      },
      "image/png": "[encoded data removed]",
      "text/html": [
       "<div>                            <div id=\"a45807cf-98f5-4939-bee4-0e708163afb0\" class=\"plotly-graph-div\" style=\"height:525px; width:100%;\"></div>            <script type=\"text/javascript\">                require([\"plotly\"], function(Plotly) {                    window.PLOTLYENV=window.PLOTLYENV || {};                                    if (document.getElementById(\"a45807cf-98f5-4939-bee4-0e708163afb0\")) {                    Plotly.newPlot(                        \"a45807cf-98f5-4939-bee4-0e708163afb0\",                        [{\"alignmentgroup\":\"True\",\"box\":{\"visible\":false},\"hovertemplate\":\"y=%{y}<extra></extra>\",\"legendgroup\":\"\",\"marker\":{\"color\":\"#636efa\"},\"name\":\"\",\"offsetgroup\":\"\",\"orientation\":\"v\",\"scalegroup\":\"True\",\"showlegend\":false,\"x0\":\" \",\"xaxis\":\"x\",\"y\":[0,1,1,0,1,0,1,0,0,1,0,1,0,0,1,0,1,1,0,0,0,0,0,1,1,1,1,1,1,0,0,0,1,1,0,0,0,1,1,0,0,1,1,1,1,0,0,1,1,0,1,0,1,1,0,1,0,1,0,1,0,1,1,1,1,1,1,0,0,1,1,1,1,0,0,1,1,0,1,0,1,1,0,0,1,0,0,1,0,0,1,1,1,1,0,0,1,1,0,0,1,1,0,1,1,1,0,0,0,0,1,0,1,0,1,1,0,1,0,0,0,1,0,1,1,0,1,1,0,1,0,0,0,0,0,0,0,1,1,0,1,1,1,0,1,1,0,1,0,1,1,0,1,1,0,1,1,1,0,0,1,0,1,0,1,1,1,1,1,0,1,1,1,1,1,1,0,0,1,0,1,0,0,0,0,1,1,1,1,0,0,1,1,1,0,1,1,1,0,1,1,1,1,0,0,1,1,0,1,1,0,0,0,1,1,1,1,1,1,0,1,1,0,1,0,1,1,0,1,0,0,0,1,0,1,1,0,1,0,0,1,0,1,0,1,0,0,1,0,1,0,0,1,0,0,1,1,0,1,1,1,0,1,0,0,1,1,1,0,0,1,1,1,0,1,0,1,1,1,0,1,1,1,1,0,1,0,1,1,0,0,0,0,1,1,1,0,0,0,1,0,0,1,0,1,0,1,0,0,0,0,0,1,1,0,0,1,1,1,0,1,1,0,1,1,0,0,0,0,0,0,1,1,1,0,0,0,1,1,1,0,1,0,0,0,1,1,1,1,0,1,0,0,1,1,1,0,1,1,1,0,1,0,1,0,1,0,0,1,1,0,1,1,0,1,0,0,1,0,1,0,0,1,1,1,1,1,0,0,0,0,0,0,1,1,1,1,0,1,1,1,1,0,1,1,0,0,1,1,0,1,1,0,0,0,1,0,1,1,0,0,0,1,0,0,1,0,1,1,1,1,0,1,1,0,0,1,0,1,0,0,0,0,0,1,0,1,0,1,0,1,1,1,1,0,1,0,0,0,1,1,0,1,0,1,1,1,0,1,0,0,0,1,1,0,0,1,0,0,0,1,1,0,1,0,1,1,1,0,1,0,1,0,0,0,0,0,0,1,0,0,1,1,1,0,0,1,0,0,0,1,0,0,1,1,0,1,0,0,1,1,1,1,0,1,1,1,0,1,1,1,0,0,0,0,0,1,0,0,0,0,1,0,1,1,1,1,0,1,1,0,0,0,1,1,0,1,0,0,0,0,0,1,0,0,0,0,0,0,1,1,1,1,1,0,0,0,0,1,0,1,1,1,1,0,1,1,0,0,0,0,1,0,1,0,0,0,0,1,1,0,1,0,0,1,1,1,1,1,1,0,0,1,0,0,0,0,0,0,0,0,1,1,1,1,1,1,0,1,0,0,1,1,0,0,0,0,1,0,1,0,0,1,0,1,0,1,1,0,0,0,1,0,0,1,1,0,1,1,1,0,1,1,1,1,1,0,0,0,1,0,1,0,0,1,1,1,1,0,0,1,1,1,0,1,0,1,0,1,1,1,0,0,1,0,1,0,0,0,1,1,0,1,1,0,0,0,1,0,1,0,1,0,1,1,0,1,1,0,1,1,0,0,0,0,0,1,0,0,0,1,0,1,1,0,0,0,0,1,1,0,0,0,1,1,0,1,1,0,0,0,0,0,1,0,0,1,0,1,1,1,1,0,0,1,1,0,0,0,1,1,1,1,1,0,1,1,1,1,1,1,0,1,0,0,0,1,1,1,1,0,1,1,1,0,1,0,1,1,0,1,0,1,0,1,0,0,1,1,0,1,0,0,0,0,0,0,0,0,1,1,1,0,1,0,0,1,1,1,0,1,0,1,0,1,0,0,0,0,1,1,0,1,0,0,0,0,1,0,1,1,1,0,1,1,1,0,0,0,0,1,0,1,1,0,0,1,1,0,1,0,1,1,1,0,1,1,0,1,0,1,1,1,0,0,0,1,0,0,0,0,1,0,1,0,1,0,0,0,1,0,1,1,1,0,0,1,0,1,0,0,0,1,1,0,1,0,1,1,1,0,0,0,0,1,1,0,0,0,1,1,0,1,0,1,0,0,0,1,0,1,1,1,0,1,1,1,0,1,0,1,1,0,1,1,1,1,1,0,0,0,1,0,1,0,0,0,1,0,1,1,1,1,0,0,1,1,1,0,1,0,1,1,0,1,0,1,1,1,0,0,0,0,0,0,0,1,1,1,0,1,0,0,0,0,0,0,1,0,0,0,0,1,0,1,0,1,1,0,1,1,0,1,0,0,0,1,0,1,1,0,0,1,0,0,0,0,1,0,1,1,1,1,1,0,0,0,0,0,1,1,1,0,1,0,0,0,1,1,1,0,0,1,0,0,0,0,1,0,0,0,0,1,0,1,1,1,0,0,0,0,0,0,0,0,1,1,0,1,1,0,1,1,0,0,1,1,1,0,1,0,1,0,0,1,0,0,0,0,0,0,1,0,0,0,0,1,1,1,1,0,1,1,0,1,0,1,0,0,1,0,1,0,1,0,0,0,0,0,0,0,0,0,1,1,1,1,1,1,1,1,1,0,1,0,1,0,0,1,0,1,0,0,0,1,1,1,1,0,1,0,0,1,1,0,0,1,1,0,1,1,0,1,1,1,1,0,0,1,1,0,1,1,0,0,1,0,0,0,1,0,0,1,1,1,1,0,0,1,1,1,1,1,0,0,1,1,1,0,1,0,0,0,1,1,1,0,1,1,0,1,0,0,0,1,0,1,1,1,0,1,1,1,1,0,0,1,0,1,0,1,0,1,0,0,1,0,0,0,0,0,1,1,0,1,1,1,1,1,1,0,1,1,1,1,1,1,0,0,0,1,1,1,1,1,1,1,1,1,0,1,1,1,0,1,0,1,0,0,0,1,0,0,1,0,1,1,1,1,1,1,1,1,1,1,0,1,1,1,0,1,1,0,0,1,0,0,0,1,0,0,1,1,0,0,1,1,0,0,1,1,0,0,1,0,1,1,1,1,1,1,1,0,1,0,1,0,0,0,1,1,1,1,0,0,1,1,1,0,1,1,1,1,0,1,1,0,0,1,0,0,0,0,0,0,0,0,1,1,0,1,0,0,0,1,0,1,1,1,1,1,1,0,1,0,0,0,1,1,1,1,0,1,1,0,1,0,0,0,0,0,1,0,1,1,0,0,0,0,0,1,1,1,1,0,0,0,0,1,1,1,1,0,1,0,1,0,1,1,0,1,1,0,0,1,1,0,0,1,0,0,1,0,0,1,0,1,1,1,1,1,1,0,1,0,1,0,0,1,1,0,1,1,0,0,0,1,0,0,1,0,1,1,1,1,1,1,0,0,1,0,1,0,0,1,1,1,1,0,0,1,0,0,1,1,1,1,0,1,0,0,0,1,1,0,1,1,1,1,0,1,0,0,1,0,1,0,0,0,0,0,1,1,1,0,1,0,1,1,1,1,0,0,1,1,0,1,0,1,1,1,1,0,1,0,1,0,0,0,1,1,1,0,1,0,0,1,0,1,1,1,0,0,1,0,0,0,1,0,0,1,0,0,1,1,1,1,0,0,0,0,1,1,1,0,0,0,1,1,1,1,0,0,0,0,1,1,0,0,0,1,0,1,0,1,1,1,0,1,0,1,1,0,1,1,1,1,1,0,1,0,0,1,1,1,1,1,1,1,0,0,0,1,0,0,0,1,1,1,0,1,0,0,0,1,1,1,1,0,1,1,1,1,1,0,1,0,1,1,0,1,0,1,0,1,1,1,0,1,0,1,1,1,1,1,1,1,1,0,0,1,1,0,0,1,1,0,0,0,1,1,1,0,1,1,1,0,0,0,1,1,0,1,0,1,0,0,1,1,0,1,1,1,1,1,1,0,1,1,1,0,0,0,0,1,1,1,1,1,1,1,0,0,0,1,1,0,1,1,1,0,1,0,0,1,0,0,0,1,0,0,1,1,1,0,1,0,0,0,0,0,1,1,1,1,1,1,1,1,0,1,1,0,0,1,0,1,0,0,1,0,0,1,0,1,0,0,0,0,0,0,1,0,0,1,0,1,1,0,1,1,1,1,0,1,0,0,1,0,1,1,1,0,1,1,1,1,1,1,1,0,0,1,0,0,1,1,0,1,0,1,1,1,0,0,1,0,1,0,1,1,0,0,1,0,1,0,0,1,1,0,0,1,0,1,0,1,0,0,1,1,0,1,0,0,0,0,0,1,1,1,0,1,1,0,0,1,0,1,0,1,0,0,0,1,0,1,0,0,0,0,0,1,0,1,0,1,1,1,1,1,0,1,1,1,0,1,1,1,1,1,1,1,1,0,1,0,0,1,1,1,0,1,0,1,1,0,1,0,0,1,0,0,1,0,1,0,0,0,0,0,0,0,0,0,1,0,0,1,1,0,1,1,0,1,0,0,1,1,1,1,0,0,0,0,0,1,1,0,0,1,1,0,0,0,1,0,1,1,1],\"y0\":\" \",\"yaxis\":\"y\",\"type\":\"violin\"}],                        {\"template\":{\"data\":{\"histogram2dcontour\":[{\"type\":\"histogram2dcontour\",\"colorbar\":{\"outlinewidth\":0,\"ticks\":\"\"},\"colorscale\":[[0.0,\"#0d0887\"],[0.1111111111111111,\"#46039f\"],[0.2222222222222222,\"#7201a8\"],[0.3333333333333333,\"#9c179e\"],[0.4444444444444444,\"#bd3786\"],[0.5555555555555556,\"#d8576b\"],[0.6666666666666666,\"#ed7953\"],[0.7777777777777778,\"#fb9f3a\"],[0.8888888888888888,\"#fdca26\"],[1.0,\"#f0f921\"]]}],\"choropleth\":[{\"type\":\"choropleth\",\"colorbar\":{\"outlinewidth\":0,\"ticks\":\"\"}}],\"histogram2d\":[{\"type\":\"histogram2d\",\"colorbar\":{\"outlinewidth\":0,\"ticks\":\"\"},\"colorscale\":[[0.0,\"#0d0887\"],[0.1111111111111111,\"#46039f\"],[0.2222222222222222,\"#7201a8\"],[0.3333333333333333,\"#9c179e\"],[0.4444444444444444,\"#bd3786\"],[0.5555555555555556,\"#d8576b\"],[0.6666666666666666,\"#ed7953\"],[0.7777777777777778,\"#fb9f3a\"],[0.8888888888888888,\"#fdca26\"],[1.0,\"#f0f921\"]]}],\"heatmap\":[{\"type\":\"heatmap\",\"colorbar\":{\"outlinewidth\":0,\"ticks\":\"\"},\"colorscale\":[[0.0,\"#0d0887\"],[0.1111111111111111,\"#46039f\"],[0.2222222222222222,\"#7201a8\"],[0.3333333333333333,\"#9c179e\"],[0.4444444444444444,\"#bd3786\"],[0.5555555555555556,\"#d8576b\"],[0.6666666666666666,\"#ed7953\"],[0.7777777777777778,\"#fb9f3a\"],[0.8888888888888888,\"#fdca26\"],[1.0,\"#f0f921\"]]}],\"heatmapgl\":[{\"type\":\"heatmapgl\",\"colorbar\":{\"outlinewidth\":0,\"ticks\":\"\"},\"colorscale\":[[0.0,\"#0d0887\"],[0.1111111111111111,\"#46039f\"],[0.2222222222222222,\"#7201a8\"],[0.3333333333333333,\"#9c179e\"],[0.4444444444444444,\"#bd3786\"],[0.5555555555555556,\"#d8576b\"],[0.6666666666666666,\"#ed7953\"],[0.7777777777777778,\"#fb9f3a\"],[0.8888888888888888,\"#fdca26\"],[1.0,\"#f0f921\"]]}],\"contourcarpet\":[{\"type\":\"contourcarpet\",\"colorbar\":{\"outlinewidth\":0,\"ticks\":\"\"}}],\"contour\":[{\"type\":\"contour\",\"colorbar\":{\"outlinewidth\":0,\"ticks\":\"\"},\"colorscale\":[[0.0,\"#0d0887\"],[0.1111111111111111,\"#46039f\"],[0.2222222222222222,\"#7201a8\"],[0.3333333333333333,\"#9c179e\"],[0.4444444444444444,\"#bd3786\"],[0.5555555555555556,\"#d8576b\"],[0.6666666666666666,\"#ed7953\"],[0.7777777777777778,\"#fb9f3a\"],[0.8888888888888888,\"#fdca26\"],[1.0,\"#f0f921\"]]}],\"surface\":[{\"type\":\"surface\",\"colorbar\":{\"outlinewidth\":0,\"ticks\":\"\"},\"colorscale\":[[0.0,\"#0d0887\"],[0.1111111111111111,\"#46039f\"],[0.2222222222222222,\"#7201a8\"],[0.3333333333333333,\"#9c179e\"],[0.4444444444444444,\"#bd3786\"],[0.5555555555555556,\"#d8576b\"],[0.6666666666666666,\"#ed7953\"],[0.7777777777777778,\"#fb9f3a\"],[0.8888888888888888,\"#fdca26\"],[1.0,\"#f0f921\"]]}],\"mesh3d\":[{\"type\":\"mesh3d\",\"colorbar\":{\"outlinewidth\":0,\"ticks\":\"\"}}],\"scatter\":[{\"fillpattern\":{\"fillmode\":\"overlay\",\"size\":10,\"solidity\":0.2},\"type\":\"scatter\"}],\"parcoords\":[{\"type\":\"parcoords\",\"line\":{\"colorbar\":{\"outlinewidth\":0,\"ticks\":\"\"}}}],\"scatterpolargl\":[{\"type\":\"scatterpolargl\",\"marker\":{\"colorbar\":{\"outlinewidth\":0,\"ticks\":\"\"}}}],\"bar\":[{\"error_x\":{\"color\":\"#2a3f5f\"},\"error_y\":{\"color\":\"#2a3f5f\"},\"marker\":{\"line\":{\"color\":\"#E5ECF6\",\"width\":0.5},\"pattern\":{\"fillmode\":\"overlay\",\"size\":10,\"solidity\":0.2}},\"type\":\"bar\"}],\"scattergeo\":[{\"type\":\"scattergeo\",\"marker\":{\"colorbar\":{\"outlinewidth\":0,\"ticks\":\"\"}}}],\"scatterpolar\":[{\"type\":\"scatterpolar\",\"marker\":{\"colorbar\":{\"outlinewidth\":0,\"ticks\":\"\"}}}],\"histogram\":[{\"marker\":{\"pattern\":{\"fillmode\":\"overlay\",\"size\":10,\"solidity\":0.2}},\"type\":\"histogram\"}],\"scattergl\":[{\"type\":\"scattergl\",\"marker\":{\"colorbar\":{\"outlinewidth\":0,\"ticks\":\"\"}}}],\"scatter3d\":[{\"type\":\"scatter3d\",\"line\":{\"colorbar\":{\"outlinewidth\":0,\"ticks\":\"\"}},\"marker\":{\"colorbar\":{\"outlinewidth\":0,\"ticks\":\"\"}}}],\"scattermapbox\":[{\"type\":\"scattermapbox\",\"marker\":{\"colorbar\":{\"outlinewidth\":0,\"ticks\":\"\"}}}],\"scatterternary\":[{\"type\":\"scatterternary\",\"marker\":{\"colorbar\":{\"outlinewidth\":0,\"ticks\":\"\"}}}],\"scattercarpet\":[{\"type\":\"scattercarpet\",\"marker\":{\"colorbar\":{\"outlinewidth\":0,\"ticks\":\"\"}}}],\"carpet\":[{\"aaxis\":{\"endlinecolor\":\"#2a3f5f\",\"gridcolor\":\"white\",\"linecolor\":\"white\",\"minorgridcolor\":\"white\",\"startlinecolor\":\"#2a3f5f\"},\"baxis\":{\"endlinecolor\":\"#2a3f5f\",\"gridcolor\":\"white\",\"linecolor\":\"white\",\"minorgridcolor\":\"white\",\"startlinecolor\":\"#2a3f5f\"},\"type\":\"carpet\"}],\"table\":[{\"cells\":{\"fill\":{\"color\":\"#EBF0F8\"},\"line\":{\"color\":\"white\"}},\"header\":{\"fill\":{\"color\":\"#C8D4E3\"},\"line\":{\"color\":\"white\"}},\"type\":\"table\"}],\"barpolar\":[{\"marker\":{\"line\":{\"color\":\"#E5ECF6\",\"width\":0.5},\"pattern\":{\"fillmode\":\"overlay\",\"size\":10,\"solidity\":0.2}},\"type\":\"barpolar\"}],\"pie\":[{\"automargin\":true,\"type\":\"pie\"}]},\"layout\":{\"autotypenumbers\":\"strict\",\"colorway\":[\"#636efa\",\"#EF553B\",\"#00cc96\",\"#ab63fa\",\"#FFA15A\",\"#19d3f3\",\"#FF6692\",\"#B6E880\",\"#FF97FF\",\"#FECB52\"],\"font\":{\"color\":\"#2a3f5f\"},\"hovermode\":\"closest\",\"hoverlabel\":{\"align\":\"left\"},\"paper_bgcolor\":\"white\",\"plot_bgcolor\":\"#E5ECF6\",\"polar\":{\"bgcolor\":\"#E5ECF6\",\"angularaxis\":{\"gridcolor\":\"white\",\"linecolor\":\"white\",\"ticks\":\"\"},\"radialaxis\":{\"gridcolor\":\"white\",\"linecolor\":\"white\",\"ticks\":\"\"}},\"ternary\":{\"bgcolor\":\"#E5ECF6\",\"aaxis\":{\"gridcolor\":\"white\",\"linecolor\":\"white\",\"ticks\":\"\"},\"baxis\":{\"gridcolor\":\"white\",\"linecolor\":\"white\",\"ticks\":\"\"},\"caxis\":{\"gridcolor\":\"white\",\"linecolor\":\"white\",\"ticks\":\"\"}},\"coloraxis\":{\"colorbar\":{\"outlinewidth\":0,\"ticks\":\"\"}},\"colorscale\":{\"sequential\":[[0.0,\"#0d0887\"],[0.1111111111111111,\"#46039f\"],[0.2222222222222222,\"#7201a8\"],[0.3333333333333333,\"#9c179e\"],[0.4444444444444444,\"#bd3786\"],[0.5555555555555556,\"#d8576b\"],[0.6666666666666666,\"#ed7953\"],[0.7777777777777778,\"#fb9f3a\"],[0.8888888888888888,\"#fdca26\"],[1.0,\"#f0f921\"]],\"sequentialminus\":[[0.0,\"#0d0887\"],[0.1111111111111111,\"#46039f\"],[0.2222222222222222,\"#7201a8\"],[0.3333333333333333,\"#9c179e\"],[0.4444444444444444,\"#bd3786\"],[0.5555555555555556,\"#d8576b\"],[0.6666666666666666,\"#ed7953\"],[0.7777777777777778,\"#fb9f3a\"],[0.8888888888888888,\"#fdca26\"],[1.0,\"#f0f921\"]],\"diverging\":[[0,\"#8e0152\"],[0.1,\"#c51b7d\"],[0.2,\"#de77ae\"],[0.3,\"#f1b6da\"],[0.4,\"#fde0ef\"],[0.5,\"#f7f7f7\"],[0.6,\"#e6f5d0\"],[0.7,\"#b8e186\"],[0.8,\"#7fbc41\"],[0.9,\"#4d9221\"],[1,\"#276419\"]]},\"xaxis\":{\"gridcolor\":\"white\",\"linecolor\":\"white\",\"ticks\":\"\",\"title\":{\"standoff\":15},\"zerolinecolor\":\"white\",\"automargin\":true,\"zerolinewidth\":2},\"yaxis\":{\"gridcolor\":\"white\",\"linecolor\":\"white\",\"ticks\":\"\",\"title\":{\"standoff\":15},\"zerolinecolor\":\"white\",\"automargin\":true,\"zerolinewidth\":2},\"scene\":{\"xaxis\":{\"backgroundcolor\":\"#E5ECF6\",\"gridcolor\":\"white\",\"linecolor\":\"white\",\"showbackground\":true,\"ticks\":\"\",\"zerolinecolor\":\"white\",\"gridwidth\":2},\"yaxis\":{\"backgroundcolor\":\"#E5ECF6\",\"gridcolor\":\"white\",\"linecolor\":\"white\",\"showbackground\":true,\"ticks\":\"\",\"zerolinecolor\":\"white\",\"gridwidth\":2},\"zaxis\":{\"backgroundcolor\":\"#E5ECF6\",\"gridcolor\":\"white\",\"linecolor\":\"white\",\"showbackground\":true,\"ticks\":\"\",\"zerolinecolor\":\"white\",\"gridwidth\":2}},\"shapedefaults\":{\"line\":{\"color\":\"#2a3f5f\"}},\"annotationdefaults\":{\"arrowcolor\":\"#2a3f5f\",\"arrowhead\":0,\"arrowwidth\":1},\"geo\":{\"bgcolor\":\"white\",\"landcolor\":\"#E5ECF6\",\"subunitcolor\":\"white\",\"showland\":true,\"showlakes\":true,\"lakecolor\":\"white\"},\"title\":{\"x\":0.05},\"mapbox\":{\"style\":\"light\"}}},\"xaxis\":{\"anchor\":\"y\",\"domain\":[0.0,1.0]},\"yaxis\":{\"anchor\":\"x\",\"domain\":[0.0,1.0],\"title\":{\"text\":\"y\"}},\"legend\":{\"tracegroupgap\":0},\"title\":{\"text\":\"Violin Plot-four_g\"},\"violinmode\":\"group\"},                        {\"responsive\": true}                    ).then(function(){\n",
       "                            \n",
       "var gd = document.getElementById('a45807cf-98f5-4939-bee4-0e708163afb0');\n",
       "var x = new MutationObserver(function (mutations, observer) {{\n",
       "        var display = window.getComputedStyle(gd).display;\n",
       "        if (!display || display === 'none') {{\n",
       "            console.log([gd, 'removed!']);\n",
       "            Plotly.purge(gd);\n",
       "            observer.disconnect();\n",
       "        }}\n",
       "}});\n",
       "\n",
       "// Listen for the removal of the full notebook cells\n",
       "var notebookContainer = gd.closest('#notebook-container');\n",
       "if (notebookContainer) {{\n",
       "    x.observe(notebookContainer, {childList: true});\n",
       "}}\n",
       "\n",
       "// Listen for the clearing of the current output cell\n",
       "var outputEl = gd.closest('.output');\n",
       "if (outputEl) {{\n",
       "    x.observe(outputEl, {childList: true});\n",
       "}}\n",
       "\n",
       "                        })                };                });            </script>        </div>"
      ]
     },
     "metadata": {},
     "output_type": "display_data"
    }
   ],
   "source": [
    "import plotly.express as px\n",
    "\n",
    "# Assuming 'data' is your categorical variable\n",
    "data = df['four_g']\n",
    "\n",
    "# Create violin plot\n",
    "fig = px.violin(y=data, title='Violin Plot-four_g')\n",
    "\n",
    "# Show plot\n",
    "fig.show()\n"
   ]
  },
  {
   "cell_type": "code",
   "execution_count": null,
   "id": "8fabc36c-b0d5-4b50-ae31-cc9c4f7d8982",
   "metadata": {},
   "outputs": [],
   "source": [
    "#checking for outliers by boxplot\n",
    "fc , px_height having outlier\n",
    "but i didnt removed outliers because it will help to find some insights in rare situations\n"
   ]
  },
  {
   "cell_type": "code",
   "execution_count": null,
   "id": "cb812386-32c3-4e28-8e58-5e15829eb795",
   "metadata": {},
   "outputs": [],
   "source": [
    "import pandas as pd\n",
    "import plotly.express as px\n",
    "\n",
    "# Assuming your data is loaded into a DataFrame called df\n",
    "# Replace 'df' with the name of your DataFrame if it's different\n",
    "# Replace 'x' with the name of your column\n",
    "fig = px.box(df, y='fc', title='Box Plot - clock_speed')\n",
    "\n",
    "# Update layout for better visualization\n",
    "fig.update_layout(\n",
    "    yaxis=dict(title='x'),               # Y-axis label\n",
    "    font=dict(size=12),                  # Font size\n",
    "    margin=dict(l=50, r=50, t=50, b=50)  # Adjust margins\n",
    ")\n",
    "\n",
    "# Show plot\n",
    "fig.show()\n"
   ]
  },
  {
   "cell_type": "code",
   "execution_count": null,
   "id": "e41bd0c9-69d2-45c1-9f83-891c57747d64",
   "metadata": {},
   "outputs": [],
   "source": [
    "#relationship between Quantitative variable and Target Variable by boxplot\n",
    "\n",
    "battery_power - price_range-3 has high battery power and its starting range itself at high\n",
    "clock_speed- almost same,75% of price_range 0 has slightly higher clockspeed than others\n",
    "m_dep - 75% of price_range- 1 and 3 has slightly higher than others\n",
    "\n",
    "mobile_wt - price_range- 3 has lesser weight\n",
    "px_height - price_range- 3 has higher pixel height\n",
    "            price_range- 0 has worst pixel height\n",
    "\n",
    "px_width - price_range- 3 has higher pixel width\n",
    "             price_range- 0 has worst pixel width\n",
    "\n",
    "ram - price_range- 3 has significally very high ram compare to all\n",
    "    price_range- 0 as significally very low ram compare to all\n",
    "\n",
    "sc_h - almost all are equal but price_range- 3 has slightly higher startin range\n",
    "\n",
    "sc_w -  price_range- 3 has higher screen width\n",
    "\n",
    "fc- price_range- 0 has lowest\n",
    "\n",
    "int_memory - all price range has somewhat equal internal memory no significant change\n",
    "n_cores- price_range- 1 has lowest\n",
    "\n",
    "pc -  75% of price_range- 3 has slightly higher than others\n"
   ]
  },
  {
   "cell_type": "code",
   "execution_count": 210,
   "id": "5f1083d8-aacb-4d4c-bd58-fdda2501b781",
   "metadata": {},
   "outputs": [
    {
     "data": {
      "application/vnd.plotly.v1+json": {
       "config": {
        "plotlyServerURL": "https://plot.ly"
       },
       "data": [
        {
         "name": "price_range = 0",
         "type": "box",
         "y": [
          1,
          1,
          1,
          1,
          1,
          1,
          1,
          1,
          1,
          1,
          1,
          1,
          1,
          1,
          1,
          1,
          0,
          1,
          0,
          0,
          1,
          1,
          1,
          0,
          1,
          1,
          1,
          0,
          1,
          1,
          0,
          1,
          1,
          0,
          1,
          1,
          1,
          1,
          0,
          1,
          1,
          1,
          1,
          1,
          0,
          1,
          1,
          1,
          1,
          1,
          1,
          1,
          0,
          1,
          1,
          0,
          1,
          1,
          1,
          0,
          1,
          1,
          1,
          0,
          1,
          0,
          0,
          1,
          1,
          0,
          1,
          1,
          1,
          1,
          1,
          1,
          0,
          1,
          0,
          0,
          1,
          1,
          1,
          0,
          1,
          0,
          1,
          0,
          1,
          1,
          1,
          1,
          0,
          1,
          1,
          1,
          0,
          0,
          1,
          0,
          1,
          1,
          0,
          1,
          1,
          1,
          1,
          0,
          1,
          0,
          1,
          1,
          0,
          0,
          1,
          1,
          1,
          1,
          1,
          1,
          1,
          1,
          1,
          0,
          1,
          0,
          1,
          1,
          0,
          1,
          1,
          1,
          1,
          1,
          0,
          0,
          1,
          1,
          0,
          1,
          0,
          1,
          1,
          1,
          1,
          0,
          1,
          1,
          1,
          1,
          1,
          1,
          1,
          1,
          1,
          0,
          0,
          0,
          1,
          1,
          0,
          0,
          1,
          0,
          1,
          1,
          1,
          1,
          1,
          1,
          0,
          1,
          1,
          0,
          0,
          1,
          1,
          1,
          1,
          1,
          1,
          1,
          1,
          1,
          1,
          1,
          0,
          0,
          0,
          1,
          1,
          1,
          1,
          0,
          1,
          0,
          0,
          1,
          1,
          1,
          1,
          0,
          0,
          1,
          1,
          0,
          1,
          0,
          1,
          1,
          1,
          1,
          1,
          0,
          1,
          1,
          0,
          0,
          1,
          1,
          1,
          0,
          0,
          1,
          1,
          1,
          1,
          1,
          1,
          1,
          0,
          1,
          1,
          0,
          1,
          0,
          1,
          1,
          1,
          0,
          1,
          1,
          0,
          1,
          1,
          1,
          0,
          1,
          1,
          1,
          1,
          0,
          0,
          1,
          0,
          0,
          1,
          1,
          1,
          1,
          0,
          1,
          1,
          0,
          0,
          1,
          1,
          0,
          1,
          1,
          1,
          1,
          1,
          1,
          0,
          1,
          1,
          1,
          0,
          0,
          1,
          1,
          1,
          1,
          1,
          1,
          1,
          1,
          1,
          1,
          1,
          1,
          0,
          1,
          1,
          0,
          0,
          1,
          1,
          1,
          1,
          1,
          0,
          1,
          1,
          1,
          1,
          1,
          1,
          1,
          1,
          0,
          0,
          1,
          1,
          0,
          1,
          1,
          1,
          1,
          1,
          1,
          1,
          1,
          0,
          0,
          1,
          1,
          1,
          1,
          0,
          0,
          1,
          1,
          1,
          1,
          0,
          1,
          1,
          0,
          0,
          1,
          1,
          1,
          1,
          1,
          1,
          0,
          1,
          1,
          1,
          1,
          0,
          0,
          1,
          1,
          0,
          0,
          1,
          1,
          1,
          0,
          1,
          1,
          1,
          1,
          1,
          1,
          1,
          1,
          1,
          1,
          1,
          1,
          1,
          1,
          1,
          1,
          1,
          1,
          1,
          1,
          1,
          1,
          1,
          1,
          1,
          1,
          1,
          1,
          1,
          1,
          0,
          0,
          0,
          1,
          1,
          0,
          1,
          1,
          1,
          1,
          1,
          0,
          1,
          0,
          1,
          0,
          1,
          1,
          1,
          0,
          1,
          1,
          1,
          1,
          1,
          0,
          1,
          1,
          1,
          1,
          1,
          1,
          1,
          1,
          1,
          1,
          0,
          1,
          1,
          1,
          0,
          1,
          1,
          0,
          1,
          1,
          1,
          1,
          0,
          1,
          0,
          1,
          1,
          1,
          1,
          1,
          0,
          1,
          1,
          1,
          0,
          1,
          1,
          0,
          0,
          1,
          1,
          1,
          0,
          1,
          1,
          1,
          0,
          1,
          1,
          0,
          0,
          1,
          0,
          1,
          1,
          1,
          0,
          1,
          1,
          1,
          1,
          1,
          1,
          1,
          1,
          1,
          1,
          1,
          0,
          1,
          0,
          0,
          1,
          1,
          1,
          1,
          1,
          1,
          1,
          1,
          1,
          1
         ]
        },
        {
         "name": "price_range = 1",
         "type": "box",
         "y": [
          0,
          1,
          1,
          1,
          1,
          0,
          0,
          1,
          1,
          1,
          1,
          1,
          1,
          0,
          1,
          1,
          0,
          1,
          1,
          0,
          1,
          1,
          0,
          0,
          1,
          1,
          1,
          1,
          1,
          0,
          1,
          1,
          1,
          1,
          1,
          1,
          0,
          1,
          1,
          1,
          0,
          1,
          1,
          1,
          0,
          1,
          1,
          1,
          1,
          1,
          0,
          1,
          1,
          1,
          1,
          1,
          1,
          1,
          1,
          1,
          1,
          1,
          1,
          1,
          0,
          1,
          1,
          1,
          1,
          1,
          1,
          0,
          1,
          1,
          1,
          1,
          1,
          1,
          1,
          0,
          0,
          0,
          1,
          1,
          1,
          1,
          1,
          1,
          1,
          0,
          1,
          1,
          1,
          0,
          0,
          0,
          1,
          1,
          0,
          0,
          1,
          1,
          1,
          1,
          1,
          0,
          1,
          1,
          1,
          0,
          0,
          1,
          1,
          0,
          1,
          1,
          0,
          1,
          1,
          0,
          1,
          1,
          1,
          0,
          1,
          1,
          1,
          1,
          1,
          0,
          1,
          1,
          1,
          1,
          1,
          1,
          1,
          1,
          0,
          0,
          0,
          1,
          0,
          1,
          1,
          1,
          0,
          1,
          1,
          1,
          1,
          0,
          1,
          1,
          1,
          1,
          1,
          1,
          1,
          0,
          1,
          1,
          1,
          1,
          1,
          1,
          1,
          1,
          1,
          0,
          1,
          1,
          0,
          1,
          1,
          0,
          0,
          0,
          1,
          1,
          1,
          1,
          1,
          1,
          0,
          1,
          1,
          1,
          1,
          1,
          1,
          0,
          1,
          1,
          0,
          1,
          0,
          1,
          1,
          0,
          1,
          1,
          0,
          0,
          0,
          1,
          1,
          1,
          0,
          1,
          1,
          0,
          0,
          1,
          0,
          0,
          0,
          0,
          1,
          1,
          1,
          0,
          0,
          1,
          1,
          1,
          1,
          1,
          1,
          1,
          1,
          0,
          1,
          0,
          1,
          1,
          1,
          1,
          0,
          1,
          1,
          0,
          1,
          0,
          1,
          1,
          1,
          1,
          1,
          0,
          1,
          1,
          1,
          1,
          1,
          1,
          0,
          1,
          1,
          1,
          1,
          1,
          1,
          1,
          1,
          1,
          0,
          1,
          1,
          1,
          1,
          1,
          1,
          1,
          1,
          1,
          0,
          1,
          0,
          1,
          0,
          0,
          1,
          1,
          1,
          1,
          1,
          1,
          1,
          1,
          1,
          1,
          1,
          1,
          1,
          1,
          0,
          0,
          1,
          1,
          1,
          1,
          1,
          1,
          1,
          1,
          1,
          0,
          1,
          1,
          1,
          1,
          1,
          1,
          1,
          1,
          1,
          0,
          1,
          1,
          1,
          1,
          1,
          1,
          0,
          0,
          1,
          1,
          1,
          1,
          1,
          1,
          1,
          1,
          1,
          0,
          1,
          0,
          0,
          0,
          0,
          1,
          0,
          1,
          1,
          0,
          0,
          1,
          0,
          1,
          0,
          0,
          1,
          1,
          1,
          0,
          1,
          1,
          0,
          1,
          0,
          1,
          1,
          0,
          1,
          1,
          1,
          1,
          1,
          1,
          0,
          1,
          1,
          1,
          1,
          1,
          1,
          1,
          1,
          1,
          1,
          1,
          1,
          0,
          0,
          1,
          1,
          1,
          1,
          1,
          1,
          1,
          0,
          1,
          0,
          1,
          0,
          1,
          1,
          1,
          0,
          1,
          1,
          1,
          1,
          1,
          1,
          1,
          1,
          1,
          1,
          1,
          0,
          1,
          1,
          1,
          1,
          1,
          0,
          1,
          1,
          1,
          1,
          1,
          1,
          0,
          1,
          0,
          1,
          1,
          1,
          1,
          1,
          1,
          0,
          1,
          1,
          1,
          1,
          1,
          0,
          0,
          1,
          0,
          1,
          1,
          0,
          1,
          1,
          1,
          0,
          1,
          1,
          0,
          0,
          1,
          1,
          1,
          1,
          0,
          1,
          1,
          1,
          1,
          0,
          1,
          1,
          0,
          1,
          1,
          1,
          1,
          1,
          1,
          1,
          0,
          1,
          1,
          1,
          1,
          1,
          1,
          1,
          0,
          1,
          1,
          1,
          1,
          1,
          0,
          1,
          1,
          1,
          1,
          1,
          0,
          1,
          1,
          0,
          0
         ]
        },
        {
         "name": "price_range = 2",
         "type": "box",
         "y": [
          1,
          1,
          1,
          1,
          1,
          1,
          1,
          1,
          1,
          1,
          0,
          0,
          1,
          1,
          1,
          1,
          1,
          1,
          1,
          1,
          1,
          1,
          1,
          1,
          0,
          1,
          1,
          1,
          0,
          0,
          1,
          1,
          0,
          1,
          1,
          1,
          1,
          1,
          1,
          1,
          1,
          1,
          1,
          0,
          1,
          1,
          1,
          1,
          1,
          1,
          1,
          1,
          1,
          1,
          1,
          1,
          1,
          0,
          1,
          1,
          1,
          1,
          1,
          0,
          0,
          1,
          1,
          1,
          1,
          1,
          1,
          0,
          1,
          0,
          0,
          0,
          0,
          0,
          0,
          1,
          1,
          1,
          1,
          1,
          1,
          1,
          0,
          1,
          1,
          0,
          1,
          1,
          1,
          1,
          1,
          1,
          1,
          1,
          1,
          1,
          1,
          1,
          1,
          1,
          0,
          1,
          1,
          1,
          0,
          1,
          1,
          1,
          1,
          1,
          1,
          1,
          0,
          1,
          1,
          1,
          1,
          1,
          1,
          1,
          1,
          0,
          0,
          1,
          0,
          1,
          1,
          1,
          1,
          1,
          0,
          1,
          0,
          1,
          1,
          1,
          0,
          1,
          0,
          1,
          1,
          0,
          0,
          1,
          1,
          1,
          1,
          1,
          1,
          1,
          0,
          0,
          1,
          1,
          1,
          1,
          1,
          1,
          0,
          0,
          0,
          1,
          1,
          1,
          1,
          1,
          1,
          1,
          1,
          1,
          1,
          1,
          1,
          0,
          1,
          1,
          1,
          1,
          0,
          1,
          1,
          1,
          1,
          1,
          1,
          1,
          1,
          0,
          0,
          0,
          1,
          1,
          1,
          1,
          0,
          1,
          1,
          1,
          0,
          1,
          1,
          0,
          0,
          0,
          1,
          1,
          0,
          1,
          0,
          1,
          1,
          1,
          0,
          1,
          1,
          1,
          1,
          0,
          1,
          1,
          1,
          0,
          0,
          1,
          1,
          1,
          1,
          1,
          1,
          1,
          1,
          1,
          1,
          1,
          1,
          1,
          1,
          1,
          1,
          1,
          1,
          0,
          0,
          1,
          1,
          1,
          0,
          1,
          0,
          1,
          1,
          0,
          1,
          1,
          0,
          0,
          0,
          1,
          1,
          1,
          0,
          1,
          1,
          1,
          1,
          1,
          1,
          0,
          0,
          1,
          1,
          1,
          1,
          0,
          1,
          1,
          1,
          0,
          0,
          1,
          1,
          1,
          1,
          1,
          1,
          1,
          1,
          1,
          1,
          0,
          1,
          1,
          1,
          1,
          1,
          1,
          1,
          0,
          1,
          1,
          1,
          1,
          1,
          1,
          1,
          1,
          0,
          1,
          0,
          1,
          1,
          1,
          1,
          0,
          0,
          1,
          1,
          1,
          1,
          1,
          1,
          1,
          1,
          1,
          1,
          1,
          0,
          1,
          1,
          1,
          1,
          0,
          1,
          1,
          0,
          1,
          1,
          1,
          1,
          0,
          1,
          1,
          1,
          1,
          1,
          1,
          1,
          1,
          1,
          1,
          1,
          1,
          1,
          0,
          1,
          1,
          1,
          1,
          1,
          0,
          0,
          0,
          0,
          1,
          1,
          1,
          1,
          1,
          1,
          1,
          1,
          1,
          1,
          1,
          1,
          1,
          1,
          1,
          1,
          0,
          1,
          1,
          1,
          1,
          1,
          0,
          0,
          1,
          1,
          1,
          1,
          1,
          0,
          1,
          1,
          1,
          0,
          0,
          1,
          1,
          1,
          0,
          1,
          1,
          0,
          1,
          1,
          1,
          1,
          1,
          1,
          0,
          0,
          1,
          1,
          1,
          1,
          1,
          1,
          1,
          1,
          0,
          1,
          1,
          1,
          1,
          1,
          0,
          0,
          1,
          0,
          0,
          0,
          1,
          1,
          1,
          1,
          1,
          1,
          1,
          0,
          1,
          1,
          1,
          0,
          1,
          0,
          1,
          0,
          0,
          1,
          1,
          1,
          1,
          0,
          1,
          0,
          1,
          1,
          0,
          1,
          1,
          1,
          1,
          1,
          1,
          1,
          0,
          1,
          1,
          1,
          1,
          1,
          1,
          0,
          1,
          1,
          1,
          1,
          1,
          0,
          0,
          1,
          1,
          1,
          1,
          1,
          0,
          1,
          0,
          1,
          1,
          1,
          0,
          0,
          1
         ]
        },
        {
         "name": "price_range = 3",
         "type": "box",
         "y": [
          1,
          0,
          1,
          1,
          1,
          1,
          1,
          1,
          1,
          0,
          1,
          1,
          1,
          1,
          0,
          1,
          1,
          1,
          1,
          0,
          1,
          1,
          1,
          1,
          1,
          0,
          1,
          1,
          1,
          1,
          0,
          1,
          1,
          1,
          1,
          1,
          1,
          0,
          1,
          0,
          1,
          1,
          1,
          1,
          1,
          1,
          0,
          0,
          1,
          1,
          1,
          1,
          1,
          1,
          1,
          1,
          1,
          1,
          1,
          1,
          1,
          1,
          1,
          0,
          0,
          0,
          1,
          1,
          0,
          0,
          0,
          1,
          1,
          1,
          1,
          1,
          1,
          1,
          1,
          1,
          1,
          1,
          0,
          1,
          0,
          0,
          1,
          0,
          1,
          0,
          0,
          1,
          1,
          1,
          0,
          1,
          0,
          0,
          1,
          0,
          1,
          0,
          1,
          1,
          1,
          1,
          1,
          1,
          0,
          0,
          1,
          1,
          1,
          1,
          1,
          1,
          1,
          0,
          1,
          1,
          1,
          1,
          1,
          1,
          1,
          0,
          1,
          1,
          1,
          1,
          1,
          0,
          0,
          1,
          0,
          1,
          1,
          1,
          1,
          0,
          1,
          1,
          1,
          0,
          1,
          0,
          1,
          1,
          1,
          0,
          1,
          1,
          1,
          1,
          1,
          0,
          0,
          0,
          1,
          1,
          1,
          1,
          1,
          1,
          1,
          1,
          0,
          1,
          1,
          1,
          1,
          0,
          1,
          1,
          1,
          0,
          1,
          1,
          1,
          1,
          1,
          1,
          1,
          1,
          0,
          1,
          0,
          1,
          0,
          1,
          1,
          0,
          1,
          1,
          1,
          1,
          0,
          1,
          1,
          0,
          0,
          1,
          0,
          1,
          1,
          1,
          1,
          1,
          1,
          1,
          1,
          1,
          1,
          1,
          1,
          1,
          1,
          1,
          1,
          1,
          0,
          1,
          1,
          0,
          1,
          1,
          1,
          0,
          0,
          1,
          1,
          0,
          1,
          1,
          1,
          1,
          1,
          1,
          1,
          1,
          1,
          1,
          1,
          1,
          1,
          1,
          1,
          1,
          0,
          1,
          1,
          1,
          1,
          1,
          1,
          1,
          1,
          1,
          1,
          0,
          1,
          1,
          1,
          1,
          1,
          0,
          1,
          1,
          0,
          1,
          1,
          1,
          1,
          1,
          1,
          0,
          0,
          0,
          1,
          0,
          1,
          0,
          0,
          1,
          1,
          0,
          1,
          1,
          1,
          1,
          1,
          0,
          1,
          0,
          0,
          0,
          0,
          1,
          1,
          0,
          1,
          0,
          1,
          1,
          0,
          1,
          0,
          1,
          1,
          1,
          1,
          1,
          1,
          1,
          1,
          0,
          1,
          1,
          1,
          0,
          0,
          0,
          0,
          1,
          1,
          1,
          1,
          1,
          1,
          1,
          1,
          1,
          0,
          1,
          1,
          1,
          1,
          1,
          1,
          1,
          1,
          1,
          1,
          1,
          1,
          1,
          1,
          1,
          1,
          0,
          1,
          1,
          1,
          1,
          1,
          1,
          1,
          1,
          0,
          1,
          1,
          1,
          1,
          1,
          1,
          1,
          1,
          1,
          0,
          0,
          1,
          1,
          1,
          0,
          1,
          1,
          1,
          1,
          1,
          1,
          1,
          0,
          0,
          1,
          1,
          0,
          1,
          1,
          0,
          1,
          1,
          1,
          0,
          1,
          1,
          1,
          1,
          1,
          1,
          1,
          1,
          1,
          1,
          1,
          1,
          1,
          1,
          1,
          0,
          0,
          1,
          0,
          1,
          1,
          1,
          0,
          0,
          1,
          0,
          0,
          1,
          1,
          0,
          1,
          1,
          1,
          1,
          1,
          1,
          1,
          1,
          1,
          1,
          1,
          1,
          1,
          1,
          1,
          1,
          1,
          0,
          1,
          0,
          1,
          1,
          1,
          1,
          1,
          0,
          0,
          1,
          1,
          1,
          1,
          1,
          1,
          0,
          1,
          1,
          1,
          1,
          0,
          1,
          1,
          1,
          0,
          1,
          1,
          1,
          1,
          0,
          1,
          1,
          1,
          0,
          1,
          1,
          1,
          1,
          1,
          0,
          1,
          0,
          1,
          1,
          1,
          0,
          0,
          1,
          1,
          1,
          0,
          1,
          1,
          1,
          1,
          1,
          1,
          1,
          1
         ]
        }
       ],
       "layout": {
        "autosize": true,
        "template": {
         "data": {
          "bar": [
           {
            "error_x": {
             "color": "#2a3f5f"
            },
            "error_y": {
             "color": "#2a3f5f"
            },
            "marker": {
             "line": {
              "color": "#E5ECF6",
              "width": 0.5
             },
             "pattern": {
              "fillmode": "overlay",
              "size": 10,
              "solidity": 0.2
             }
            },
            "type": "bar"
           }
          ],
          "barpolar": [
           {
            "marker": {
             "line": {
              "color": "#E5ECF6",
              "width": 0.5
             },
             "pattern": {
              "fillmode": "overlay",
              "size": 10,
              "solidity": 0.2
             }
            },
            "type": "barpolar"
           }
          ],
          "carpet": [
           {
            "aaxis": {
             "endlinecolor": "#2a3f5f",
             "gridcolor": "white",
             "linecolor": "white",
             "minorgridcolor": "white",
             "startlinecolor": "#2a3f5f"
            },
            "baxis": {
             "endlinecolor": "#2a3f5f",
             "gridcolor": "white",
             "linecolor": "white",
             "minorgridcolor": "white",
             "startlinecolor": "#2a3f5f"
            },
            "type": "carpet"
           }
          ],
          "choropleth": [
           {
            "colorbar": {
             "outlinewidth": 0,
             "ticks": ""
            },
            "type": "choropleth"
           }
          ],
          "contour": [
           {
            "colorbar": {
             "outlinewidth": 0,
             "ticks": ""
            },
            "colorscale": [
             [
              0,
              "#0d0887"
             ],
             [
              0.1111111111111111,
              "#46039f"
             ],
             [
              0.2222222222222222,
              "#7201a8"
             ],
             [
              0.3333333333333333,
              "#9c179e"
             ],
             [
              0.4444444444444444,
              "#bd3786"
             ],
             [
              0.5555555555555556,
              "#d8576b"
             ],
             [
              0.6666666666666666,
              "#ed7953"
             ],
             [
              0.7777777777777778,
              "#fb9f3a"
             ],
             [
              0.8888888888888888,
              "#fdca26"
             ],
             [
              1,
              "#f0f921"
             ]
            ],
            "type": "contour"
           }
          ],
          "contourcarpet": [
           {
            "colorbar": {
             "outlinewidth": 0,
             "ticks": ""
            },
            "type": "contourcarpet"
           }
          ],
          "heatmap": [
           {
            "colorbar": {
             "outlinewidth": 0,
             "ticks": ""
            },
            "colorscale": [
             [
              0,
              "#0d0887"
             ],
             [
              0.1111111111111111,
              "#46039f"
             ],
             [
              0.2222222222222222,
              "#7201a8"
             ],
             [
              0.3333333333333333,
              "#9c179e"
             ],
             [
              0.4444444444444444,
              "#bd3786"
             ],
             [
              0.5555555555555556,
              "#d8576b"
             ],
             [
              0.6666666666666666,
              "#ed7953"
             ],
             [
              0.7777777777777778,
              "#fb9f3a"
             ],
             [
              0.8888888888888888,
              "#fdca26"
             ],
             [
              1,
              "#f0f921"
             ]
            ],
            "type": "heatmap"
           }
          ],
          "heatmapgl": [
           {
            "colorbar": {
             "outlinewidth": 0,
             "ticks": ""
            },
            "colorscale": [
             [
              0,
              "#0d0887"
             ],
             [
              0.1111111111111111,
              "#46039f"
             ],
             [
              0.2222222222222222,
              "#7201a8"
             ],
             [
              0.3333333333333333,
              "#9c179e"
             ],
             [
              0.4444444444444444,
              "#bd3786"
             ],
             [
              0.5555555555555556,
              "#d8576b"
             ],
             [
              0.6666666666666666,
              "#ed7953"
             ],
             [
              0.7777777777777778,
              "#fb9f3a"
             ],
             [
              0.8888888888888888,
              "#fdca26"
             ],
             [
              1,
              "#f0f921"
             ]
            ],
            "type": "heatmapgl"
           }
          ],
          "histogram": [
           {
            "marker": {
             "pattern": {
              "fillmode": "overlay",
              "size": 10,
              "solidity": 0.2
             }
            },
            "type": "histogram"
           }
          ],
          "histogram2d": [
           {
            "colorbar": {
             "outlinewidth": 0,
             "ticks": ""
            },
            "colorscale": [
             [
              0,
              "#0d0887"
             ],
             [
              0.1111111111111111,
              "#46039f"
             ],
             [
              0.2222222222222222,
              "#7201a8"
             ],
             [
              0.3333333333333333,
              "#9c179e"
             ],
             [
              0.4444444444444444,
              "#bd3786"
             ],
             [
              0.5555555555555556,
              "#d8576b"
             ],
             [
              0.6666666666666666,
              "#ed7953"
             ],
             [
              0.7777777777777778,
              "#fb9f3a"
             ],
             [
              0.8888888888888888,
              "#fdca26"
             ],
             [
              1,
              "#f0f921"
             ]
            ],
            "type": "histogram2d"
           }
          ],
          "histogram2dcontour": [
           {
            "colorbar": {
             "outlinewidth": 0,
             "ticks": ""
            },
            "colorscale": [
             [
              0,
              "#0d0887"
             ],
             [
              0.1111111111111111,
              "#46039f"
             ],
             [
              0.2222222222222222,
              "#7201a8"
             ],
             [
              0.3333333333333333,
              "#9c179e"
             ],
             [
              0.4444444444444444,
              "#bd3786"
             ],
             [
              0.5555555555555556,
              "#d8576b"
             ],
             [
              0.6666666666666666,
              "#ed7953"
             ],
             [
              0.7777777777777778,
              "#fb9f3a"
             ],
             [
              0.8888888888888888,
              "#fdca26"
             ],
             [
              1,
              "#f0f921"
             ]
            ],
            "type": "histogram2dcontour"
           }
          ],
          "mesh3d": [
           {
            "colorbar": {
             "outlinewidth": 0,
             "ticks": ""
            },
            "type": "mesh3d"
           }
          ],
          "parcoords": [
           {
            "line": {
             "colorbar": {
              "outlinewidth": 0,
              "ticks": ""
             }
            },
            "type": "parcoords"
           }
          ],
          "pie": [
           {
            "automargin": true,
            "type": "pie"
           }
          ],
          "scatter": [
           {
            "fillpattern": {
             "fillmode": "overlay",
             "size": 10,
             "solidity": 0.2
            },
            "type": "scatter"
           }
          ],
          "scatter3d": [
           {
            "line": {
             "colorbar": {
              "outlinewidth": 0,
              "ticks": ""
             }
            },
            "marker": {
             "colorbar": {
              "outlinewidth": 0,
              "ticks": ""
             }
            },
            "type": "scatter3d"
           }
          ],
          "scattercarpet": [
           {
            "marker": {
             "colorbar": {
              "outlinewidth": 0,
              "ticks": ""
             }
            },
            "type": "scattercarpet"
           }
          ],
          "scattergeo": [
           {
            "marker": {
             "colorbar": {
              "outlinewidth": 0,
              "ticks": ""
             }
            },
            "type": "scattergeo"
           }
          ],
          "scattergl": [
           {
            "marker": {
             "colorbar": {
              "outlinewidth": 0,
              "ticks": ""
             }
            },
            "type": "scattergl"
           }
          ],
          "scattermapbox": [
           {
            "marker": {
             "colorbar": {
              "outlinewidth": 0,
              "ticks": ""
             }
            },
            "type": "scattermapbox"
           }
          ],
          "scatterpolar": [
           {
            "marker": {
             "colorbar": {
              "outlinewidth": 0,
              "ticks": ""
             }
            },
            "type": "scatterpolar"
           }
          ],
          "scatterpolargl": [
           {
            "marker": {
             "colorbar": {
              "outlinewidth": 0,
              "ticks": ""
             }
            },
            "type": "scatterpolargl"
           }
          ],
          "scatterternary": [
           {
            "marker": {
             "colorbar": {
              "outlinewidth": 0,
              "ticks": ""
             }
            },
            "type": "scatterternary"
           }
          ],
          "surface": [
           {
            "colorbar": {
             "outlinewidth": 0,
             "ticks": ""
            },
            "colorscale": [
             [
              0,
              "#0d0887"
             ],
             [
              0.1111111111111111,
              "#46039f"
             ],
             [
              0.2222222222222222,
              "#7201a8"
             ],
             [
              0.3333333333333333,
              "#9c179e"
             ],
             [
              0.4444444444444444,
              "#bd3786"
             ],
             [
              0.5555555555555556,
              "#d8576b"
             ],
             [
              0.6666666666666666,
              "#ed7953"
             ],
             [
              0.7777777777777778,
              "#fb9f3a"
             ],
             [
              0.8888888888888888,
              "#fdca26"
             ],
             [
              1,
              "#f0f921"
             ]
            ],
            "type": "surface"
           }
          ],
          "table": [
           {
            "cells": {
             "fill": {
              "color": "#EBF0F8"
             },
             "line": {
              "color": "white"
             }
            },
            "header": {
             "fill": {
              "color": "#C8D4E3"
             },
             "line": {
              "color": "white"
             }
            },
            "type": "table"
           }
          ]
         },
         "layout": {
          "annotationdefaults": {
           "arrowcolor": "#2a3f5f",
           "arrowhead": 0,
           "arrowwidth": 1
          },
          "autotypenumbers": "strict",
          "coloraxis": {
           "colorbar": {
            "outlinewidth": 0,
            "ticks": ""
           }
          },
          "colorscale": {
           "diverging": [
            [
             0,
             "#8e0152"
            ],
            [
             0.1,
             "#c51b7d"
            ],
            [
             0.2,
             "#de77ae"
            ],
            [
             0.3,
             "#f1b6da"
            ],
            [
             0.4,
             "#fde0ef"
            ],
            [
             0.5,
             "#f7f7f7"
            ],
            [
             0.6,
             "#e6f5d0"
            ],
            [
             0.7,
             "#b8e186"
            ],
            [
             0.8,
             "#7fbc41"
            ],
            [
             0.9,
             "#4d9221"
            ],
            [
             1,
             "#276419"
            ]
           ],
           "sequential": [
            [
             0,
             "#0d0887"
            ],
            [
             0.1111111111111111,
             "#46039f"
            ],
            [
             0.2222222222222222,
             "#7201a8"
            ],
            [
             0.3333333333333333,
             "#9c179e"
            ],
            [
             0.4444444444444444,
             "#bd3786"
            ],
            [
             0.5555555555555556,
             "#d8576b"
            ],
            [
             0.6666666666666666,
             "#ed7953"
            ],
            [
             0.7777777777777778,
             "#fb9f3a"
            ],
            [
             0.8888888888888888,
             "#fdca26"
            ],
            [
             1,
             "#f0f921"
            ]
           ],
           "sequentialminus": [
            [
             0,
             "#0d0887"
            ],
            [
             0.1111111111111111,
             "#46039f"
            ],
            [
             0.2222222222222222,
             "#7201a8"
            ],
            [
             0.3333333333333333,
             "#9c179e"
            ],
            [
             0.4444444444444444,
             "#bd3786"
            ],
            [
             0.5555555555555556,
             "#d8576b"
            ],
            [
             0.6666666666666666,
             "#ed7953"
            ],
            [
             0.7777777777777778,
             "#fb9f3a"
            ],
            [
             0.8888888888888888,
             "#fdca26"
            ],
            [
             1,
             "#f0f921"
            ]
           ]
          },
          "colorway": [
           "#636efa",
           "#EF553B",
           "#00cc96",
           "#ab63fa",
           "#FFA15A",
           "#19d3f3",
           "#FF6692",
           "#B6E880",
           "#FF97FF",
           "#FECB52"
          ],
          "font": {
           "color": "#2a3f5f"
          },
          "geo": {
           "bgcolor": "white",
           "lakecolor": "white",
           "landcolor": "#E5ECF6",
           "showlakes": true,
           "showland": true,
           "subunitcolor": "white"
          },
          "hoverlabel": {
           "align": "left"
          },
          "hovermode": "closest",
          "mapbox": {
           "style": "light"
          },
          "paper_bgcolor": "white",
          "plot_bgcolor": "#E5ECF6",
          "polar": {
           "angularaxis": {
            "gridcolor": "white",
            "linecolor": "white",
            "ticks": ""
           },
           "bgcolor": "#E5ECF6",
           "radialaxis": {
            "gridcolor": "white",
            "linecolor": "white",
            "ticks": ""
           }
          },
          "scene": {
           "xaxis": {
            "backgroundcolor": "#E5ECF6",
            "gridcolor": "white",
            "gridwidth": 2,
            "linecolor": "white",
            "showbackground": true,
            "ticks": "",
            "zerolinecolor": "white"
           },
           "yaxis": {
            "backgroundcolor": "#E5ECF6",
            "gridcolor": "white",
            "gridwidth": 2,
            "linecolor": "white",
            "showbackground": true,
            "ticks": "",
            "zerolinecolor": "white"
           },
           "zaxis": {
            "backgroundcolor": "#E5ECF6",
            "gridcolor": "white",
            "gridwidth": 2,
            "linecolor": "white",
            "showbackground": true,
            "ticks": "",
            "zerolinecolor": "white"
           }
          },
          "shapedefaults": {
           "line": {
            "color": "#2a3f5f"
           }
          },
          "ternary": {
           "aaxis": {
            "gridcolor": "white",
            "linecolor": "white",
            "ticks": ""
           },
           "baxis": {
            "gridcolor": "white",
            "linecolor": "white",
            "ticks": ""
           },
           "bgcolor": "#E5ECF6",
           "caxis": {
            "gridcolor": "white",
            "linecolor": "white",
            "ticks": ""
           }
          },
          "title": {
           "x": 0.05
          },
          "xaxis": {
           "automargin": true,
           "gridcolor": "white",
           "linecolor": "white",
           "ticks": "",
           "title": {
            "standoff": 15
           },
           "zerolinecolor": "white",
           "zerolinewidth": 2
          },
          "yaxis": {
           "automargin": true,
           "gridcolor": "white",
           "linecolor": "white",
           "ticks": "",
           "title": {
            "standoff": 15
           },
           "zerolinecolor": "white",
           "zerolinewidth": 2
          }
         }
        },
        "title": {
         "text": "Box Plot of three_g for Each Value of Price_Range"
        },
        "xaxis": {
         "autorange": true,
         "range": [
          -0.5,
          3.5
         ],
         "title": {
          "text": "price range"
         },
         "type": "category"
        },
        "yaxis": {
         "autorange": true,
         "range": [
          -0.05555555555555555,
          1.0555555555555556
         ],
         "title": {
          "text": "three_g"
         },
         "type": "linear"
        }
       }
      },
      "image/png": "[encoded data removed]",
      "text/html": [
       "<div>                            <div id=\"e7f77450-07cd-491c-b64c-2ebfa17bd5e0\" class=\"plotly-graph-div\" style=\"height:525px; width:100%;\"></div>            <script type=\"text/javascript\">                require([\"plotly\"], function(Plotly) {                    window.PLOTLYENV=window.PLOTLYENV || {};                                    if (document.getElementById(\"e7f77450-07cd-491c-b64c-2ebfa17bd5e0\")) {                    Plotly.newPlot(                        \"e7f77450-07cd-491c-b64c-2ebfa17bd5e0\",                        [{\"name\":\"price_range = 0\",\"y\":[1,1,1,1,1,1,1,1,1,1,1,1,1,1,1,1,0,1,0,0,1,1,1,0,1,1,1,0,1,1,0,1,1,0,1,1,1,1,0,1,1,1,1,1,0,1,1,1,1,1,1,1,0,1,1,0,1,1,1,0,1,1,1,0,1,0,0,1,1,0,1,1,1,1,1,1,0,1,0,0,1,1,1,0,1,0,1,0,1,1,1,1,0,1,1,1,0,0,1,0,1,1,0,1,1,1,1,0,1,0,1,1,0,0,1,1,1,1,1,1,1,1,1,0,1,0,1,1,0,1,1,1,1,1,0,0,1,1,0,1,0,1,1,1,1,0,1,1,1,1,1,1,1,1,1,0,0,0,1,1,0,0,1,0,1,1,1,1,1,1,0,1,1,0,0,1,1,1,1,1,1,1,1,1,1,1,0,0,0,1,1,1,1,0,1,0,0,1,1,1,1,0,0,1,1,0,1,0,1,1,1,1,1,0,1,1,0,0,1,1,1,0,0,1,1,1,1,1,1,1,0,1,1,0,1,0,1,1,1,0,1,1,0,1,1,1,0,1,1,1,1,0,0,1,0,0,1,1,1,1,0,1,1,0,0,1,1,0,1,1,1,1,1,1,0,1,1,1,0,0,1,1,1,1,1,1,1,1,1,1,1,1,0,1,1,0,0,1,1,1,1,1,0,1,1,1,1,1,1,1,1,0,0,1,1,0,1,1,1,1,1,1,1,1,0,0,1,1,1,1,0,0,1,1,1,1,0,1,1,0,0,1,1,1,1,1,1,0,1,1,1,1,0,0,1,1,0,0,1,1,1,0,1,1,1,1,1,1,1,1,1,1,1,1,1,1,1,1,1,1,1,1,1,1,1,1,1,1,1,1,1,1,0,0,0,1,1,0,1,1,1,1,1,0,1,0,1,0,1,1,1,0,1,1,1,1,1,0,1,1,1,1,1,1,1,1,1,1,0,1,1,1,0,1,1,0,1,1,1,1,0,1,0,1,1,1,1,1,0,1,1,1,0,1,1,0,0,1,1,1,0,1,1,1,0,1,1,0,0,1,0,1,1,1,0,1,1,1,1,1,1,1,1,1,1,1,0,1,0,0,1,1,1,1,1,1,1,1,1,1],\"type\":\"box\"},{\"name\":\"price_range = 1\",\"y\":[0,1,1,1,1,0,0,1,1,1,1,1,1,0,1,1,0,1,1,0,1,1,0,0,1,1,1,1,1,0,1,1,1,1,1,1,0,1,1,1,0,1,1,1,0,1,1,1,1,1,0,1,1,1,1,1,1,1,1,1,1,1,1,1,0,1,1,1,1,1,1,0,1,1,1,1,1,1,1,0,0,0,1,1,1,1,1,1,1,0,1,1,1,0,0,0,1,1,0,0,1,1,1,1,1,0,1,1,1,0,0,1,1,0,1,1,0,1,1,0,1,1,1,0,1,1,1,1,1,0,1,1,1,1,1,1,1,1,0,0,0,1,0,1,1,1,0,1,1,1,1,0,1,1,1,1,1,1,1,0,1,1,1,1,1,1,1,1,1,0,1,1,0,1,1,0,0,0,1,1,1,1,1,1,0,1,1,1,1,1,1,0,1,1,0,1,0,1,1,0,1,1,0,0,0,1,1,1,0,1,1,0,0,1,0,0,0,0,1,1,1,0,0,1,1,1,1,1,1,1,1,0,1,0,1,1,1,1,0,1,1,0,1,0,1,1,1,1,1,0,1,1,1,1,1,1,0,1,1,1,1,1,1,1,1,1,0,1,1,1,1,1,1,1,1,1,0,1,0,1,0,0,1,1,1,1,1,1,1,1,1,1,1,1,1,1,0,0,1,1,1,1,1,1,1,1,1,0,1,1,1,1,1,1,1,1,1,0,1,1,1,1,1,1,0,0,1,1,1,1,1,1,1,1,1,0,1,0,0,0,0,1,0,1,1,0,0,1,0,1,0,0,1,1,1,0,1,1,0,1,0,1,1,0,1,1,1,1,1,1,0,1,1,1,1,1,1,1,1,1,1,1,1,0,0,1,1,1,1,1,1,1,0,1,0,1,0,1,1,1,0,1,1,1,1,1,1,1,1,1,1,1,0,1,1,1,1,1,0,1,1,1,1,1,1,0,1,0,1,1,1,1,1,1,0,1,1,1,1,1,0,0,1,0,1,1,0,1,1,1,0,1,1,0,0,1,1,1,1,0,1,1,1,1,0,1,1,0,1,1,1,1,1,1,1,0,1,1,1,1,1,1,1,0,1,1,1,1,1,0,1,1,1,1,1,0,1,1,0,0],\"type\":\"box\"},{\"name\":\"price_range = 2\",\"y\":[1,1,1,1,1,1,1,1,1,1,0,0,1,1,1,1,1,1,1,1,1,1,1,1,0,1,1,1,0,0,1,1,0,1,1,1,1,1,1,1,1,1,1,0,1,1,1,1,1,1,1,1,1,1,1,1,1,0,1,1,1,1,1,0,0,1,1,1,1,1,1,0,1,0,0,0,0,0,0,1,1,1,1,1,1,1,0,1,1,0,1,1,1,1,1,1,1,1,1,1,1,1,1,1,0,1,1,1,0,1,1,1,1,1,1,1,0,1,1,1,1,1,1,1,1,0,0,1,0,1,1,1,1,1,0,1,0,1,1,1,0,1,0,1,1,0,0,1,1,1,1,1,1,1,0,0,1,1,1,1,1,1,0,0,0,1,1,1,1,1,1,1,1,1,1,1,1,0,1,1,1,1,0,1,1,1,1,1,1,1,1,0,0,0,1,1,1,1,0,1,1,1,0,1,1,0,0,0,1,1,0,1,0,1,1,1,0,1,1,1,1,0,1,1,1,0,0,1,1,1,1,1,1,1,1,1,1,1,1,1,1,1,1,1,1,0,0,1,1,1,0,1,0,1,1,0,1,1,0,0,0,1,1,1,0,1,1,1,1,1,1,0,0,1,1,1,1,0,1,1,1,0,0,1,1,1,1,1,1,1,1,1,1,0,1,1,1,1,1,1,1,0,1,1,1,1,1,1,1,1,0,1,0,1,1,1,1,0,0,1,1,1,1,1,1,1,1,1,1,1,0,1,1,1,1,0,1,1,0,1,1,1,1,0,1,1,1,1,1,1,1,1,1,1,1,1,1,0,1,1,1,1,1,0,0,0,0,1,1,1,1,1,1,1,1,1,1,1,1,1,1,1,1,0,1,1,1,1,1,0,0,1,1,1,1,1,0,1,1,1,0,0,1,1,1,0,1,1,0,1,1,1,1,1,1,0,0,1,1,1,1,1,1,1,1,0,1,1,1,1,1,0,0,1,0,0,0,1,1,1,1,1,1,1,0,1,1,1,0,1,0,1,0,0,1,1,1,1,0,1,0,1,1,0,1,1,1,1,1,1,1,0,1,1,1,1,1,1,0,1,1,1,1,1,0,0,1,1,1,1,1,0,1,0,1,1,1,0,0,1],\"type\":\"box\"},{\"name\":\"price_range = 3\",\"y\":[1,0,1,1,1,1,1,1,1,0,1,1,1,1,0,1,1,1,1,0,1,1,1,1,1,0,1,1,1,1,0,1,1,1,1,1,1,0,1,0,1,1,1,1,1,1,0,0,1,1,1,1,1,1,1,1,1,1,1,1,1,1,1,0,0,0,1,1,0,0,0,1,1,1,1,1,1,1,1,1,1,1,0,1,0,0,1,0,1,0,0,1,1,1,0,1,0,0,1,0,1,0,1,1,1,1,1,1,0,0,1,1,1,1,1,1,1,0,1,1,1,1,1,1,1,0,1,1,1,1,1,0,0,1,0,1,1,1,1,0,1,1,1,0,1,0,1,1,1,0,1,1,1,1,1,0,0,0,1,1,1,1,1,1,1,1,0,1,1,1,1,0,1,1,1,0,1,1,1,1,1,1,1,1,0,1,0,1,0,1,1,0,1,1,1,1,0,1,1,0,0,1,0,1,1,1,1,1,1,1,1,1,1,1,1,1,1,1,1,1,0,1,1,0,1,1,1,0,0,1,1,0,1,1,1,1,1,1,1,1,1,1,1,1,1,1,1,1,0,1,1,1,1,1,1,1,1,1,1,0,1,1,1,1,1,0,1,1,0,1,1,1,1,1,1,0,0,0,1,0,1,0,0,1,1,0,1,1,1,1,1,0,1,0,0,0,0,1,1,0,1,0,1,1,0,1,0,1,1,1,1,1,1,1,1,0,1,1,1,0,0,0,0,1,1,1,1,1,1,1,1,1,0,1,1,1,1,1,1,1,1,1,1,1,1,1,1,1,1,0,1,1,1,1,1,1,1,1,0,1,1,1,1,1,1,1,1,1,0,0,1,1,1,0,1,1,1,1,1,1,1,0,0,1,1,0,1,1,0,1,1,1,0,1,1,1,1,1,1,1,1,1,1,1,1,1,1,1,0,0,1,0,1,1,1,0,0,1,0,0,1,1,0,1,1,1,1,1,1,1,1,1,1,1,1,1,1,1,1,1,0,1,0,1,1,1,1,1,0,0,1,1,1,1,1,1,0,1,1,1,1,0,1,1,1,0,1,1,1,1,0,1,1,1,0,1,1,1,1,1,0,1,0,1,1,1,0,0,1,1,1,0,1,1,1,1,1,1,1,1],\"type\":\"box\"}],                        {\"title\":{\"text\":\"Box Plot of three_g for Each Value of Price_Range\"},\"xaxis\":{\"title\":{\"text\":\"price range\"}},\"yaxis\":{\"title\":{\"text\":\"three_g\"}},\"template\":{\"data\":{\"histogram2dcontour\":[{\"type\":\"histogram2dcontour\",\"colorbar\":{\"outlinewidth\":0,\"ticks\":\"\"},\"colorscale\":[[0.0,\"#0d0887\"],[0.1111111111111111,\"#46039f\"],[0.2222222222222222,\"#7201a8\"],[0.3333333333333333,\"#9c179e\"],[0.4444444444444444,\"#bd3786\"],[0.5555555555555556,\"#d8576b\"],[0.6666666666666666,\"#ed7953\"],[0.7777777777777778,\"#fb9f3a\"],[0.8888888888888888,\"#fdca26\"],[1.0,\"#f0f921\"]]}],\"choropleth\":[{\"type\":\"choropleth\",\"colorbar\":{\"outlinewidth\":0,\"ticks\":\"\"}}],\"histogram2d\":[{\"type\":\"histogram2d\",\"colorbar\":{\"outlinewidth\":0,\"ticks\":\"\"},\"colorscale\":[[0.0,\"#0d0887\"],[0.1111111111111111,\"#46039f\"],[0.2222222222222222,\"#7201a8\"],[0.3333333333333333,\"#9c179e\"],[0.4444444444444444,\"#bd3786\"],[0.5555555555555556,\"#d8576b\"],[0.6666666666666666,\"#ed7953\"],[0.7777777777777778,\"#fb9f3a\"],[0.8888888888888888,\"#fdca26\"],[1.0,\"#f0f921\"]]}],\"heatmap\":[{\"type\":\"heatmap\",\"colorbar\":{\"outlinewidth\":0,\"ticks\":\"\"},\"colorscale\":[[0.0,\"#0d0887\"],[0.1111111111111111,\"#46039f\"],[0.2222222222222222,\"#7201a8\"],[0.3333333333333333,\"#9c179e\"],[0.4444444444444444,\"#bd3786\"],[0.5555555555555556,\"#d8576b\"],[0.6666666666666666,\"#ed7953\"],[0.7777777777777778,\"#fb9f3a\"],[0.8888888888888888,\"#fdca26\"],[1.0,\"#f0f921\"]]}],\"heatmapgl\":[{\"type\":\"heatmapgl\",\"colorbar\":{\"outlinewidth\":0,\"ticks\":\"\"},\"colorscale\":[[0.0,\"#0d0887\"],[0.1111111111111111,\"#46039f\"],[0.2222222222222222,\"#7201a8\"],[0.3333333333333333,\"#9c179e\"],[0.4444444444444444,\"#bd3786\"],[0.5555555555555556,\"#d8576b\"],[0.6666666666666666,\"#ed7953\"],[0.7777777777777778,\"#fb9f3a\"],[0.8888888888888888,\"#fdca26\"],[1.0,\"#f0f921\"]]}],\"contourcarpet\":[{\"type\":\"contourcarpet\",\"colorbar\":{\"outlinewidth\":0,\"ticks\":\"\"}}],\"contour\":[{\"type\":\"contour\",\"colorbar\":{\"outlinewidth\":0,\"ticks\":\"\"},\"colorscale\":[[0.0,\"#0d0887\"],[0.1111111111111111,\"#46039f\"],[0.2222222222222222,\"#7201a8\"],[0.3333333333333333,\"#9c179e\"],[0.4444444444444444,\"#bd3786\"],[0.5555555555555556,\"#d8576b\"],[0.6666666666666666,\"#ed7953\"],[0.7777777777777778,\"#fb9f3a\"],[0.8888888888888888,\"#fdca26\"],[1.0,\"#f0f921\"]]}],\"surface\":[{\"type\":\"surface\",\"colorbar\":{\"outlinewidth\":0,\"ticks\":\"\"},\"colorscale\":[[0.0,\"#0d0887\"],[0.1111111111111111,\"#46039f\"],[0.2222222222222222,\"#7201a8\"],[0.3333333333333333,\"#9c179e\"],[0.4444444444444444,\"#bd3786\"],[0.5555555555555556,\"#d8576b\"],[0.6666666666666666,\"#ed7953\"],[0.7777777777777778,\"#fb9f3a\"],[0.8888888888888888,\"#fdca26\"],[1.0,\"#f0f921\"]]}],\"mesh3d\":[{\"type\":\"mesh3d\",\"colorbar\":{\"outlinewidth\":0,\"ticks\":\"\"}}],\"scatter\":[{\"fillpattern\":{\"fillmode\":\"overlay\",\"size\":10,\"solidity\":0.2},\"type\":\"scatter\"}],\"parcoords\":[{\"type\":\"parcoords\",\"line\":{\"colorbar\":{\"outlinewidth\":0,\"ticks\":\"\"}}}],\"scatterpolargl\":[{\"type\":\"scatterpolargl\",\"marker\":{\"colorbar\":{\"outlinewidth\":0,\"ticks\":\"\"}}}],\"bar\":[{\"error_x\":{\"color\":\"#2a3f5f\"},\"error_y\":{\"color\":\"#2a3f5f\"},\"marker\":{\"line\":{\"color\":\"#E5ECF6\",\"width\":0.5},\"pattern\":{\"fillmode\":\"overlay\",\"size\":10,\"solidity\":0.2}},\"type\":\"bar\"}],\"scattergeo\":[{\"type\":\"scattergeo\",\"marker\":{\"colorbar\":{\"outlinewidth\":0,\"ticks\":\"\"}}}],\"scatterpolar\":[{\"type\":\"scatterpolar\",\"marker\":{\"colorbar\":{\"outlinewidth\":0,\"ticks\":\"\"}}}],\"histogram\":[{\"marker\":{\"pattern\":{\"fillmode\":\"overlay\",\"size\":10,\"solidity\":0.2}},\"type\":\"histogram\"}],\"scattergl\":[{\"type\":\"scattergl\",\"marker\":{\"colorbar\":{\"outlinewidth\":0,\"ticks\":\"\"}}}],\"scatter3d\":[{\"type\":\"scatter3d\",\"line\":{\"colorbar\":{\"outlinewidth\":0,\"ticks\":\"\"}},\"marker\":{\"colorbar\":{\"outlinewidth\":0,\"ticks\":\"\"}}}],\"scattermapbox\":[{\"type\":\"scattermapbox\",\"marker\":{\"colorbar\":{\"outlinewidth\":0,\"ticks\":\"\"}}}],\"scatterternary\":[{\"type\":\"scatterternary\",\"marker\":{\"colorbar\":{\"outlinewidth\":0,\"ticks\":\"\"}}}],\"scattercarpet\":[{\"type\":\"scattercarpet\",\"marker\":{\"colorbar\":{\"outlinewidth\":0,\"ticks\":\"\"}}}],\"carpet\":[{\"aaxis\":{\"endlinecolor\":\"#2a3f5f\",\"gridcolor\":\"white\",\"linecolor\":\"white\",\"minorgridcolor\":\"white\",\"startlinecolor\":\"#2a3f5f\"},\"baxis\":{\"endlinecolor\":\"#2a3f5f\",\"gridcolor\":\"white\",\"linecolor\":\"white\",\"minorgridcolor\":\"white\",\"startlinecolor\":\"#2a3f5f\"},\"type\":\"carpet\"}],\"table\":[{\"cells\":{\"fill\":{\"color\":\"#EBF0F8\"},\"line\":{\"color\":\"white\"}},\"header\":{\"fill\":{\"color\":\"#C8D4E3\"},\"line\":{\"color\":\"white\"}},\"type\":\"table\"}],\"barpolar\":[{\"marker\":{\"line\":{\"color\":\"#E5ECF6\",\"width\":0.5},\"pattern\":{\"fillmode\":\"overlay\",\"size\":10,\"solidity\":0.2}},\"type\":\"barpolar\"}],\"pie\":[{\"automargin\":true,\"type\":\"pie\"}]},\"layout\":{\"autotypenumbers\":\"strict\",\"colorway\":[\"#636efa\",\"#EF553B\",\"#00cc96\",\"#ab63fa\",\"#FFA15A\",\"#19d3f3\",\"#FF6692\",\"#B6E880\",\"#FF97FF\",\"#FECB52\"],\"font\":{\"color\":\"#2a3f5f\"},\"hovermode\":\"closest\",\"hoverlabel\":{\"align\":\"left\"},\"paper_bgcolor\":\"white\",\"plot_bgcolor\":\"#E5ECF6\",\"polar\":{\"bgcolor\":\"#E5ECF6\",\"angularaxis\":{\"gridcolor\":\"white\",\"linecolor\":\"white\",\"ticks\":\"\"},\"radialaxis\":{\"gridcolor\":\"white\",\"linecolor\":\"white\",\"ticks\":\"\"}},\"ternary\":{\"bgcolor\":\"#E5ECF6\",\"aaxis\":{\"gridcolor\":\"white\",\"linecolor\":\"white\",\"ticks\":\"\"},\"baxis\":{\"gridcolor\":\"white\",\"linecolor\":\"white\",\"ticks\":\"\"},\"caxis\":{\"gridcolor\":\"white\",\"linecolor\":\"white\",\"ticks\":\"\"}},\"coloraxis\":{\"colorbar\":{\"outlinewidth\":0,\"ticks\":\"\"}},\"colorscale\":{\"sequential\":[[0.0,\"#0d0887\"],[0.1111111111111111,\"#46039f\"],[0.2222222222222222,\"#7201a8\"],[0.3333333333333333,\"#9c179e\"],[0.4444444444444444,\"#bd3786\"],[0.5555555555555556,\"#d8576b\"],[0.6666666666666666,\"#ed7953\"],[0.7777777777777778,\"#fb9f3a\"],[0.8888888888888888,\"#fdca26\"],[1.0,\"#f0f921\"]],\"sequentialminus\":[[0.0,\"#0d0887\"],[0.1111111111111111,\"#46039f\"],[0.2222222222222222,\"#7201a8\"],[0.3333333333333333,\"#9c179e\"],[0.4444444444444444,\"#bd3786\"],[0.5555555555555556,\"#d8576b\"],[0.6666666666666666,\"#ed7953\"],[0.7777777777777778,\"#fb9f3a\"],[0.8888888888888888,\"#fdca26\"],[1.0,\"#f0f921\"]],\"diverging\":[[0,\"#8e0152\"],[0.1,\"#c51b7d\"],[0.2,\"#de77ae\"],[0.3,\"#f1b6da\"],[0.4,\"#fde0ef\"],[0.5,\"#f7f7f7\"],[0.6,\"#e6f5d0\"],[0.7,\"#b8e186\"],[0.8,\"#7fbc41\"],[0.9,\"#4d9221\"],[1,\"#276419\"]]},\"xaxis\":{\"gridcolor\":\"white\",\"linecolor\":\"white\",\"ticks\":\"\",\"title\":{\"standoff\":15},\"zerolinecolor\":\"white\",\"automargin\":true,\"zerolinewidth\":2},\"yaxis\":{\"gridcolor\":\"white\",\"linecolor\":\"white\",\"ticks\":\"\",\"title\":{\"standoff\":15},\"zerolinecolor\":\"white\",\"automargin\":true,\"zerolinewidth\":2},\"scene\":{\"xaxis\":{\"backgroundcolor\":\"#E5ECF6\",\"gridcolor\":\"white\",\"linecolor\":\"white\",\"showbackground\":true,\"ticks\":\"\",\"zerolinecolor\":\"white\",\"gridwidth\":2},\"yaxis\":{\"backgroundcolor\":\"#E5ECF6\",\"gridcolor\":\"white\",\"linecolor\":\"white\",\"showbackground\":true,\"ticks\":\"\",\"zerolinecolor\":\"white\",\"gridwidth\":2},\"zaxis\":{\"backgroundcolor\":\"#E5ECF6\",\"gridcolor\":\"white\",\"linecolor\":\"white\",\"showbackground\":true,\"ticks\":\"\",\"zerolinecolor\":\"white\",\"gridwidth\":2}},\"shapedefaults\":{\"line\":{\"color\":\"#2a3f5f\"}},\"annotationdefaults\":{\"arrowcolor\":\"#2a3f5f\",\"arrowhead\":0,\"arrowwidth\":1},\"geo\":{\"bgcolor\":\"white\",\"landcolor\":\"#E5ECF6\",\"subunitcolor\":\"white\",\"showland\":true,\"showlakes\":true,\"lakecolor\":\"white\"},\"title\":{\"x\":0.05},\"mapbox\":{\"style\":\"light\"}}}},                        {\"responsive\": true}                    ).then(function(){\n",
       "                            \n",
       "var gd = document.getElementById('e7f77450-07cd-491c-b64c-2ebfa17bd5e0');\n",
       "var x = new MutationObserver(function (mutations, observer) {{\n",
       "        var display = window.getComputedStyle(gd).display;\n",
       "        if (!display || display === 'none') {{\n",
       "            console.log([gd, 'removed!']);\n",
       "            Plotly.purge(gd);\n",
       "            observer.disconnect();\n",
       "        }}\n",
       "}});\n",
       "\n",
       "// Listen for the removal of the full notebook cells\n",
       "var notebookContainer = gd.closest('#notebook-container');\n",
       "if (notebookContainer) {{\n",
       "    x.observe(notebookContainer, {childList: true});\n",
       "}}\n",
       "\n",
       "// Listen for the clearing of the current output cell\n",
       "var outputEl = gd.closest('.output');\n",
       "if (outputEl) {{\n",
       "    x.observe(outputEl, {childList: true});\n",
       "}}\n",
       "\n",
       "                        })                };                });            </script>        </div>"
      ]
     },
     "metadata": {},
     "output_type": "display_data"
    }
   ],
   "source": [
    "import plotly.graph_objects as go\n",
    "\n",
    "# Assuming df is your DataFrame with independent and dependent variables\n",
    "\n",
    "# Define your independent variable and dependent variable\n",
    "independent_variable = 'three_g'\n",
    "dependent_variable = 'price_range'\n",
    "\n",
    "# Group the data by the dependent variable and get unique values\n",
    "grouped_data = df.groupby(dependent_variable)[independent_variable]\n",
    "\n",
    "# Create an empty list to store box plot traces\n",
    "box_traces = []\n",
    "\n",
    "# Iterate over each group and create a box plot trace\n",
    "for group_name, group_data in grouped_data:\n",
    "    box_trace = go.Box(y=group_data, name=f'price_range = {group_name}')\n",
    "    box_traces.append(box_trace)\n",
    "\n",
    "# Create layout\n",
    "layout = go.Layout(title='Box Plot of three_g for Each Value of Price_Range',\n",
    "                   xaxis=dict(title='price range'),\n",
    "                   yaxis=dict(title='three_g'))\n",
    "\n",
    "# Create figure\n",
    "fig = go.Figure(data=box_traces, layout=layout)\n",
    "\n",
    "# Show the plot\n",
    "fig.show()\n"
   ]
  },
  {
   "cell_type": "code",
   "execution_count": 216,
   "id": "021d46e9-d5bf-4001-86aa-6a306a3f7efb",
   "metadata": {},
   "outputs": [
    {
     "name": "stdout",
     "output_type": "stream",
     "text": [
      "Counts for 'three_g' when 'price_range' is 0:\n",
      "three_g\n",
      "1    385\n",
      "0    115\n",
      "Name: count, dtype: int64\n"
     ]
    }
   ],
   "source": [
    "# Filter rows where 'price_range' is 0\n",
    "df_price_range_0 = df[df['price_range'] == 3]\n",
    "\n",
    "# Count the occurrences of each value in 'three_g' for 'price_range' = 0\n",
    "three_g_counts = df_price_range_0['three_g'].value_counts()\n",
    "\n",
    "print(\"Counts for 'three_g' when 'price_range' is 0:\")\n",
    "print(three_g_counts)"
   ]
  },
  {
   "cell_type": "code",
   "execution_count": 211,
   "id": "794ebefd-ce44-4972-bd3f-674bfafa4d75",
   "metadata": {},
   "outputs": [
    {
     "data": {
      "text/html": [
       "<div>\n",
       "<style scoped>\n",
       "    .dataframe tbody tr th:only-of-type {\n",
       "        vertical-align: middle;\n",
       "    }\n",
       "\n",
       "    .dataframe tbody tr th {\n",
       "        vertical-align: top;\n",
       "    }\n",
       "\n",
       "    .dataframe thead th {\n",
       "        text-align: right;\n",
       "    }\n",
       "</style>\n",
       "<table border=\"1\" class=\"dataframe\">\n",
       "  <thead>\n",
       "    <tr style=\"text-align: right;\">\n",
       "      <th></th>\n",
       "      <th>battery_power</th>\n",
       "      <th>blue</th>\n",
       "      <th>clock_speed</th>\n",
       "      <th>dual_sim</th>\n",
       "      <th>fc_log</th>\n",
       "      <th>four_g</th>\n",
       "      <th>int_memory</th>\n",
       "      <th>m_dep</th>\n",
       "      <th>mobile_wt</th>\n",
       "      <th>n_cores</th>\n",
       "      <th>...</th>\n",
       "      <th>px_width</th>\n",
       "      <th>ram</th>\n",
       "      <th>sc_h</th>\n",
       "      <th>sc_w</th>\n",
       "      <th>talk_time</th>\n",
       "      <th>three_g</th>\n",
       "      <th>touch_screen</th>\n",
       "      <th>wifi</th>\n",
       "      <th>price_range</th>\n",
       "      <th>fc_log</th>\n",
       "    </tr>\n",
       "  </thead>\n",
       "  <tbody>\n",
       "    <tr>\n",
       "      <th>0</th>\n",
       "      <td>842</td>\n",
       "      <td>0</td>\n",
       "      <td>2.2</td>\n",
       "      <td>0</td>\n",
       "      <td>0.693147</td>\n",
       "      <td>0</td>\n",
       "      <td>7</td>\n",
       "      <td>0.6</td>\n",
       "      <td>188</td>\n",
       "      <td>2</td>\n",
       "      <td>...</td>\n",
       "      <td>756</td>\n",
       "      <td>2549</td>\n",
       "      <td>9</td>\n",
       "      <td>7</td>\n",
       "      <td>19</td>\n",
       "      <td>0</td>\n",
       "      <td>0</td>\n",
       "      <td>1</td>\n",
       "      <td>1</td>\n",
       "      <td>0.693147</td>\n",
       "    </tr>\n",
       "    <tr>\n",
       "      <th>1</th>\n",
       "      <td>1021</td>\n",
       "      <td>1</td>\n",
       "      <td>0.5</td>\n",
       "      <td>1</td>\n",
       "      <td>0.000000</td>\n",
       "      <td>1</td>\n",
       "      <td>53</td>\n",
       "      <td>0.7</td>\n",
       "      <td>136</td>\n",
       "      <td>3</td>\n",
       "      <td>...</td>\n",
       "      <td>1988</td>\n",
       "      <td>2631</td>\n",
       "      <td>17</td>\n",
       "      <td>3</td>\n",
       "      <td>7</td>\n",
       "      <td>1</td>\n",
       "      <td>1</td>\n",
       "      <td>0</td>\n",
       "      <td>2</td>\n",
       "      <td>0.000000</td>\n",
       "    </tr>\n",
       "    <tr>\n",
       "      <th>2</th>\n",
       "      <td>563</td>\n",
       "      <td>1</td>\n",
       "      <td>0.5</td>\n",
       "      <td>1</td>\n",
       "      <td>1.098612</td>\n",
       "      <td>1</td>\n",
       "      <td>41</td>\n",
       "      <td>0.9</td>\n",
       "      <td>145</td>\n",
       "      <td>5</td>\n",
       "      <td>...</td>\n",
       "      <td>1716</td>\n",
       "      <td>2603</td>\n",
       "      <td>11</td>\n",
       "      <td>2</td>\n",
       "      <td>9</td>\n",
       "      <td>1</td>\n",
       "      <td>1</td>\n",
       "      <td>0</td>\n",
       "      <td>2</td>\n",
       "      <td>1.098612</td>\n",
       "    </tr>\n",
       "    <tr>\n",
       "      <th>3</th>\n",
       "      <td>615</td>\n",
       "      <td>1</td>\n",
       "      <td>2.5</td>\n",
       "      <td>0</td>\n",
       "      <td>0.000000</td>\n",
       "      <td>0</td>\n",
       "      <td>10</td>\n",
       "      <td>0.8</td>\n",
       "      <td>131</td>\n",
       "      <td>6</td>\n",
       "      <td>...</td>\n",
       "      <td>1786</td>\n",
       "      <td>2769</td>\n",
       "      <td>16</td>\n",
       "      <td>8</td>\n",
       "      <td>11</td>\n",
       "      <td>1</td>\n",
       "      <td>0</td>\n",
       "      <td>0</td>\n",
       "      <td>2</td>\n",
       "      <td>0.000000</td>\n",
       "    </tr>\n",
       "    <tr>\n",
       "      <th>4</th>\n",
       "      <td>1821</td>\n",
       "      <td>1</td>\n",
       "      <td>1.2</td>\n",
       "      <td>0</td>\n",
       "      <td>2.639057</td>\n",
       "      <td>1</td>\n",
       "      <td>44</td>\n",
       "      <td>0.6</td>\n",
       "      <td>141</td>\n",
       "      <td>2</td>\n",
       "      <td>...</td>\n",
       "      <td>1212</td>\n",
       "      <td>1411</td>\n",
       "      <td>8</td>\n",
       "      <td>2</td>\n",
       "      <td>15</td>\n",
       "      <td>1</td>\n",
       "      <td>1</td>\n",
       "      <td>0</td>\n",
       "      <td>1</td>\n",
       "      <td>2.639057</td>\n",
       "    </tr>\n",
       "    <tr>\n",
       "      <th>...</th>\n",
       "      <td>...</td>\n",
       "      <td>...</td>\n",
       "      <td>...</td>\n",
       "      <td>...</td>\n",
       "      <td>...</td>\n",
       "      <td>...</td>\n",
       "      <td>...</td>\n",
       "      <td>...</td>\n",
       "      <td>...</td>\n",
       "      <td>...</td>\n",
       "      <td>...</td>\n",
       "      <td>...</td>\n",
       "      <td>...</td>\n",
       "      <td>...</td>\n",
       "      <td>...</td>\n",
       "      <td>...</td>\n",
       "      <td>...</td>\n",
       "      <td>...</td>\n",
       "      <td>...</td>\n",
       "      <td>...</td>\n",
       "      <td>...</td>\n",
       "    </tr>\n",
       "    <tr>\n",
       "      <th>1995</th>\n",
       "      <td>794</td>\n",
       "      <td>1</td>\n",
       "      <td>0.5</td>\n",
       "      <td>1</td>\n",
       "      <td>0.000000</td>\n",
       "      <td>1</td>\n",
       "      <td>2</td>\n",
       "      <td>0.8</td>\n",
       "      <td>106</td>\n",
       "      <td>6</td>\n",
       "      <td>...</td>\n",
       "      <td>1890</td>\n",
       "      <td>668</td>\n",
       "      <td>13</td>\n",
       "      <td>4</td>\n",
       "      <td>19</td>\n",
       "      <td>1</td>\n",
       "      <td>1</td>\n",
       "      <td>0</td>\n",
       "      <td>0</td>\n",
       "      <td>0.000000</td>\n",
       "    </tr>\n",
       "    <tr>\n",
       "      <th>1996</th>\n",
       "      <td>1965</td>\n",
       "      <td>1</td>\n",
       "      <td>2.6</td>\n",
       "      <td>1</td>\n",
       "      <td>0.000000</td>\n",
       "      <td>0</td>\n",
       "      <td>39</td>\n",
       "      <td>0.2</td>\n",
       "      <td>187</td>\n",
       "      <td>4</td>\n",
       "      <td>...</td>\n",
       "      <td>1965</td>\n",
       "      <td>2032</td>\n",
       "      <td>11</td>\n",
       "      <td>10</td>\n",
       "      <td>16</td>\n",
       "      <td>1</td>\n",
       "      <td>1</td>\n",
       "      <td>1</td>\n",
       "      <td>2</td>\n",
       "      <td>0.000000</td>\n",
       "    </tr>\n",
       "    <tr>\n",
       "      <th>1997</th>\n",
       "      <td>1911</td>\n",
       "      <td>0</td>\n",
       "      <td>0.9</td>\n",
       "      <td>1</td>\n",
       "      <td>0.693147</td>\n",
       "      <td>1</td>\n",
       "      <td>36</td>\n",
       "      <td>0.7</td>\n",
       "      <td>108</td>\n",
       "      <td>8</td>\n",
       "      <td>...</td>\n",
       "      <td>1632</td>\n",
       "      <td>3057</td>\n",
       "      <td>9</td>\n",
       "      <td>1</td>\n",
       "      <td>5</td>\n",
       "      <td>1</td>\n",
       "      <td>1</td>\n",
       "      <td>0</td>\n",
       "      <td>3</td>\n",
       "      <td>0.693147</td>\n",
       "    </tr>\n",
       "    <tr>\n",
       "      <th>1998</th>\n",
       "      <td>1512</td>\n",
       "      <td>0</td>\n",
       "      <td>0.9</td>\n",
       "      <td>0</td>\n",
       "      <td>1.609438</td>\n",
       "      <td>1</td>\n",
       "      <td>46</td>\n",
       "      <td>0.1</td>\n",
       "      <td>145</td>\n",
       "      <td>5</td>\n",
       "      <td>...</td>\n",
       "      <td>670</td>\n",
       "      <td>869</td>\n",
       "      <td>18</td>\n",
       "      <td>10</td>\n",
       "      <td>19</td>\n",
       "      <td>1</td>\n",
       "      <td>1</td>\n",
       "      <td>1</td>\n",
       "      <td>0</td>\n",
       "      <td>1.609438</td>\n",
       "    </tr>\n",
       "    <tr>\n",
       "      <th>1999</th>\n",
       "      <td>510</td>\n",
       "      <td>1</td>\n",
       "      <td>2.0</td>\n",
       "      <td>1</td>\n",
       "      <td>1.791759</td>\n",
       "      <td>1</td>\n",
       "      <td>45</td>\n",
       "      <td>0.9</td>\n",
       "      <td>168</td>\n",
       "      <td>6</td>\n",
       "      <td>...</td>\n",
       "      <td>754</td>\n",
       "      <td>3919</td>\n",
       "      <td>19</td>\n",
       "      <td>4</td>\n",
       "      <td>2</td>\n",
       "      <td>1</td>\n",
       "      <td>1</td>\n",
       "      <td>1</td>\n",
       "      <td>3</td>\n",
       "      <td>1.791759</td>\n",
       "    </tr>\n",
       "  </tbody>\n",
       "</table>\n",
       "<p>2000 rows × 22 columns</p>\n",
       "</div>"
      ],
      "text/plain": [
       "      battery_power  blue  clock_speed  dual_sim    fc_log  four_g  \\\n",
       "0               842     0          2.2         0  0.693147       0   \n",
       "1              1021     1          0.5         1  0.000000       1   \n",
       "2               563     1          0.5         1  1.098612       1   \n",
       "3               615     1          2.5         0  0.000000       0   \n",
       "4              1821     1          1.2         0  2.639057       1   \n",
       "...             ...   ...          ...       ...       ...     ...   \n",
       "1995            794     1          0.5         1  0.000000       1   \n",
       "1996           1965     1          2.6         1  0.000000       0   \n",
       "1997           1911     0          0.9         1  0.693147       1   \n",
       "1998           1512     0          0.9         0  1.609438       1   \n",
       "1999            510     1          2.0         1  1.791759       1   \n",
       "\n",
       "      int_memory  m_dep  mobile_wt  n_cores  ...  px_width   ram  sc_h  sc_w  \\\n",
       "0              7    0.6        188        2  ...       756  2549     9     7   \n",
       "1             53    0.7        136        3  ...      1988  2631    17     3   \n",
       "2             41    0.9        145        5  ...      1716  2603    11     2   \n",
       "3             10    0.8        131        6  ...      1786  2769    16     8   \n",
       "4             44    0.6        141        2  ...      1212  1411     8     2   \n",
       "...          ...    ...        ...      ...  ...       ...   ...   ...   ...   \n",
       "1995           2    0.8        106        6  ...      1890   668    13     4   \n",
       "1996          39    0.2        187        4  ...      1965  2032    11    10   \n",
       "1997          36    0.7        108        8  ...      1632  3057     9     1   \n",
       "1998          46    0.1        145        5  ...       670   869    18    10   \n",
       "1999          45    0.9        168        6  ...       754  3919    19     4   \n",
       "\n",
       "      talk_time  three_g  touch_screen  wifi  price_range    fc_log  \n",
       "0            19        0             0     1            1  0.693147  \n",
       "1             7        1             1     0            2  0.000000  \n",
       "2             9        1             1     0            2  1.098612  \n",
       "3            11        1             0     0            2  0.000000  \n",
       "4            15        1             1     0            1  2.639057  \n",
       "...         ...      ...           ...   ...          ...       ...  \n",
       "1995         19        1             1     0            0  0.000000  \n",
       "1996         16        1             1     1            2  0.000000  \n",
       "1997          5        1             1     0            3  0.693147  \n",
       "1998         19        1             1     1            0  1.609438  \n",
       "1999          2        1             1     1            3  1.791759  \n",
       "\n",
       "[2000 rows x 22 columns]"
      ]
     },
     "execution_count": 211,
     "metadata": {},
     "output_type": "execute_result"
    }
   ],
   "source": [
    "df"
   ]
  },
  {
   "cell_type": "code",
   "execution_count": null,
   "id": "7448efe8-eca9-4426-93b0-189994e9af97",
   "metadata": {},
   "outputs": [],
   "source": [
    "#chi square test"
   ]
  },
  {
   "cell_type": "code",
   "execution_count": 84,
   "id": "5ad0dbab-f0a4-4175-aff6-5d3082380155",
   "metadata": {},
   "outputs": [
    {
     "name": "stdout",
     "output_type": "stream",
     "text": [
      "Chi-square test statistics with Critical Values and P-values:\n",
      "   Independent Variable  Chi-square Test Statistic   P-value  Critical Value\n",
      "0                  blue                   1.432143  0.698018        7.814728\n",
      "1              dual_sim                   1.286464  0.732350        7.814728\n",
      "2                    fc                  61.798996  0.308712       75.623748\n",
      "3                four_g                   3.179880  0.364714        7.814728\n",
      "4            int_memory                 212.088414  0.092042      218.820491\n",
      "5               n_cores                  20.524450  0.488294       32.670573\n",
      "6                    pc                  65.503970  0.291741       79.081944\n",
      "7             talk_time                  37.563087  0.956597       72.153216\n",
      "8               three_g                   1.373764  0.711696        7.814728\n",
      "9          touch_screen                   3.880140  0.274701        7.814728\n",
      "10                 wifi                   0.856168  0.835991        7.814728\n"
     ]
    },
    {
     "data": {
      "application/vnd.plotly.v1+json": {
       "config": {
        "plotlyServerURL": "https://plot.ly"
       },
       "data": [
        {
         "marker": {
          "color": "skyblue"
         },
         "type": "bar",
         "x": [
          "blue",
          "dual_sim",
          "fc",
          "four_g",
          "int_memory",
          "n_cores",
          "pc",
          "talk_time",
          "three_g",
          "touch_screen",
          "wifi"
         ],
         "y": [
          1.432143214321432,
          1.286464413653329,
          61.79899552936133,
          3.179879597375548,
          212.0884139508272,
          20.524450237054058,
          65.5039695118964,
          37.56308732552745,
          1.3737644035343461,
          3.880139685028661,
          0.8561678088905424
         ]
        }
       ],
       "layout": {
        "autosize": true,
        "template": {
         "data": {
          "bar": [
           {
            "error_x": {
             "color": "#2a3f5f"
            },
            "error_y": {
             "color": "#2a3f5f"
            },
            "marker": {
             "line": {
              "color": "#E5ECF6",
              "width": 0.5
             },
             "pattern": {
              "fillmode": "overlay",
              "size": 10,
              "solidity": 0.2
             }
            },
            "type": "bar"
           }
          ],
          "barpolar": [
           {
            "marker": {
             "line": {
              "color": "#E5ECF6",
              "width": 0.5
             },
             "pattern": {
              "fillmode": "overlay",
              "size": 10,
              "solidity": 0.2
             }
            },
            "type": "barpolar"
           }
          ],
          "carpet": [
           {
            "aaxis": {
             "endlinecolor": "#2a3f5f",
             "gridcolor": "white",
             "linecolor": "white",
             "minorgridcolor": "white",
             "startlinecolor": "#2a3f5f"
            },
            "baxis": {
             "endlinecolor": "#2a3f5f",
             "gridcolor": "white",
             "linecolor": "white",
             "minorgridcolor": "white",
             "startlinecolor": "#2a3f5f"
            },
            "type": "carpet"
           }
          ],
          "choropleth": [
           {
            "colorbar": {
             "outlinewidth": 0,
             "ticks": ""
            },
            "type": "choropleth"
           }
          ],
          "contour": [
           {
            "colorbar": {
             "outlinewidth": 0,
             "ticks": ""
            },
            "colorscale": [
             [
              0,
              "#0d0887"
             ],
             [
              0.1111111111111111,
              "#46039f"
             ],
             [
              0.2222222222222222,
              "#7201a8"
             ],
             [
              0.3333333333333333,
              "#9c179e"
             ],
             [
              0.4444444444444444,
              "#bd3786"
             ],
             [
              0.5555555555555556,
              "#d8576b"
             ],
             [
              0.6666666666666666,
              "#ed7953"
             ],
             [
              0.7777777777777778,
              "#fb9f3a"
             ],
             [
              0.8888888888888888,
              "#fdca26"
             ],
             [
              1,
              "#f0f921"
             ]
            ],
            "type": "contour"
           }
          ],
          "contourcarpet": [
           {
            "colorbar": {
             "outlinewidth": 0,
             "ticks": ""
            },
            "type": "contourcarpet"
           }
          ],
          "heatmap": [
           {
            "colorbar": {
             "outlinewidth": 0,
             "ticks": ""
            },
            "colorscale": [
             [
              0,
              "#0d0887"
             ],
             [
              0.1111111111111111,
              "#46039f"
             ],
             [
              0.2222222222222222,
              "#7201a8"
             ],
             [
              0.3333333333333333,
              "#9c179e"
             ],
             [
              0.4444444444444444,
              "#bd3786"
             ],
             [
              0.5555555555555556,
              "#d8576b"
             ],
             [
              0.6666666666666666,
              "#ed7953"
             ],
             [
              0.7777777777777778,
              "#fb9f3a"
             ],
             [
              0.8888888888888888,
              "#fdca26"
             ],
             [
              1,
              "#f0f921"
             ]
            ],
            "type": "heatmap"
           }
          ],
          "heatmapgl": [
           {
            "colorbar": {
             "outlinewidth": 0,
             "ticks": ""
            },
            "colorscale": [
             [
              0,
              "#0d0887"
             ],
             [
              0.1111111111111111,
              "#46039f"
             ],
             [
              0.2222222222222222,
              "#7201a8"
             ],
             [
              0.3333333333333333,
              "#9c179e"
             ],
             [
              0.4444444444444444,
              "#bd3786"
             ],
             [
              0.5555555555555556,
              "#d8576b"
             ],
             [
              0.6666666666666666,
              "#ed7953"
             ],
             [
              0.7777777777777778,
              "#fb9f3a"
             ],
             [
              0.8888888888888888,
              "#fdca26"
             ],
             [
              1,
              "#f0f921"
             ]
            ],
            "type": "heatmapgl"
           }
          ],
          "histogram": [
           {
            "marker": {
             "pattern": {
              "fillmode": "overlay",
              "size": 10,
              "solidity": 0.2
             }
            },
            "type": "histogram"
           }
          ],
          "histogram2d": [
           {
            "colorbar": {
             "outlinewidth": 0,
             "ticks": ""
            },
            "colorscale": [
             [
              0,
              "#0d0887"
             ],
             [
              0.1111111111111111,
              "#46039f"
             ],
             [
              0.2222222222222222,
              "#7201a8"
             ],
             [
              0.3333333333333333,
              "#9c179e"
             ],
             [
              0.4444444444444444,
              "#bd3786"
             ],
             [
              0.5555555555555556,
              "#d8576b"
             ],
             [
              0.6666666666666666,
              "#ed7953"
             ],
             [
              0.7777777777777778,
              "#fb9f3a"
             ],
             [
              0.8888888888888888,
              "#fdca26"
             ],
             [
              1,
              "#f0f921"
             ]
            ],
            "type": "histogram2d"
           }
          ],
          "histogram2dcontour": [
           {
            "colorbar": {
             "outlinewidth": 0,
             "ticks": ""
            },
            "colorscale": [
             [
              0,
              "#0d0887"
             ],
             [
              0.1111111111111111,
              "#46039f"
             ],
             [
              0.2222222222222222,
              "#7201a8"
             ],
             [
              0.3333333333333333,
              "#9c179e"
             ],
             [
              0.4444444444444444,
              "#bd3786"
             ],
             [
              0.5555555555555556,
              "#d8576b"
             ],
             [
              0.6666666666666666,
              "#ed7953"
             ],
             [
              0.7777777777777778,
              "#fb9f3a"
             ],
             [
              0.8888888888888888,
              "#fdca26"
             ],
             [
              1,
              "#f0f921"
             ]
            ],
            "type": "histogram2dcontour"
           }
          ],
          "mesh3d": [
           {
            "colorbar": {
             "outlinewidth": 0,
             "ticks": ""
            },
            "type": "mesh3d"
           }
          ],
          "parcoords": [
           {
            "line": {
             "colorbar": {
              "outlinewidth": 0,
              "ticks": ""
             }
            },
            "type": "parcoords"
           }
          ],
          "pie": [
           {
            "automargin": true,
            "type": "pie"
           }
          ],
          "scatter": [
           {
            "fillpattern": {
             "fillmode": "overlay",
             "size": 10,
             "solidity": 0.2
            },
            "type": "scatter"
           }
          ],
          "scatter3d": [
           {
            "line": {
             "colorbar": {
              "outlinewidth": 0,
              "ticks": ""
             }
            },
            "marker": {
             "colorbar": {
              "outlinewidth": 0,
              "ticks": ""
             }
            },
            "type": "scatter3d"
           }
          ],
          "scattercarpet": [
           {
            "marker": {
             "colorbar": {
              "outlinewidth": 0,
              "ticks": ""
             }
            },
            "type": "scattercarpet"
           }
          ],
          "scattergeo": [
           {
            "marker": {
             "colorbar": {
              "outlinewidth": 0,
              "ticks": ""
             }
            },
            "type": "scattergeo"
           }
          ],
          "scattergl": [
           {
            "marker": {
             "colorbar": {
              "outlinewidth": 0,
              "ticks": ""
             }
            },
            "type": "scattergl"
           }
          ],
          "scattermapbox": [
           {
            "marker": {
             "colorbar": {
              "outlinewidth": 0,
              "ticks": ""
             }
            },
            "type": "scattermapbox"
           }
          ],
          "scatterpolar": [
           {
            "marker": {
             "colorbar": {
              "outlinewidth": 0,
              "ticks": ""
             }
            },
            "type": "scatterpolar"
           }
          ],
          "scatterpolargl": [
           {
            "marker": {
             "colorbar": {
              "outlinewidth": 0,
              "ticks": ""
             }
            },
            "type": "scatterpolargl"
           }
          ],
          "scatterternary": [
           {
            "marker": {
             "colorbar": {
              "outlinewidth": 0,
              "ticks": ""
             }
            },
            "type": "scatterternary"
           }
          ],
          "surface": [
           {
            "colorbar": {
             "outlinewidth": 0,
             "ticks": ""
            },
            "colorscale": [
             [
              0,
              "#0d0887"
             ],
             [
              0.1111111111111111,
              "#46039f"
             ],
             [
              0.2222222222222222,
              "#7201a8"
             ],
             [
              0.3333333333333333,
              "#9c179e"
             ],
             [
              0.4444444444444444,
              "#bd3786"
             ],
             [
              0.5555555555555556,
              "#d8576b"
             ],
             [
              0.6666666666666666,
              "#ed7953"
             ],
             [
              0.7777777777777778,
              "#fb9f3a"
             ],
             [
              0.8888888888888888,
              "#fdca26"
             ],
             [
              1,
              "#f0f921"
             ]
            ],
            "type": "surface"
           }
          ],
          "table": [
           {
            "cells": {
             "fill": {
              "color": "#EBF0F8"
             },
             "line": {
              "color": "white"
             }
            },
            "header": {
             "fill": {
              "color": "#C8D4E3"
             },
             "line": {
              "color": "white"
             }
            },
            "type": "table"
           }
          ]
         },
         "layout": {
          "annotationdefaults": {
           "arrowcolor": "#2a3f5f",
           "arrowhead": 0,
           "arrowwidth": 1
          },
          "autotypenumbers": "strict",
          "coloraxis": {
           "colorbar": {
            "outlinewidth": 0,
            "ticks": ""
           }
          },
          "colorscale": {
           "diverging": [
            [
             0,
             "#8e0152"
            ],
            [
             0.1,
             "#c51b7d"
            ],
            [
             0.2,
             "#de77ae"
            ],
            [
             0.3,
             "#f1b6da"
            ],
            [
             0.4,
             "#fde0ef"
            ],
            [
             0.5,
             "#f7f7f7"
            ],
            [
             0.6,
             "#e6f5d0"
            ],
            [
             0.7,
             "#b8e186"
            ],
            [
             0.8,
             "#7fbc41"
            ],
            [
             0.9,
             "#4d9221"
            ],
            [
             1,
             "#276419"
            ]
           ],
           "sequential": [
            [
             0,
             "#0d0887"
            ],
            [
             0.1111111111111111,
             "#46039f"
            ],
            [
             0.2222222222222222,
             "#7201a8"
            ],
            [
             0.3333333333333333,
             "#9c179e"
            ],
            [
             0.4444444444444444,
             "#bd3786"
            ],
            [
             0.5555555555555556,
             "#d8576b"
            ],
            [
             0.6666666666666666,
             "#ed7953"
            ],
            [
             0.7777777777777778,
             "#fb9f3a"
            ],
            [
             0.8888888888888888,
             "#fdca26"
            ],
            [
             1,
             "#f0f921"
            ]
           ],
           "sequentialminus": [
            [
             0,
             "#0d0887"
            ],
            [
             0.1111111111111111,
             "#46039f"
            ],
            [
             0.2222222222222222,
             "#7201a8"
            ],
            [
             0.3333333333333333,
             "#9c179e"
            ],
            [
             0.4444444444444444,
             "#bd3786"
            ],
            [
             0.5555555555555556,
             "#d8576b"
            ],
            [
             0.6666666666666666,
             "#ed7953"
            ],
            [
             0.7777777777777778,
             "#fb9f3a"
            ],
            [
             0.8888888888888888,
             "#fdca26"
            ],
            [
             1,
             "#f0f921"
            ]
           ]
          },
          "colorway": [
           "#636efa",
           "#EF553B",
           "#00cc96",
           "#ab63fa",
           "#FFA15A",
           "#19d3f3",
           "#FF6692",
           "#B6E880",
           "#FF97FF",
           "#FECB52"
          ],
          "font": {
           "color": "#2a3f5f"
          },
          "geo": {
           "bgcolor": "white",
           "lakecolor": "white",
           "landcolor": "#E5ECF6",
           "showlakes": true,
           "showland": true,
           "subunitcolor": "white"
          },
          "hoverlabel": {
           "align": "left"
          },
          "hovermode": "closest",
          "mapbox": {
           "style": "light"
          },
          "paper_bgcolor": "white",
          "plot_bgcolor": "#E5ECF6",
          "polar": {
           "angularaxis": {
            "gridcolor": "white",
            "linecolor": "white",
            "ticks": ""
           },
           "bgcolor": "#E5ECF6",
           "radialaxis": {
            "gridcolor": "white",
            "linecolor": "white",
            "ticks": ""
           }
          },
          "scene": {
           "xaxis": {
            "backgroundcolor": "#E5ECF6",
            "gridcolor": "white",
            "gridwidth": 2,
            "linecolor": "white",
            "showbackground": true,
            "ticks": "",
            "zerolinecolor": "white"
           },
           "yaxis": {
            "backgroundcolor": "#E5ECF6",
            "gridcolor": "white",
            "gridwidth": 2,
            "linecolor": "white",
            "showbackground": true,
            "ticks": "",
            "zerolinecolor": "white"
           },
           "zaxis": {
            "backgroundcolor": "#E5ECF6",
            "gridcolor": "white",
            "gridwidth": 2,
            "linecolor": "white",
            "showbackground": true,
            "ticks": "",
            "zerolinecolor": "white"
           }
          },
          "shapedefaults": {
           "line": {
            "color": "#2a3f5f"
           }
          },
          "ternary": {
           "aaxis": {
            "gridcolor": "white",
            "linecolor": "white",
            "ticks": ""
           },
           "baxis": {
            "gridcolor": "white",
            "linecolor": "white",
            "ticks": ""
           },
           "bgcolor": "#E5ECF6",
           "caxis": {
            "gridcolor": "white",
            "linecolor": "white",
            "ticks": ""
           }
          },
          "title": {
           "x": 0.05
          },
          "xaxis": {
           "automargin": true,
           "gridcolor": "white",
           "linecolor": "white",
           "ticks": "",
           "title": {
            "standoff": 15
           },
           "zerolinecolor": "white",
           "zerolinewidth": 2
          },
          "yaxis": {
           "automargin": true,
           "gridcolor": "white",
           "linecolor": "white",
           "ticks": "",
           "title": {
            "standoff": 15
           },
           "zerolinecolor": "white",
           "zerolinewidth": 2
          }
         }
        },
        "title": {
         "text": "Chi-square Test Statistics for Independent Variables"
        },
        "xaxis": {
         "autorange": true,
         "range": [
          -0.5,
          10.5
         ],
         "title": {
          "text": "Independent Variable"
         },
         "type": "category"
        },
        "yaxis": {
         "autorange": true,
         "range": [
          0,
          223.25096205350232
         ],
         "title": {
          "text": "Chi-square Test Statistic"
         },
         "type": "linear"
        }
       }
      },
      "image/png": "[encoded data removed]",
      "text/html": [
       "<div>                            <div id=\"04cf16a0-acb2-4c53-8f6f-c6da987d740b\" class=\"plotly-graph-div\" style=\"height:525px; width:100%;\"></div>            <script type=\"text/javascript\">                require([\"plotly\"], function(Plotly) {                    window.PLOTLYENV=window.PLOTLYENV || {};                                    if (document.getElementById(\"04cf16a0-acb2-4c53-8f6f-c6da987d740b\")) {                    Plotly.newPlot(                        \"04cf16a0-acb2-4c53-8f6f-c6da987d740b\",                        [{\"marker\":{\"color\":\"skyblue\"},\"x\":[\"blue\",\"dual_sim\",\"fc\",\"four_g\",\"int_memory\",\"n_cores\",\"pc\",\"talk_time\",\"three_g\",\"touch_screen\",\"wifi\"],\"y\":[1.432143214321432,1.286464413653329,61.79899552936133,3.179879597375548,212.0884139508272,20.524450237054058,65.5039695118964,37.56308732552745,1.3737644035343461,3.880139685028661,0.8561678088905424],\"type\":\"bar\"}],                        {\"title\":{\"text\":\"Chi-square Test Statistics for Independent Variables\"},\"xaxis\":{\"title\":{\"text\":\"Independent Variable\"}},\"yaxis\":{\"title\":{\"text\":\"Chi-square Test Statistic\"}},\"template\":{\"data\":{\"histogram2dcontour\":[{\"type\":\"histogram2dcontour\",\"colorbar\":{\"outlinewidth\":0,\"ticks\":\"\"},\"colorscale\":[[0.0,\"#0d0887\"],[0.1111111111111111,\"#46039f\"],[0.2222222222222222,\"#7201a8\"],[0.3333333333333333,\"#9c179e\"],[0.4444444444444444,\"#bd3786\"],[0.5555555555555556,\"#d8576b\"],[0.6666666666666666,\"#ed7953\"],[0.7777777777777778,\"#fb9f3a\"],[0.8888888888888888,\"#fdca26\"],[1.0,\"#f0f921\"]]}],\"choropleth\":[{\"type\":\"choropleth\",\"colorbar\":{\"outlinewidth\":0,\"ticks\":\"\"}}],\"histogram2d\":[{\"type\":\"histogram2d\",\"colorbar\":{\"outlinewidth\":0,\"ticks\":\"\"},\"colorscale\":[[0.0,\"#0d0887\"],[0.1111111111111111,\"#46039f\"],[0.2222222222222222,\"#7201a8\"],[0.3333333333333333,\"#9c179e\"],[0.4444444444444444,\"#bd3786\"],[0.5555555555555556,\"#d8576b\"],[0.6666666666666666,\"#ed7953\"],[0.7777777777777778,\"#fb9f3a\"],[0.8888888888888888,\"#fdca26\"],[1.0,\"#f0f921\"]]}],\"heatmap\":[{\"type\":\"heatmap\",\"colorbar\":{\"outlinewidth\":0,\"ticks\":\"\"},\"colorscale\":[[0.0,\"#0d0887\"],[0.1111111111111111,\"#46039f\"],[0.2222222222222222,\"#7201a8\"],[0.3333333333333333,\"#9c179e\"],[0.4444444444444444,\"#bd3786\"],[0.5555555555555556,\"#d8576b\"],[0.6666666666666666,\"#ed7953\"],[0.7777777777777778,\"#fb9f3a\"],[0.8888888888888888,\"#fdca26\"],[1.0,\"#f0f921\"]]}],\"heatmapgl\":[{\"type\":\"heatmapgl\",\"colorbar\":{\"outlinewidth\":0,\"ticks\":\"\"},\"colorscale\":[[0.0,\"#0d0887\"],[0.1111111111111111,\"#46039f\"],[0.2222222222222222,\"#7201a8\"],[0.3333333333333333,\"#9c179e\"],[0.4444444444444444,\"#bd3786\"],[0.5555555555555556,\"#d8576b\"],[0.6666666666666666,\"#ed7953\"],[0.7777777777777778,\"#fb9f3a\"],[0.8888888888888888,\"#fdca26\"],[1.0,\"#f0f921\"]]}],\"contourcarpet\":[{\"type\":\"contourcarpet\",\"colorbar\":{\"outlinewidth\":0,\"ticks\":\"\"}}],\"contour\":[{\"type\":\"contour\",\"colorbar\":{\"outlinewidth\":0,\"ticks\":\"\"},\"colorscale\":[[0.0,\"#0d0887\"],[0.1111111111111111,\"#46039f\"],[0.2222222222222222,\"#7201a8\"],[0.3333333333333333,\"#9c179e\"],[0.4444444444444444,\"#bd3786\"],[0.5555555555555556,\"#d8576b\"],[0.6666666666666666,\"#ed7953\"],[0.7777777777777778,\"#fb9f3a\"],[0.8888888888888888,\"#fdca26\"],[1.0,\"#f0f921\"]]}],\"surface\":[{\"type\":\"surface\",\"colorbar\":{\"outlinewidth\":0,\"ticks\":\"\"},\"colorscale\":[[0.0,\"#0d0887\"],[0.1111111111111111,\"#46039f\"],[0.2222222222222222,\"#7201a8\"],[0.3333333333333333,\"#9c179e\"],[0.4444444444444444,\"#bd3786\"],[0.5555555555555556,\"#d8576b\"],[0.6666666666666666,\"#ed7953\"],[0.7777777777777778,\"#fb9f3a\"],[0.8888888888888888,\"#fdca26\"],[1.0,\"#f0f921\"]]}],\"mesh3d\":[{\"type\":\"mesh3d\",\"colorbar\":{\"outlinewidth\":0,\"ticks\":\"\"}}],\"scatter\":[{\"fillpattern\":{\"fillmode\":\"overlay\",\"size\":10,\"solidity\":0.2},\"type\":\"scatter\"}],\"parcoords\":[{\"type\":\"parcoords\",\"line\":{\"colorbar\":{\"outlinewidth\":0,\"ticks\":\"\"}}}],\"scatterpolargl\":[{\"type\":\"scatterpolargl\",\"marker\":{\"colorbar\":{\"outlinewidth\":0,\"ticks\":\"\"}}}],\"bar\":[{\"error_x\":{\"color\":\"#2a3f5f\"},\"error_y\":{\"color\":\"#2a3f5f\"},\"marker\":{\"line\":{\"color\":\"#E5ECF6\",\"width\":0.5},\"pattern\":{\"fillmode\":\"overlay\",\"size\":10,\"solidity\":0.2}},\"type\":\"bar\"}],\"scattergeo\":[{\"type\":\"scattergeo\",\"marker\":{\"colorbar\":{\"outlinewidth\":0,\"ticks\":\"\"}}}],\"scatterpolar\":[{\"type\":\"scatterpolar\",\"marker\":{\"colorbar\":{\"outlinewidth\":0,\"ticks\":\"\"}}}],\"histogram\":[{\"marker\":{\"pattern\":{\"fillmode\":\"overlay\",\"size\":10,\"solidity\":0.2}},\"type\":\"histogram\"}],\"scattergl\":[{\"type\":\"scattergl\",\"marker\":{\"colorbar\":{\"outlinewidth\":0,\"ticks\":\"\"}}}],\"scatter3d\":[{\"type\":\"scatter3d\",\"line\":{\"colorbar\":{\"outlinewidth\":0,\"ticks\":\"\"}},\"marker\":{\"colorbar\":{\"outlinewidth\":0,\"ticks\":\"\"}}}],\"scattermapbox\":[{\"type\":\"scattermapbox\",\"marker\":{\"colorbar\":{\"outlinewidth\":0,\"ticks\":\"\"}}}],\"scatterternary\":[{\"type\":\"scatterternary\",\"marker\":{\"colorbar\":{\"outlinewidth\":0,\"ticks\":\"\"}}}],\"scattercarpet\":[{\"type\":\"scattercarpet\",\"marker\":{\"colorbar\":{\"outlinewidth\":0,\"ticks\":\"\"}}}],\"carpet\":[{\"aaxis\":{\"endlinecolor\":\"#2a3f5f\",\"gridcolor\":\"white\",\"linecolor\":\"white\",\"minorgridcolor\":\"white\",\"startlinecolor\":\"#2a3f5f\"},\"baxis\":{\"endlinecolor\":\"#2a3f5f\",\"gridcolor\":\"white\",\"linecolor\":\"white\",\"minorgridcolor\":\"white\",\"startlinecolor\":\"#2a3f5f\"},\"type\":\"carpet\"}],\"table\":[{\"cells\":{\"fill\":{\"color\":\"#EBF0F8\"},\"line\":{\"color\":\"white\"}},\"header\":{\"fill\":{\"color\":\"#C8D4E3\"},\"line\":{\"color\":\"white\"}},\"type\":\"table\"}],\"barpolar\":[{\"marker\":{\"line\":{\"color\":\"#E5ECF6\",\"width\":0.5},\"pattern\":{\"fillmode\":\"overlay\",\"size\":10,\"solidity\":0.2}},\"type\":\"barpolar\"}],\"pie\":[{\"automargin\":true,\"type\":\"pie\"}]},\"layout\":{\"autotypenumbers\":\"strict\",\"colorway\":[\"#636efa\",\"#EF553B\",\"#00cc96\",\"#ab63fa\",\"#FFA15A\",\"#19d3f3\",\"#FF6692\",\"#B6E880\",\"#FF97FF\",\"#FECB52\"],\"font\":{\"color\":\"#2a3f5f\"},\"hovermode\":\"closest\",\"hoverlabel\":{\"align\":\"left\"},\"paper_bgcolor\":\"white\",\"plot_bgcolor\":\"#E5ECF6\",\"polar\":{\"bgcolor\":\"#E5ECF6\",\"angularaxis\":{\"gridcolor\":\"white\",\"linecolor\":\"white\",\"ticks\":\"\"},\"radialaxis\":{\"gridcolor\":\"white\",\"linecolor\":\"white\",\"ticks\":\"\"}},\"ternary\":{\"bgcolor\":\"#E5ECF6\",\"aaxis\":{\"gridcolor\":\"white\",\"linecolor\":\"white\",\"ticks\":\"\"},\"baxis\":{\"gridcolor\":\"white\",\"linecolor\":\"white\",\"ticks\":\"\"},\"caxis\":{\"gridcolor\":\"white\",\"linecolor\":\"white\",\"ticks\":\"\"}},\"coloraxis\":{\"colorbar\":{\"outlinewidth\":0,\"ticks\":\"\"}},\"colorscale\":{\"sequential\":[[0.0,\"#0d0887\"],[0.1111111111111111,\"#46039f\"],[0.2222222222222222,\"#7201a8\"],[0.3333333333333333,\"#9c179e\"],[0.4444444444444444,\"#bd3786\"],[0.5555555555555556,\"#d8576b\"],[0.6666666666666666,\"#ed7953\"],[0.7777777777777778,\"#fb9f3a\"],[0.8888888888888888,\"#fdca26\"],[1.0,\"#f0f921\"]],\"sequentialminus\":[[0.0,\"#0d0887\"],[0.1111111111111111,\"#46039f\"],[0.2222222222222222,\"#7201a8\"],[0.3333333333333333,\"#9c179e\"],[0.4444444444444444,\"#bd3786\"],[0.5555555555555556,\"#d8576b\"],[0.6666666666666666,\"#ed7953\"],[0.7777777777777778,\"#fb9f3a\"],[0.8888888888888888,\"#fdca26\"],[1.0,\"#f0f921\"]],\"diverging\":[[0,\"#8e0152\"],[0.1,\"#c51b7d\"],[0.2,\"#de77ae\"],[0.3,\"#f1b6da\"],[0.4,\"#fde0ef\"],[0.5,\"#f7f7f7\"],[0.6,\"#e6f5d0\"],[0.7,\"#b8e186\"],[0.8,\"#7fbc41\"],[0.9,\"#4d9221\"],[1,\"#276419\"]]},\"xaxis\":{\"gridcolor\":\"white\",\"linecolor\":\"white\",\"ticks\":\"\",\"title\":{\"standoff\":15},\"zerolinecolor\":\"white\",\"automargin\":true,\"zerolinewidth\":2},\"yaxis\":{\"gridcolor\":\"white\",\"linecolor\":\"white\",\"ticks\":\"\",\"title\":{\"standoff\":15},\"zerolinecolor\":\"white\",\"automargin\":true,\"zerolinewidth\":2},\"scene\":{\"xaxis\":{\"backgroundcolor\":\"#E5ECF6\",\"gridcolor\":\"white\",\"linecolor\":\"white\",\"showbackground\":true,\"ticks\":\"\",\"zerolinecolor\":\"white\",\"gridwidth\":2},\"yaxis\":{\"backgroundcolor\":\"#E5ECF6\",\"gridcolor\":\"white\",\"linecolor\":\"white\",\"showbackground\":true,\"ticks\":\"\",\"zerolinecolor\":\"white\",\"gridwidth\":2},\"zaxis\":{\"backgroundcolor\":\"#E5ECF6\",\"gridcolor\":\"white\",\"linecolor\":\"white\",\"showbackground\":true,\"ticks\":\"\",\"zerolinecolor\":\"white\",\"gridwidth\":2}},\"shapedefaults\":{\"line\":{\"color\":\"#2a3f5f\"}},\"annotationdefaults\":{\"arrowcolor\":\"#2a3f5f\",\"arrowhead\":0,\"arrowwidth\":1},\"geo\":{\"bgcolor\":\"white\",\"landcolor\":\"#E5ECF6\",\"subunitcolor\":\"white\",\"showland\":true,\"showlakes\":true,\"lakecolor\":\"white\"},\"title\":{\"x\":0.05},\"mapbox\":{\"style\":\"light\"}}}},                        {\"responsive\": true}                    ).then(function(){\n",
       "                            \n",
       "var gd = document.getElementById('04cf16a0-acb2-4c53-8f6f-c6da987d740b');\n",
       "var x = new MutationObserver(function (mutations, observer) {{\n",
       "        var display = window.getComputedStyle(gd).display;\n",
       "        if (!display || display === 'none') {{\n",
       "            console.log([gd, 'removed!']);\n",
       "            Plotly.purge(gd);\n",
       "            observer.disconnect();\n",
       "        }}\n",
       "}});\n",
       "\n",
       "// Listen for the removal of the full notebook cells\n",
       "var notebookContainer = gd.closest('#notebook-container');\n",
       "if (notebookContainer) {{\n",
       "    x.observe(notebookContainer, {childList: true});\n",
       "}}\n",
       "\n",
       "// Listen for the clearing of the current output cell\n",
       "var outputEl = gd.closest('.output');\n",
       "if (outputEl) {{\n",
       "    x.observe(outputEl, {childList: true});\n",
       "}}\n",
       "\n",
       "                        })                };                });            </script>        </div>"
      ]
     },
     "metadata": {},
     "output_type": "display_data"
    },
    {
     "name": "stdout",
     "output_type": "stream",
     "text": [
      "For 'blue': Fail to reject null hypothesis. There is no evidence of a relationship.\n",
      "For 'dual_sim': Fail to reject null hypothesis. There is no evidence of a relationship.\n",
      "For 'fc': Fail to reject null hypothesis. There is no evidence of a relationship.\n",
      "For 'four_g': Fail to reject null hypothesis. There is no evidence of a relationship.\n",
      "For 'int_memory': Fail to reject null hypothesis. There is no evidence of a relationship.\n",
      "For 'n_cores': Fail to reject null hypothesis. There is no evidence of a relationship.\n",
      "For 'pc': Fail to reject null hypothesis. There is no evidence of a relationship.\n",
      "For 'talk_time': Fail to reject null hypothesis. There is no evidence of a relationship.\n",
      "For 'three_g': Fail to reject null hypothesis. There is no evidence of a relationship.\n",
      "For 'touch_screen': Fail to reject null hypothesis. There is no evidence of a relationship.\n",
      "For 'wifi': Fail to reject null hypothesis. There is no evidence of a relationship.\n"
     ]
    }
   ],
   "source": [
    "import pandas as pd\n",
    "from scipy.stats import chi2_contingency, chi2\n",
    "import plotly.graph_objects as go\n",
    "\n",
    "\n",
    "# Drop the dependent variable from the DataFrame to avoid analyzing it against itself\n",
    "independent_variables = df_category.drop(columns=['price_range'])\n",
    "\n",
    "# Calculate chi-square test statistics and p-values\n",
    "column_names = []\n",
    "chi2_values = []\n",
    "p_values = []\n",
    "critical_values = {}\n",
    "\n",
    "# Set significance level (alpha)\n",
    "alpha = 0.05\n",
    "\n",
    "for independent_var in independent_variables.columns:\n",
    "    # Create a contingency table (cross-tabulation)\n",
    "    contingency_table = pd.crosstab(df[independent_var], df['price_range'])\n",
    "    \n",
    "    # Perform chi-square test\n",
    "    chi2_stat, p, _, _ = chi2_contingency(contingency_table)\n",
    "    \n",
    "    # Calculate degrees of freedom (df)\n",
    "    r, c = contingency_table.shape\n",
    "    df_degrees_freedom = (r - 1) * (c - 1)\n",
    "\n",
    "    # Find critical value from chi-square distribution\n",
    "    critical_value = chi2.ppf(1 - alpha, df_degrees_freedom)\n",
    "\n",
    "    # Store critical value for the column\n",
    "    critical_values[independent_var] = critical_value\n",
    "\n",
    "    column_names.append(independent_var)\n",
    "    chi2_values.append(chi2_stat)\n",
    "    p_values.append(p)\n",
    "\n",
    "data = {'Independent Variable': column_names, 'Chi-square Test Statistic': chi2_values, 'P-value': p_values}\n",
    "df_table = pd.DataFrame(data)\n",
    "\n",
    "\n",
    "# Convert the dictionary to a DataFrame\n",
    "critical_values_df = pd.DataFrame.from_dict(critical_values, orient='index', columns=['Critical Value'])\n",
    "\n",
    "\n",
    "# Merge the critical values DataFrame with the df_table DataFrame\n",
    "result_df = pd.merge(df_table, critical_values_df, left_on='Independent Variable', right_index=True)\n",
    "\n",
    "# Print the result DataFrame\n",
    "print(\"Chi-square test statistics with Critical Values and P-values:\")\n",
    "print(result_df)\n",
    "\n",
    "# Create bar chart trace\n",
    "bar_trace = go.Bar(x=result_df['Independent Variable'], y=result_df['Chi-square Test Statistic'], marker_color='skyblue')\n",
    "\n",
    "# Create layout\n",
    "layout = go.Layout(title='Chi-square Test Statistics for Independent Variables',\n",
    "                   xaxis=dict(title='Independent Variable'),\n",
    "                   yaxis=dict(title='Chi-square Test Statistic'))\n",
    "\n",
    "# Create figure\n",
    "fig = go.Figure(data=[bar_trace], layout=layout)\n",
    "\n",
    "# Show the plot\n",
    "fig.show()\n",
    "\n",
    "\n",
    "# Check for significance of chi-square test \n",
    "for index, row in result_df.iterrows():\n",
    "    if row['P-value'] < alpha:\n",
    "        print(f\"For '{row['Independent Variable']}': Reject null hypothesis. There is evidence of a relationship.\")\n",
    "    else:\n",
    "        print(f\"For '{row['Independent Variable']}': Fail to reject null hypothesis. There is no evidence of a relationship.\")\n"
   ]
  },
  {
   "cell_type": "code",
   "execution_count": null,
   "id": "8510db0c-ae2a-4a34-82dc-67369a2cb48d",
   "metadata": {},
   "outputs": [],
   "source": [
    "#there is no relation"
   ]
  },
  {
   "cell_type": "code",
   "execution_count": 85,
   "id": "7cb34418-58cb-48b5-9e90-baee6af4047c",
   "metadata": {},
   "outputs": [
    {
     "data": {
      "text/html": [
       "<div>\n",
       "<style scoped>\n",
       "    .dataframe tbody tr th:only-of-type {\n",
       "        vertical-align: middle;\n",
       "    }\n",
       "\n",
       "    .dataframe tbody tr th {\n",
       "        vertical-align: top;\n",
       "    }\n",
       "\n",
       "    .dataframe thead th {\n",
       "        text-align: right;\n",
       "    }\n",
       "</style>\n",
       "<table border=\"1\" class=\"dataframe\">\n",
       "  <thead>\n",
       "    <tr style=\"text-align: right;\">\n",
       "      <th></th>\n",
       "      <th>battery_power</th>\n",
       "      <th>clock_speed</th>\n",
       "      <th>m_dep</th>\n",
       "      <th>mobile_wt</th>\n",
       "      <th>px_height</th>\n",
       "      <th>px_width</th>\n",
       "      <th>ram</th>\n",
       "      <th>sc_h</th>\n",
       "      <th>sc_w</th>\n",
       "    </tr>\n",
       "  </thead>\n",
       "  <tbody>\n",
       "    <tr>\n",
       "      <th>0</th>\n",
       "      <td>842</td>\n",
       "      <td>2.2</td>\n",
       "      <td>0.6</td>\n",
       "      <td>188</td>\n",
       "      <td>20</td>\n",
       "      <td>756</td>\n",
       "      <td>2549</td>\n",
       "      <td>9</td>\n",
       "      <td>7</td>\n",
       "    </tr>\n",
       "    <tr>\n",
       "      <th>1</th>\n",
       "      <td>1021</td>\n",
       "      <td>0.5</td>\n",
       "      <td>0.7</td>\n",
       "      <td>136</td>\n",
       "      <td>905</td>\n",
       "      <td>1988</td>\n",
       "      <td>2631</td>\n",
       "      <td>17</td>\n",
       "      <td>3</td>\n",
       "    </tr>\n",
       "    <tr>\n",
       "      <th>2</th>\n",
       "      <td>563</td>\n",
       "      <td>0.5</td>\n",
       "      <td>0.9</td>\n",
       "      <td>145</td>\n",
       "      <td>1263</td>\n",
       "      <td>1716</td>\n",
       "      <td>2603</td>\n",
       "      <td>11</td>\n",
       "      <td>2</td>\n",
       "    </tr>\n",
       "    <tr>\n",
       "      <th>3</th>\n",
       "      <td>615</td>\n",
       "      <td>2.5</td>\n",
       "      <td>0.8</td>\n",
       "      <td>131</td>\n",
       "      <td>1216</td>\n",
       "      <td>1786</td>\n",
       "      <td>2769</td>\n",
       "      <td>16</td>\n",
       "      <td>8</td>\n",
       "    </tr>\n",
       "    <tr>\n",
       "      <th>4</th>\n",
       "      <td>1821</td>\n",
       "      <td>1.2</td>\n",
       "      <td>0.6</td>\n",
       "      <td>141</td>\n",
       "      <td>1208</td>\n",
       "      <td>1212</td>\n",
       "      <td>1411</td>\n",
       "      <td>8</td>\n",
       "      <td>2</td>\n",
       "    </tr>\n",
       "    <tr>\n",
       "      <th>...</th>\n",
       "      <td>...</td>\n",
       "      <td>...</td>\n",
       "      <td>...</td>\n",
       "      <td>...</td>\n",
       "      <td>...</td>\n",
       "      <td>...</td>\n",
       "      <td>...</td>\n",
       "      <td>...</td>\n",
       "      <td>...</td>\n",
       "    </tr>\n",
       "    <tr>\n",
       "      <th>1995</th>\n",
       "      <td>794</td>\n",
       "      <td>0.5</td>\n",
       "      <td>0.8</td>\n",
       "      <td>106</td>\n",
       "      <td>1222</td>\n",
       "      <td>1890</td>\n",
       "      <td>668</td>\n",
       "      <td>13</td>\n",
       "      <td>4</td>\n",
       "    </tr>\n",
       "    <tr>\n",
       "      <th>1996</th>\n",
       "      <td>1965</td>\n",
       "      <td>2.6</td>\n",
       "      <td>0.2</td>\n",
       "      <td>187</td>\n",
       "      <td>915</td>\n",
       "      <td>1965</td>\n",
       "      <td>2032</td>\n",
       "      <td>11</td>\n",
       "      <td>10</td>\n",
       "    </tr>\n",
       "    <tr>\n",
       "      <th>1997</th>\n",
       "      <td>1911</td>\n",
       "      <td>0.9</td>\n",
       "      <td>0.7</td>\n",
       "      <td>108</td>\n",
       "      <td>868</td>\n",
       "      <td>1632</td>\n",
       "      <td>3057</td>\n",
       "      <td>9</td>\n",
       "      <td>1</td>\n",
       "    </tr>\n",
       "    <tr>\n",
       "      <th>1998</th>\n",
       "      <td>1512</td>\n",
       "      <td>0.9</td>\n",
       "      <td>0.1</td>\n",
       "      <td>145</td>\n",
       "      <td>336</td>\n",
       "      <td>670</td>\n",
       "      <td>869</td>\n",
       "      <td>18</td>\n",
       "      <td>10</td>\n",
       "    </tr>\n",
       "    <tr>\n",
       "      <th>1999</th>\n",
       "      <td>510</td>\n",
       "      <td>2.0</td>\n",
       "      <td>0.9</td>\n",
       "      <td>168</td>\n",
       "      <td>483</td>\n",
       "      <td>754</td>\n",
       "      <td>3919</td>\n",
       "      <td>19</td>\n",
       "      <td>4</td>\n",
       "    </tr>\n",
       "  </tbody>\n",
       "</table>\n",
       "<p>2000 rows × 9 columns</p>\n",
       "</div>"
      ],
      "text/plain": [
       "      battery_power  clock_speed  m_dep  mobile_wt  px_height  px_width   ram  \\\n",
       "0               842          2.2    0.6        188         20       756  2549   \n",
       "1              1021          0.5    0.7        136        905      1988  2631   \n",
       "2               563          0.5    0.9        145       1263      1716  2603   \n",
       "3               615          2.5    0.8        131       1216      1786  2769   \n",
       "4              1821          1.2    0.6        141       1208      1212  1411   \n",
       "...             ...          ...    ...        ...        ...       ...   ...   \n",
       "1995            794          0.5    0.8        106       1222      1890   668   \n",
       "1996           1965          2.6    0.2        187        915      1965  2032   \n",
       "1997           1911          0.9    0.7        108        868      1632  3057   \n",
       "1998           1512          0.9    0.1        145        336       670   869   \n",
       "1999            510          2.0    0.9        168        483       754  3919   \n",
       "\n",
       "      sc_h  sc_w  \n",
       "0        9     7  \n",
       "1       17     3  \n",
       "2       11     2  \n",
       "3       16     8  \n",
       "4        8     2  \n",
       "...    ...   ...  \n",
       "1995    13     4  \n",
       "1996    11    10  \n",
       "1997     9     1  \n",
       "1998    18    10  \n",
       "1999    19     4  \n",
       "\n",
       "[2000 rows x 9 columns]"
      ]
     },
     "execution_count": 85,
     "metadata": {},
     "output_type": "execute_result"
    }
   ],
   "source": [
    "df_continuous"
   ]
  },
  {
   "cell_type": "code",
   "execution_count": 86,
   "id": "4e3d150d-e476-473d-afb2-9ad326c1ee1c",
   "metadata": {},
   "outputs": [
    {
     "data": {
      "text/plain": [
       "Index(['battery_power', 'clock_speed', 'm_dep', 'mobile_wt', 'px_height',\n",
       "       'px_width', 'ram', 'sc_h', 'sc_w'],\n",
       "      dtype='object')"
      ]
     },
     "execution_count": 86,
     "metadata": {},
     "output_type": "execute_result"
    }
   ],
   "source": [
    "df_continuous.columns"
   ]
  },
  {
   "cell_type": "code",
   "execution_count": 105,
   "id": "e246734b-7784-4bb2-a776-cdaac7346bc0",
   "metadata": {},
   "outputs": [],
   "source": [
    "# Annova Test"
   ]
  },
  {
   "cell_type": "code",
   "execution_count": 93,
   "id": "6e198ad2-6abb-4107-ae2d-242d3fd2261c",
   "metadata": {},
   "outputs": [
    {
     "name": "stdout",
     "output_type": "stream",
     "text": [
      "ANOVA results:\n",
      "           Column       F-value        PR(>F)     Significance\n",
      "0              fc      0.967343  3.254629e-01  Not Significant\n",
      "1         n_cores      0.038669  8.441253e-01  Not Significant\n",
      "2              pc      2.258117  1.330736e-01  Not Significant\n",
      "3      int_memory      3.952787  4.693006e-02      Significant\n",
      "4   battery_power     83.877962  1.264854e-19      Significant\n",
      "5     clock_speed      0.087187  7.678151e-01  Not Significant\n",
      "6           m_dep      0.001454  9.695879e-01  Not Significant\n",
      "7       mobile_wt      1.836293  1.755393e-01  Not Significant\n",
      "8       px_height     45.276079  2.227806e-11      Significant\n",
      "9        px_width     56.489089  8.478969e-14      Significant\n",
      "10            ram  10565.894952  0.000000e+00      Significant\n",
      "11           sc_h      1.056220  3.042032e-01  Not Significant\n",
      "12           sc_w      2.998622  8.348974e-02  Not Significant\n"
     ]
    }
   ],
   "source": [
    "import pandas as pd\n",
    "import statsmodels.api as sm\n",
    "from statsmodels.formula.api import ols\n",
    "\n",
    "# Assuming 'category' is your categorical variable and other columns are continuous\n",
    "categorical_variable = 'price_range'\n",
    "continuous_columns = ['fc', 'n_cores', 'pc', 'int_memory', 'battery_power', 'clock_speed', 'm_dep', 'mobile_wt', 'px_height', 'px_width', 'ram', 'sc_h', 'sc_w']\n",
    "\n",
    "# Create lists to store ANOVA results\n",
    "columns = []\n",
    "f_values = []\n",
    "p_values = []\n",
    "significances = []\n",
    "\n",
    "# Perform ANOVA for each continuous column\n",
    "for col in continuous_columns:\n",
    "    # Fit ANOVA model\n",
    "    model = ols(f\"{col} ~ {categorical_variable}\", data=df).fit()\n",
    "    \n",
    "    # Get ANOVA table\n",
    "    anova_table = sm.stats.anova_lm(model, typ=2)\n",
    "    \n",
    "    # Extract p-value\n",
    "    p_value = anova_table['PR(>F)'][categorical_variable]    # PR = probability or p_value\n",
    "    \n",
    "    # Set significance level (alpha)\n",
    "    alpha = 0.05\n",
    "    \n",
    "    # Determine significance\n",
    "    significance = 'Significant' if p_value < alpha else 'Not Significant'\n",
    "    \n",
    "    # Append ANOVA results to lists\n",
    "    columns.append(col)\n",
    "    f_values.append(anova_table['F'][categorical_variable])\n",
    "    p_values.append(p_value)\n",
    "    significances.append(significance)\n",
    "\n",
    "# Create DataFrame for ANOVA results\n",
    "anova_results = pd.DataFrame({\n",
    "    'Column': columns,\n",
    "    'F-value': f_values,\n",
    "    'PR(>F)': p_values,\n",
    "    'Significance': significances\n",
    "})\n",
    "\n",
    "# Print ANOVA results DataFrame\n",
    "print(\"ANOVA results:\")\n",
    "print(anova_results)\n"
   ]
  },
  {
   "cell_type": "code",
   "execution_count": null,
   "id": "d947effd-a508-418e-b63a-db3c3805a710",
   "metadata": {},
   "outputs": [],
   "source": [
    "#  battery_power, px_height, px_width, ram having (relationship)significant difference in means between groups or categories.\n",
    "eventough fc, n_cores, pc, int_memory is seperated as categorical it is discrete variable so it is also checked as continuous variable.\n",
    "where int_memory having Siginficant difference"
   ]
  },
  {
   "cell_type": "code",
   "execution_count": 217,
   "id": "14a23b7b-3ad8-44b0-b0a5-63ad016b0305",
   "metadata": {},
   "outputs": [
    {
     "data": {
      "application/vnd.plotly.v1+json": {
       "config": {
        "plotlyServerURL": "https://plot.ly"
       },
       "data": [
        {
         "colorscale": [
          [
           0,
           "#440154"
          ],
          [
           0.1111111111111111,
           "#482878"
          ],
          [
           0.2222222222222222,
           "#3e4989"
          ],
          [
           0.3333333333333333,
           "#31688e"
          ],
          [
           0.4444444444444444,
           "#26828e"
          ],
          [
           0.5555555555555556,
           "#1f9e89"
          ],
          [
           0.6666666666666666,
           "#35b779"
          ],
          [
           0.7777777777777778,
           "#6ece58"
          ],
          [
           0.8888888888888888,
           "#b5de2b"
          ],
          [
           1,
           "#fde725"
          ]
         ],
         "hoverongaps": false,
         "type": "heatmap",
         "x": [
          "battery_power",
          "blue",
          "clock_speed",
          "dual_sim",
          "fc_log",
          "four_g",
          "int_memory",
          "m_dep",
          "mobile_wt",
          "n_cores",
          "pc",
          "px_height",
          "px_width",
          "ram",
          "sc_h",
          "sc_w",
          "talk_time",
          "three_g",
          "touch_screen",
          "wifi",
          "price_range",
          "fc_log"
         ],
         "y": [
          "battery_power",
          "blue",
          "clock_speed",
          "dual_sim",
          "fc_log",
          "four_g",
          "int_memory",
          "m_dep",
          "mobile_wt",
          "n_cores",
          "pc",
          "px_height",
          "px_width",
          "ram",
          "sc_h",
          "sc_w",
          "talk_time",
          "three_g",
          "touch_screen",
          "wifi",
          "price_range",
          "fc_log"
         ],
         "z": [
          [
           1,
           0.011251623808409014,
           0.011481593741547485,
           -0.041846849855319126,
           0.036057452592215794,
           0.015664554624742654,
           -0.004003679910891171,
           0.03408451490286737,
           0.001844376214571044,
           -0.029727258910731344,
           0.031440677243310976,
           0.01490080454467487,
           -0.008401830499043842,
           -0.0006529264469275337,
           -0.029958601467988406,
           -0.02142094329422354,
           0.052510354657595175,
           0.011522168448019683,
           -0.01051583536613964,
           -0.008342928835738913,
           0.20072261211373116,
           0.036057452592215794
          ],
          [
           0.011251623808409014,
           1,
           0.021418693043786904,
           0.03519811346493915,
           -5.448476940581954e-05,
           0.01344310545158682,
           0.04117716902002655,
           0.004049193533434726,
           -0.008604642824947197,
           0.03616071896601607,
           -0.009952172293702327,
           -0.00687239046225622,
           -0.041533441805918475,
           0.026350936945151185,
           -0.002952292557292196,
           0.0006130756499930387,
           0.013933650372287935,
           -0.030236184948883277,
           0.010060684131672375,
           -0.021863235784086166,
           0.020572854061418566,
           -5.448476940581954e-05
          ],
          [
           0.011481593741547485,
           0.021418693043786904,
           1,
           -0.0013152040255050537,
           -0.0051969347092454465,
           -0.04307335549720816,
           0.006545145152924382,
           -0.014364360309299856,
           0.012349747866586125,
           -0.0057242260337929595,
           -0.005245037561591493,
           -0.01452289508684957,
           -0.009475653050430176,
           0.0034430306880890754,
           -0.02907762180634708,
           -0.007378355543214165,
           -0.011431865559812869,
           -0.046433496914248404,
           0.019755805960568213,
           -0.024471012567611583,
           -0.006605690881732118,
           -0.0051969347092454465
          ],
          [
           -0.041846849855319126,
           0.03519811346493915,
           -0.0013152040255050537,
           1,
           -0.037133859977295375,
           0.003186521989701652,
           -0.015678962290234022,
           -0.022141660518706942,
           -0.00897940513275486,
           -0.024658134833835197,
           -0.017142621266392093,
           -0.0208752608632432,
           0.014290542210206238,
           0.04107201687575119,
           -0.011949263255963913,
           -0.01666612253451358,
           -0.039403999502932545,
           -0.014007623397290656,
           -0.0171173980295569,
           0.022740333260222727,
           0.017444479237224746,
           -0.037133859977295375
          ],
          [
           0.036057452592215794,
           -5.448476940581954e-05,
           -0.0051969347092454465,
           -0.037133859977295375,
           1,
           -0.024098325658763072,
           -0.025564199011915183,
           0.014957157538207259,
           0.02774530171826136,
           -0.01799144251281607,
           0.6557393158340965,
           -0.01917085860990629,
           -0.008724069051282573,
           0.020508865388533574,
           -0.007742330431259911,
           0.0022164945134771318,
           -0.0010088624403028718,
           -0.015935292017160645,
           -0.01849143405501162,
           0.00829257263931131,
           0.024886819151452275,
           1
          ],
          [
           0.015664554624742654,
           0.01344310545158682,
           -0.04307335549720816,
           0.003186521989701652,
           -0.024098325658763072,
           1,
           0.008689971059287213,
           -0.0018232988898241383,
           -0.016536734075053794,
           -0.029705501066110997,
           -0.005598221993478702,
           -0.019236235677309966,
           0.007448216573482406,
           0.007313474650471352,
           0.02716551097567562,
           0.03700497303918502,
           -0.04662781425788252,
           0.5842455634172913,
           0.016757801119348523,
           -0.01762002249730283,
           0.014771711417239451,
           -0.02409832565876307
          ],
          [
           -0.004003679910891171,
           0.04117716902002655,
           0.006545145152924382,
           -0.015678962290234022,
           -0.025564199011915183,
           0.008689971059287213,
           1,
           0.006885755150957462,
           -0.034214209135474974,
           -0.028310416689851625,
           -0.033273388854864576,
           0.010441256775618035,
           -0.008334853372394537,
           0.0328131740809154,
           0.03777113279736538,
           0.011730534410369226,
           -0.0027902889911869803,
           -0.009365962592532109,
           -0.026998677669092003,
           0.006993009677458333,
           0.044434959388987484,
           -0.025564199011915173
          ],
          [
           0.03408451490286737,
           0.004049193533434726,
           -0.014364360309299856,
           -0.022141660518706942,
           0.014957157538207259,
           -0.0018232988898241383,
           0.006885755150957462,
           1,
           0.021756065251581313,
           -0.0035038859268239652,
           0.026282439444050756,
           0.025262869860381374,
           0.023566345906041876,
           -0.009434120647010033,
           -0.02534780578542418,
           -0.018388117499987956,
           0.017002552950558667,
           -0.012065410514054398,
           -0.002637527311245217,
           -0.028352652350104417,
           0.0008530365050865666,
           0.014957157538207255
          ],
          [
           0.001844376214571044,
           -0.008604642824947197,
           0.012349747866586125,
           -0.00897940513275486,
           0.02774530171826136,
           -0.016536734075053794,
           -0.034214209135474974,
           0.021756065251581313,
           1,
           -0.01898875720504934,
           0.018843929835236195,
           0.0009393239804485876,
           8.976163925579256e-05,
           -0.0025805417072913305,
           -0.03385471368143752,
           -0.020760525088739316,
           0.006208500758592477,
           0.0015505852829662205,
           -0.01436822839398222,
           -0.0004093554892794163,
           -0.030302171314386332,
           0.027745301718261332
          ],
          [
           -0.029727258910731344,
           0.03616071896601607,
           -0.0057242260337929595,
           -0.024658134833835197,
           -0.01799144251281607,
           -0.029705501066110997,
           -0.028310416689851625,
           -0.0035038859268239652,
           -0.01898875720504934,
           1,
           -0.001192614212910485,
           -0.006872073390802637,
           0.024479917024761447,
           0.004868325744798457,
           -0.00031483547910174235,
           0.025826454168080944,
           0.0131478639078402,
           -0.014732673058251405,
           0.023774239646667614,
           -0.009963531365809106,
           0.004399274799457298,
           -0.017991442512816074
          ],
          [
           0.031440677243310976,
           -0.009952172293702327,
           -0.005245037561591493,
           -0.017142621266392093,
           0.6557393158340965,
           -0.005598221993478702,
           -0.033273388854864576,
           0.026282439444050756,
           0.018843929835236195,
           -0.001192614212910485,
           1,
           -0.01846549427837536,
           0.004195944306608131,
           0.028983516524420154,
           0.004937519864469908,
           -0.02381923792039566,
           0.014656985160164141,
           -0.001321620058151983,
           -0.00874182978288642,
           0.005388963710424848,
           0.03359930021353957,
           0.6557393158340964
          ],
          [
           0.01490080454467487,
           -0.00687239046225622,
           -0.01452289508684957,
           -0.0208752608632432,
           -0.01917085860990629,
           -0.019236235677309966,
           0.010441256775618035,
           0.025262869860381374,
           0.0009393239804485876,
           -0.006872073390802637,
           -0.01846549427837536,
           1,
           0.5106644191393146,
           -0.020351922754965075,
           0.059615294460876815,
           0.04303826810558863,
           -0.010645253467093318,
           -0.03117373926425805,
           0.021891338320911276,
           0.051823988736926375,
           0.14885755500042197,
           -0.019170858609906305
          ],
          [
           -0.008401830499043842,
           -0.041533441805918475,
           -0.009475653050430176,
           0.014290542210206238,
           -0.008724069051282573,
           0.007448216573482406,
           -0.008334853372394537,
           0.023566345906041876,
           8.976163925579256e-05,
           0.024479917024761447,
           0.004195944306608131,
           0.5106644191393146,
           1,
           0.004105216467218673,
           0.02159856211199418,
           0.03469919558577323,
           0.006719940879503139,
           0.0003499824520168694,
           -0.0016283723577048153,
           0.030318972829504374,
           0.16581750172625534,
           -0.008724069051282564
          ],
          [
           -0.0006529264469275337,
           0.026350936945151185,
           0.0034430306880890754,
           0.04107201687575119,
           0.020508865388533574,
           0.007313474650471352,
           0.0328131740809154,
           -0.009434120647010033,
           -0.0025805417072913305,
           0.004868325744798457,
           0.028983516524420154,
           -0.020351922754965075,
           0.004105216467218673,
           1,
           0.01599614874068267,
           0.035575670143050915,
           0.010819977788843138,
           0.01579493986624371,
           -0.03045464776240746,
           0.022668801572951865,
           0.9170457362649902,
           0.02050886538853358
          ],
          [
           -0.029958601467988406,
           -0.002952292557292196,
           -0.02907762180634708,
           -0.011949263255963913,
           -0.007742330431259911,
           0.02716551097567562,
           0.03777113279736538,
           -0.02534780578542418,
           -0.03385471368143752,
           -0.00031483547910174235,
           0.004937519864469908,
           0.059615294460876815,
           0.02159856211199418,
           0.01599614874068267,
           1,
           0.5061442083433547,
           -0.017335100498329356,
           0.012032933550798295,
           -0.020022954064033677,
           0.025929424733713458,
           0.022986073167424303,
           -0.007742330431259904
          ],
          [
           -0.02142094329422354,
           0.0006130756499930387,
           -0.007378355543214165,
           -0.01666612253451358,
           0.0022164945134771318,
           0.03700497303918502,
           0.011730534410369226,
           -0.018388117499987956,
           -0.020760525088739316,
           0.025826454168080944,
           -0.02381923792039566,
           0.04303826810558863,
           0.03469919558577323,
           0.035575670143050915,
           0.5061442083433547,
           1,
           -0.022820859653885698,
           0.03094118765377778,
           0.01271987939345382,
           0.03542277762749597,
           0.03871127166448412,
           0.0022164945134771595
          ],
          [
           0.052510354657595175,
           0.013933650372287935,
           -0.011431865559812869,
           -0.039403999502932545,
           -0.0010088624403028718,
           -0.04662781425788252,
           -0.0027902889911869803,
           0.017002552950558667,
           0.006208500758592477,
           0.0131478639078402,
           0.014656985160164141,
           -0.010645253467093318,
           0.006719940879503139,
           0.010819977788843138,
           -0.017335100498329356,
           -0.022820859653885698,
           1,
           -0.04268802110382528,
           0.017196184849559978,
           -0.029504287122390064,
           0.021858871162374855,
           -0.0010088624403028475
          ],
          [
           0.011522168448019683,
           -0.030236184948883277,
           -0.046433496914248404,
           -0.014007623397290656,
           -0.015935292017160645,
           0.5842455634172913,
           -0.009365962592532109,
           -0.012065410514054398,
           0.0015505852829662205,
           -0.014732673058251405,
           -0.001321620058151983,
           -0.03117373926425805,
           0.0003499824520168694,
           0.01579493986624371,
           0.012032933550798295,
           0.03094118765377778,
           -0.04268802110382528,
           1,
           0.013917351497663108,
           0.0043156393937652335,
           0.023611216880045166,
           -0.01593529201716067
          ],
          [
           -0.01051583536613964,
           0.010060684131672375,
           0.019755805960568213,
           -0.0171173980295569,
           -0.01849143405501162,
           0.016757801119348523,
           -0.026998677669092003,
           -0.002637527311245217,
           -0.01436822839398222,
           0.023774239646667614,
           -0.00874182978288642,
           0.021891338320911276,
           -0.0016283723577048153,
           -0.03045464776240746,
           -0.020022954064033677,
           0.01271987939345382,
           0.017196184849559978,
           0.013917351497663108,
           1,
           0.01191738245450474,
           -0.030411071898218057,
           -0.01849143405501163
          ],
          [
           -0.008342928835738913,
           -0.021863235784086166,
           -0.024471012567611583,
           0.022740333260222727,
           0.00829257263931131,
           -0.01762002249730283,
           0.006993009677458333,
           -0.028352652350104417,
           -0.0004093554892794163,
           -0.009963531365809106,
           0.005388963710424848,
           0.051823988736926375,
           0.030318972829504374,
           0.022668801572951865,
           0.025929424733713458,
           0.03542277762749597,
           -0.029504287122390064,
           0.0043156393937652335,
           0.01191738245450474,
           1,
           0.018784812012789046,
           0.008292572639311296
          ],
          [
           0.20072261211373116,
           0.020572854061418566,
           -0.006605690881732118,
           0.017444479237224746,
           0.024886819151452275,
           0.014771711417239451,
           0.044434959388987484,
           0.0008530365050865666,
           -0.030302171314386332,
           0.004399274799457298,
           0.03359930021353957,
           0.14885755500042197,
           0.16581750172625534,
           0.9170457362649902,
           0.022986073167424303,
           0.03871127166448412,
           0.021858871162374855,
           0.023611216880045166,
           -0.030411071898218057,
           0.018784812012789046,
           1,
           0.024886819151452282
          ],
          [
           0.036057452592215794,
           -5.448476940581954e-05,
           -0.0051969347092454465,
           -0.037133859977295375,
           1,
           -0.02409832565876307,
           -0.025564199011915173,
           0.014957157538207255,
           0.027745301718261332,
           -0.017991442512816074,
           0.6557393158340964,
           -0.019170858609906305,
           -0.008724069051282564,
           0.02050886538853358,
           -0.007742330431259904,
           0.0022164945134771595,
           -0.0010088624403028475,
           -0.01593529201716067,
           -0.01849143405501163,
           0.008292572639311296,
           0.024886819151452282,
           1
          ]
         ]
        }
       ],
       "layout": {
        "annotations": [
         {
          "showarrow": false,
          "text": "1.0",
          "x": "battery_power",
          "xref": "x",
          "y": "battery_power",
          "yref": "y"
         },
         {
          "showarrow": false,
          "text": "0.01",
          "x": "blue",
          "xref": "x",
          "y": "battery_power",
          "yref": "y"
         },
         {
          "showarrow": false,
          "text": "0.01",
          "x": "clock_speed",
          "xref": "x",
          "y": "battery_power",
          "yref": "y"
         },
         {
          "showarrow": false,
          "text": "-0.04",
          "x": "dual_sim",
          "xref": "x",
          "y": "battery_power",
          "yref": "y"
         },
         {
          "showarrow": false,
          "text": "0.04",
          "x": "fc_log",
          "xref": "x",
          "y": "battery_power",
          "yref": "y"
         },
         {
          "showarrow": false,
          "text": "0.02",
          "x": "four_g",
          "xref": "x",
          "y": "battery_power",
          "yref": "y"
         },
         {
          "showarrow": false,
          "text": "-0.0",
          "x": "int_memory",
          "xref": "x",
          "y": "battery_power",
          "yref": "y"
         },
         {
          "showarrow": false,
          "text": "0.03",
          "x": "m_dep",
          "xref": "x",
          "y": "battery_power",
          "yref": "y"
         },
         {
          "showarrow": false,
          "text": "0.0",
          "x": "mobile_wt",
          "xref": "x",
          "y": "battery_power",
          "yref": "y"
         },
         {
          "showarrow": false,
          "text": "-0.03",
          "x": "n_cores",
          "xref": "x",
          "y": "battery_power",
          "yref": "y"
         },
         {
          "showarrow": false,
          "text": "0.03",
          "x": "pc",
          "xref": "x",
          "y": "battery_power",
          "yref": "y"
         },
         {
          "showarrow": false,
          "text": "0.01",
          "x": "px_height",
          "xref": "x",
          "y": "battery_power",
          "yref": "y"
         },
         {
          "showarrow": false,
          "text": "-0.01",
          "x": "px_width",
          "xref": "x",
          "y": "battery_power",
          "yref": "y"
         },
         {
          "showarrow": false,
          "text": "-0.0",
          "x": "ram",
          "xref": "x",
          "y": "battery_power",
          "yref": "y"
         },
         {
          "showarrow": false,
          "text": "-0.03",
          "x": "sc_h",
          "xref": "x",
          "y": "battery_power",
          "yref": "y"
         },
         {
          "showarrow": false,
          "text": "-0.02",
          "x": "sc_w",
          "xref": "x",
          "y": "battery_power",
          "yref": "y"
         },
         {
          "showarrow": false,
          "text": "0.05",
          "x": "talk_time",
          "xref": "x",
          "y": "battery_power",
          "yref": "y"
         },
         {
          "showarrow": false,
          "text": "0.01",
          "x": "three_g",
          "xref": "x",
          "y": "battery_power",
          "yref": "y"
         },
         {
          "showarrow": false,
          "text": "-0.01",
          "x": "touch_screen",
          "xref": "x",
          "y": "battery_power",
          "yref": "y"
         },
         {
          "showarrow": false,
          "text": "-0.01",
          "x": "wifi",
          "xref": "x",
          "y": "battery_power",
          "yref": "y"
         },
         {
          "showarrow": false,
          "text": "0.2",
          "x": "price_range",
          "xref": "x",
          "y": "battery_power",
          "yref": "y"
         },
         {
          "showarrow": false,
          "text": "0.04",
          "x": "fc_log",
          "xref": "x",
          "y": "battery_power",
          "yref": "y"
         },
         {
          "showarrow": false,
          "text": "0.01",
          "x": "battery_power",
          "xref": "x",
          "y": "blue",
          "yref": "y"
         },
         {
          "showarrow": false,
          "text": "1.0",
          "x": "blue",
          "xref": "x",
          "y": "blue",
          "yref": "y"
         },
         {
          "showarrow": false,
          "text": "0.02",
          "x": "clock_speed",
          "xref": "x",
          "y": "blue",
          "yref": "y"
         },
         {
          "showarrow": false,
          "text": "0.04",
          "x": "dual_sim",
          "xref": "x",
          "y": "blue",
          "yref": "y"
         },
         {
          "showarrow": false,
          "text": "-0.0",
          "x": "fc_log",
          "xref": "x",
          "y": "blue",
          "yref": "y"
         },
         {
          "showarrow": false,
          "text": "0.01",
          "x": "four_g",
          "xref": "x",
          "y": "blue",
          "yref": "y"
         },
         {
          "showarrow": false,
          "text": "0.04",
          "x": "int_memory",
          "xref": "x",
          "y": "blue",
          "yref": "y"
         },
         {
          "showarrow": false,
          "text": "0.0",
          "x": "m_dep",
          "xref": "x",
          "y": "blue",
          "yref": "y"
         },
         {
          "showarrow": false,
          "text": "-0.01",
          "x": "mobile_wt",
          "xref": "x",
          "y": "blue",
          "yref": "y"
         },
         {
          "showarrow": false,
          "text": "0.04",
          "x": "n_cores",
          "xref": "x",
          "y": "blue",
          "yref": "y"
         },
         {
          "showarrow": false,
          "text": "-0.01",
          "x": "pc",
          "xref": "x",
          "y": "blue",
          "yref": "y"
         },
         {
          "showarrow": false,
          "text": "-0.01",
          "x": "px_height",
          "xref": "x",
          "y": "blue",
          "yref": "y"
         },
         {
          "showarrow": false,
          "text": "-0.04",
          "x": "px_width",
          "xref": "x",
          "y": "blue",
          "yref": "y"
         },
         {
          "showarrow": false,
          "text": "0.03",
          "x": "ram",
          "xref": "x",
          "y": "blue",
          "yref": "y"
         },
         {
          "showarrow": false,
          "text": "-0.0",
          "x": "sc_h",
          "xref": "x",
          "y": "blue",
          "yref": "y"
         },
         {
          "showarrow": false,
          "text": "0.0",
          "x": "sc_w",
          "xref": "x",
          "y": "blue",
          "yref": "y"
         },
         {
          "showarrow": false,
          "text": "0.01",
          "x": "talk_time",
          "xref": "x",
          "y": "blue",
          "yref": "y"
         },
         {
          "showarrow": false,
          "text": "-0.03",
          "x": "three_g",
          "xref": "x",
          "y": "blue",
          "yref": "y"
         },
         {
          "showarrow": false,
          "text": "0.01",
          "x": "touch_screen",
          "xref": "x",
          "y": "blue",
          "yref": "y"
         },
         {
          "showarrow": false,
          "text": "-0.02",
          "x": "wifi",
          "xref": "x",
          "y": "blue",
          "yref": "y"
         },
         {
          "showarrow": false,
          "text": "0.02",
          "x": "price_range",
          "xref": "x",
          "y": "blue",
          "yref": "y"
         },
         {
          "showarrow": false,
          "text": "-0.0",
          "x": "fc_log",
          "xref": "x",
          "y": "blue",
          "yref": "y"
         },
         {
          "showarrow": false,
          "text": "0.01",
          "x": "battery_power",
          "xref": "x",
          "y": "clock_speed",
          "yref": "y"
         },
         {
          "showarrow": false,
          "text": "0.02",
          "x": "blue",
          "xref": "x",
          "y": "clock_speed",
          "yref": "y"
         },
         {
          "showarrow": false,
          "text": "1.0",
          "x": "clock_speed",
          "xref": "x",
          "y": "clock_speed",
          "yref": "y"
         },
         {
          "showarrow": false,
          "text": "-0.0",
          "x": "dual_sim",
          "xref": "x",
          "y": "clock_speed",
          "yref": "y"
         },
         {
          "showarrow": false,
          "text": "-0.01",
          "x": "fc_log",
          "xref": "x",
          "y": "clock_speed",
          "yref": "y"
         },
         {
          "showarrow": false,
          "text": "-0.04",
          "x": "four_g",
          "xref": "x",
          "y": "clock_speed",
          "yref": "y"
         },
         {
          "showarrow": false,
          "text": "0.01",
          "x": "int_memory",
          "xref": "x",
          "y": "clock_speed",
          "yref": "y"
         },
         {
          "showarrow": false,
          "text": "-0.01",
          "x": "m_dep",
          "xref": "x",
          "y": "clock_speed",
          "yref": "y"
         },
         {
          "showarrow": false,
          "text": "0.01",
          "x": "mobile_wt",
          "xref": "x",
          "y": "clock_speed",
          "yref": "y"
         },
         {
          "showarrow": false,
          "text": "-0.01",
          "x": "n_cores",
          "xref": "x",
          "y": "clock_speed",
          "yref": "y"
         },
         {
          "showarrow": false,
          "text": "-0.01",
          "x": "pc",
          "xref": "x",
          "y": "clock_speed",
          "yref": "y"
         },
         {
          "showarrow": false,
          "text": "-0.01",
          "x": "px_height",
          "xref": "x",
          "y": "clock_speed",
          "yref": "y"
         },
         {
          "showarrow": false,
          "text": "-0.01",
          "x": "px_width",
          "xref": "x",
          "y": "clock_speed",
          "yref": "y"
         },
         {
          "showarrow": false,
          "text": "0.0",
          "x": "ram",
          "xref": "x",
          "y": "clock_speed",
          "yref": "y"
         },
         {
          "showarrow": false,
          "text": "-0.03",
          "x": "sc_h",
          "xref": "x",
          "y": "clock_speed",
          "yref": "y"
         },
         {
          "showarrow": false,
          "text": "-0.01",
          "x": "sc_w",
          "xref": "x",
          "y": "clock_speed",
          "yref": "y"
         },
         {
          "showarrow": false,
          "text": "-0.01",
          "x": "talk_time",
          "xref": "x",
          "y": "clock_speed",
          "yref": "y"
         },
         {
          "showarrow": false,
          "text": "-0.05",
          "x": "three_g",
          "xref": "x",
          "y": "clock_speed",
          "yref": "y"
         },
         {
          "showarrow": false,
          "text": "0.02",
          "x": "touch_screen",
          "xref": "x",
          "y": "clock_speed",
          "yref": "y"
         },
         {
          "showarrow": false,
          "text": "-0.02",
          "x": "wifi",
          "xref": "x",
          "y": "clock_speed",
          "yref": "y"
         },
         {
          "showarrow": false,
          "text": "-0.01",
          "x": "price_range",
          "xref": "x",
          "y": "clock_speed",
          "yref": "y"
         },
         {
          "showarrow": false,
          "text": "-0.01",
          "x": "fc_log",
          "xref": "x",
          "y": "clock_speed",
          "yref": "y"
         },
         {
          "showarrow": false,
          "text": "-0.04",
          "x": "battery_power",
          "xref": "x",
          "y": "dual_sim",
          "yref": "y"
         },
         {
          "showarrow": false,
          "text": "0.04",
          "x": "blue",
          "xref": "x",
          "y": "dual_sim",
          "yref": "y"
         },
         {
          "showarrow": false,
          "text": "-0.0",
          "x": "clock_speed",
          "xref": "x",
          "y": "dual_sim",
          "yref": "y"
         },
         {
          "showarrow": false,
          "text": "1.0",
          "x": "dual_sim",
          "xref": "x",
          "y": "dual_sim",
          "yref": "y"
         },
         {
          "showarrow": false,
          "text": "-0.04",
          "x": "fc_log",
          "xref": "x",
          "y": "dual_sim",
          "yref": "y"
         },
         {
          "showarrow": false,
          "text": "0.0",
          "x": "four_g",
          "xref": "x",
          "y": "dual_sim",
          "yref": "y"
         },
         {
          "showarrow": false,
          "text": "-0.02",
          "x": "int_memory",
          "xref": "x",
          "y": "dual_sim",
          "yref": "y"
         },
         {
          "showarrow": false,
          "text": "-0.02",
          "x": "m_dep",
          "xref": "x",
          "y": "dual_sim",
          "yref": "y"
         },
         {
          "showarrow": false,
          "text": "-0.01",
          "x": "mobile_wt",
          "xref": "x",
          "y": "dual_sim",
          "yref": "y"
         },
         {
          "showarrow": false,
          "text": "-0.02",
          "x": "n_cores",
          "xref": "x",
          "y": "dual_sim",
          "yref": "y"
         },
         {
          "showarrow": false,
          "text": "-0.02",
          "x": "pc",
          "xref": "x",
          "y": "dual_sim",
          "yref": "y"
         },
         {
          "showarrow": false,
          "text": "-0.02",
          "x": "px_height",
          "xref": "x",
          "y": "dual_sim",
          "yref": "y"
         },
         {
          "showarrow": false,
          "text": "0.01",
          "x": "px_width",
          "xref": "x",
          "y": "dual_sim",
          "yref": "y"
         },
         {
          "showarrow": false,
          "text": "0.04",
          "x": "ram",
          "xref": "x",
          "y": "dual_sim",
          "yref": "y"
         },
         {
          "showarrow": false,
          "text": "-0.01",
          "x": "sc_h",
          "xref": "x",
          "y": "dual_sim",
          "yref": "y"
         },
         {
          "showarrow": false,
          "text": "-0.02",
          "x": "sc_w",
          "xref": "x",
          "y": "dual_sim",
          "yref": "y"
         },
         {
          "showarrow": false,
          "text": "-0.04",
          "x": "talk_time",
          "xref": "x",
          "y": "dual_sim",
          "yref": "y"
         },
         {
          "showarrow": false,
          "text": "-0.01",
          "x": "three_g",
          "xref": "x",
          "y": "dual_sim",
          "yref": "y"
         },
         {
          "showarrow": false,
          "text": "-0.02",
          "x": "touch_screen",
          "xref": "x",
          "y": "dual_sim",
          "yref": "y"
         },
         {
          "showarrow": false,
          "text": "0.02",
          "x": "wifi",
          "xref": "x",
          "y": "dual_sim",
          "yref": "y"
         },
         {
          "showarrow": false,
          "text": "0.02",
          "x": "price_range",
          "xref": "x",
          "y": "dual_sim",
          "yref": "y"
         },
         {
          "showarrow": false,
          "text": "-0.04",
          "x": "fc_log",
          "xref": "x",
          "y": "dual_sim",
          "yref": "y"
         },
         {
          "showarrow": false,
          "text": "0.04",
          "x": "battery_power",
          "xref": "x",
          "y": "fc_log",
          "yref": "y"
         },
         {
          "showarrow": false,
          "text": "-0.0",
          "x": "blue",
          "xref": "x",
          "y": "fc_log",
          "yref": "y"
         },
         {
          "showarrow": false,
          "text": "-0.01",
          "x": "clock_speed",
          "xref": "x",
          "y": "fc_log",
          "yref": "y"
         },
         {
          "showarrow": false,
          "text": "-0.04",
          "x": "dual_sim",
          "xref": "x",
          "y": "fc_log",
          "yref": "y"
         },
         {
          "showarrow": false,
          "text": "1.0",
          "x": "fc_log",
          "xref": "x",
          "y": "fc_log",
          "yref": "y"
         },
         {
          "showarrow": false,
          "text": "-0.02",
          "x": "four_g",
          "xref": "x",
          "y": "fc_log",
          "yref": "y"
         },
         {
          "showarrow": false,
          "text": "-0.03",
          "x": "int_memory",
          "xref": "x",
          "y": "fc_log",
          "yref": "y"
         },
         {
          "showarrow": false,
          "text": "0.01",
          "x": "m_dep",
          "xref": "x",
          "y": "fc_log",
          "yref": "y"
         },
         {
          "showarrow": false,
          "text": "0.03",
          "x": "mobile_wt",
          "xref": "x",
          "y": "fc_log",
          "yref": "y"
         },
         {
          "showarrow": false,
          "text": "-0.02",
          "x": "n_cores",
          "xref": "x",
          "y": "fc_log",
          "yref": "y"
         },
         {
          "showarrow": false,
          "text": "0.66",
          "x": "pc",
          "xref": "x",
          "y": "fc_log",
          "yref": "y"
         },
         {
          "showarrow": false,
          "text": "-0.02",
          "x": "px_height",
          "xref": "x",
          "y": "fc_log",
          "yref": "y"
         },
         {
          "showarrow": false,
          "text": "-0.01",
          "x": "px_width",
          "xref": "x",
          "y": "fc_log",
          "yref": "y"
         },
         {
          "showarrow": false,
          "text": "0.02",
          "x": "ram",
          "xref": "x",
          "y": "fc_log",
          "yref": "y"
         },
         {
          "showarrow": false,
          "text": "-0.01",
          "x": "sc_h",
          "xref": "x",
          "y": "fc_log",
          "yref": "y"
         },
         {
          "showarrow": false,
          "text": "0.0",
          "x": "sc_w",
          "xref": "x",
          "y": "fc_log",
          "yref": "y"
         },
         {
          "showarrow": false,
          "text": "-0.0",
          "x": "talk_time",
          "xref": "x",
          "y": "fc_log",
          "yref": "y"
         },
         {
          "showarrow": false,
          "text": "-0.02",
          "x": "three_g",
          "xref": "x",
          "y": "fc_log",
          "yref": "y"
         },
         {
          "showarrow": false,
          "text": "-0.02",
          "x": "touch_screen",
          "xref": "x",
          "y": "fc_log",
          "yref": "y"
         },
         {
          "showarrow": false,
          "text": "0.01",
          "x": "wifi",
          "xref": "x",
          "y": "fc_log",
          "yref": "y"
         },
         {
          "showarrow": false,
          "text": "0.02",
          "x": "price_range",
          "xref": "x",
          "y": "fc_log",
          "yref": "y"
         },
         {
          "showarrow": false,
          "text": "1.0",
          "x": "fc_log",
          "xref": "x",
          "y": "fc_log",
          "yref": "y"
         },
         {
          "showarrow": false,
          "text": "0.02",
          "x": "battery_power",
          "xref": "x",
          "y": "four_g",
          "yref": "y"
         },
         {
          "showarrow": false,
          "text": "0.01",
          "x": "blue",
          "xref": "x",
          "y": "four_g",
          "yref": "y"
         },
         {
          "showarrow": false,
          "text": "-0.04",
          "x": "clock_speed",
          "xref": "x",
          "y": "four_g",
          "yref": "y"
         },
         {
          "showarrow": false,
          "text": "0.0",
          "x": "dual_sim",
          "xref": "x",
          "y": "four_g",
          "yref": "y"
         },
         {
          "showarrow": false,
          "text": "-0.02",
          "x": "fc_log",
          "xref": "x",
          "y": "four_g",
          "yref": "y"
         },
         {
          "showarrow": false,
          "text": "1.0",
          "x": "four_g",
          "xref": "x",
          "y": "four_g",
          "yref": "y"
         },
         {
          "showarrow": false,
          "text": "0.01",
          "x": "int_memory",
          "xref": "x",
          "y": "four_g",
          "yref": "y"
         },
         {
          "showarrow": false,
          "text": "-0.0",
          "x": "m_dep",
          "xref": "x",
          "y": "four_g",
          "yref": "y"
         },
         {
          "showarrow": false,
          "text": "-0.02",
          "x": "mobile_wt",
          "xref": "x",
          "y": "four_g",
          "yref": "y"
         },
         {
          "showarrow": false,
          "text": "-0.03",
          "x": "n_cores",
          "xref": "x",
          "y": "four_g",
          "yref": "y"
         },
         {
          "showarrow": false,
          "text": "-0.01",
          "x": "pc",
          "xref": "x",
          "y": "four_g",
          "yref": "y"
         },
         {
          "showarrow": false,
          "text": "-0.02",
          "x": "px_height",
          "xref": "x",
          "y": "four_g",
          "yref": "y"
         },
         {
          "showarrow": false,
          "text": "0.01",
          "x": "px_width",
          "xref": "x",
          "y": "four_g",
          "yref": "y"
         },
         {
          "showarrow": false,
          "text": "0.01",
          "x": "ram",
          "xref": "x",
          "y": "four_g",
          "yref": "y"
         },
         {
          "showarrow": false,
          "text": "0.03",
          "x": "sc_h",
          "xref": "x",
          "y": "four_g",
          "yref": "y"
         },
         {
          "showarrow": false,
          "text": "0.04",
          "x": "sc_w",
          "xref": "x",
          "y": "four_g",
          "yref": "y"
         },
         {
          "showarrow": false,
          "text": "-0.05",
          "x": "talk_time",
          "xref": "x",
          "y": "four_g",
          "yref": "y"
         },
         {
          "showarrow": false,
          "text": "0.58",
          "x": "three_g",
          "xref": "x",
          "y": "four_g",
          "yref": "y"
         },
         {
          "showarrow": false,
          "text": "0.02",
          "x": "touch_screen",
          "xref": "x",
          "y": "four_g",
          "yref": "y"
         },
         {
          "showarrow": false,
          "text": "-0.02",
          "x": "wifi",
          "xref": "x",
          "y": "four_g",
          "yref": "y"
         },
         {
          "showarrow": false,
          "text": "0.01",
          "x": "price_range",
          "xref": "x",
          "y": "four_g",
          "yref": "y"
         },
         {
          "showarrow": false,
          "text": "-0.02",
          "x": "fc_log",
          "xref": "x",
          "y": "four_g",
          "yref": "y"
         },
         {
          "showarrow": false,
          "text": "-0.0",
          "x": "battery_power",
          "xref": "x",
          "y": "int_memory",
          "yref": "y"
         },
         {
          "showarrow": false,
          "text": "0.04",
          "x": "blue",
          "xref": "x",
          "y": "int_memory",
          "yref": "y"
         },
         {
          "showarrow": false,
          "text": "0.01",
          "x": "clock_speed",
          "xref": "x",
          "y": "int_memory",
          "yref": "y"
         },
         {
          "showarrow": false,
          "text": "-0.02",
          "x": "dual_sim",
          "xref": "x",
          "y": "int_memory",
          "yref": "y"
         },
         {
          "showarrow": false,
          "text": "-0.03",
          "x": "fc_log",
          "xref": "x",
          "y": "int_memory",
          "yref": "y"
         },
         {
          "showarrow": false,
          "text": "0.01",
          "x": "four_g",
          "xref": "x",
          "y": "int_memory",
          "yref": "y"
         },
         {
          "showarrow": false,
          "text": "1.0",
          "x": "int_memory",
          "xref": "x",
          "y": "int_memory",
          "yref": "y"
         },
         {
          "showarrow": false,
          "text": "0.01",
          "x": "m_dep",
          "xref": "x",
          "y": "int_memory",
          "yref": "y"
         },
         {
          "showarrow": false,
          "text": "-0.03",
          "x": "mobile_wt",
          "xref": "x",
          "y": "int_memory",
          "yref": "y"
         },
         {
          "showarrow": false,
          "text": "-0.03",
          "x": "n_cores",
          "xref": "x",
          "y": "int_memory",
          "yref": "y"
         },
         {
          "showarrow": false,
          "text": "-0.03",
          "x": "pc",
          "xref": "x",
          "y": "int_memory",
          "yref": "y"
         },
         {
          "showarrow": false,
          "text": "0.01",
          "x": "px_height",
          "xref": "x",
          "y": "int_memory",
          "yref": "y"
         },
         {
          "showarrow": false,
          "text": "-0.01",
          "x": "px_width",
          "xref": "x",
          "y": "int_memory",
          "yref": "y"
         },
         {
          "showarrow": false,
          "text": "0.03",
          "x": "ram",
          "xref": "x",
          "y": "int_memory",
          "yref": "y"
         },
         {
          "showarrow": false,
          "text": "0.04",
          "x": "sc_h",
          "xref": "x",
          "y": "int_memory",
          "yref": "y"
         },
         {
          "showarrow": false,
          "text": "0.01",
          "x": "sc_w",
          "xref": "x",
          "y": "int_memory",
          "yref": "y"
         },
         {
          "showarrow": false,
          "text": "-0.0",
          "x": "talk_time",
          "xref": "x",
          "y": "int_memory",
          "yref": "y"
         },
         {
          "showarrow": false,
          "text": "-0.01",
          "x": "three_g",
          "xref": "x",
          "y": "int_memory",
          "yref": "y"
         },
         {
          "showarrow": false,
          "text": "-0.03",
          "x": "touch_screen",
          "xref": "x",
          "y": "int_memory",
          "yref": "y"
         },
         {
          "showarrow": false,
          "text": "0.01",
          "x": "wifi",
          "xref": "x",
          "y": "int_memory",
          "yref": "y"
         },
         {
          "showarrow": false,
          "text": "0.04",
          "x": "price_range",
          "xref": "x",
          "y": "int_memory",
          "yref": "y"
         },
         {
          "showarrow": false,
          "text": "-0.03",
          "x": "fc_log",
          "xref": "x",
          "y": "int_memory",
          "yref": "y"
         },
         {
          "showarrow": false,
          "text": "0.03",
          "x": "battery_power",
          "xref": "x",
          "y": "m_dep",
          "yref": "y"
         },
         {
          "showarrow": false,
          "text": "0.0",
          "x": "blue",
          "xref": "x",
          "y": "m_dep",
          "yref": "y"
         },
         {
          "showarrow": false,
          "text": "-0.01",
          "x": "clock_speed",
          "xref": "x",
          "y": "m_dep",
          "yref": "y"
         },
         {
          "showarrow": false,
          "text": "-0.02",
          "x": "dual_sim",
          "xref": "x",
          "y": "m_dep",
          "yref": "y"
         },
         {
          "showarrow": false,
          "text": "0.01",
          "x": "fc_log",
          "xref": "x",
          "y": "m_dep",
          "yref": "y"
         },
         {
          "showarrow": false,
          "text": "-0.0",
          "x": "four_g",
          "xref": "x",
          "y": "m_dep",
          "yref": "y"
         },
         {
          "showarrow": false,
          "text": "0.01",
          "x": "int_memory",
          "xref": "x",
          "y": "m_dep",
          "yref": "y"
         },
         {
          "showarrow": false,
          "text": "1.0",
          "x": "m_dep",
          "xref": "x",
          "y": "m_dep",
          "yref": "y"
         },
         {
          "showarrow": false,
          "text": "0.02",
          "x": "mobile_wt",
          "xref": "x",
          "y": "m_dep",
          "yref": "y"
         },
         {
          "showarrow": false,
          "text": "-0.0",
          "x": "n_cores",
          "xref": "x",
          "y": "m_dep",
          "yref": "y"
         },
         {
          "showarrow": false,
          "text": "0.03",
          "x": "pc",
          "xref": "x",
          "y": "m_dep",
          "yref": "y"
         },
         {
          "showarrow": false,
          "text": "0.03",
          "x": "px_height",
          "xref": "x",
          "y": "m_dep",
          "yref": "y"
         },
         {
          "showarrow": false,
          "text": "0.02",
          "x": "px_width",
          "xref": "x",
          "y": "m_dep",
          "yref": "y"
         },
         {
          "showarrow": false,
          "text": "-0.01",
          "x": "ram",
          "xref": "x",
          "y": "m_dep",
          "yref": "y"
         },
         {
          "showarrow": false,
          "text": "-0.03",
          "x": "sc_h",
          "xref": "x",
          "y": "m_dep",
          "yref": "y"
         },
         {
          "showarrow": false,
          "text": "-0.02",
          "x": "sc_w",
          "xref": "x",
          "y": "m_dep",
          "yref": "y"
         },
         {
          "showarrow": false,
          "text": "0.02",
          "x": "talk_time",
          "xref": "x",
          "y": "m_dep",
          "yref": "y"
         },
         {
          "showarrow": false,
          "text": "-0.01",
          "x": "three_g",
          "xref": "x",
          "y": "m_dep",
          "yref": "y"
         },
         {
          "showarrow": false,
          "text": "-0.0",
          "x": "touch_screen",
          "xref": "x",
          "y": "m_dep",
          "yref": "y"
         },
         {
          "showarrow": false,
          "text": "-0.03",
          "x": "wifi",
          "xref": "x",
          "y": "m_dep",
          "yref": "y"
         },
         {
          "showarrow": false,
          "text": "0.0",
          "x": "price_range",
          "xref": "x",
          "y": "m_dep",
          "yref": "y"
         },
         {
          "showarrow": false,
          "text": "0.01",
          "x": "fc_log",
          "xref": "x",
          "y": "m_dep",
          "yref": "y"
         },
         {
          "showarrow": false,
          "text": "0.0",
          "x": "battery_power",
          "xref": "x",
          "y": "mobile_wt",
          "yref": "y"
         },
         {
          "showarrow": false,
          "text": "-0.01",
          "x": "blue",
          "xref": "x",
          "y": "mobile_wt",
          "yref": "y"
         },
         {
          "showarrow": false,
          "text": "0.01",
          "x": "clock_speed",
          "xref": "x",
          "y": "mobile_wt",
          "yref": "y"
         },
         {
          "showarrow": false,
          "text": "-0.01",
          "x": "dual_sim",
          "xref": "x",
          "y": "mobile_wt",
          "yref": "y"
         },
         {
          "showarrow": false,
          "text": "0.03",
          "x": "fc_log",
          "xref": "x",
          "y": "mobile_wt",
          "yref": "y"
         },
         {
          "showarrow": false,
          "text": "-0.02",
          "x": "four_g",
          "xref": "x",
          "y": "mobile_wt",
          "yref": "y"
         },
         {
          "showarrow": false,
          "text": "-0.03",
          "x": "int_memory",
          "xref": "x",
          "y": "mobile_wt",
          "yref": "y"
         },
         {
          "showarrow": false,
          "text": "0.02",
          "x": "m_dep",
          "xref": "x",
          "y": "mobile_wt",
          "yref": "y"
         },
         {
          "showarrow": false,
          "text": "1.0",
          "x": "mobile_wt",
          "xref": "x",
          "y": "mobile_wt",
          "yref": "y"
         },
         {
          "showarrow": false,
          "text": "-0.02",
          "x": "n_cores",
          "xref": "x",
          "y": "mobile_wt",
          "yref": "y"
         },
         {
          "showarrow": false,
          "text": "0.02",
          "x": "pc",
          "xref": "x",
          "y": "mobile_wt",
          "yref": "y"
         },
         {
          "showarrow": false,
          "text": "0.0",
          "x": "px_height",
          "xref": "x",
          "y": "mobile_wt",
          "yref": "y"
         },
         {
          "showarrow": false,
          "text": "0.0",
          "x": "px_width",
          "xref": "x",
          "y": "mobile_wt",
          "yref": "y"
         },
         {
          "showarrow": false,
          "text": "-0.0",
          "x": "ram",
          "xref": "x",
          "y": "mobile_wt",
          "yref": "y"
         },
         {
          "showarrow": false,
          "text": "-0.03",
          "x": "sc_h",
          "xref": "x",
          "y": "mobile_wt",
          "yref": "y"
         },
         {
          "showarrow": false,
          "text": "-0.02",
          "x": "sc_w",
          "xref": "x",
          "y": "mobile_wt",
          "yref": "y"
         },
         {
          "showarrow": false,
          "text": "0.01",
          "x": "talk_time",
          "xref": "x",
          "y": "mobile_wt",
          "yref": "y"
         },
         {
          "showarrow": false,
          "text": "0.0",
          "x": "three_g",
          "xref": "x",
          "y": "mobile_wt",
          "yref": "y"
         },
         {
          "showarrow": false,
          "text": "-0.01",
          "x": "touch_screen",
          "xref": "x",
          "y": "mobile_wt",
          "yref": "y"
         },
         {
          "showarrow": false,
          "text": "-0.0",
          "x": "wifi",
          "xref": "x",
          "y": "mobile_wt",
          "yref": "y"
         },
         {
          "showarrow": false,
          "text": "-0.03",
          "x": "price_range",
          "xref": "x",
          "y": "mobile_wt",
          "yref": "y"
         },
         {
          "showarrow": false,
          "text": "0.03",
          "x": "fc_log",
          "xref": "x",
          "y": "mobile_wt",
          "yref": "y"
         },
         {
          "showarrow": false,
          "text": "-0.03",
          "x": "battery_power",
          "xref": "x",
          "y": "n_cores",
          "yref": "y"
         },
         {
          "showarrow": false,
          "text": "0.04",
          "x": "blue",
          "xref": "x",
          "y": "n_cores",
          "yref": "y"
         },
         {
          "showarrow": false,
          "text": "-0.01",
          "x": "clock_speed",
          "xref": "x",
          "y": "n_cores",
          "yref": "y"
         },
         {
          "showarrow": false,
          "text": "-0.02",
          "x": "dual_sim",
          "xref": "x",
          "y": "n_cores",
          "yref": "y"
         },
         {
          "showarrow": false,
          "text": "-0.02",
          "x": "fc_log",
          "xref": "x",
          "y": "n_cores",
          "yref": "y"
         },
         {
          "showarrow": false,
          "text": "-0.03",
          "x": "four_g",
          "xref": "x",
          "y": "n_cores",
          "yref": "y"
         },
         {
          "showarrow": false,
          "text": "-0.03",
          "x": "int_memory",
          "xref": "x",
          "y": "n_cores",
          "yref": "y"
         },
         {
          "showarrow": false,
          "text": "-0.0",
          "x": "m_dep",
          "xref": "x",
          "y": "n_cores",
          "yref": "y"
         },
         {
          "showarrow": false,
          "text": "-0.02",
          "x": "mobile_wt",
          "xref": "x",
          "y": "n_cores",
          "yref": "y"
         },
         {
          "showarrow": false,
          "text": "1.0",
          "x": "n_cores",
          "xref": "x",
          "y": "n_cores",
          "yref": "y"
         },
         {
          "showarrow": false,
          "text": "-0.0",
          "x": "pc",
          "xref": "x",
          "y": "n_cores",
          "yref": "y"
         },
         {
          "showarrow": false,
          "text": "-0.01",
          "x": "px_height",
          "xref": "x",
          "y": "n_cores",
          "yref": "y"
         },
         {
          "showarrow": false,
          "text": "0.02",
          "x": "px_width",
          "xref": "x",
          "y": "n_cores",
          "yref": "y"
         },
         {
          "showarrow": false,
          "text": "0.0",
          "x": "ram",
          "xref": "x",
          "y": "n_cores",
          "yref": "y"
         },
         {
          "showarrow": false,
          "text": "-0.0",
          "x": "sc_h",
          "xref": "x",
          "y": "n_cores",
          "yref": "y"
         },
         {
          "showarrow": false,
          "text": "0.03",
          "x": "sc_w",
          "xref": "x",
          "y": "n_cores",
          "yref": "y"
         },
         {
          "showarrow": false,
          "text": "0.01",
          "x": "talk_time",
          "xref": "x",
          "y": "n_cores",
          "yref": "y"
         },
         {
          "showarrow": false,
          "text": "-0.01",
          "x": "three_g",
          "xref": "x",
          "y": "n_cores",
          "yref": "y"
         },
         {
          "showarrow": false,
          "text": "0.02",
          "x": "touch_screen",
          "xref": "x",
          "y": "n_cores",
          "yref": "y"
         },
         {
          "showarrow": false,
          "text": "-0.01",
          "x": "wifi",
          "xref": "x",
          "y": "n_cores",
          "yref": "y"
         },
         {
          "showarrow": false,
          "text": "0.0",
          "x": "price_range",
          "xref": "x",
          "y": "n_cores",
          "yref": "y"
         },
         {
          "showarrow": false,
          "text": "-0.02",
          "x": "fc_log",
          "xref": "x",
          "y": "n_cores",
          "yref": "y"
         },
         {
          "showarrow": false,
          "text": "0.03",
          "x": "battery_power",
          "xref": "x",
          "y": "pc",
          "yref": "y"
         },
         {
          "showarrow": false,
          "text": "-0.01",
          "x": "blue",
          "xref": "x",
          "y": "pc",
          "yref": "y"
         },
         {
          "showarrow": false,
          "text": "-0.01",
          "x": "clock_speed",
          "xref": "x",
          "y": "pc",
          "yref": "y"
         },
         {
          "showarrow": false,
          "text": "-0.02",
          "x": "dual_sim",
          "xref": "x",
          "y": "pc",
          "yref": "y"
         },
         {
          "showarrow": false,
          "text": "0.66",
          "x": "fc_log",
          "xref": "x",
          "y": "pc",
          "yref": "y"
         },
         {
          "showarrow": false,
          "text": "-0.01",
          "x": "four_g",
          "xref": "x",
          "y": "pc",
          "yref": "y"
         },
         {
          "showarrow": false,
          "text": "-0.03",
          "x": "int_memory",
          "xref": "x",
          "y": "pc",
          "yref": "y"
         },
         {
          "showarrow": false,
          "text": "0.03",
          "x": "m_dep",
          "xref": "x",
          "y": "pc",
          "yref": "y"
         },
         {
          "showarrow": false,
          "text": "0.02",
          "x": "mobile_wt",
          "xref": "x",
          "y": "pc",
          "yref": "y"
         },
         {
          "showarrow": false,
          "text": "-0.0",
          "x": "n_cores",
          "xref": "x",
          "y": "pc",
          "yref": "y"
         },
         {
          "showarrow": false,
          "text": "1.0",
          "x": "pc",
          "xref": "x",
          "y": "pc",
          "yref": "y"
         },
         {
          "showarrow": false,
          "text": "-0.02",
          "x": "px_height",
          "xref": "x",
          "y": "pc",
          "yref": "y"
         },
         {
          "showarrow": false,
          "text": "0.0",
          "x": "px_width",
          "xref": "x",
          "y": "pc",
          "yref": "y"
         },
         {
          "showarrow": false,
          "text": "0.03",
          "x": "ram",
          "xref": "x",
          "y": "pc",
          "yref": "y"
         },
         {
          "showarrow": false,
          "text": "0.0",
          "x": "sc_h",
          "xref": "x",
          "y": "pc",
          "yref": "y"
         },
         {
          "showarrow": false,
          "text": "-0.02",
          "x": "sc_w",
          "xref": "x",
          "y": "pc",
          "yref": "y"
         },
         {
          "showarrow": false,
          "text": "0.01",
          "x": "talk_time",
          "xref": "x",
          "y": "pc",
          "yref": "y"
         },
         {
          "showarrow": false,
          "text": "-0.0",
          "x": "three_g",
          "xref": "x",
          "y": "pc",
          "yref": "y"
         },
         {
          "showarrow": false,
          "text": "-0.01",
          "x": "touch_screen",
          "xref": "x",
          "y": "pc",
          "yref": "y"
         },
         {
          "showarrow": false,
          "text": "0.01",
          "x": "wifi",
          "xref": "x",
          "y": "pc",
          "yref": "y"
         },
         {
          "showarrow": false,
          "text": "0.03",
          "x": "price_range",
          "xref": "x",
          "y": "pc",
          "yref": "y"
         },
         {
          "showarrow": false,
          "text": "0.66",
          "x": "fc_log",
          "xref": "x",
          "y": "pc",
          "yref": "y"
         },
         {
          "showarrow": false,
          "text": "0.01",
          "x": "battery_power",
          "xref": "x",
          "y": "px_height",
          "yref": "y"
         },
         {
          "showarrow": false,
          "text": "-0.01",
          "x": "blue",
          "xref": "x",
          "y": "px_height",
          "yref": "y"
         },
         {
          "showarrow": false,
          "text": "-0.01",
          "x": "clock_speed",
          "xref": "x",
          "y": "px_height",
          "yref": "y"
         },
         {
          "showarrow": false,
          "text": "-0.02",
          "x": "dual_sim",
          "xref": "x",
          "y": "px_height",
          "yref": "y"
         },
         {
          "showarrow": false,
          "text": "-0.02",
          "x": "fc_log",
          "xref": "x",
          "y": "px_height",
          "yref": "y"
         },
         {
          "showarrow": false,
          "text": "-0.02",
          "x": "four_g",
          "xref": "x",
          "y": "px_height",
          "yref": "y"
         },
         {
          "showarrow": false,
          "text": "0.01",
          "x": "int_memory",
          "xref": "x",
          "y": "px_height",
          "yref": "y"
         },
         {
          "showarrow": false,
          "text": "0.03",
          "x": "m_dep",
          "xref": "x",
          "y": "px_height",
          "yref": "y"
         },
         {
          "showarrow": false,
          "text": "0.0",
          "x": "mobile_wt",
          "xref": "x",
          "y": "px_height",
          "yref": "y"
         },
         {
          "showarrow": false,
          "text": "-0.01",
          "x": "n_cores",
          "xref": "x",
          "y": "px_height",
          "yref": "y"
         },
         {
          "showarrow": false,
          "text": "-0.02",
          "x": "pc",
          "xref": "x",
          "y": "px_height",
          "yref": "y"
         },
         {
          "showarrow": false,
          "text": "1.0",
          "x": "px_height",
          "xref": "x",
          "y": "px_height",
          "yref": "y"
         },
         {
          "showarrow": false,
          "text": "0.51",
          "x": "px_width",
          "xref": "x",
          "y": "px_height",
          "yref": "y"
         },
         {
          "showarrow": false,
          "text": "-0.02",
          "x": "ram",
          "xref": "x",
          "y": "px_height",
          "yref": "y"
         },
         {
          "showarrow": false,
          "text": "0.06",
          "x": "sc_h",
          "xref": "x",
          "y": "px_height",
          "yref": "y"
         },
         {
          "showarrow": false,
          "text": "0.04",
          "x": "sc_w",
          "xref": "x",
          "y": "px_height",
          "yref": "y"
         },
         {
          "showarrow": false,
          "text": "-0.01",
          "x": "talk_time",
          "xref": "x",
          "y": "px_height",
          "yref": "y"
         },
         {
          "showarrow": false,
          "text": "-0.03",
          "x": "three_g",
          "xref": "x",
          "y": "px_height",
          "yref": "y"
         },
         {
          "showarrow": false,
          "text": "0.02",
          "x": "touch_screen",
          "xref": "x",
          "y": "px_height",
          "yref": "y"
         },
         {
          "showarrow": false,
          "text": "0.05",
          "x": "wifi",
          "xref": "x",
          "y": "px_height",
          "yref": "y"
         },
         {
          "showarrow": false,
          "text": "0.15",
          "x": "price_range",
          "xref": "x",
          "y": "px_height",
          "yref": "y"
         },
         {
          "showarrow": false,
          "text": "-0.02",
          "x": "fc_log",
          "xref": "x",
          "y": "px_height",
          "yref": "y"
         },
         {
          "showarrow": false,
          "text": "-0.01",
          "x": "battery_power",
          "xref": "x",
          "y": "px_width",
          "yref": "y"
         },
         {
          "showarrow": false,
          "text": "-0.04",
          "x": "blue",
          "xref": "x",
          "y": "px_width",
          "yref": "y"
         },
         {
          "showarrow": false,
          "text": "-0.01",
          "x": "clock_speed",
          "xref": "x",
          "y": "px_width",
          "yref": "y"
         },
         {
          "showarrow": false,
          "text": "0.01",
          "x": "dual_sim",
          "xref": "x",
          "y": "px_width",
          "yref": "y"
         },
         {
          "showarrow": false,
          "text": "-0.01",
          "x": "fc_log",
          "xref": "x",
          "y": "px_width",
          "yref": "y"
         },
         {
          "showarrow": false,
          "text": "0.01",
          "x": "four_g",
          "xref": "x",
          "y": "px_width",
          "yref": "y"
         },
         {
          "showarrow": false,
          "text": "-0.01",
          "x": "int_memory",
          "xref": "x",
          "y": "px_width",
          "yref": "y"
         },
         {
          "showarrow": false,
          "text": "0.02",
          "x": "m_dep",
          "xref": "x",
          "y": "px_width",
          "yref": "y"
         },
         {
          "showarrow": false,
          "text": "0.0",
          "x": "mobile_wt",
          "xref": "x",
          "y": "px_width",
          "yref": "y"
         },
         {
          "showarrow": false,
          "text": "0.02",
          "x": "n_cores",
          "xref": "x",
          "y": "px_width",
          "yref": "y"
         },
         {
          "showarrow": false,
          "text": "0.0",
          "x": "pc",
          "xref": "x",
          "y": "px_width",
          "yref": "y"
         },
         {
          "showarrow": false,
          "text": "0.51",
          "x": "px_height",
          "xref": "x",
          "y": "px_width",
          "yref": "y"
         },
         {
          "showarrow": false,
          "text": "1.0",
          "x": "px_width",
          "xref": "x",
          "y": "px_width",
          "yref": "y"
         },
         {
          "showarrow": false,
          "text": "0.0",
          "x": "ram",
          "xref": "x",
          "y": "px_width",
          "yref": "y"
         },
         {
          "showarrow": false,
          "text": "0.02",
          "x": "sc_h",
          "xref": "x",
          "y": "px_width",
          "yref": "y"
         },
         {
          "showarrow": false,
          "text": "0.03",
          "x": "sc_w",
          "xref": "x",
          "y": "px_width",
          "yref": "y"
         },
         {
          "showarrow": false,
          "text": "0.01",
          "x": "talk_time",
          "xref": "x",
          "y": "px_width",
          "yref": "y"
         },
         {
          "showarrow": false,
          "text": "0.0",
          "x": "three_g",
          "xref": "x",
          "y": "px_width",
          "yref": "y"
         },
         {
          "showarrow": false,
          "text": "-0.0",
          "x": "touch_screen",
          "xref": "x",
          "y": "px_width",
          "yref": "y"
         },
         {
          "showarrow": false,
          "text": "0.03",
          "x": "wifi",
          "xref": "x",
          "y": "px_width",
          "yref": "y"
         },
         {
          "showarrow": false,
          "text": "0.17",
          "x": "price_range",
          "xref": "x",
          "y": "px_width",
          "yref": "y"
         },
         {
          "showarrow": false,
          "text": "-0.01",
          "x": "fc_log",
          "xref": "x",
          "y": "px_width",
          "yref": "y"
         },
         {
          "showarrow": false,
          "text": "-0.0",
          "x": "battery_power",
          "xref": "x",
          "y": "ram",
          "yref": "y"
         },
         {
          "showarrow": false,
          "text": "0.03",
          "x": "blue",
          "xref": "x",
          "y": "ram",
          "yref": "y"
         },
         {
          "showarrow": false,
          "text": "0.0",
          "x": "clock_speed",
          "xref": "x",
          "y": "ram",
          "yref": "y"
         },
         {
          "showarrow": false,
          "text": "0.04",
          "x": "dual_sim",
          "xref": "x",
          "y": "ram",
          "yref": "y"
         },
         {
          "showarrow": false,
          "text": "0.02",
          "x": "fc_log",
          "xref": "x",
          "y": "ram",
          "yref": "y"
         },
         {
          "showarrow": false,
          "text": "0.01",
          "x": "four_g",
          "xref": "x",
          "y": "ram",
          "yref": "y"
         },
         {
          "showarrow": false,
          "text": "0.03",
          "x": "int_memory",
          "xref": "x",
          "y": "ram",
          "yref": "y"
         },
         {
          "showarrow": false,
          "text": "-0.01",
          "x": "m_dep",
          "xref": "x",
          "y": "ram",
          "yref": "y"
         },
         {
          "showarrow": false,
          "text": "-0.0",
          "x": "mobile_wt",
          "xref": "x",
          "y": "ram",
          "yref": "y"
         },
         {
          "showarrow": false,
          "text": "0.0",
          "x": "n_cores",
          "xref": "x",
          "y": "ram",
          "yref": "y"
         },
         {
          "showarrow": false,
          "text": "0.03",
          "x": "pc",
          "xref": "x",
          "y": "ram",
          "yref": "y"
         },
         {
          "showarrow": false,
          "text": "-0.02",
          "x": "px_height",
          "xref": "x",
          "y": "ram",
          "yref": "y"
         },
         {
          "showarrow": false,
          "text": "0.0",
          "x": "px_width",
          "xref": "x",
          "y": "ram",
          "yref": "y"
         },
         {
          "showarrow": false,
          "text": "1.0",
          "x": "ram",
          "xref": "x",
          "y": "ram",
          "yref": "y"
         },
         {
          "showarrow": false,
          "text": "0.02",
          "x": "sc_h",
          "xref": "x",
          "y": "ram",
          "yref": "y"
         },
         {
          "showarrow": false,
          "text": "0.04",
          "x": "sc_w",
          "xref": "x",
          "y": "ram",
          "yref": "y"
         },
         {
          "showarrow": false,
          "text": "0.01",
          "x": "talk_time",
          "xref": "x",
          "y": "ram",
          "yref": "y"
         },
         {
          "showarrow": false,
          "text": "0.02",
          "x": "three_g",
          "xref": "x",
          "y": "ram",
          "yref": "y"
         },
         {
          "showarrow": false,
          "text": "-0.03",
          "x": "touch_screen",
          "xref": "x",
          "y": "ram",
          "yref": "y"
         },
         {
          "showarrow": false,
          "text": "0.02",
          "x": "wifi",
          "xref": "x",
          "y": "ram",
          "yref": "y"
         },
         {
          "showarrow": false,
          "text": "0.92",
          "x": "price_range",
          "xref": "x",
          "y": "ram",
          "yref": "y"
         },
         {
          "showarrow": false,
          "text": "0.02",
          "x": "fc_log",
          "xref": "x",
          "y": "ram",
          "yref": "y"
         },
         {
          "showarrow": false,
          "text": "-0.03",
          "x": "battery_power",
          "xref": "x",
          "y": "sc_h",
          "yref": "y"
         },
         {
          "showarrow": false,
          "text": "-0.0",
          "x": "blue",
          "xref": "x",
          "y": "sc_h",
          "yref": "y"
         },
         {
          "showarrow": false,
          "text": "-0.03",
          "x": "clock_speed",
          "xref": "x",
          "y": "sc_h",
          "yref": "y"
         },
         {
          "showarrow": false,
          "text": "-0.01",
          "x": "dual_sim",
          "xref": "x",
          "y": "sc_h",
          "yref": "y"
         },
         {
          "showarrow": false,
          "text": "-0.01",
          "x": "fc_log",
          "xref": "x",
          "y": "sc_h",
          "yref": "y"
         },
         {
          "showarrow": false,
          "text": "0.03",
          "x": "four_g",
          "xref": "x",
          "y": "sc_h",
          "yref": "y"
         },
         {
          "showarrow": false,
          "text": "0.04",
          "x": "int_memory",
          "xref": "x",
          "y": "sc_h",
          "yref": "y"
         },
         {
          "showarrow": false,
          "text": "-0.03",
          "x": "m_dep",
          "xref": "x",
          "y": "sc_h",
          "yref": "y"
         },
         {
          "showarrow": false,
          "text": "-0.03",
          "x": "mobile_wt",
          "xref": "x",
          "y": "sc_h",
          "yref": "y"
         },
         {
          "showarrow": false,
          "text": "-0.0",
          "x": "n_cores",
          "xref": "x",
          "y": "sc_h",
          "yref": "y"
         },
         {
          "showarrow": false,
          "text": "0.0",
          "x": "pc",
          "xref": "x",
          "y": "sc_h",
          "yref": "y"
         },
         {
          "showarrow": false,
          "text": "0.06",
          "x": "px_height",
          "xref": "x",
          "y": "sc_h",
          "yref": "y"
         },
         {
          "showarrow": false,
          "text": "0.02",
          "x": "px_width",
          "xref": "x",
          "y": "sc_h",
          "yref": "y"
         },
         {
          "showarrow": false,
          "text": "0.02",
          "x": "ram",
          "xref": "x",
          "y": "sc_h",
          "yref": "y"
         },
         {
          "showarrow": false,
          "text": "1.0",
          "x": "sc_h",
          "xref": "x",
          "y": "sc_h",
          "yref": "y"
         },
         {
          "showarrow": false,
          "text": "0.51",
          "x": "sc_w",
          "xref": "x",
          "y": "sc_h",
          "yref": "y"
         },
         {
          "showarrow": false,
          "text": "-0.02",
          "x": "talk_time",
          "xref": "x",
          "y": "sc_h",
          "yref": "y"
         },
         {
          "showarrow": false,
          "text": "0.01",
          "x": "three_g",
          "xref": "x",
          "y": "sc_h",
          "yref": "y"
         },
         {
          "showarrow": false,
          "text": "-0.02",
          "x": "touch_screen",
          "xref": "x",
          "y": "sc_h",
          "yref": "y"
         },
         {
          "showarrow": false,
          "text": "0.03",
          "x": "wifi",
          "xref": "x",
          "y": "sc_h",
          "yref": "y"
         },
         {
          "showarrow": false,
          "text": "0.02",
          "x": "price_range",
          "xref": "x",
          "y": "sc_h",
          "yref": "y"
         },
         {
          "showarrow": false,
          "text": "-0.01",
          "x": "fc_log",
          "xref": "x",
          "y": "sc_h",
          "yref": "y"
         },
         {
          "showarrow": false,
          "text": "-0.02",
          "x": "battery_power",
          "xref": "x",
          "y": "sc_w",
          "yref": "y"
         },
         {
          "showarrow": false,
          "text": "0.0",
          "x": "blue",
          "xref": "x",
          "y": "sc_w",
          "yref": "y"
         },
         {
          "showarrow": false,
          "text": "-0.01",
          "x": "clock_speed",
          "xref": "x",
          "y": "sc_w",
          "yref": "y"
         },
         {
          "showarrow": false,
          "text": "-0.02",
          "x": "dual_sim",
          "xref": "x",
          "y": "sc_w",
          "yref": "y"
         },
         {
          "showarrow": false,
          "text": "0.0",
          "x": "fc_log",
          "xref": "x",
          "y": "sc_w",
          "yref": "y"
         },
         {
          "showarrow": false,
          "text": "0.04",
          "x": "four_g",
          "xref": "x",
          "y": "sc_w",
          "yref": "y"
         },
         {
          "showarrow": false,
          "text": "0.01",
          "x": "int_memory",
          "xref": "x",
          "y": "sc_w",
          "yref": "y"
         },
         {
          "showarrow": false,
          "text": "-0.02",
          "x": "m_dep",
          "xref": "x",
          "y": "sc_w",
          "yref": "y"
         },
         {
          "showarrow": false,
          "text": "-0.02",
          "x": "mobile_wt",
          "xref": "x",
          "y": "sc_w",
          "yref": "y"
         },
         {
          "showarrow": false,
          "text": "0.03",
          "x": "n_cores",
          "xref": "x",
          "y": "sc_w",
          "yref": "y"
         },
         {
          "showarrow": false,
          "text": "-0.02",
          "x": "pc",
          "xref": "x",
          "y": "sc_w",
          "yref": "y"
         },
         {
          "showarrow": false,
          "text": "0.04",
          "x": "px_height",
          "xref": "x",
          "y": "sc_w",
          "yref": "y"
         },
         {
          "showarrow": false,
          "text": "0.03",
          "x": "px_width",
          "xref": "x",
          "y": "sc_w",
          "yref": "y"
         },
         {
          "showarrow": false,
          "text": "0.04",
          "x": "ram",
          "xref": "x",
          "y": "sc_w",
          "yref": "y"
         },
         {
          "showarrow": false,
          "text": "0.51",
          "x": "sc_h",
          "xref": "x",
          "y": "sc_w",
          "yref": "y"
         },
         {
          "showarrow": false,
          "text": "1.0",
          "x": "sc_w",
          "xref": "x",
          "y": "sc_w",
          "yref": "y"
         },
         {
          "showarrow": false,
          "text": "-0.02",
          "x": "talk_time",
          "xref": "x",
          "y": "sc_w",
          "yref": "y"
         },
         {
          "showarrow": false,
          "text": "0.03",
          "x": "three_g",
          "xref": "x",
          "y": "sc_w",
          "yref": "y"
         },
         {
          "showarrow": false,
          "text": "0.01",
          "x": "touch_screen",
          "xref": "x",
          "y": "sc_w",
          "yref": "y"
         },
         {
          "showarrow": false,
          "text": "0.04",
          "x": "wifi",
          "xref": "x",
          "y": "sc_w",
          "yref": "y"
         },
         {
          "showarrow": false,
          "text": "0.04",
          "x": "price_range",
          "xref": "x",
          "y": "sc_w",
          "yref": "y"
         },
         {
          "showarrow": false,
          "text": "0.0",
          "x": "fc_log",
          "xref": "x",
          "y": "sc_w",
          "yref": "y"
         },
         {
          "showarrow": false,
          "text": "0.05",
          "x": "battery_power",
          "xref": "x",
          "y": "talk_time",
          "yref": "y"
         },
         {
          "showarrow": false,
          "text": "0.01",
          "x": "blue",
          "xref": "x",
          "y": "talk_time",
          "yref": "y"
         },
         {
          "showarrow": false,
          "text": "-0.01",
          "x": "clock_speed",
          "xref": "x",
          "y": "talk_time",
          "yref": "y"
         },
         {
          "showarrow": false,
          "text": "-0.04",
          "x": "dual_sim",
          "xref": "x",
          "y": "talk_time",
          "yref": "y"
         },
         {
          "showarrow": false,
          "text": "-0.0",
          "x": "fc_log",
          "xref": "x",
          "y": "talk_time",
          "yref": "y"
         },
         {
          "showarrow": false,
          "text": "-0.05",
          "x": "four_g",
          "xref": "x",
          "y": "talk_time",
          "yref": "y"
         },
         {
          "showarrow": false,
          "text": "-0.0",
          "x": "int_memory",
          "xref": "x",
          "y": "talk_time",
          "yref": "y"
         },
         {
          "showarrow": false,
          "text": "0.02",
          "x": "m_dep",
          "xref": "x",
          "y": "talk_time",
          "yref": "y"
         },
         {
          "showarrow": false,
          "text": "0.01",
          "x": "mobile_wt",
          "xref": "x",
          "y": "talk_time",
          "yref": "y"
         },
         {
          "showarrow": false,
          "text": "0.01",
          "x": "n_cores",
          "xref": "x",
          "y": "talk_time",
          "yref": "y"
         },
         {
          "showarrow": false,
          "text": "0.01",
          "x": "pc",
          "xref": "x",
          "y": "talk_time",
          "yref": "y"
         },
         {
          "showarrow": false,
          "text": "-0.01",
          "x": "px_height",
          "xref": "x",
          "y": "talk_time",
          "yref": "y"
         },
         {
          "showarrow": false,
          "text": "0.01",
          "x": "px_width",
          "xref": "x",
          "y": "talk_time",
          "yref": "y"
         },
         {
          "showarrow": false,
          "text": "0.01",
          "x": "ram",
          "xref": "x",
          "y": "talk_time",
          "yref": "y"
         },
         {
          "showarrow": false,
          "text": "-0.02",
          "x": "sc_h",
          "xref": "x",
          "y": "talk_time",
          "yref": "y"
         },
         {
          "showarrow": false,
          "text": "-0.02",
          "x": "sc_w",
          "xref": "x",
          "y": "talk_time",
          "yref": "y"
         },
         {
          "showarrow": false,
          "text": "1.0",
          "x": "talk_time",
          "xref": "x",
          "y": "talk_time",
          "yref": "y"
         },
         {
          "showarrow": false,
          "text": "-0.04",
          "x": "three_g",
          "xref": "x",
          "y": "talk_time",
          "yref": "y"
         },
         {
          "showarrow": false,
          "text": "0.02",
          "x": "touch_screen",
          "xref": "x",
          "y": "talk_time",
          "yref": "y"
         },
         {
          "showarrow": false,
          "text": "-0.03",
          "x": "wifi",
          "xref": "x",
          "y": "talk_time",
          "yref": "y"
         },
         {
          "showarrow": false,
          "text": "0.02",
          "x": "price_range",
          "xref": "x",
          "y": "talk_time",
          "yref": "y"
         },
         {
          "showarrow": false,
          "text": "-0.0",
          "x": "fc_log",
          "xref": "x",
          "y": "talk_time",
          "yref": "y"
         },
         {
          "showarrow": false,
          "text": "0.01",
          "x": "battery_power",
          "xref": "x",
          "y": "three_g",
          "yref": "y"
         },
         {
          "showarrow": false,
          "text": "-0.03",
          "x": "blue",
          "xref": "x",
          "y": "three_g",
          "yref": "y"
         },
         {
          "showarrow": false,
          "text": "-0.05",
          "x": "clock_speed",
          "xref": "x",
          "y": "three_g",
          "yref": "y"
         },
         {
          "showarrow": false,
          "text": "-0.01",
          "x": "dual_sim",
          "xref": "x",
          "y": "three_g",
          "yref": "y"
         },
         {
          "showarrow": false,
          "text": "-0.02",
          "x": "fc_log",
          "xref": "x",
          "y": "three_g",
          "yref": "y"
         },
         {
          "showarrow": false,
          "text": "0.58",
          "x": "four_g",
          "xref": "x",
          "y": "three_g",
          "yref": "y"
         },
         {
          "showarrow": false,
          "text": "-0.01",
          "x": "int_memory",
          "xref": "x",
          "y": "three_g",
          "yref": "y"
         },
         {
          "showarrow": false,
          "text": "-0.01",
          "x": "m_dep",
          "xref": "x",
          "y": "three_g",
          "yref": "y"
         },
         {
          "showarrow": false,
          "text": "0.0",
          "x": "mobile_wt",
          "xref": "x",
          "y": "three_g",
          "yref": "y"
         },
         {
          "showarrow": false,
          "text": "-0.01",
          "x": "n_cores",
          "xref": "x",
          "y": "three_g",
          "yref": "y"
         },
         {
          "showarrow": false,
          "text": "-0.0",
          "x": "pc",
          "xref": "x",
          "y": "three_g",
          "yref": "y"
         },
         {
          "showarrow": false,
          "text": "-0.03",
          "x": "px_height",
          "xref": "x",
          "y": "three_g",
          "yref": "y"
         },
         {
          "showarrow": false,
          "text": "0.0",
          "x": "px_width",
          "xref": "x",
          "y": "three_g",
          "yref": "y"
         },
         {
          "showarrow": false,
          "text": "0.02",
          "x": "ram",
          "xref": "x",
          "y": "three_g",
          "yref": "y"
         },
         {
          "showarrow": false,
          "text": "0.01",
          "x": "sc_h",
          "xref": "x",
          "y": "three_g",
          "yref": "y"
         },
         {
          "showarrow": false,
          "text": "0.03",
          "x": "sc_w",
          "xref": "x",
          "y": "three_g",
          "yref": "y"
         },
         {
          "showarrow": false,
          "text": "-0.04",
          "x": "talk_time",
          "xref": "x",
          "y": "three_g",
          "yref": "y"
         },
         {
          "showarrow": false,
          "text": "1.0",
          "x": "three_g",
          "xref": "x",
          "y": "three_g",
          "yref": "y"
         },
         {
          "showarrow": false,
          "text": "0.01",
          "x": "touch_screen",
          "xref": "x",
          "y": "three_g",
          "yref": "y"
         },
         {
          "showarrow": false,
          "text": "0.0",
          "x": "wifi",
          "xref": "x",
          "y": "three_g",
          "yref": "y"
         },
         {
          "showarrow": false,
          "text": "0.02",
          "x": "price_range",
          "xref": "x",
          "y": "three_g",
          "yref": "y"
         },
         {
          "showarrow": false,
          "text": "-0.02",
          "x": "fc_log",
          "xref": "x",
          "y": "three_g",
          "yref": "y"
         },
         {
          "showarrow": false,
          "text": "-0.01",
          "x": "battery_power",
          "xref": "x",
          "y": "touch_screen",
          "yref": "y"
         },
         {
          "showarrow": false,
          "text": "0.01",
          "x": "blue",
          "xref": "x",
          "y": "touch_screen",
          "yref": "y"
         },
         {
          "showarrow": false,
          "text": "0.02",
          "x": "clock_speed",
          "xref": "x",
          "y": "touch_screen",
          "yref": "y"
         },
         {
          "showarrow": false,
          "text": "-0.02",
          "x": "dual_sim",
          "xref": "x",
          "y": "touch_screen",
          "yref": "y"
         },
         {
          "showarrow": false,
          "text": "-0.02",
          "x": "fc_log",
          "xref": "x",
          "y": "touch_screen",
          "yref": "y"
         },
         {
          "showarrow": false,
          "text": "0.02",
          "x": "four_g",
          "xref": "x",
          "y": "touch_screen",
          "yref": "y"
         },
         {
          "showarrow": false,
          "text": "-0.03",
          "x": "int_memory",
          "xref": "x",
          "y": "touch_screen",
          "yref": "y"
         },
         {
          "showarrow": false,
          "text": "-0.0",
          "x": "m_dep",
          "xref": "x",
          "y": "touch_screen",
          "yref": "y"
         },
         {
          "showarrow": false,
          "text": "-0.01",
          "x": "mobile_wt",
          "xref": "x",
          "y": "touch_screen",
          "yref": "y"
         },
         {
          "showarrow": false,
          "text": "0.02",
          "x": "n_cores",
          "xref": "x",
          "y": "touch_screen",
          "yref": "y"
         },
         {
          "showarrow": false,
          "text": "-0.01",
          "x": "pc",
          "xref": "x",
          "y": "touch_screen",
          "yref": "y"
         },
         {
          "showarrow": false,
          "text": "0.02",
          "x": "px_height",
          "xref": "x",
          "y": "touch_screen",
          "yref": "y"
         },
         {
          "showarrow": false,
          "text": "-0.0",
          "x": "px_width",
          "xref": "x",
          "y": "touch_screen",
          "yref": "y"
         },
         {
          "showarrow": false,
          "text": "-0.03",
          "x": "ram",
          "xref": "x",
          "y": "touch_screen",
          "yref": "y"
         },
         {
          "showarrow": false,
          "text": "-0.02",
          "x": "sc_h",
          "xref": "x",
          "y": "touch_screen",
          "yref": "y"
         },
         {
          "showarrow": false,
          "text": "0.01",
          "x": "sc_w",
          "xref": "x",
          "y": "touch_screen",
          "yref": "y"
         },
         {
          "showarrow": false,
          "text": "0.02",
          "x": "talk_time",
          "xref": "x",
          "y": "touch_screen",
          "yref": "y"
         },
         {
          "showarrow": false,
          "text": "0.01",
          "x": "three_g",
          "xref": "x",
          "y": "touch_screen",
          "yref": "y"
         },
         {
          "showarrow": false,
          "text": "1.0",
          "x": "touch_screen",
          "xref": "x",
          "y": "touch_screen",
          "yref": "y"
         },
         {
          "showarrow": false,
          "text": "0.01",
          "x": "wifi",
          "xref": "x",
          "y": "touch_screen",
          "yref": "y"
         },
         {
          "showarrow": false,
          "text": "-0.03",
          "x": "price_range",
          "xref": "x",
          "y": "touch_screen",
          "yref": "y"
         },
         {
          "showarrow": false,
          "text": "-0.02",
          "x": "fc_log",
          "xref": "x",
          "y": "touch_screen",
          "yref": "y"
         },
         {
          "showarrow": false,
          "text": "-0.01",
          "x": "battery_power",
          "xref": "x",
          "y": "wifi",
          "yref": "y"
         },
         {
          "showarrow": false,
          "text": "-0.02",
          "x": "blue",
          "xref": "x",
          "y": "wifi",
          "yref": "y"
         },
         {
          "showarrow": false,
          "text": "-0.02",
          "x": "clock_speed",
          "xref": "x",
          "y": "wifi",
          "yref": "y"
         },
         {
          "showarrow": false,
          "text": "0.02",
          "x": "dual_sim",
          "xref": "x",
          "y": "wifi",
          "yref": "y"
         },
         {
          "showarrow": false,
          "text": "0.01",
          "x": "fc_log",
          "xref": "x",
          "y": "wifi",
          "yref": "y"
         },
         {
          "showarrow": false,
          "text": "-0.02",
          "x": "four_g",
          "xref": "x",
          "y": "wifi",
          "yref": "y"
         },
         {
          "showarrow": false,
          "text": "0.01",
          "x": "int_memory",
          "xref": "x",
          "y": "wifi",
          "yref": "y"
         },
         {
          "showarrow": false,
          "text": "-0.03",
          "x": "m_dep",
          "xref": "x",
          "y": "wifi",
          "yref": "y"
         },
         {
          "showarrow": false,
          "text": "-0.0",
          "x": "mobile_wt",
          "xref": "x",
          "y": "wifi",
          "yref": "y"
         },
         {
          "showarrow": false,
          "text": "-0.01",
          "x": "n_cores",
          "xref": "x",
          "y": "wifi",
          "yref": "y"
         },
         {
          "showarrow": false,
          "text": "0.01",
          "x": "pc",
          "xref": "x",
          "y": "wifi",
          "yref": "y"
         },
         {
          "showarrow": false,
          "text": "0.05",
          "x": "px_height",
          "xref": "x",
          "y": "wifi",
          "yref": "y"
         },
         {
          "showarrow": false,
          "text": "0.03",
          "x": "px_width",
          "xref": "x",
          "y": "wifi",
          "yref": "y"
         },
         {
          "showarrow": false,
          "text": "0.02",
          "x": "ram",
          "xref": "x",
          "y": "wifi",
          "yref": "y"
         },
         {
          "showarrow": false,
          "text": "0.03",
          "x": "sc_h",
          "xref": "x",
          "y": "wifi",
          "yref": "y"
         },
         {
          "showarrow": false,
          "text": "0.04",
          "x": "sc_w",
          "xref": "x",
          "y": "wifi",
          "yref": "y"
         },
         {
          "showarrow": false,
          "text": "-0.03",
          "x": "talk_time",
          "xref": "x",
          "y": "wifi",
          "yref": "y"
         },
         {
          "showarrow": false,
          "text": "0.0",
          "x": "three_g",
          "xref": "x",
          "y": "wifi",
          "yref": "y"
         },
         {
          "showarrow": false,
          "text": "0.01",
          "x": "touch_screen",
          "xref": "x",
          "y": "wifi",
          "yref": "y"
         },
         {
          "showarrow": false,
          "text": "1.0",
          "x": "wifi",
          "xref": "x",
          "y": "wifi",
          "yref": "y"
         },
         {
          "showarrow": false,
          "text": "0.02",
          "x": "price_range",
          "xref": "x",
          "y": "wifi",
          "yref": "y"
         },
         {
          "showarrow": false,
          "text": "0.01",
          "x": "fc_log",
          "xref": "x",
          "y": "wifi",
          "yref": "y"
         },
         {
          "showarrow": false,
          "text": "0.2",
          "x": "battery_power",
          "xref": "x",
          "y": "price_range",
          "yref": "y"
         },
         {
          "showarrow": false,
          "text": "0.02",
          "x": "blue",
          "xref": "x",
          "y": "price_range",
          "yref": "y"
         },
         {
          "showarrow": false,
          "text": "-0.01",
          "x": "clock_speed",
          "xref": "x",
          "y": "price_range",
          "yref": "y"
         },
         {
          "showarrow": false,
          "text": "0.02",
          "x": "dual_sim",
          "xref": "x",
          "y": "price_range",
          "yref": "y"
         },
         {
          "showarrow": false,
          "text": "0.02",
          "x": "fc_log",
          "xref": "x",
          "y": "price_range",
          "yref": "y"
         },
         {
          "showarrow": false,
          "text": "0.01",
          "x": "four_g",
          "xref": "x",
          "y": "price_range",
          "yref": "y"
         },
         {
          "showarrow": false,
          "text": "0.04",
          "x": "int_memory",
          "xref": "x",
          "y": "price_range",
          "yref": "y"
         },
         {
          "showarrow": false,
          "text": "0.0",
          "x": "m_dep",
          "xref": "x",
          "y": "price_range",
          "yref": "y"
         },
         {
          "showarrow": false,
          "text": "-0.03",
          "x": "mobile_wt",
          "xref": "x",
          "y": "price_range",
          "yref": "y"
         },
         {
          "showarrow": false,
          "text": "0.0",
          "x": "n_cores",
          "xref": "x",
          "y": "price_range",
          "yref": "y"
         },
         {
          "showarrow": false,
          "text": "0.03",
          "x": "pc",
          "xref": "x",
          "y": "price_range",
          "yref": "y"
         },
         {
          "showarrow": false,
          "text": "0.15",
          "x": "px_height",
          "xref": "x",
          "y": "price_range",
          "yref": "y"
         },
         {
          "showarrow": false,
          "text": "0.17",
          "x": "px_width",
          "xref": "x",
          "y": "price_range",
          "yref": "y"
         },
         {
          "showarrow": false,
          "text": "0.92",
          "x": "ram",
          "xref": "x",
          "y": "price_range",
          "yref": "y"
         },
         {
          "showarrow": false,
          "text": "0.02",
          "x": "sc_h",
          "xref": "x",
          "y": "price_range",
          "yref": "y"
         },
         {
          "showarrow": false,
          "text": "0.04",
          "x": "sc_w",
          "xref": "x",
          "y": "price_range",
          "yref": "y"
         },
         {
          "showarrow": false,
          "text": "0.02",
          "x": "talk_time",
          "xref": "x",
          "y": "price_range",
          "yref": "y"
         },
         {
          "showarrow": false,
          "text": "0.02",
          "x": "three_g",
          "xref": "x",
          "y": "price_range",
          "yref": "y"
         },
         {
          "showarrow": false,
          "text": "-0.03",
          "x": "touch_screen",
          "xref": "x",
          "y": "price_range",
          "yref": "y"
         },
         {
          "showarrow": false,
          "text": "0.02",
          "x": "wifi",
          "xref": "x",
          "y": "price_range",
          "yref": "y"
         },
         {
          "showarrow": false,
          "text": "1.0",
          "x": "price_range",
          "xref": "x",
          "y": "price_range",
          "yref": "y"
         },
         {
          "showarrow": false,
          "text": "0.02",
          "x": "fc_log",
          "xref": "x",
          "y": "price_range",
          "yref": "y"
         },
         {
          "showarrow": false,
          "text": "0.04",
          "x": "battery_power",
          "xref": "x",
          "y": "fc_log",
          "yref": "y"
         },
         {
          "showarrow": false,
          "text": "-0.0",
          "x": "blue",
          "xref": "x",
          "y": "fc_log",
          "yref": "y"
         },
         {
          "showarrow": false,
          "text": "-0.01",
          "x": "clock_speed",
          "xref": "x",
          "y": "fc_log",
          "yref": "y"
         },
         {
          "showarrow": false,
          "text": "-0.04",
          "x": "dual_sim",
          "xref": "x",
          "y": "fc_log",
          "yref": "y"
         },
         {
          "showarrow": false,
          "text": "1.0",
          "x": "fc_log",
          "xref": "x",
          "y": "fc_log",
          "yref": "y"
         },
         {
          "showarrow": false,
          "text": "-0.02",
          "x": "four_g",
          "xref": "x",
          "y": "fc_log",
          "yref": "y"
         },
         {
          "showarrow": false,
          "text": "-0.03",
          "x": "int_memory",
          "xref": "x",
          "y": "fc_log",
          "yref": "y"
         },
         {
          "showarrow": false,
          "text": "0.01",
          "x": "m_dep",
          "xref": "x",
          "y": "fc_log",
          "yref": "y"
         },
         {
          "showarrow": false,
          "text": "0.03",
          "x": "mobile_wt",
          "xref": "x",
          "y": "fc_log",
          "yref": "y"
         },
         {
          "showarrow": false,
          "text": "-0.02",
          "x": "n_cores",
          "xref": "x",
          "y": "fc_log",
          "yref": "y"
         },
         {
          "showarrow": false,
          "text": "0.66",
          "x": "pc",
          "xref": "x",
          "y": "fc_log",
          "yref": "y"
         },
         {
          "showarrow": false,
          "text": "-0.02",
          "x": "px_height",
          "xref": "x",
          "y": "fc_log",
          "yref": "y"
         },
         {
          "showarrow": false,
          "text": "-0.01",
          "x": "px_width",
          "xref": "x",
          "y": "fc_log",
          "yref": "y"
         },
         {
          "showarrow": false,
          "text": "0.02",
          "x": "ram",
          "xref": "x",
          "y": "fc_log",
          "yref": "y"
         },
         {
          "showarrow": false,
          "text": "-0.01",
          "x": "sc_h",
          "xref": "x",
          "y": "fc_log",
          "yref": "y"
         },
         {
          "showarrow": false,
          "text": "0.0",
          "x": "sc_w",
          "xref": "x",
          "y": "fc_log",
          "yref": "y"
         },
         {
          "showarrow": false,
          "text": "-0.0",
          "x": "talk_time",
          "xref": "x",
          "y": "fc_log",
          "yref": "y"
         },
         {
          "showarrow": false,
          "text": "-0.02",
          "x": "three_g",
          "xref": "x",
          "y": "fc_log",
          "yref": "y"
         },
         {
          "showarrow": false,
          "text": "-0.02",
          "x": "touch_screen",
          "xref": "x",
          "y": "fc_log",
          "yref": "y"
         },
         {
          "showarrow": false,
          "text": "0.01",
          "x": "wifi",
          "xref": "x",
          "y": "fc_log",
          "yref": "y"
         },
         {
          "showarrow": false,
          "text": "0.02",
          "x": "price_range",
          "xref": "x",
          "y": "fc_log",
          "yref": "y"
         },
         {
          "showarrow": false,
          "text": "1.0",
          "x": "fc_log",
          "xref": "x",
          "y": "fc_log",
          "yref": "y"
         }
        ],
        "autosize": true,
        "dragmode": "zoom",
        "template": {
         "data": {
          "bar": [
           {
            "error_x": {
             "color": "#2a3f5f"
            },
            "error_y": {
             "color": "#2a3f5f"
            },
            "marker": {
             "line": {
              "color": "#E5ECF6",
              "width": 0.5
             },
             "pattern": {
              "fillmode": "overlay",
              "size": 10,
              "solidity": 0.2
             }
            },
            "type": "bar"
           }
          ],
          "barpolar": [
           {
            "marker": {
             "line": {
              "color": "#E5ECF6",
              "width": 0.5
             },
             "pattern": {
              "fillmode": "overlay",
              "size": 10,
              "solidity": 0.2
             }
            },
            "type": "barpolar"
           }
          ],
          "carpet": [
           {
            "aaxis": {
             "endlinecolor": "#2a3f5f",
             "gridcolor": "white",
             "linecolor": "white",
             "minorgridcolor": "white",
             "startlinecolor": "#2a3f5f"
            },
            "baxis": {
             "endlinecolor": "#2a3f5f",
             "gridcolor": "white",
             "linecolor": "white",
             "minorgridcolor": "white",
             "startlinecolor": "#2a3f5f"
            },
            "type": "carpet"
           }
          ],
          "choropleth": [
           {
            "colorbar": {
             "outlinewidth": 0,
             "ticks": ""
            },
            "type": "choropleth"
           }
          ],
          "contour": [
           {
            "colorbar": {
             "outlinewidth": 0,
             "ticks": ""
            },
            "colorscale": [
             [
              0,
              "#0d0887"
             ],
             [
              0.1111111111111111,
              "#46039f"
             ],
             [
              0.2222222222222222,
              "#7201a8"
             ],
             [
              0.3333333333333333,
              "#9c179e"
             ],
             [
              0.4444444444444444,
              "#bd3786"
             ],
             [
              0.5555555555555556,
              "#d8576b"
             ],
             [
              0.6666666666666666,
              "#ed7953"
             ],
             [
              0.7777777777777778,
              "#fb9f3a"
             ],
             [
              0.8888888888888888,
              "#fdca26"
             ],
             [
              1,
              "#f0f921"
             ]
            ],
            "type": "contour"
           }
          ],
          "contourcarpet": [
           {
            "colorbar": {
             "outlinewidth": 0,
             "ticks": ""
            },
            "type": "contourcarpet"
           }
          ],
          "heatmap": [
           {
            "colorbar": {
             "outlinewidth": 0,
             "ticks": ""
            },
            "colorscale": [
             [
              0,
              "#0d0887"
             ],
             [
              0.1111111111111111,
              "#46039f"
             ],
             [
              0.2222222222222222,
              "#7201a8"
             ],
             [
              0.3333333333333333,
              "#9c179e"
             ],
             [
              0.4444444444444444,
              "#bd3786"
             ],
             [
              0.5555555555555556,
              "#d8576b"
             ],
             [
              0.6666666666666666,
              "#ed7953"
             ],
             [
              0.7777777777777778,
              "#fb9f3a"
             ],
             [
              0.8888888888888888,
              "#fdca26"
             ],
             [
              1,
              "#f0f921"
             ]
            ],
            "type": "heatmap"
           }
          ],
          "heatmapgl": [
           {
            "colorbar": {
             "outlinewidth": 0,
             "ticks": ""
            },
            "colorscale": [
             [
              0,
              "#0d0887"
             ],
             [
              0.1111111111111111,
              "#46039f"
             ],
             [
              0.2222222222222222,
              "#7201a8"
             ],
             [
              0.3333333333333333,
              "#9c179e"
             ],
             [
              0.4444444444444444,
              "#bd3786"
             ],
             [
              0.5555555555555556,
              "#d8576b"
             ],
             [
              0.6666666666666666,
              "#ed7953"
             ],
             [
              0.7777777777777778,
              "#fb9f3a"
             ],
             [
              0.8888888888888888,
              "#fdca26"
             ],
             [
              1,
              "#f0f921"
             ]
            ],
            "type": "heatmapgl"
           }
          ],
          "histogram": [
           {
            "marker": {
             "pattern": {
              "fillmode": "overlay",
              "size": 10,
              "solidity": 0.2
             }
            },
            "type": "histogram"
           }
          ],
          "histogram2d": [
           {
            "colorbar": {
             "outlinewidth": 0,
             "ticks": ""
            },
            "colorscale": [
             [
              0,
              "#0d0887"
             ],
             [
              0.1111111111111111,
              "#46039f"
             ],
             [
              0.2222222222222222,
              "#7201a8"
             ],
             [
              0.3333333333333333,
              "#9c179e"
             ],
             [
              0.4444444444444444,
              "#bd3786"
             ],
             [
              0.5555555555555556,
              "#d8576b"
             ],
             [
              0.6666666666666666,
              "#ed7953"
             ],
             [
              0.7777777777777778,
              "#fb9f3a"
             ],
             [
              0.8888888888888888,
              "#fdca26"
             ],
             [
              1,
              "#f0f921"
             ]
            ],
            "type": "histogram2d"
           }
          ],
          "histogram2dcontour": [
           {
            "colorbar": {
             "outlinewidth": 0,
             "ticks": ""
            },
            "colorscale": [
             [
              0,
              "#0d0887"
             ],
             [
              0.1111111111111111,
              "#46039f"
             ],
             [
              0.2222222222222222,
              "#7201a8"
             ],
             [
              0.3333333333333333,
              "#9c179e"
             ],
             [
              0.4444444444444444,
              "#bd3786"
             ],
             [
              0.5555555555555556,
              "#d8576b"
             ],
             [
              0.6666666666666666,
              "#ed7953"
             ],
             [
              0.7777777777777778,
              "#fb9f3a"
             ],
             [
              0.8888888888888888,
              "#fdca26"
             ],
             [
              1,
              "#f0f921"
             ]
            ],
            "type": "histogram2dcontour"
           }
          ],
          "mesh3d": [
           {
            "colorbar": {
             "outlinewidth": 0,
             "ticks": ""
            },
            "type": "mesh3d"
           }
          ],
          "parcoords": [
           {
            "line": {
             "colorbar": {
              "outlinewidth": 0,
              "ticks": ""
             }
            },
            "type": "parcoords"
           }
          ],
          "pie": [
           {
            "automargin": true,
            "type": "pie"
           }
          ],
          "scatter": [
           {
            "fillpattern": {
             "fillmode": "overlay",
             "size": 10,
             "solidity": 0.2
            },
            "type": "scatter"
           }
          ],
          "scatter3d": [
           {
            "line": {
             "colorbar": {
              "outlinewidth": 0,
              "ticks": ""
             }
            },
            "marker": {
             "colorbar": {
              "outlinewidth": 0,
              "ticks": ""
             }
            },
            "type": "scatter3d"
           }
          ],
          "scattercarpet": [
           {
            "marker": {
             "colorbar": {
              "outlinewidth": 0,
              "ticks": ""
             }
            },
            "type": "scattercarpet"
           }
          ],
          "scattergeo": [
           {
            "marker": {
             "colorbar": {
              "outlinewidth": 0,
              "ticks": ""
             }
            },
            "type": "scattergeo"
           }
          ],
          "scattergl": [
           {
            "marker": {
             "colorbar": {
              "outlinewidth": 0,
              "ticks": ""
             }
            },
            "type": "scattergl"
           }
          ],
          "scattermapbox": [
           {
            "marker": {
             "colorbar": {
              "outlinewidth": 0,
              "ticks": ""
             }
            },
            "type": "scattermapbox"
           }
          ],
          "scatterpolar": [
           {
            "marker": {
             "colorbar": {
              "outlinewidth": 0,
              "ticks": ""
             }
            },
            "type": "scatterpolar"
           }
          ],
          "scatterpolargl": [
           {
            "marker": {
             "colorbar": {
              "outlinewidth": 0,
              "ticks": ""
             }
            },
            "type": "scatterpolargl"
           }
          ],
          "scatterternary": [
           {
            "marker": {
             "colorbar": {
              "outlinewidth": 0,
              "ticks": ""
             }
            },
            "type": "scatterternary"
           }
          ],
          "surface": [
           {
            "colorbar": {
             "outlinewidth": 0,
             "ticks": ""
            },
            "colorscale": [
             [
              0,
              "#0d0887"
             ],
             [
              0.1111111111111111,
              "#46039f"
             ],
             [
              0.2222222222222222,
              "#7201a8"
             ],
             [
              0.3333333333333333,
              "#9c179e"
             ],
             [
              0.4444444444444444,
              "#bd3786"
             ],
             [
              0.5555555555555556,
              "#d8576b"
             ],
             [
              0.6666666666666666,
              "#ed7953"
             ],
             [
              0.7777777777777778,
              "#fb9f3a"
             ],
             [
              0.8888888888888888,
              "#fdca26"
             ],
             [
              1,
              "#f0f921"
             ]
            ],
            "type": "surface"
           }
          ],
          "table": [
           {
            "cells": {
             "fill": {
              "color": "#EBF0F8"
             },
             "line": {
              "color": "white"
             }
            },
            "header": {
             "fill": {
              "color": "#C8D4E3"
             },
             "line": {
              "color": "white"
             }
            },
            "type": "table"
           }
          ]
         },
         "layout": {
          "annotationdefaults": {
           "arrowcolor": "#2a3f5f",
           "arrowhead": 0,
           "arrowwidth": 1
          },
          "autotypenumbers": "strict",
          "coloraxis": {
           "colorbar": {
            "outlinewidth": 0,
            "ticks": ""
           }
          },
          "colorscale": {
           "diverging": [
            [
             0,
             "#8e0152"
            ],
            [
             0.1,
             "#c51b7d"
            ],
            [
             0.2,
             "#de77ae"
            ],
            [
             0.3,
             "#f1b6da"
            ],
            [
             0.4,
             "#fde0ef"
            ],
            [
             0.5,
             "#f7f7f7"
            ],
            [
             0.6,
             "#e6f5d0"
            ],
            [
             0.7,
             "#b8e186"
            ],
            [
             0.8,
             "#7fbc41"
            ],
            [
             0.9,
             "#4d9221"
            ],
            [
             1,
             "#276419"
            ]
           ],
           "sequential": [
            [
             0,
             "#0d0887"
            ],
            [
             0.1111111111111111,
             "#46039f"
            ],
            [
             0.2222222222222222,
             "#7201a8"
            ],
            [
             0.3333333333333333,
             "#9c179e"
            ],
            [
             0.4444444444444444,
             "#bd3786"
            ],
            [
             0.5555555555555556,
             "#d8576b"
            ],
            [
             0.6666666666666666,
             "#ed7953"
            ],
            [
             0.7777777777777778,
             "#fb9f3a"
            ],
            [
             0.8888888888888888,
             "#fdca26"
            ],
            [
             1,
             "#f0f921"
            ]
           ],
           "sequentialminus": [
            [
             0,
             "#0d0887"
            ],
            [
             0.1111111111111111,
             "#46039f"
            ],
            [
             0.2222222222222222,
             "#7201a8"
            ],
            [
             0.3333333333333333,
             "#9c179e"
            ],
            [
             0.4444444444444444,
             "#bd3786"
            ],
            [
             0.5555555555555556,
             "#d8576b"
            ],
            [
             0.6666666666666666,
             "#ed7953"
            ],
            [
             0.7777777777777778,
             "#fb9f3a"
            ],
            [
             0.8888888888888888,
             "#fdca26"
            ],
            [
             1,
             "#f0f921"
            ]
           ]
          },
          "colorway": [
           "#636efa",
           "#EF553B",
           "#00cc96",
           "#ab63fa",
           "#FFA15A",
           "#19d3f3",
           "#FF6692",
           "#B6E880",
           "#FF97FF",
           "#FECB52"
          ],
          "font": {
           "color": "#2a3f5f"
          },
          "geo": {
           "bgcolor": "white",
           "lakecolor": "white",
           "landcolor": "#E5ECF6",
           "showlakes": true,
           "showland": true,
           "subunitcolor": "white"
          },
          "hoverlabel": {
           "align": "left"
          },
          "hovermode": "closest",
          "mapbox": {
           "style": "light"
          },
          "paper_bgcolor": "white",
          "plot_bgcolor": "#E5ECF6",
          "polar": {
           "angularaxis": {
            "gridcolor": "white",
            "linecolor": "white",
            "ticks": ""
           },
           "bgcolor": "#E5ECF6",
           "radialaxis": {
            "gridcolor": "white",
            "linecolor": "white",
            "ticks": ""
           }
          },
          "scene": {
           "xaxis": {
            "backgroundcolor": "#E5ECF6",
            "gridcolor": "white",
            "gridwidth": 2,
            "linecolor": "white",
            "showbackground": true,
            "ticks": "",
            "zerolinecolor": "white"
           },
           "yaxis": {
            "backgroundcolor": "#E5ECF6",
            "gridcolor": "white",
            "gridwidth": 2,
            "linecolor": "white",
            "showbackground": true,
            "ticks": "",
            "zerolinecolor": "white"
           },
           "zaxis": {
            "backgroundcolor": "#E5ECF6",
            "gridcolor": "white",
            "gridwidth": 2,
            "linecolor": "white",
            "showbackground": true,
            "ticks": "",
            "zerolinecolor": "white"
           }
          },
          "shapedefaults": {
           "line": {
            "color": "#2a3f5f"
           }
          },
          "ternary": {
           "aaxis": {
            "gridcolor": "white",
            "linecolor": "white",
            "ticks": ""
           },
           "baxis": {
            "gridcolor": "white",
            "linecolor": "white",
            "ticks": ""
           },
           "bgcolor": "#E5ECF6",
           "caxis": {
            "gridcolor": "white",
            "linecolor": "white",
            "ticks": ""
           }
          },
          "title": {
           "x": 0.05
          },
          "xaxis": {
           "automargin": true,
           "gridcolor": "white",
           "linecolor": "white",
           "ticks": "",
           "title": {
            "standoff": 15
           },
           "zerolinecolor": "white",
           "zerolinewidth": 2
          },
          "yaxis": {
           "automargin": true,
           "gridcolor": "white",
           "linecolor": "white",
           "ticks": "",
           "title": {
            "standoff": 15
           },
           "zerolinecolor": "white",
           "zerolinewidth": 2
          }
         }
        },
        "title": {
         "text": "Correlation Heatmap"
        },
        "xaxis": {
         "autorange": true,
         "range": [
          -0.5,
          20.5
         ],
         "type": "category"
        },
        "yaxis": {
         "autorange": true,
         "range": [
          -1.1801242236024847,
          21.180124223602483
         ],
         "type": "category"
        }
       }
      },
      "image/png": "[encoded data removed]",
      "text/html": [
       "<div>                            <div id=\"2334786c-757f-4d2a-92b4-9785166e4841\" class=\"plotly-graph-div\" style=\"height:525px; width:100%;\"></div>            <script type=\"text/javascript\">                require([\"plotly\"], function(Plotly) {                    window.PLOTLYENV=window.PLOTLYENV || {};                                    if (document.getElementById(\"2334786c-757f-4d2a-92b4-9785166e4841\")) {                    Plotly.newPlot(                        \"2334786c-757f-4d2a-92b4-9785166e4841\",                        [{\"colorscale\":[[0.0,\"#440154\"],[0.1111111111111111,\"#482878\"],[0.2222222222222222,\"#3e4989\"],[0.3333333333333333,\"#31688e\"],[0.4444444444444444,\"#26828e\"],[0.5555555555555556,\"#1f9e89\"],[0.6666666666666666,\"#35b779\"],[0.7777777777777778,\"#6ece58\"],[0.8888888888888888,\"#b5de2b\"],[1.0,\"#fde725\"]],\"hoverongaps\":false,\"x\":[\"battery_power\",\"blue\",\"clock_speed\",\"dual_sim\",\"fc_log\",\"four_g\",\"int_memory\",\"m_dep\",\"mobile_wt\",\"n_cores\",\"pc\",\"px_height\",\"px_width\",\"ram\",\"sc_h\",\"sc_w\",\"talk_time\",\"three_g\",\"touch_screen\",\"wifi\",\"price_range\",\"fc_log\"],\"y\":[\"battery_power\",\"blue\",\"clock_speed\",\"dual_sim\",\"fc_log\",\"four_g\",\"int_memory\",\"m_dep\",\"mobile_wt\",\"n_cores\",\"pc\",\"px_height\",\"px_width\",\"ram\",\"sc_h\",\"sc_w\",\"talk_time\",\"three_g\",\"touch_screen\",\"wifi\",\"price_range\",\"fc_log\"],\"z\":[[1.0,0.011251623808409014,0.011481593741547485,-0.041846849855319126,0.036057452592215794,0.015664554624742654,-0.004003679910891171,0.03408451490286737,0.001844376214571044,-0.029727258910731344,0.031440677243310976,0.01490080454467487,-0.008401830499043842,-0.0006529264469275337,-0.029958601467988406,-0.02142094329422354,0.052510354657595175,0.011522168448019683,-0.01051583536613964,-0.008342928835738913,0.20072261211373116,0.036057452592215794],[0.011251623808409014,1.0,0.021418693043786904,0.03519811346493915,-5.448476940581954e-05,0.01344310545158682,0.04117716902002655,0.004049193533434726,-0.008604642824947197,0.03616071896601607,-0.009952172293702327,-0.00687239046225622,-0.041533441805918475,0.026350936945151185,-0.002952292557292196,0.0006130756499930387,0.013933650372287935,-0.030236184948883277,0.010060684131672375,-0.021863235784086166,0.020572854061418566,-5.448476940581954e-05],[0.011481593741547485,0.021418693043786904,1.0,-0.0013152040255050537,-0.0051969347092454465,-0.04307335549720816,0.006545145152924382,-0.014364360309299856,0.012349747866586125,-0.0057242260337929595,-0.005245037561591493,-0.01452289508684957,-0.009475653050430176,0.0034430306880890754,-0.02907762180634708,-0.007378355543214165,-0.011431865559812869,-0.046433496914248404,0.019755805960568213,-0.024471012567611583,-0.006605690881732118,-0.0051969347092454465],[-0.041846849855319126,0.03519811346493915,-0.0013152040255050537,1.0,-0.037133859977295375,0.003186521989701652,-0.015678962290234022,-0.022141660518706942,-0.00897940513275486,-0.024658134833835197,-0.017142621266392093,-0.0208752608632432,0.014290542210206238,0.04107201687575119,-0.011949263255963913,-0.01666612253451358,-0.039403999502932545,-0.014007623397290656,-0.0171173980295569,0.022740333260222727,0.017444479237224746,-0.037133859977295375],[0.036057452592215794,-5.448476940581954e-05,-0.0051969347092454465,-0.037133859977295375,1.0,-0.024098325658763072,-0.025564199011915183,0.014957157538207259,0.02774530171826136,-0.01799144251281607,0.6557393158340965,-0.01917085860990629,-0.008724069051282573,0.020508865388533574,-0.007742330431259911,0.0022164945134771318,-0.0010088624403028718,-0.015935292017160645,-0.01849143405501162,0.00829257263931131,0.024886819151452275,1.0],[0.015664554624742654,0.01344310545158682,-0.04307335549720816,0.003186521989701652,-0.024098325658763072,1.0,0.008689971059287213,-0.0018232988898241383,-0.016536734075053794,-0.029705501066110997,-0.005598221993478702,-0.019236235677309966,0.007448216573482406,0.007313474650471352,0.02716551097567562,0.03700497303918502,-0.04662781425788252,0.5842455634172913,0.016757801119348523,-0.01762002249730283,0.014771711417239451,-0.02409832565876307],[-0.004003679910891171,0.04117716902002655,0.006545145152924382,-0.015678962290234022,-0.025564199011915183,0.008689971059287213,1.0,0.006885755150957462,-0.034214209135474974,-0.028310416689851625,-0.033273388854864576,0.010441256775618035,-0.008334853372394537,0.0328131740809154,0.03777113279736538,0.011730534410369226,-0.0027902889911869803,-0.009365962592532109,-0.026998677669092003,0.006993009677458333,0.044434959388987484,-0.025564199011915173],[0.03408451490286737,0.004049193533434726,-0.014364360309299856,-0.022141660518706942,0.014957157538207259,-0.0018232988898241383,0.006885755150957462,1.0,0.021756065251581313,-0.0035038859268239652,0.026282439444050756,0.025262869860381374,0.023566345906041876,-0.009434120647010033,-0.02534780578542418,-0.018388117499987956,0.017002552950558667,-0.012065410514054398,-0.002637527311245217,-0.028352652350104417,0.0008530365050865666,0.014957157538207255],[0.001844376214571044,-0.008604642824947197,0.012349747866586125,-0.00897940513275486,0.02774530171826136,-0.016536734075053794,-0.034214209135474974,0.021756065251581313,1.0,-0.01898875720504934,0.018843929835236195,0.0009393239804485876,8.976163925579256e-05,-0.0025805417072913305,-0.03385471368143752,-0.020760525088739316,0.006208500758592477,0.0015505852829662205,-0.01436822839398222,-0.0004093554892794163,-0.030302171314386332,0.027745301718261332],[-0.029727258910731344,0.03616071896601607,-0.0057242260337929595,-0.024658134833835197,-0.01799144251281607,-0.029705501066110997,-0.028310416689851625,-0.0035038859268239652,-0.01898875720504934,1.0,-0.001192614212910485,-0.006872073390802637,0.024479917024761447,0.004868325744798457,-0.00031483547910174235,0.025826454168080944,0.0131478639078402,-0.014732673058251405,0.023774239646667614,-0.009963531365809106,0.004399274799457298,-0.017991442512816074],[0.031440677243310976,-0.009952172293702327,-0.005245037561591493,-0.017142621266392093,0.6557393158340965,-0.005598221993478702,-0.033273388854864576,0.026282439444050756,0.018843929835236195,-0.001192614212910485,1.0,-0.01846549427837536,0.004195944306608131,0.028983516524420154,0.004937519864469908,-0.02381923792039566,0.014656985160164141,-0.001321620058151983,-0.00874182978288642,0.005388963710424848,0.03359930021353957,0.6557393158340964],[0.01490080454467487,-0.00687239046225622,-0.01452289508684957,-0.0208752608632432,-0.01917085860990629,-0.019236235677309966,0.010441256775618035,0.025262869860381374,0.0009393239804485876,-0.006872073390802637,-0.01846549427837536,1.0,0.5106644191393146,-0.020351922754965075,0.059615294460876815,0.04303826810558863,-0.010645253467093318,-0.03117373926425805,0.021891338320911276,0.051823988736926375,0.14885755500042197,-0.019170858609906305],[-0.008401830499043842,-0.041533441805918475,-0.009475653050430176,0.014290542210206238,-0.008724069051282573,0.007448216573482406,-0.008334853372394537,0.023566345906041876,8.976163925579256e-05,0.024479917024761447,0.004195944306608131,0.5106644191393146,1.0,0.004105216467218673,0.02159856211199418,0.03469919558577323,0.006719940879503139,0.0003499824520168694,-0.0016283723577048153,0.030318972829504374,0.16581750172625534,-0.008724069051282564],[-0.0006529264469275337,0.026350936945151185,0.0034430306880890754,0.04107201687575119,0.020508865388533574,0.007313474650471352,0.0328131740809154,-0.009434120647010033,-0.0025805417072913305,0.004868325744798457,0.028983516524420154,-0.020351922754965075,0.004105216467218673,1.0,0.01599614874068267,0.035575670143050915,0.010819977788843138,0.01579493986624371,-0.03045464776240746,0.022668801572951865,0.9170457362649902,0.02050886538853358],[-0.029958601467988406,-0.002952292557292196,-0.02907762180634708,-0.011949263255963913,-0.007742330431259911,0.02716551097567562,0.03777113279736538,-0.02534780578542418,-0.03385471368143752,-0.00031483547910174235,0.004937519864469908,0.059615294460876815,0.02159856211199418,0.01599614874068267,1.0,0.5061442083433547,-0.017335100498329356,0.012032933550798295,-0.020022954064033677,0.025929424733713458,0.022986073167424303,-0.007742330431259904],[-0.02142094329422354,0.0006130756499930387,-0.007378355543214165,-0.01666612253451358,0.0022164945134771318,0.03700497303918502,0.011730534410369226,-0.018388117499987956,-0.020760525088739316,0.025826454168080944,-0.02381923792039566,0.04303826810558863,0.03469919558577323,0.035575670143050915,0.5061442083433547,1.0,-0.022820859653885698,0.03094118765377778,0.01271987939345382,0.03542277762749597,0.03871127166448412,0.0022164945134771595],[0.052510354657595175,0.013933650372287935,-0.011431865559812869,-0.039403999502932545,-0.0010088624403028718,-0.04662781425788252,-0.0027902889911869803,0.017002552950558667,0.006208500758592477,0.0131478639078402,0.014656985160164141,-0.010645253467093318,0.006719940879503139,0.010819977788843138,-0.017335100498329356,-0.022820859653885698,1.0,-0.04268802110382528,0.017196184849559978,-0.029504287122390064,0.021858871162374855,-0.0010088624403028475],[0.011522168448019683,-0.030236184948883277,-0.046433496914248404,-0.014007623397290656,-0.015935292017160645,0.5842455634172913,-0.009365962592532109,-0.012065410514054398,0.0015505852829662205,-0.014732673058251405,-0.001321620058151983,-0.03117373926425805,0.0003499824520168694,0.01579493986624371,0.012032933550798295,0.03094118765377778,-0.04268802110382528,1.0,0.013917351497663108,0.0043156393937652335,0.023611216880045166,-0.01593529201716067],[-0.01051583536613964,0.010060684131672375,0.019755805960568213,-0.0171173980295569,-0.01849143405501162,0.016757801119348523,-0.026998677669092003,-0.002637527311245217,-0.01436822839398222,0.023774239646667614,-0.00874182978288642,0.021891338320911276,-0.0016283723577048153,-0.03045464776240746,-0.020022954064033677,0.01271987939345382,0.017196184849559978,0.013917351497663108,1.0,0.01191738245450474,-0.030411071898218057,-0.01849143405501163],[-0.008342928835738913,-0.021863235784086166,-0.024471012567611583,0.022740333260222727,0.00829257263931131,-0.01762002249730283,0.006993009677458333,-0.028352652350104417,-0.0004093554892794163,-0.009963531365809106,0.005388963710424848,0.051823988736926375,0.030318972829504374,0.022668801572951865,0.025929424733713458,0.03542277762749597,-0.029504287122390064,0.0043156393937652335,0.01191738245450474,1.0,0.018784812012789046,0.008292572639311296],[0.20072261211373116,0.020572854061418566,-0.006605690881732118,0.017444479237224746,0.024886819151452275,0.014771711417239451,0.044434959388987484,0.0008530365050865666,-0.030302171314386332,0.004399274799457298,0.03359930021353957,0.14885755500042197,0.16581750172625534,0.9170457362649902,0.022986073167424303,0.03871127166448412,0.021858871162374855,0.023611216880045166,-0.030411071898218057,0.018784812012789046,1.0,0.024886819151452282],[0.036057452592215794,-5.448476940581954e-05,-0.0051969347092454465,-0.037133859977295375,1.0,-0.02409832565876307,-0.025564199011915173,0.014957157538207255,0.027745301718261332,-0.017991442512816074,0.6557393158340964,-0.019170858609906305,-0.008724069051282564,0.02050886538853358,-0.007742330431259904,0.0022164945134771595,-0.0010088624403028475,-0.01593529201716067,-0.01849143405501163,0.008292572639311296,0.024886819151452282,1.0]],\"type\":\"heatmap\"}],                        {\"annotations\":[{\"showarrow\":false,\"text\":\"1.0\",\"x\":\"battery_power\",\"xref\":\"x\",\"y\":\"battery_power\",\"yref\":\"y\"},{\"showarrow\":false,\"text\":\"0.01\",\"x\":\"blue\",\"xref\":\"x\",\"y\":\"battery_power\",\"yref\":\"y\"},{\"showarrow\":false,\"text\":\"0.01\",\"x\":\"clock_speed\",\"xref\":\"x\",\"y\":\"battery_power\",\"yref\":\"y\"},{\"showarrow\":false,\"text\":\"-0.04\",\"x\":\"dual_sim\",\"xref\":\"x\",\"y\":\"battery_power\",\"yref\":\"y\"},{\"showarrow\":false,\"text\":\"0.04\",\"x\":\"fc_log\",\"xref\":\"x\",\"y\":\"battery_power\",\"yref\":\"y\"},{\"showarrow\":false,\"text\":\"0.02\",\"x\":\"four_g\",\"xref\":\"x\",\"y\":\"battery_power\",\"yref\":\"y\"},{\"showarrow\":false,\"text\":\"-0.0\",\"x\":\"int_memory\",\"xref\":\"x\",\"y\":\"battery_power\",\"yref\":\"y\"},{\"showarrow\":false,\"text\":\"0.03\",\"x\":\"m_dep\",\"xref\":\"x\",\"y\":\"battery_power\",\"yref\":\"y\"},{\"showarrow\":false,\"text\":\"0.0\",\"x\":\"mobile_wt\",\"xref\":\"x\",\"y\":\"battery_power\",\"yref\":\"y\"},{\"showarrow\":false,\"text\":\"-0.03\",\"x\":\"n_cores\",\"xref\":\"x\",\"y\":\"battery_power\",\"yref\":\"y\"},{\"showarrow\":false,\"text\":\"0.03\",\"x\":\"pc\",\"xref\":\"x\",\"y\":\"battery_power\",\"yref\":\"y\"},{\"showarrow\":false,\"text\":\"0.01\",\"x\":\"px_height\",\"xref\":\"x\",\"y\":\"battery_power\",\"yref\":\"y\"},{\"showarrow\":false,\"text\":\"-0.01\",\"x\":\"px_width\",\"xref\":\"x\",\"y\":\"battery_power\",\"yref\":\"y\"},{\"showarrow\":false,\"text\":\"-0.0\",\"x\":\"ram\",\"xref\":\"x\",\"y\":\"battery_power\",\"yref\":\"y\"},{\"showarrow\":false,\"text\":\"-0.03\",\"x\":\"sc_h\",\"xref\":\"x\",\"y\":\"battery_power\",\"yref\":\"y\"},{\"showarrow\":false,\"text\":\"-0.02\",\"x\":\"sc_w\",\"xref\":\"x\",\"y\":\"battery_power\",\"yref\":\"y\"},{\"showarrow\":false,\"text\":\"0.05\",\"x\":\"talk_time\",\"xref\":\"x\",\"y\":\"battery_power\",\"yref\":\"y\"},{\"showarrow\":false,\"text\":\"0.01\",\"x\":\"three_g\",\"xref\":\"x\",\"y\":\"battery_power\",\"yref\":\"y\"},{\"showarrow\":false,\"text\":\"-0.01\",\"x\":\"touch_screen\",\"xref\":\"x\",\"y\":\"battery_power\",\"yref\":\"y\"},{\"showarrow\":false,\"text\":\"-0.01\",\"x\":\"wifi\",\"xref\":\"x\",\"y\":\"battery_power\",\"yref\":\"y\"},{\"showarrow\":false,\"text\":\"0.2\",\"x\":\"price_range\",\"xref\":\"x\",\"y\":\"battery_power\",\"yref\":\"y\"},{\"showarrow\":false,\"text\":\"0.04\",\"x\":\"fc_log\",\"xref\":\"x\",\"y\":\"battery_power\",\"yref\":\"y\"},{\"showarrow\":false,\"text\":\"0.01\",\"x\":\"battery_power\",\"xref\":\"x\",\"y\":\"blue\",\"yref\":\"y\"},{\"showarrow\":false,\"text\":\"1.0\",\"x\":\"blue\",\"xref\":\"x\",\"y\":\"blue\",\"yref\":\"y\"},{\"showarrow\":false,\"text\":\"0.02\",\"x\":\"clock_speed\",\"xref\":\"x\",\"y\":\"blue\",\"yref\":\"y\"},{\"showarrow\":false,\"text\":\"0.04\",\"x\":\"dual_sim\",\"xref\":\"x\",\"y\":\"blue\",\"yref\":\"y\"},{\"showarrow\":false,\"text\":\"-0.0\",\"x\":\"fc_log\",\"xref\":\"x\",\"y\":\"blue\",\"yref\":\"y\"},{\"showarrow\":false,\"text\":\"0.01\",\"x\":\"four_g\",\"xref\":\"x\",\"y\":\"blue\",\"yref\":\"y\"},{\"showarrow\":false,\"text\":\"0.04\",\"x\":\"int_memory\",\"xref\":\"x\",\"y\":\"blue\",\"yref\":\"y\"},{\"showarrow\":false,\"text\":\"0.0\",\"x\":\"m_dep\",\"xref\":\"x\",\"y\":\"blue\",\"yref\":\"y\"},{\"showarrow\":false,\"text\":\"-0.01\",\"x\":\"mobile_wt\",\"xref\":\"x\",\"y\":\"blue\",\"yref\":\"y\"},{\"showarrow\":false,\"text\":\"0.04\",\"x\":\"n_cores\",\"xref\":\"x\",\"y\":\"blue\",\"yref\":\"y\"},{\"showarrow\":false,\"text\":\"-0.01\",\"x\":\"pc\",\"xref\":\"x\",\"y\":\"blue\",\"yref\":\"y\"},{\"showarrow\":false,\"text\":\"-0.01\",\"x\":\"px_height\",\"xref\":\"x\",\"y\":\"blue\",\"yref\":\"y\"},{\"showarrow\":false,\"text\":\"-0.04\",\"x\":\"px_width\",\"xref\":\"x\",\"y\":\"blue\",\"yref\":\"y\"},{\"showarrow\":false,\"text\":\"0.03\",\"x\":\"ram\",\"xref\":\"x\",\"y\":\"blue\",\"yref\":\"y\"},{\"showarrow\":false,\"text\":\"-0.0\",\"x\":\"sc_h\",\"xref\":\"x\",\"y\":\"blue\",\"yref\":\"y\"},{\"showarrow\":false,\"text\":\"0.0\",\"x\":\"sc_w\",\"xref\":\"x\",\"y\":\"blue\",\"yref\":\"y\"},{\"showarrow\":false,\"text\":\"0.01\",\"x\":\"talk_time\",\"xref\":\"x\",\"y\":\"blue\",\"yref\":\"y\"},{\"showarrow\":false,\"text\":\"-0.03\",\"x\":\"three_g\",\"xref\":\"x\",\"y\":\"blue\",\"yref\":\"y\"},{\"showarrow\":false,\"text\":\"0.01\",\"x\":\"touch_screen\",\"xref\":\"x\",\"y\":\"blue\",\"yref\":\"y\"},{\"showarrow\":false,\"text\":\"-0.02\",\"x\":\"wifi\",\"xref\":\"x\",\"y\":\"blue\",\"yref\":\"y\"},{\"showarrow\":false,\"text\":\"0.02\",\"x\":\"price_range\",\"xref\":\"x\",\"y\":\"blue\",\"yref\":\"y\"},{\"showarrow\":false,\"text\":\"-0.0\",\"x\":\"fc_log\",\"xref\":\"x\",\"y\":\"blue\",\"yref\":\"y\"},{\"showarrow\":false,\"text\":\"0.01\",\"x\":\"battery_power\",\"xref\":\"x\",\"y\":\"clock_speed\",\"yref\":\"y\"},{\"showarrow\":false,\"text\":\"0.02\",\"x\":\"blue\",\"xref\":\"x\",\"y\":\"clock_speed\",\"yref\":\"y\"},{\"showarrow\":false,\"text\":\"1.0\",\"x\":\"clock_speed\",\"xref\":\"x\",\"y\":\"clock_speed\",\"yref\":\"y\"},{\"showarrow\":false,\"text\":\"-0.0\",\"x\":\"dual_sim\",\"xref\":\"x\",\"y\":\"clock_speed\",\"yref\":\"y\"},{\"showarrow\":false,\"text\":\"-0.01\",\"x\":\"fc_log\",\"xref\":\"x\",\"y\":\"clock_speed\",\"yref\":\"y\"},{\"showarrow\":false,\"text\":\"-0.04\",\"x\":\"four_g\",\"xref\":\"x\",\"y\":\"clock_speed\",\"yref\":\"y\"},{\"showarrow\":false,\"text\":\"0.01\",\"x\":\"int_memory\",\"xref\":\"x\",\"y\":\"clock_speed\",\"yref\":\"y\"},{\"showarrow\":false,\"text\":\"-0.01\",\"x\":\"m_dep\",\"xref\":\"x\",\"y\":\"clock_speed\",\"yref\":\"y\"},{\"showarrow\":false,\"text\":\"0.01\",\"x\":\"mobile_wt\",\"xref\":\"x\",\"y\":\"clock_speed\",\"yref\":\"y\"},{\"showarrow\":false,\"text\":\"-0.01\",\"x\":\"n_cores\",\"xref\":\"x\",\"y\":\"clock_speed\",\"yref\":\"y\"},{\"showarrow\":false,\"text\":\"-0.01\",\"x\":\"pc\",\"xref\":\"x\",\"y\":\"clock_speed\",\"yref\":\"y\"},{\"showarrow\":false,\"text\":\"-0.01\",\"x\":\"px_height\",\"xref\":\"x\",\"y\":\"clock_speed\",\"yref\":\"y\"},{\"showarrow\":false,\"text\":\"-0.01\",\"x\":\"px_width\",\"xref\":\"x\",\"y\":\"clock_speed\",\"yref\":\"y\"},{\"showarrow\":false,\"text\":\"0.0\",\"x\":\"ram\",\"xref\":\"x\",\"y\":\"clock_speed\",\"yref\":\"y\"},{\"showarrow\":false,\"text\":\"-0.03\",\"x\":\"sc_h\",\"xref\":\"x\",\"y\":\"clock_speed\",\"yref\":\"y\"},{\"showarrow\":false,\"text\":\"-0.01\",\"x\":\"sc_w\",\"xref\":\"x\",\"y\":\"clock_speed\",\"yref\":\"y\"},{\"showarrow\":false,\"text\":\"-0.01\",\"x\":\"talk_time\",\"xref\":\"x\",\"y\":\"clock_speed\",\"yref\":\"y\"},{\"showarrow\":false,\"text\":\"-0.05\",\"x\":\"three_g\",\"xref\":\"x\",\"y\":\"clock_speed\",\"yref\":\"y\"},{\"showarrow\":false,\"text\":\"0.02\",\"x\":\"touch_screen\",\"xref\":\"x\",\"y\":\"clock_speed\",\"yref\":\"y\"},{\"showarrow\":false,\"text\":\"-0.02\",\"x\":\"wifi\",\"xref\":\"x\",\"y\":\"clock_speed\",\"yref\":\"y\"},{\"showarrow\":false,\"text\":\"-0.01\",\"x\":\"price_range\",\"xref\":\"x\",\"y\":\"clock_speed\",\"yref\":\"y\"},{\"showarrow\":false,\"text\":\"-0.01\",\"x\":\"fc_log\",\"xref\":\"x\",\"y\":\"clock_speed\",\"yref\":\"y\"},{\"showarrow\":false,\"text\":\"-0.04\",\"x\":\"battery_power\",\"xref\":\"x\",\"y\":\"dual_sim\",\"yref\":\"y\"},{\"showarrow\":false,\"text\":\"0.04\",\"x\":\"blue\",\"xref\":\"x\",\"y\":\"dual_sim\",\"yref\":\"y\"},{\"showarrow\":false,\"text\":\"-0.0\",\"x\":\"clock_speed\",\"xref\":\"x\",\"y\":\"dual_sim\",\"yref\":\"y\"},{\"showarrow\":false,\"text\":\"1.0\",\"x\":\"dual_sim\",\"xref\":\"x\",\"y\":\"dual_sim\",\"yref\":\"y\"},{\"showarrow\":false,\"text\":\"-0.04\",\"x\":\"fc_log\",\"xref\":\"x\",\"y\":\"dual_sim\",\"yref\":\"y\"},{\"showarrow\":false,\"text\":\"0.0\",\"x\":\"four_g\",\"xref\":\"x\",\"y\":\"dual_sim\",\"yref\":\"y\"},{\"showarrow\":false,\"text\":\"-0.02\",\"x\":\"int_memory\",\"xref\":\"x\",\"y\":\"dual_sim\",\"yref\":\"y\"},{\"showarrow\":false,\"text\":\"-0.02\",\"x\":\"m_dep\",\"xref\":\"x\",\"y\":\"dual_sim\",\"yref\":\"y\"},{\"showarrow\":false,\"text\":\"-0.01\",\"x\":\"mobile_wt\",\"xref\":\"x\",\"y\":\"dual_sim\",\"yref\":\"y\"},{\"showarrow\":false,\"text\":\"-0.02\",\"x\":\"n_cores\",\"xref\":\"x\",\"y\":\"dual_sim\",\"yref\":\"y\"},{\"showarrow\":false,\"text\":\"-0.02\",\"x\":\"pc\",\"xref\":\"x\",\"y\":\"dual_sim\",\"yref\":\"y\"},{\"showarrow\":false,\"text\":\"-0.02\",\"x\":\"px_height\",\"xref\":\"x\",\"y\":\"dual_sim\",\"yref\":\"y\"},{\"showarrow\":false,\"text\":\"0.01\",\"x\":\"px_width\",\"xref\":\"x\",\"y\":\"dual_sim\",\"yref\":\"y\"},{\"showarrow\":false,\"text\":\"0.04\",\"x\":\"ram\",\"xref\":\"x\",\"y\":\"dual_sim\",\"yref\":\"y\"},{\"showarrow\":false,\"text\":\"-0.01\",\"x\":\"sc_h\",\"xref\":\"x\",\"y\":\"dual_sim\",\"yref\":\"y\"},{\"showarrow\":false,\"text\":\"-0.02\",\"x\":\"sc_w\",\"xref\":\"x\",\"y\":\"dual_sim\",\"yref\":\"y\"},{\"showarrow\":false,\"text\":\"-0.04\",\"x\":\"talk_time\",\"xref\":\"x\",\"y\":\"dual_sim\",\"yref\":\"y\"},{\"showarrow\":false,\"text\":\"-0.01\",\"x\":\"three_g\",\"xref\":\"x\",\"y\":\"dual_sim\",\"yref\":\"y\"},{\"showarrow\":false,\"text\":\"-0.02\",\"x\":\"touch_screen\",\"xref\":\"x\",\"y\":\"dual_sim\",\"yref\":\"y\"},{\"showarrow\":false,\"text\":\"0.02\",\"x\":\"wifi\",\"xref\":\"x\",\"y\":\"dual_sim\",\"yref\":\"y\"},{\"showarrow\":false,\"text\":\"0.02\",\"x\":\"price_range\",\"xref\":\"x\",\"y\":\"dual_sim\",\"yref\":\"y\"},{\"showarrow\":false,\"text\":\"-0.04\",\"x\":\"fc_log\",\"xref\":\"x\",\"y\":\"dual_sim\",\"yref\":\"y\"},{\"showarrow\":false,\"text\":\"0.04\",\"x\":\"battery_power\",\"xref\":\"x\",\"y\":\"fc_log\",\"yref\":\"y\"},{\"showarrow\":false,\"text\":\"-0.0\",\"x\":\"blue\",\"xref\":\"x\",\"y\":\"fc_log\",\"yref\":\"y\"},{\"showarrow\":false,\"text\":\"-0.01\",\"x\":\"clock_speed\",\"xref\":\"x\",\"y\":\"fc_log\",\"yref\":\"y\"},{\"showarrow\":false,\"text\":\"-0.04\",\"x\":\"dual_sim\",\"xref\":\"x\",\"y\":\"fc_log\",\"yref\":\"y\"},{\"showarrow\":false,\"text\":\"1.0\",\"x\":\"fc_log\",\"xref\":\"x\",\"y\":\"fc_log\",\"yref\":\"y\"},{\"showarrow\":false,\"text\":\"-0.02\",\"x\":\"four_g\",\"xref\":\"x\",\"y\":\"fc_log\",\"yref\":\"y\"},{\"showarrow\":false,\"text\":\"-0.03\",\"x\":\"int_memory\",\"xref\":\"x\",\"y\":\"fc_log\",\"yref\":\"y\"},{\"showarrow\":false,\"text\":\"0.01\",\"x\":\"m_dep\",\"xref\":\"x\",\"y\":\"fc_log\",\"yref\":\"y\"},{\"showarrow\":false,\"text\":\"0.03\",\"x\":\"mobile_wt\",\"xref\":\"x\",\"y\":\"fc_log\",\"yref\":\"y\"},{\"showarrow\":false,\"text\":\"-0.02\",\"x\":\"n_cores\",\"xref\":\"x\",\"y\":\"fc_log\",\"yref\":\"y\"},{\"showarrow\":false,\"text\":\"0.66\",\"x\":\"pc\",\"xref\":\"x\",\"y\":\"fc_log\",\"yref\":\"y\"},{\"showarrow\":false,\"text\":\"-0.02\",\"x\":\"px_height\",\"xref\":\"x\",\"y\":\"fc_log\",\"yref\":\"y\"},{\"showarrow\":false,\"text\":\"-0.01\",\"x\":\"px_width\",\"xref\":\"x\",\"y\":\"fc_log\",\"yref\":\"y\"},{\"showarrow\":false,\"text\":\"0.02\",\"x\":\"ram\",\"xref\":\"x\",\"y\":\"fc_log\",\"yref\":\"y\"},{\"showarrow\":false,\"text\":\"-0.01\",\"x\":\"sc_h\",\"xref\":\"x\",\"y\":\"fc_log\",\"yref\":\"y\"},{\"showarrow\":false,\"text\":\"0.0\",\"x\":\"sc_w\",\"xref\":\"x\",\"y\":\"fc_log\",\"yref\":\"y\"},{\"showarrow\":false,\"text\":\"-0.0\",\"x\":\"talk_time\",\"xref\":\"x\",\"y\":\"fc_log\",\"yref\":\"y\"},{\"showarrow\":false,\"text\":\"-0.02\",\"x\":\"three_g\",\"xref\":\"x\",\"y\":\"fc_log\",\"yref\":\"y\"},{\"showarrow\":false,\"text\":\"-0.02\",\"x\":\"touch_screen\",\"xref\":\"x\",\"y\":\"fc_log\",\"yref\":\"y\"},{\"showarrow\":false,\"text\":\"0.01\",\"x\":\"wifi\",\"xref\":\"x\",\"y\":\"fc_log\",\"yref\":\"y\"},{\"showarrow\":false,\"text\":\"0.02\",\"x\":\"price_range\",\"xref\":\"x\",\"y\":\"fc_log\",\"yref\":\"y\"},{\"showarrow\":false,\"text\":\"1.0\",\"x\":\"fc_log\",\"xref\":\"x\",\"y\":\"fc_log\",\"yref\":\"y\"},{\"showarrow\":false,\"text\":\"0.02\",\"x\":\"battery_power\",\"xref\":\"x\",\"y\":\"four_g\",\"yref\":\"y\"},{\"showarrow\":false,\"text\":\"0.01\",\"x\":\"blue\",\"xref\":\"x\",\"y\":\"four_g\",\"yref\":\"y\"},{\"showarrow\":false,\"text\":\"-0.04\",\"x\":\"clock_speed\",\"xref\":\"x\",\"y\":\"four_g\",\"yref\":\"y\"},{\"showarrow\":false,\"text\":\"0.0\",\"x\":\"dual_sim\",\"xref\":\"x\",\"y\":\"four_g\",\"yref\":\"y\"},{\"showarrow\":false,\"text\":\"-0.02\",\"x\":\"fc_log\",\"xref\":\"x\",\"y\":\"four_g\",\"yref\":\"y\"},{\"showarrow\":false,\"text\":\"1.0\",\"x\":\"four_g\",\"xref\":\"x\",\"y\":\"four_g\",\"yref\":\"y\"},{\"showarrow\":false,\"text\":\"0.01\",\"x\":\"int_memory\",\"xref\":\"x\",\"y\":\"four_g\",\"yref\":\"y\"},{\"showarrow\":false,\"text\":\"-0.0\",\"x\":\"m_dep\",\"xref\":\"x\",\"y\":\"four_g\",\"yref\":\"y\"},{\"showarrow\":false,\"text\":\"-0.02\",\"x\":\"mobile_wt\",\"xref\":\"x\",\"y\":\"four_g\",\"yref\":\"y\"},{\"showarrow\":false,\"text\":\"-0.03\",\"x\":\"n_cores\",\"xref\":\"x\",\"y\":\"four_g\",\"yref\":\"y\"},{\"showarrow\":false,\"text\":\"-0.01\",\"x\":\"pc\",\"xref\":\"x\",\"y\":\"four_g\",\"yref\":\"y\"},{\"showarrow\":false,\"text\":\"-0.02\",\"x\":\"px_height\",\"xref\":\"x\",\"y\":\"four_g\",\"yref\":\"y\"},{\"showarrow\":false,\"text\":\"0.01\",\"x\":\"px_width\",\"xref\":\"x\",\"y\":\"four_g\",\"yref\":\"y\"},{\"showarrow\":false,\"text\":\"0.01\",\"x\":\"ram\",\"xref\":\"x\",\"y\":\"four_g\",\"yref\":\"y\"},{\"showarrow\":false,\"text\":\"0.03\",\"x\":\"sc_h\",\"xref\":\"x\",\"y\":\"four_g\",\"yref\":\"y\"},{\"showarrow\":false,\"text\":\"0.04\",\"x\":\"sc_w\",\"xref\":\"x\",\"y\":\"four_g\",\"yref\":\"y\"},{\"showarrow\":false,\"text\":\"-0.05\",\"x\":\"talk_time\",\"xref\":\"x\",\"y\":\"four_g\",\"yref\":\"y\"},{\"showarrow\":false,\"text\":\"0.58\",\"x\":\"three_g\",\"xref\":\"x\",\"y\":\"four_g\",\"yref\":\"y\"},{\"showarrow\":false,\"text\":\"0.02\",\"x\":\"touch_screen\",\"xref\":\"x\",\"y\":\"four_g\",\"yref\":\"y\"},{\"showarrow\":false,\"text\":\"-0.02\",\"x\":\"wifi\",\"xref\":\"x\",\"y\":\"four_g\",\"yref\":\"y\"},{\"showarrow\":false,\"text\":\"0.01\",\"x\":\"price_range\",\"xref\":\"x\",\"y\":\"four_g\",\"yref\":\"y\"},{\"showarrow\":false,\"text\":\"-0.02\",\"x\":\"fc_log\",\"xref\":\"x\",\"y\":\"four_g\",\"yref\":\"y\"},{\"showarrow\":false,\"text\":\"-0.0\",\"x\":\"battery_power\",\"xref\":\"x\",\"y\":\"int_memory\",\"yref\":\"y\"},{\"showarrow\":false,\"text\":\"0.04\",\"x\":\"blue\",\"xref\":\"x\",\"y\":\"int_memory\",\"yref\":\"y\"},{\"showarrow\":false,\"text\":\"0.01\",\"x\":\"clock_speed\",\"xref\":\"x\",\"y\":\"int_memory\",\"yref\":\"y\"},{\"showarrow\":false,\"text\":\"-0.02\",\"x\":\"dual_sim\",\"xref\":\"x\",\"y\":\"int_memory\",\"yref\":\"y\"},{\"showarrow\":false,\"text\":\"-0.03\",\"x\":\"fc_log\",\"xref\":\"x\",\"y\":\"int_memory\",\"yref\":\"y\"},{\"showarrow\":false,\"text\":\"0.01\",\"x\":\"four_g\",\"xref\":\"x\",\"y\":\"int_memory\",\"yref\":\"y\"},{\"showarrow\":false,\"text\":\"1.0\",\"x\":\"int_memory\",\"xref\":\"x\",\"y\":\"int_memory\",\"yref\":\"y\"},{\"showarrow\":false,\"text\":\"0.01\",\"x\":\"m_dep\",\"xref\":\"x\",\"y\":\"int_memory\",\"yref\":\"y\"},{\"showarrow\":false,\"text\":\"-0.03\",\"x\":\"mobile_wt\",\"xref\":\"x\",\"y\":\"int_memory\",\"yref\":\"y\"},{\"showarrow\":false,\"text\":\"-0.03\",\"x\":\"n_cores\",\"xref\":\"x\",\"y\":\"int_memory\",\"yref\":\"y\"},{\"showarrow\":false,\"text\":\"-0.03\",\"x\":\"pc\",\"xref\":\"x\",\"y\":\"int_memory\",\"yref\":\"y\"},{\"showarrow\":false,\"text\":\"0.01\",\"x\":\"px_height\",\"xref\":\"x\",\"y\":\"int_memory\",\"yref\":\"y\"},{\"showarrow\":false,\"text\":\"-0.01\",\"x\":\"px_width\",\"xref\":\"x\",\"y\":\"int_memory\",\"yref\":\"y\"},{\"showarrow\":false,\"text\":\"0.03\",\"x\":\"ram\",\"xref\":\"x\",\"y\":\"int_memory\",\"yref\":\"y\"},{\"showarrow\":false,\"text\":\"0.04\",\"x\":\"sc_h\",\"xref\":\"x\",\"y\":\"int_memory\",\"yref\":\"y\"},{\"showarrow\":false,\"text\":\"0.01\",\"x\":\"sc_w\",\"xref\":\"x\",\"y\":\"int_memory\",\"yref\":\"y\"},{\"showarrow\":false,\"text\":\"-0.0\",\"x\":\"talk_time\",\"xref\":\"x\",\"y\":\"int_memory\",\"yref\":\"y\"},{\"showarrow\":false,\"text\":\"-0.01\",\"x\":\"three_g\",\"xref\":\"x\",\"y\":\"int_memory\",\"yref\":\"y\"},{\"showarrow\":false,\"text\":\"-0.03\",\"x\":\"touch_screen\",\"xref\":\"x\",\"y\":\"int_memory\",\"yref\":\"y\"},{\"showarrow\":false,\"text\":\"0.01\",\"x\":\"wifi\",\"xref\":\"x\",\"y\":\"int_memory\",\"yref\":\"y\"},{\"showarrow\":false,\"text\":\"0.04\",\"x\":\"price_range\",\"xref\":\"x\",\"y\":\"int_memory\",\"yref\":\"y\"},{\"showarrow\":false,\"text\":\"-0.03\",\"x\":\"fc_log\",\"xref\":\"x\",\"y\":\"int_memory\",\"yref\":\"y\"},{\"showarrow\":false,\"text\":\"0.03\",\"x\":\"battery_power\",\"xref\":\"x\",\"y\":\"m_dep\",\"yref\":\"y\"},{\"showarrow\":false,\"text\":\"0.0\",\"x\":\"blue\",\"xref\":\"x\",\"y\":\"m_dep\",\"yref\":\"y\"},{\"showarrow\":false,\"text\":\"-0.01\",\"x\":\"clock_speed\",\"xref\":\"x\",\"y\":\"m_dep\",\"yref\":\"y\"},{\"showarrow\":false,\"text\":\"-0.02\",\"x\":\"dual_sim\",\"xref\":\"x\",\"y\":\"m_dep\",\"yref\":\"y\"},{\"showarrow\":false,\"text\":\"0.01\",\"x\":\"fc_log\",\"xref\":\"x\",\"y\":\"m_dep\",\"yref\":\"y\"},{\"showarrow\":false,\"text\":\"-0.0\",\"x\":\"four_g\",\"xref\":\"x\",\"y\":\"m_dep\",\"yref\":\"y\"},{\"showarrow\":false,\"text\":\"0.01\",\"x\":\"int_memory\",\"xref\":\"x\",\"y\":\"m_dep\",\"yref\":\"y\"},{\"showarrow\":false,\"text\":\"1.0\",\"x\":\"m_dep\",\"xref\":\"x\",\"y\":\"m_dep\",\"yref\":\"y\"},{\"showarrow\":false,\"text\":\"0.02\",\"x\":\"mobile_wt\",\"xref\":\"x\",\"y\":\"m_dep\",\"yref\":\"y\"},{\"showarrow\":false,\"text\":\"-0.0\",\"x\":\"n_cores\",\"xref\":\"x\",\"y\":\"m_dep\",\"yref\":\"y\"},{\"showarrow\":false,\"text\":\"0.03\",\"x\":\"pc\",\"xref\":\"x\",\"y\":\"m_dep\",\"yref\":\"y\"},{\"showarrow\":false,\"text\":\"0.03\",\"x\":\"px_height\",\"xref\":\"x\",\"y\":\"m_dep\",\"yref\":\"y\"},{\"showarrow\":false,\"text\":\"0.02\",\"x\":\"px_width\",\"xref\":\"x\",\"y\":\"m_dep\",\"yref\":\"y\"},{\"showarrow\":false,\"text\":\"-0.01\",\"x\":\"ram\",\"xref\":\"x\",\"y\":\"m_dep\",\"yref\":\"y\"},{\"showarrow\":false,\"text\":\"-0.03\",\"x\":\"sc_h\",\"xref\":\"x\",\"y\":\"m_dep\",\"yref\":\"y\"},{\"showarrow\":false,\"text\":\"-0.02\",\"x\":\"sc_w\",\"xref\":\"x\",\"y\":\"m_dep\",\"yref\":\"y\"},{\"showarrow\":false,\"text\":\"0.02\",\"x\":\"talk_time\",\"xref\":\"x\",\"y\":\"m_dep\",\"yref\":\"y\"},{\"showarrow\":false,\"text\":\"-0.01\",\"x\":\"three_g\",\"xref\":\"x\",\"y\":\"m_dep\",\"yref\":\"y\"},{\"showarrow\":false,\"text\":\"-0.0\",\"x\":\"touch_screen\",\"xref\":\"x\",\"y\":\"m_dep\",\"yref\":\"y\"},{\"showarrow\":false,\"text\":\"-0.03\",\"x\":\"wifi\",\"xref\":\"x\",\"y\":\"m_dep\",\"yref\":\"y\"},{\"showarrow\":false,\"text\":\"0.0\",\"x\":\"price_range\",\"xref\":\"x\",\"y\":\"m_dep\",\"yref\":\"y\"},{\"showarrow\":false,\"text\":\"0.01\",\"x\":\"fc_log\",\"xref\":\"x\",\"y\":\"m_dep\",\"yref\":\"y\"},{\"showarrow\":false,\"text\":\"0.0\",\"x\":\"battery_power\",\"xref\":\"x\",\"y\":\"mobile_wt\",\"yref\":\"y\"},{\"showarrow\":false,\"text\":\"-0.01\",\"x\":\"blue\",\"xref\":\"x\",\"y\":\"mobile_wt\",\"yref\":\"y\"},{\"showarrow\":false,\"text\":\"0.01\",\"x\":\"clock_speed\",\"xref\":\"x\",\"y\":\"mobile_wt\",\"yref\":\"y\"},{\"showarrow\":false,\"text\":\"-0.01\",\"x\":\"dual_sim\",\"xref\":\"x\",\"y\":\"mobile_wt\",\"yref\":\"y\"},{\"showarrow\":false,\"text\":\"0.03\",\"x\":\"fc_log\",\"xref\":\"x\",\"y\":\"mobile_wt\",\"yref\":\"y\"},{\"showarrow\":false,\"text\":\"-0.02\",\"x\":\"four_g\",\"xref\":\"x\",\"y\":\"mobile_wt\",\"yref\":\"y\"},{\"showarrow\":false,\"text\":\"-0.03\",\"x\":\"int_memory\",\"xref\":\"x\",\"y\":\"mobile_wt\",\"yref\":\"y\"},{\"showarrow\":false,\"text\":\"0.02\",\"x\":\"m_dep\",\"xref\":\"x\",\"y\":\"mobile_wt\",\"yref\":\"y\"},{\"showarrow\":false,\"text\":\"1.0\",\"x\":\"mobile_wt\",\"xref\":\"x\",\"y\":\"mobile_wt\",\"yref\":\"y\"},{\"showarrow\":false,\"text\":\"-0.02\",\"x\":\"n_cores\",\"xref\":\"x\",\"y\":\"mobile_wt\",\"yref\":\"y\"},{\"showarrow\":false,\"text\":\"0.02\",\"x\":\"pc\",\"xref\":\"x\",\"y\":\"mobile_wt\",\"yref\":\"y\"},{\"showarrow\":false,\"text\":\"0.0\",\"x\":\"px_height\",\"xref\":\"x\",\"y\":\"mobile_wt\",\"yref\":\"y\"},{\"showarrow\":false,\"text\":\"0.0\",\"x\":\"px_width\",\"xref\":\"x\",\"y\":\"mobile_wt\",\"yref\":\"y\"},{\"showarrow\":false,\"text\":\"-0.0\",\"x\":\"ram\",\"xref\":\"x\",\"y\":\"mobile_wt\",\"yref\":\"y\"},{\"showarrow\":false,\"text\":\"-0.03\",\"x\":\"sc_h\",\"xref\":\"x\",\"y\":\"mobile_wt\",\"yref\":\"y\"},{\"showarrow\":false,\"text\":\"-0.02\",\"x\":\"sc_w\",\"xref\":\"x\",\"y\":\"mobile_wt\",\"yref\":\"y\"},{\"showarrow\":false,\"text\":\"0.01\",\"x\":\"talk_time\",\"xref\":\"x\",\"y\":\"mobile_wt\",\"yref\":\"y\"},{\"showarrow\":false,\"text\":\"0.0\",\"x\":\"three_g\",\"xref\":\"x\",\"y\":\"mobile_wt\",\"yref\":\"y\"},{\"showarrow\":false,\"text\":\"-0.01\",\"x\":\"touch_screen\",\"xref\":\"x\",\"y\":\"mobile_wt\",\"yref\":\"y\"},{\"showarrow\":false,\"text\":\"-0.0\",\"x\":\"wifi\",\"xref\":\"x\",\"y\":\"mobile_wt\",\"yref\":\"y\"},{\"showarrow\":false,\"text\":\"-0.03\",\"x\":\"price_range\",\"xref\":\"x\",\"y\":\"mobile_wt\",\"yref\":\"y\"},{\"showarrow\":false,\"text\":\"0.03\",\"x\":\"fc_log\",\"xref\":\"x\",\"y\":\"mobile_wt\",\"yref\":\"y\"},{\"showarrow\":false,\"text\":\"-0.03\",\"x\":\"battery_power\",\"xref\":\"x\",\"y\":\"n_cores\",\"yref\":\"y\"},{\"showarrow\":false,\"text\":\"0.04\",\"x\":\"blue\",\"xref\":\"x\",\"y\":\"n_cores\",\"yref\":\"y\"},{\"showarrow\":false,\"text\":\"-0.01\",\"x\":\"clock_speed\",\"xref\":\"x\",\"y\":\"n_cores\",\"yref\":\"y\"},{\"showarrow\":false,\"text\":\"-0.02\",\"x\":\"dual_sim\",\"xref\":\"x\",\"y\":\"n_cores\",\"yref\":\"y\"},{\"showarrow\":false,\"text\":\"-0.02\",\"x\":\"fc_log\",\"xref\":\"x\",\"y\":\"n_cores\",\"yref\":\"y\"},{\"showarrow\":false,\"text\":\"-0.03\",\"x\":\"four_g\",\"xref\":\"x\",\"y\":\"n_cores\",\"yref\":\"y\"},{\"showarrow\":false,\"text\":\"-0.03\",\"x\":\"int_memory\",\"xref\":\"x\",\"y\":\"n_cores\",\"yref\":\"y\"},{\"showarrow\":false,\"text\":\"-0.0\",\"x\":\"m_dep\",\"xref\":\"x\",\"y\":\"n_cores\",\"yref\":\"y\"},{\"showarrow\":false,\"text\":\"-0.02\",\"x\":\"mobile_wt\",\"xref\":\"x\",\"y\":\"n_cores\",\"yref\":\"y\"},{\"showarrow\":false,\"text\":\"1.0\",\"x\":\"n_cores\",\"xref\":\"x\",\"y\":\"n_cores\",\"yref\":\"y\"},{\"showarrow\":false,\"text\":\"-0.0\",\"x\":\"pc\",\"xref\":\"x\",\"y\":\"n_cores\",\"yref\":\"y\"},{\"showarrow\":false,\"text\":\"-0.01\",\"x\":\"px_height\",\"xref\":\"x\",\"y\":\"n_cores\",\"yref\":\"y\"},{\"showarrow\":false,\"text\":\"0.02\",\"x\":\"px_width\",\"xref\":\"x\",\"y\":\"n_cores\",\"yref\":\"y\"},{\"showarrow\":false,\"text\":\"0.0\",\"x\":\"ram\",\"xref\":\"x\",\"y\":\"n_cores\",\"yref\":\"y\"},{\"showarrow\":false,\"text\":\"-0.0\",\"x\":\"sc_h\",\"xref\":\"x\",\"y\":\"n_cores\",\"yref\":\"y\"},{\"showarrow\":false,\"text\":\"0.03\",\"x\":\"sc_w\",\"xref\":\"x\",\"y\":\"n_cores\",\"yref\":\"y\"},{\"showarrow\":false,\"text\":\"0.01\",\"x\":\"talk_time\",\"xref\":\"x\",\"y\":\"n_cores\",\"yref\":\"y\"},{\"showarrow\":false,\"text\":\"-0.01\",\"x\":\"three_g\",\"xref\":\"x\",\"y\":\"n_cores\",\"yref\":\"y\"},{\"showarrow\":false,\"text\":\"0.02\",\"x\":\"touch_screen\",\"xref\":\"x\",\"y\":\"n_cores\",\"yref\":\"y\"},{\"showarrow\":false,\"text\":\"-0.01\",\"x\":\"wifi\",\"xref\":\"x\",\"y\":\"n_cores\",\"yref\":\"y\"},{\"showarrow\":false,\"text\":\"0.0\",\"x\":\"price_range\",\"xref\":\"x\",\"y\":\"n_cores\",\"yref\":\"y\"},{\"showarrow\":false,\"text\":\"-0.02\",\"x\":\"fc_log\",\"xref\":\"x\",\"y\":\"n_cores\",\"yref\":\"y\"},{\"showarrow\":false,\"text\":\"0.03\",\"x\":\"battery_power\",\"xref\":\"x\",\"y\":\"pc\",\"yref\":\"y\"},{\"showarrow\":false,\"text\":\"-0.01\",\"x\":\"blue\",\"xref\":\"x\",\"y\":\"pc\",\"yref\":\"y\"},{\"showarrow\":false,\"text\":\"-0.01\",\"x\":\"clock_speed\",\"xref\":\"x\",\"y\":\"pc\",\"yref\":\"y\"},{\"showarrow\":false,\"text\":\"-0.02\",\"x\":\"dual_sim\",\"xref\":\"x\",\"y\":\"pc\",\"yref\":\"y\"},{\"showarrow\":false,\"text\":\"0.66\",\"x\":\"fc_log\",\"xref\":\"x\",\"y\":\"pc\",\"yref\":\"y\"},{\"showarrow\":false,\"text\":\"-0.01\",\"x\":\"four_g\",\"xref\":\"x\",\"y\":\"pc\",\"yref\":\"y\"},{\"showarrow\":false,\"text\":\"-0.03\",\"x\":\"int_memory\",\"xref\":\"x\",\"y\":\"pc\",\"yref\":\"y\"},{\"showarrow\":false,\"text\":\"0.03\",\"x\":\"m_dep\",\"xref\":\"x\",\"y\":\"pc\",\"yref\":\"y\"},{\"showarrow\":false,\"text\":\"0.02\",\"x\":\"mobile_wt\",\"xref\":\"x\",\"y\":\"pc\",\"yref\":\"y\"},{\"showarrow\":false,\"text\":\"-0.0\",\"x\":\"n_cores\",\"xref\":\"x\",\"y\":\"pc\",\"yref\":\"y\"},{\"showarrow\":false,\"text\":\"1.0\",\"x\":\"pc\",\"xref\":\"x\",\"y\":\"pc\",\"yref\":\"y\"},{\"showarrow\":false,\"text\":\"-0.02\",\"x\":\"px_height\",\"xref\":\"x\",\"y\":\"pc\",\"yref\":\"y\"},{\"showarrow\":false,\"text\":\"0.0\",\"x\":\"px_width\",\"xref\":\"x\",\"y\":\"pc\",\"yref\":\"y\"},{\"showarrow\":false,\"text\":\"0.03\",\"x\":\"ram\",\"xref\":\"x\",\"y\":\"pc\",\"yref\":\"y\"},{\"showarrow\":false,\"text\":\"0.0\",\"x\":\"sc_h\",\"xref\":\"x\",\"y\":\"pc\",\"yref\":\"y\"},{\"showarrow\":false,\"text\":\"-0.02\",\"x\":\"sc_w\",\"xref\":\"x\",\"y\":\"pc\",\"yref\":\"y\"},{\"showarrow\":false,\"text\":\"0.01\",\"x\":\"talk_time\",\"xref\":\"x\",\"y\":\"pc\",\"yref\":\"y\"},{\"showarrow\":false,\"text\":\"-0.0\",\"x\":\"three_g\",\"xref\":\"x\",\"y\":\"pc\",\"yref\":\"y\"},{\"showarrow\":false,\"text\":\"-0.01\",\"x\":\"touch_screen\",\"xref\":\"x\",\"y\":\"pc\",\"yref\":\"y\"},{\"showarrow\":false,\"text\":\"0.01\",\"x\":\"wifi\",\"xref\":\"x\",\"y\":\"pc\",\"yref\":\"y\"},{\"showarrow\":false,\"text\":\"0.03\",\"x\":\"price_range\",\"xref\":\"x\",\"y\":\"pc\",\"yref\":\"y\"},{\"showarrow\":false,\"text\":\"0.66\",\"x\":\"fc_log\",\"xref\":\"x\",\"y\":\"pc\",\"yref\":\"y\"},{\"showarrow\":false,\"text\":\"0.01\",\"x\":\"battery_power\",\"xref\":\"x\",\"y\":\"px_height\",\"yref\":\"y\"},{\"showarrow\":false,\"text\":\"-0.01\",\"x\":\"blue\",\"xref\":\"x\",\"y\":\"px_height\",\"yref\":\"y\"},{\"showarrow\":false,\"text\":\"-0.01\",\"x\":\"clock_speed\",\"xref\":\"x\",\"y\":\"px_height\",\"yref\":\"y\"},{\"showarrow\":false,\"text\":\"-0.02\",\"x\":\"dual_sim\",\"xref\":\"x\",\"y\":\"px_height\",\"yref\":\"y\"},{\"showarrow\":false,\"text\":\"-0.02\",\"x\":\"fc_log\",\"xref\":\"x\",\"y\":\"px_height\",\"yref\":\"y\"},{\"showarrow\":false,\"text\":\"-0.02\",\"x\":\"four_g\",\"xref\":\"x\",\"y\":\"px_height\",\"yref\":\"y\"},{\"showarrow\":false,\"text\":\"0.01\",\"x\":\"int_memory\",\"xref\":\"x\",\"y\":\"px_height\",\"yref\":\"y\"},{\"showarrow\":false,\"text\":\"0.03\",\"x\":\"m_dep\",\"xref\":\"x\",\"y\":\"px_height\",\"yref\":\"y\"},{\"showarrow\":false,\"text\":\"0.0\",\"x\":\"mobile_wt\",\"xref\":\"x\",\"y\":\"px_height\",\"yref\":\"y\"},{\"showarrow\":false,\"text\":\"-0.01\",\"x\":\"n_cores\",\"xref\":\"x\",\"y\":\"px_height\",\"yref\":\"y\"},{\"showarrow\":false,\"text\":\"-0.02\",\"x\":\"pc\",\"xref\":\"x\",\"y\":\"px_height\",\"yref\":\"y\"},{\"showarrow\":false,\"text\":\"1.0\",\"x\":\"px_height\",\"xref\":\"x\",\"y\":\"px_height\",\"yref\":\"y\"},{\"showarrow\":false,\"text\":\"0.51\",\"x\":\"px_width\",\"xref\":\"x\",\"y\":\"px_height\",\"yref\":\"y\"},{\"showarrow\":false,\"text\":\"-0.02\",\"x\":\"ram\",\"xref\":\"x\",\"y\":\"px_height\",\"yref\":\"y\"},{\"showarrow\":false,\"text\":\"0.06\",\"x\":\"sc_h\",\"xref\":\"x\",\"y\":\"px_height\",\"yref\":\"y\"},{\"showarrow\":false,\"text\":\"0.04\",\"x\":\"sc_w\",\"xref\":\"x\",\"y\":\"px_height\",\"yref\":\"y\"},{\"showarrow\":false,\"text\":\"-0.01\",\"x\":\"talk_time\",\"xref\":\"x\",\"y\":\"px_height\",\"yref\":\"y\"},{\"showarrow\":false,\"text\":\"-0.03\",\"x\":\"three_g\",\"xref\":\"x\",\"y\":\"px_height\",\"yref\":\"y\"},{\"showarrow\":false,\"text\":\"0.02\",\"x\":\"touch_screen\",\"xref\":\"x\",\"y\":\"px_height\",\"yref\":\"y\"},{\"showarrow\":false,\"text\":\"0.05\",\"x\":\"wifi\",\"xref\":\"x\",\"y\":\"px_height\",\"yref\":\"y\"},{\"showarrow\":false,\"text\":\"0.15\",\"x\":\"price_range\",\"xref\":\"x\",\"y\":\"px_height\",\"yref\":\"y\"},{\"showarrow\":false,\"text\":\"-0.02\",\"x\":\"fc_log\",\"xref\":\"x\",\"y\":\"px_height\",\"yref\":\"y\"},{\"showarrow\":false,\"text\":\"-0.01\",\"x\":\"battery_power\",\"xref\":\"x\",\"y\":\"px_width\",\"yref\":\"y\"},{\"showarrow\":false,\"text\":\"-0.04\",\"x\":\"blue\",\"xref\":\"x\",\"y\":\"px_width\",\"yref\":\"y\"},{\"showarrow\":false,\"text\":\"-0.01\",\"x\":\"clock_speed\",\"xref\":\"x\",\"y\":\"px_width\",\"yref\":\"y\"},{\"showarrow\":false,\"text\":\"0.01\",\"x\":\"dual_sim\",\"xref\":\"x\",\"y\":\"px_width\",\"yref\":\"y\"},{\"showarrow\":false,\"text\":\"-0.01\",\"x\":\"fc_log\",\"xref\":\"x\",\"y\":\"px_width\",\"yref\":\"y\"},{\"showarrow\":false,\"text\":\"0.01\",\"x\":\"four_g\",\"xref\":\"x\",\"y\":\"px_width\",\"yref\":\"y\"},{\"showarrow\":false,\"text\":\"-0.01\",\"x\":\"int_memory\",\"xref\":\"x\",\"y\":\"px_width\",\"yref\":\"y\"},{\"showarrow\":false,\"text\":\"0.02\",\"x\":\"m_dep\",\"xref\":\"x\",\"y\":\"px_width\",\"yref\":\"y\"},{\"showarrow\":false,\"text\":\"0.0\",\"x\":\"mobile_wt\",\"xref\":\"x\",\"y\":\"px_width\",\"yref\":\"y\"},{\"showarrow\":false,\"text\":\"0.02\",\"x\":\"n_cores\",\"xref\":\"x\",\"y\":\"px_width\",\"yref\":\"y\"},{\"showarrow\":false,\"text\":\"0.0\",\"x\":\"pc\",\"xref\":\"x\",\"y\":\"px_width\",\"yref\":\"y\"},{\"showarrow\":false,\"text\":\"0.51\",\"x\":\"px_height\",\"xref\":\"x\",\"y\":\"px_width\",\"yref\":\"y\"},{\"showarrow\":false,\"text\":\"1.0\",\"x\":\"px_width\",\"xref\":\"x\",\"y\":\"px_width\",\"yref\":\"y\"},{\"showarrow\":false,\"text\":\"0.0\",\"x\":\"ram\",\"xref\":\"x\",\"y\":\"px_width\",\"yref\":\"y\"},{\"showarrow\":false,\"text\":\"0.02\",\"x\":\"sc_h\",\"xref\":\"x\",\"y\":\"px_width\",\"yref\":\"y\"},{\"showarrow\":false,\"text\":\"0.03\",\"x\":\"sc_w\",\"xref\":\"x\",\"y\":\"px_width\",\"yref\":\"y\"},{\"showarrow\":false,\"text\":\"0.01\",\"x\":\"talk_time\",\"xref\":\"x\",\"y\":\"px_width\",\"yref\":\"y\"},{\"showarrow\":false,\"text\":\"0.0\",\"x\":\"three_g\",\"xref\":\"x\",\"y\":\"px_width\",\"yref\":\"y\"},{\"showarrow\":false,\"text\":\"-0.0\",\"x\":\"touch_screen\",\"xref\":\"x\",\"y\":\"px_width\",\"yref\":\"y\"},{\"showarrow\":false,\"text\":\"0.03\",\"x\":\"wifi\",\"xref\":\"x\",\"y\":\"px_width\",\"yref\":\"y\"},{\"showarrow\":false,\"text\":\"0.17\",\"x\":\"price_range\",\"xref\":\"x\",\"y\":\"px_width\",\"yref\":\"y\"},{\"showarrow\":false,\"text\":\"-0.01\",\"x\":\"fc_log\",\"xref\":\"x\",\"y\":\"px_width\",\"yref\":\"y\"},{\"showarrow\":false,\"text\":\"-0.0\",\"x\":\"battery_power\",\"xref\":\"x\",\"y\":\"ram\",\"yref\":\"y\"},{\"showarrow\":false,\"text\":\"0.03\",\"x\":\"blue\",\"xref\":\"x\",\"y\":\"ram\",\"yref\":\"y\"},{\"showarrow\":false,\"text\":\"0.0\",\"x\":\"clock_speed\",\"xref\":\"x\",\"y\":\"ram\",\"yref\":\"y\"},{\"showarrow\":false,\"text\":\"0.04\",\"x\":\"dual_sim\",\"xref\":\"x\",\"y\":\"ram\",\"yref\":\"y\"},{\"showarrow\":false,\"text\":\"0.02\",\"x\":\"fc_log\",\"xref\":\"x\",\"y\":\"ram\",\"yref\":\"y\"},{\"showarrow\":false,\"text\":\"0.01\",\"x\":\"four_g\",\"xref\":\"x\",\"y\":\"ram\",\"yref\":\"y\"},{\"showarrow\":false,\"text\":\"0.03\",\"x\":\"int_memory\",\"xref\":\"x\",\"y\":\"ram\",\"yref\":\"y\"},{\"showarrow\":false,\"text\":\"-0.01\",\"x\":\"m_dep\",\"xref\":\"x\",\"y\":\"ram\",\"yref\":\"y\"},{\"showarrow\":false,\"text\":\"-0.0\",\"x\":\"mobile_wt\",\"xref\":\"x\",\"y\":\"ram\",\"yref\":\"y\"},{\"showarrow\":false,\"text\":\"0.0\",\"x\":\"n_cores\",\"xref\":\"x\",\"y\":\"ram\",\"yref\":\"y\"},{\"showarrow\":false,\"text\":\"0.03\",\"x\":\"pc\",\"xref\":\"x\",\"y\":\"ram\",\"yref\":\"y\"},{\"showarrow\":false,\"text\":\"-0.02\",\"x\":\"px_height\",\"xref\":\"x\",\"y\":\"ram\",\"yref\":\"y\"},{\"showarrow\":false,\"text\":\"0.0\",\"x\":\"px_width\",\"xref\":\"x\",\"y\":\"ram\",\"yref\":\"y\"},{\"showarrow\":false,\"text\":\"1.0\",\"x\":\"ram\",\"xref\":\"x\",\"y\":\"ram\",\"yref\":\"y\"},{\"showarrow\":false,\"text\":\"0.02\",\"x\":\"sc_h\",\"xref\":\"x\",\"y\":\"ram\",\"yref\":\"y\"},{\"showarrow\":false,\"text\":\"0.04\",\"x\":\"sc_w\",\"xref\":\"x\",\"y\":\"ram\",\"yref\":\"y\"},{\"showarrow\":false,\"text\":\"0.01\",\"x\":\"talk_time\",\"xref\":\"x\",\"y\":\"ram\",\"yref\":\"y\"},{\"showarrow\":false,\"text\":\"0.02\",\"x\":\"three_g\",\"xref\":\"x\",\"y\":\"ram\",\"yref\":\"y\"},{\"showarrow\":false,\"text\":\"-0.03\",\"x\":\"touch_screen\",\"xref\":\"x\",\"y\":\"ram\",\"yref\":\"y\"},{\"showarrow\":false,\"text\":\"0.02\",\"x\":\"wifi\",\"xref\":\"x\",\"y\":\"ram\",\"yref\":\"y\"},{\"showarrow\":false,\"text\":\"0.92\",\"x\":\"price_range\",\"xref\":\"x\",\"y\":\"ram\",\"yref\":\"y\"},{\"showarrow\":false,\"text\":\"0.02\",\"x\":\"fc_log\",\"xref\":\"x\",\"y\":\"ram\",\"yref\":\"y\"},{\"showarrow\":false,\"text\":\"-0.03\",\"x\":\"battery_power\",\"xref\":\"x\",\"y\":\"sc_h\",\"yref\":\"y\"},{\"showarrow\":false,\"text\":\"-0.0\",\"x\":\"blue\",\"xref\":\"x\",\"y\":\"sc_h\",\"yref\":\"y\"},{\"showarrow\":false,\"text\":\"-0.03\",\"x\":\"clock_speed\",\"xref\":\"x\",\"y\":\"sc_h\",\"yref\":\"y\"},{\"showarrow\":false,\"text\":\"-0.01\",\"x\":\"dual_sim\",\"xref\":\"x\",\"y\":\"sc_h\",\"yref\":\"y\"},{\"showarrow\":false,\"text\":\"-0.01\",\"x\":\"fc_log\",\"xref\":\"x\",\"y\":\"sc_h\",\"yref\":\"y\"},{\"showarrow\":false,\"text\":\"0.03\",\"x\":\"four_g\",\"xref\":\"x\",\"y\":\"sc_h\",\"yref\":\"y\"},{\"showarrow\":false,\"text\":\"0.04\",\"x\":\"int_memory\",\"xref\":\"x\",\"y\":\"sc_h\",\"yref\":\"y\"},{\"showarrow\":false,\"text\":\"-0.03\",\"x\":\"m_dep\",\"xref\":\"x\",\"y\":\"sc_h\",\"yref\":\"y\"},{\"showarrow\":false,\"text\":\"-0.03\",\"x\":\"mobile_wt\",\"xref\":\"x\",\"y\":\"sc_h\",\"yref\":\"y\"},{\"showarrow\":false,\"text\":\"-0.0\",\"x\":\"n_cores\",\"xref\":\"x\",\"y\":\"sc_h\",\"yref\":\"y\"},{\"showarrow\":false,\"text\":\"0.0\",\"x\":\"pc\",\"xref\":\"x\",\"y\":\"sc_h\",\"yref\":\"y\"},{\"showarrow\":false,\"text\":\"0.06\",\"x\":\"px_height\",\"xref\":\"x\",\"y\":\"sc_h\",\"yref\":\"y\"},{\"showarrow\":false,\"text\":\"0.02\",\"x\":\"px_width\",\"xref\":\"x\",\"y\":\"sc_h\",\"yref\":\"y\"},{\"showarrow\":false,\"text\":\"0.02\",\"x\":\"ram\",\"xref\":\"x\",\"y\":\"sc_h\",\"yref\":\"y\"},{\"showarrow\":false,\"text\":\"1.0\",\"x\":\"sc_h\",\"xref\":\"x\",\"y\":\"sc_h\",\"yref\":\"y\"},{\"showarrow\":false,\"text\":\"0.51\",\"x\":\"sc_w\",\"xref\":\"x\",\"y\":\"sc_h\",\"yref\":\"y\"},{\"showarrow\":false,\"text\":\"-0.02\",\"x\":\"talk_time\",\"xref\":\"x\",\"y\":\"sc_h\",\"yref\":\"y\"},{\"showarrow\":false,\"text\":\"0.01\",\"x\":\"three_g\",\"xref\":\"x\",\"y\":\"sc_h\",\"yref\":\"y\"},{\"showarrow\":false,\"text\":\"-0.02\",\"x\":\"touch_screen\",\"xref\":\"x\",\"y\":\"sc_h\",\"yref\":\"y\"},{\"showarrow\":false,\"text\":\"0.03\",\"x\":\"wifi\",\"xref\":\"x\",\"y\":\"sc_h\",\"yref\":\"y\"},{\"showarrow\":false,\"text\":\"0.02\",\"x\":\"price_range\",\"xref\":\"x\",\"y\":\"sc_h\",\"yref\":\"y\"},{\"showarrow\":false,\"text\":\"-0.01\",\"x\":\"fc_log\",\"xref\":\"x\",\"y\":\"sc_h\",\"yref\":\"y\"},{\"showarrow\":false,\"text\":\"-0.02\",\"x\":\"battery_power\",\"xref\":\"x\",\"y\":\"sc_w\",\"yref\":\"y\"},{\"showarrow\":false,\"text\":\"0.0\",\"x\":\"blue\",\"xref\":\"x\",\"y\":\"sc_w\",\"yref\":\"y\"},{\"showarrow\":false,\"text\":\"-0.01\",\"x\":\"clock_speed\",\"xref\":\"x\",\"y\":\"sc_w\",\"yref\":\"y\"},{\"showarrow\":false,\"text\":\"-0.02\",\"x\":\"dual_sim\",\"xref\":\"x\",\"y\":\"sc_w\",\"yref\":\"y\"},{\"showarrow\":false,\"text\":\"0.0\",\"x\":\"fc_log\",\"xref\":\"x\",\"y\":\"sc_w\",\"yref\":\"y\"},{\"showarrow\":false,\"text\":\"0.04\",\"x\":\"four_g\",\"xref\":\"x\",\"y\":\"sc_w\",\"yref\":\"y\"},{\"showarrow\":false,\"text\":\"0.01\",\"x\":\"int_memory\",\"xref\":\"x\",\"y\":\"sc_w\",\"yref\":\"y\"},{\"showarrow\":false,\"text\":\"-0.02\",\"x\":\"m_dep\",\"xref\":\"x\",\"y\":\"sc_w\",\"yref\":\"y\"},{\"showarrow\":false,\"text\":\"-0.02\",\"x\":\"mobile_wt\",\"xref\":\"x\",\"y\":\"sc_w\",\"yref\":\"y\"},{\"showarrow\":false,\"text\":\"0.03\",\"x\":\"n_cores\",\"xref\":\"x\",\"y\":\"sc_w\",\"yref\":\"y\"},{\"showarrow\":false,\"text\":\"-0.02\",\"x\":\"pc\",\"xref\":\"x\",\"y\":\"sc_w\",\"yref\":\"y\"},{\"showarrow\":false,\"text\":\"0.04\",\"x\":\"px_height\",\"xref\":\"x\",\"y\":\"sc_w\",\"yref\":\"y\"},{\"showarrow\":false,\"text\":\"0.03\",\"x\":\"px_width\",\"xref\":\"x\",\"y\":\"sc_w\",\"yref\":\"y\"},{\"showarrow\":false,\"text\":\"0.04\",\"x\":\"ram\",\"xref\":\"x\",\"y\":\"sc_w\",\"yref\":\"y\"},{\"showarrow\":false,\"text\":\"0.51\",\"x\":\"sc_h\",\"xref\":\"x\",\"y\":\"sc_w\",\"yref\":\"y\"},{\"showarrow\":false,\"text\":\"1.0\",\"x\":\"sc_w\",\"xref\":\"x\",\"y\":\"sc_w\",\"yref\":\"y\"},{\"showarrow\":false,\"text\":\"-0.02\",\"x\":\"talk_time\",\"xref\":\"x\",\"y\":\"sc_w\",\"yref\":\"y\"},{\"showarrow\":false,\"text\":\"0.03\",\"x\":\"three_g\",\"xref\":\"x\",\"y\":\"sc_w\",\"yref\":\"y\"},{\"showarrow\":false,\"text\":\"0.01\",\"x\":\"touch_screen\",\"xref\":\"x\",\"y\":\"sc_w\",\"yref\":\"y\"},{\"showarrow\":false,\"text\":\"0.04\",\"x\":\"wifi\",\"xref\":\"x\",\"y\":\"sc_w\",\"yref\":\"y\"},{\"showarrow\":false,\"text\":\"0.04\",\"x\":\"price_range\",\"xref\":\"x\",\"y\":\"sc_w\",\"yref\":\"y\"},{\"showarrow\":false,\"text\":\"0.0\",\"x\":\"fc_log\",\"xref\":\"x\",\"y\":\"sc_w\",\"yref\":\"y\"},{\"showarrow\":false,\"text\":\"0.05\",\"x\":\"battery_power\",\"xref\":\"x\",\"y\":\"talk_time\",\"yref\":\"y\"},{\"showarrow\":false,\"text\":\"0.01\",\"x\":\"blue\",\"xref\":\"x\",\"y\":\"talk_time\",\"yref\":\"y\"},{\"showarrow\":false,\"text\":\"-0.01\",\"x\":\"clock_speed\",\"xref\":\"x\",\"y\":\"talk_time\",\"yref\":\"y\"},{\"showarrow\":false,\"text\":\"-0.04\",\"x\":\"dual_sim\",\"xref\":\"x\",\"y\":\"talk_time\",\"yref\":\"y\"},{\"showarrow\":false,\"text\":\"-0.0\",\"x\":\"fc_log\",\"xref\":\"x\",\"y\":\"talk_time\",\"yref\":\"y\"},{\"showarrow\":false,\"text\":\"-0.05\",\"x\":\"four_g\",\"xref\":\"x\",\"y\":\"talk_time\",\"yref\":\"y\"},{\"showarrow\":false,\"text\":\"-0.0\",\"x\":\"int_memory\",\"xref\":\"x\",\"y\":\"talk_time\",\"yref\":\"y\"},{\"showarrow\":false,\"text\":\"0.02\",\"x\":\"m_dep\",\"xref\":\"x\",\"y\":\"talk_time\",\"yref\":\"y\"},{\"showarrow\":false,\"text\":\"0.01\",\"x\":\"mobile_wt\",\"xref\":\"x\",\"y\":\"talk_time\",\"yref\":\"y\"},{\"showarrow\":false,\"text\":\"0.01\",\"x\":\"n_cores\",\"xref\":\"x\",\"y\":\"talk_time\",\"yref\":\"y\"},{\"showarrow\":false,\"text\":\"0.01\",\"x\":\"pc\",\"xref\":\"x\",\"y\":\"talk_time\",\"yref\":\"y\"},{\"showarrow\":false,\"text\":\"-0.01\",\"x\":\"px_height\",\"xref\":\"x\",\"y\":\"talk_time\",\"yref\":\"y\"},{\"showarrow\":false,\"text\":\"0.01\",\"x\":\"px_width\",\"xref\":\"x\",\"y\":\"talk_time\",\"yref\":\"y\"},{\"showarrow\":false,\"text\":\"0.01\",\"x\":\"ram\",\"xref\":\"x\",\"y\":\"talk_time\",\"yref\":\"y\"},{\"showarrow\":false,\"text\":\"-0.02\",\"x\":\"sc_h\",\"xref\":\"x\",\"y\":\"talk_time\",\"yref\":\"y\"},{\"showarrow\":false,\"text\":\"-0.02\",\"x\":\"sc_w\",\"xref\":\"x\",\"y\":\"talk_time\",\"yref\":\"y\"},{\"showarrow\":false,\"text\":\"1.0\",\"x\":\"talk_time\",\"xref\":\"x\",\"y\":\"talk_time\",\"yref\":\"y\"},{\"showarrow\":false,\"text\":\"-0.04\",\"x\":\"three_g\",\"xref\":\"x\",\"y\":\"talk_time\",\"yref\":\"y\"},{\"showarrow\":false,\"text\":\"0.02\",\"x\":\"touch_screen\",\"xref\":\"x\",\"y\":\"talk_time\",\"yref\":\"y\"},{\"showarrow\":false,\"text\":\"-0.03\",\"x\":\"wifi\",\"xref\":\"x\",\"y\":\"talk_time\",\"yref\":\"y\"},{\"showarrow\":false,\"text\":\"0.02\",\"x\":\"price_range\",\"xref\":\"x\",\"y\":\"talk_time\",\"yref\":\"y\"},{\"showarrow\":false,\"text\":\"-0.0\",\"x\":\"fc_log\",\"xref\":\"x\",\"y\":\"talk_time\",\"yref\":\"y\"},{\"showarrow\":false,\"text\":\"0.01\",\"x\":\"battery_power\",\"xref\":\"x\",\"y\":\"three_g\",\"yref\":\"y\"},{\"showarrow\":false,\"text\":\"-0.03\",\"x\":\"blue\",\"xref\":\"x\",\"y\":\"three_g\",\"yref\":\"y\"},{\"showarrow\":false,\"text\":\"-0.05\",\"x\":\"clock_speed\",\"xref\":\"x\",\"y\":\"three_g\",\"yref\":\"y\"},{\"showarrow\":false,\"text\":\"-0.01\",\"x\":\"dual_sim\",\"xref\":\"x\",\"y\":\"three_g\",\"yref\":\"y\"},{\"showarrow\":false,\"text\":\"-0.02\",\"x\":\"fc_log\",\"xref\":\"x\",\"y\":\"three_g\",\"yref\":\"y\"},{\"showarrow\":false,\"text\":\"0.58\",\"x\":\"four_g\",\"xref\":\"x\",\"y\":\"three_g\",\"yref\":\"y\"},{\"showarrow\":false,\"text\":\"-0.01\",\"x\":\"int_memory\",\"xref\":\"x\",\"y\":\"three_g\",\"yref\":\"y\"},{\"showarrow\":false,\"text\":\"-0.01\",\"x\":\"m_dep\",\"xref\":\"x\",\"y\":\"three_g\",\"yref\":\"y\"},{\"showarrow\":false,\"text\":\"0.0\",\"x\":\"mobile_wt\",\"xref\":\"x\",\"y\":\"three_g\",\"yref\":\"y\"},{\"showarrow\":false,\"text\":\"-0.01\",\"x\":\"n_cores\",\"xref\":\"x\",\"y\":\"three_g\",\"yref\":\"y\"},{\"showarrow\":false,\"text\":\"-0.0\",\"x\":\"pc\",\"xref\":\"x\",\"y\":\"three_g\",\"yref\":\"y\"},{\"showarrow\":false,\"text\":\"-0.03\",\"x\":\"px_height\",\"xref\":\"x\",\"y\":\"three_g\",\"yref\":\"y\"},{\"showarrow\":false,\"text\":\"0.0\",\"x\":\"px_width\",\"xref\":\"x\",\"y\":\"three_g\",\"yref\":\"y\"},{\"showarrow\":false,\"text\":\"0.02\",\"x\":\"ram\",\"xref\":\"x\",\"y\":\"three_g\",\"yref\":\"y\"},{\"showarrow\":false,\"text\":\"0.01\",\"x\":\"sc_h\",\"xref\":\"x\",\"y\":\"three_g\",\"yref\":\"y\"},{\"showarrow\":false,\"text\":\"0.03\",\"x\":\"sc_w\",\"xref\":\"x\",\"y\":\"three_g\",\"yref\":\"y\"},{\"showarrow\":false,\"text\":\"-0.04\",\"x\":\"talk_time\",\"xref\":\"x\",\"y\":\"three_g\",\"yref\":\"y\"},{\"showarrow\":false,\"text\":\"1.0\",\"x\":\"three_g\",\"xref\":\"x\",\"y\":\"three_g\",\"yref\":\"y\"},{\"showarrow\":false,\"text\":\"0.01\",\"x\":\"touch_screen\",\"xref\":\"x\",\"y\":\"three_g\",\"yref\":\"y\"},{\"showarrow\":false,\"text\":\"0.0\",\"x\":\"wifi\",\"xref\":\"x\",\"y\":\"three_g\",\"yref\":\"y\"},{\"showarrow\":false,\"text\":\"0.02\",\"x\":\"price_range\",\"xref\":\"x\",\"y\":\"three_g\",\"yref\":\"y\"},{\"showarrow\":false,\"text\":\"-0.02\",\"x\":\"fc_log\",\"xref\":\"x\",\"y\":\"three_g\",\"yref\":\"y\"},{\"showarrow\":false,\"text\":\"-0.01\",\"x\":\"battery_power\",\"xref\":\"x\",\"y\":\"touch_screen\",\"yref\":\"y\"},{\"showarrow\":false,\"text\":\"0.01\",\"x\":\"blue\",\"xref\":\"x\",\"y\":\"touch_screen\",\"yref\":\"y\"},{\"showarrow\":false,\"text\":\"0.02\",\"x\":\"clock_speed\",\"xref\":\"x\",\"y\":\"touch_screen\",\"yref\":\"y\"},{\"showarrow\":false,\"text\":\"-0.02\",\"x\":\"dual_sim\",\"xref\":\"x\",\"y\":\"touch_screen\",\"yref\":\"y\"},{\"showarrow\":false,\"text\":\"-0.02\",\"x\":\"fc_log\",\"xref\":\"x\",\"y\":\"touch_screen\",\"yref\":\"y\"},{\"showarrow\":false,\"text\":\"0.02\",\"x\":\"four_g\",\"xref\":\"x\",\"y\":\"touch_screen\",\"yref\":\"y\"},{\"showarrow\":false,\"text\":\"-0.03\",\"x\":\"int_memory\",\"xref\":\"x\",\"y\":\"touch_screen\",\"yref\":\"y\"},{\"showarrow\":false,\"text\":\"-0.0\",\"x\":\"m_dep\",\"xref\":\"x\",\"y\":\"touch_screen\",\"yref\":\"y\"},{\"showarrow\":false,\"text\":\"-0.01\",\"x\":\"mobile_wt\",\"xref\":\"x\",\"y\":\"touch_screen\",\"yref\":\"y\"},{\"showarrow\":false,\"text\":\"0.02\",\"x\":\"n_cores\",\"xref\":\"x\",\"y\":\"touch_screen\",\"yref\":\"y\"},{\"showarrow\":false,\"text\":\"-0.01\",\"x\":\"pc\",\"xref\":\"x\",\"y\":\"touch_screen\",\"yref\":\"y\"},{\"showarrow\":false,\"text\":\"0.02\",\"x\":\"px_height\",\"xref\":\"x\",\"y\":\"touch_screen\",\"yref\":\"y\"},{\"showarrow\":false,\"text\":\"-0.0\",\"x\":\"px_width\",\"xref\":\"x\",\"y\":\"touch_screen\",\"yref\":\"y\"},{\"showarrow\":false,\"text\":\"-0.03\",\"x\":\"ram\",\"xref\":\"x\",\"y\":\"touch_screen\",\"yref\":\"y\"},{\"showarrow\":false,\"text\":\"-0.02\",\"x\":\"sc_h\",\"xref\":\"x\",\"y\":\"touch_screen\",\"yref\":\"y\"},{\"showarrow\":false,\"text\":\"0.01\",\"x\":\"sc_w\",\"xref\":\"x\",\"y\":\"touch_screen\",\"yref\":\"y\"},{\"showarrow\":false,\"text\":\"0.02\",\"x\":\"talk_time\",\"xref\":\"x\",\"y\":\"touch_screen\",\"yref\":\"y\"},{\"showarrow\":false,\"text\":\"0.01\",\"x\":\"three_g\",\"xref\":\"x\",\"y\":\"touch_screen\",\"yref\":\"y\"},{\"showarrow\":false,\"text\":\"1.0\",\"x\":\"touch_screen\",\"xref\":\"x\",\"y\":\"touch_screen\",\"yref\":\"y\"},{\"showarrow\":false,\"text\":\"0.01\",\"x\":\"wifi\",\"xref\":\"x\",\"y\":\"touch_screen\",\"yref\":\"y\"},{\"showarrow\":false,\"text\":\"-0.03\",\"x\":\"price_range\",\"xref\":\"x\",\"y\":\"touch_screen\",\"yref\":\"y\"},{\"showarrow\":false,\"text\":\"-0.02\",\"x\":\"fc_log\",\"xref\":\"x\",\"y\":\"touch_screen\",\"yref\":\"y\"},{\"showarrow\":false,\"text\":\"-0.01\",\"x\":\"battery_power\",\"xref\":\"x\",\"y\":\"wifi\",\"yref\":\"y\"},{\"showarrow\":false,\"text\":\"-0.02\",\"x\":\"blue\",\"xref\":\"x\",\"y\":\"wifi\",\"yref\":\"y\"},{\"showarrow\":false,\"text\":\"-0.02\",\"x\":\"clock_speed\",\"xref\":\"x\",\"y\":\"wifi\",\"yref\":\"y\"},{\"showarrow\":false,\"text\":\"0.02\",\"x\":\"dual_sim\",\"xref\":\"x\",\"y\":\"wifi\",\"yref\":\"y\"},{\"showarrow\":false,\"text\":\"0.01\",\"x\":\"fc_log\",\"xref\":\"x\",\"y\":\"wifi\",\"yref\":\"y\"},{\"showarrow\":false,\"text\":\"-0.02\",\"x\":\"four_g\",\"xref\":\"x\",\"y\":\"wifi\",\"yref\":\"y\"},{\"showarrow\":false,\"text\":\"0.01\",\"x\":\"int_memory\",\"xref\":\"x\",\"y\":\"wifi\",\"yref\":\"y\"},{\"showarrow\":false,\"text\":\"-0.03\",\"x\":\"m_dep\",\"xref\":\"x\",\"y\":\"wifi\",\"yref\":\"y\"},{\"showarrow\":false,\"text\":\"-0.0\",\"x\":\"mobile_wt\",\"xref\":\"x\",\"y\":\"wifi\",\"yref\":\"y\"},{\"showarrow\":false,\"text\":\"-0.01\",\"x\":\"n_cores\",\"xref\":\"x\",\"y\":\"wifi\",\"yref\":\"y\"},{\"showarrow\":false,\"text\":\"0.01\",\"x\":\"pc\",\"xref\":\"x\",\"y\":\"wifi\",\"yref\":\"y\"},{\"showarrow\":false,\"text\":\"0.05\",\"x\":\"px_height\",\"xref\":\"x\",\"y\":\"wifi\",\"yref\":\"y\"},{\"showarrow\":false,\"text\":\"0.03\",\"x\":\"px_width\",\"xref\":\"x\",\"y\":\"wifi\",\"yref\":\"y\"},{\"showarrow\":false,\"text\":\"0.02\",\"x\":\"ram\",\"xref\":\"x\",\"y\":\"wifi\",\"yref\":\"y\"},{\"showarrow\":false,\"text\":\"0.03\",\"x\":\"sc_h\",\"xref\":\"x\",\"y\":\"wifi\",\"yref\":\"y\"},{\"showarrow\":false,\"text\":\"0.04\",\"x\":\"sc_w\",\"xref\":\"x\",\"y\":\"wifi\",\"yref\":\"y\"},{\"showarrow\":false,\"text\":\"-0.03\",\"x\":\"talk_time\",\"xref\":\"x\",\"y\":\"wifi\",\"yref\":\"y\"},{\"showarrow\":false,\"text\":\"0.0\",\"x\":\"three_g\",\"xref\":\"x\",\"y\":\"wifi\",\"yref\":\"y\"},{\"showarrow\":false,\"text\":\"0.01\",\"x\":\"touch_screen\",\"xref\":\"x\",\"y\":\"wifi\",\"yref\":\"y\"},{\"showarrow\":false,\"text\":\"1.0\",\"x\":\"wifi\",\"xref\":\"x\",\"y\":\"wifi\",\"yref\":\"y\"},{\"showarrow\":false,\"text\":\"0.02\",\"x\":\"price_range\",\"xref\":\"x\",\"y\":\"wifi\",\"yref\":\"y\"},{\"showarrow\":false,\"text\":\"0.01\",\"x\":\"fc_log\",\"xref\":\"x\",\"y\":\"wifi\",\"yref\":\"y\"},{\"showarrow\":false,\"text\":\"0.2\",\"x\":\"battery_power\",\"xref\":\"x\",\"y\":\"price_range\",\"yref\":\"y\"},{\"showarrow\":false,\"text\":\"0.02\",\"x\":\"blue\",\"xref\":\"x\",\"y\":\"price_range\",\"yref\":\"y\"},{\"showarrow\":false,\"text\":\"-0.01\",\"x\":\"clock_speed\",\"xref\":\"x\",\"y\":\"price_range\",\"yref\":\"y\"},{\"showarrow\":false,\"text\":\"0.02\",\"x\":\"dual_sim\",\"xref\":\"x\",\"y\":\"price_range\",\"yref\":\"y\"},{\"showarrow\":false,\"text\":\"0.02\",\"x\":\"fc_log\",\"xref\":\"x\",\"y\":\"price_range\",\"yref\":\"y\"},{\"showarrow\":false,\"text\":\"0.01\",\"x\":\"four_g\",\"xref\":\"x\",\"y\":\"price_range\",\"yref\":\"y\"},{\"showarrow\":false,\"text\":\"0.04\",\"x\":\"int_memory\",\"xref\":\"x\",\"y\":\"price_range\",\"yref\":\"y\"},{\"showarrow\":false,\"text\":\"0.0\",\"x\":\"m_dep\",\"xref\":\"x\",\"y\":\"price_range\",\"yref\":\"y\"},{\"showarrow\":false,\"text\":\"-0.03\",\"x\":\"mobile_wt\",\"xref\":\"x\",\"y\":\"price_range\",\"yref\":\"y\"},{\"showarrow\":false,\"text\":\"0.0\",\"x\":\"n_cores\",\"xref\":\"x\",\"y\":\"price_range\",\"yref\":\"y\"},{\"showarrow\":false,\"text\":\"0.03\",\"x\":\"pc\",\"xref\":\"x\",\"y\":\"price_range\",\"yref\":\"y\"},{\"showarrow\":false,\"text\":\"0.15\",\"x\":\"px_height\",\"xref\":\"x\",\"y\":\"price_range\",\"yref\":\"y\"},{\"showarrow\":false,\"text\":\"0.17\",\"x\":\"px_width\",\"xref\":\"x\",\"y\":\"price_range\",\"yref\":\"y\"},{\"showarrow\":false,\"text\":\"0.92\",\"x\":\"ram\",\"xref\":\"x\",\"y\":\"price_range\",\"yref\":\"y\"},{\"showarrow\":false,\"text\":\"0.02\",\"x\":\"sc_h\",\"xref\":\"x\",\"y\":\"price_range\",\"yref\":\"y\"},{\"showarrow\":false,\"text\":\"0.04\",\"x\":\"sc_w\",\"xref\":\"x\",\"y\":\"price_range\",\"yref\":\"y\"},{\"showarrow\":false,\"text\":\"0.02\",\"x\":\"talk_time\",\"xref\":\"x\",\"y\":\"price_range\",\"yref\":\"y\"},{\"showarrow\":false,\"text\":\"0.02\",\"x\":\"three_g\",\"xref\":\"x\",\"y\":\"price_range\",\"yref\":\"y\"},{\"showarrow\":false,\"text\":\"-0.03\",\"x\":\"touch_screen\",\"xref\":\"x\",\"y\":\"price_range\",\"yref\":\"y\"},{\"showarrow\":false,\"text\":\"0.02\",\"x\":\"wifi\",\"xref\":\"x\",\"y\":\"price_range\",\"yref\":\"y\"},{\"showarrow\":false,\"text\":\"1.0\",\"x\":\"price_range\",\"xref\":\"x\",\"y\":\"price_range\",\"yref\":\"y\"},{\"showarrow\":false,\"text\":\"0.02\",\"x\":\"fc_log\",\"xref\":\"x\",\"y\":\"price_range\",\"yref\":\"y\"},{\"showarrow\":false,\"text\":\"0.04\",\"x\":\"battery_power\",\"xref\":\"x\",\"y\":\"fc_log\",\"yref\":\"y\"},{\"showarrow\":false,\"text\":\"-0.0\",\"x\":\"blue\",\"xref\":\"x\",\"y\":\"fc_log\",\"yref\":\"y\"},{\"showarrow\":false,\"text\":\"-0.01\",\"x\":\"clock_speed\",\"xref\":\"x\",\"y\":\"fc_log\",\"yref\":\"y\"},{\"showarrow\":false,\"text\":\"-0.04\",\"x\":\"dual_sim\",\"xref\":\"x\",\"y\":\"fc_log\",\"yref\":\"y\"},{\"showarrow\":false,\"text\":\"1.0\",\"x\":\"fc_log\",\"xref\":\"x\",\"y\":\"fc_log\",\"yref\":\"y\"},{\"showarrow\":false,\"text\":\"-0.02\",\"x\":\"four_g\",\"xref\":\"x\",\"y\":\"fc_log\",\"yref\":\"y\"},{\"showarrow\":false,\"text\":\"-0.03\",\"x\":\"int_memory\",\"xref\":\"x\",\"y\":\"fc_log\",\"yref\":\"y\"},{\"showarrow\":false,\"text\":\"0.01\",\"x\":\"m_dep\",\"xref\":\"x\",\"y\":\"fc_log\",\"yref\":\"y\"},{\"showarrow\":false,\"text\":\"0.03\",\"x\":\"mobile_wt\",\"xref\":\"x\",\"y\":\"fc_log\",\"yref\":\"y\"},{\"showarrow\":false,\"text\":\"-0.02\",\"x\":\"n_cores\",\"xref\":\"x\",\"y\":\"fc_log\",\"yref\":\"y\"},{\"showarrow\":false,\"text\":\"0.66\",\"x\":\"pc\",\"xref\":\"x\",\"y\":\"fc_log\",\"yref\":\"y\"},{\"showarrow\":false,\"text\":\"-0.02\",\"x\":\"px_height\",\"xref\":\"x\",\"y\":\"fc_log\",\"yref\":\"y\"},{\"showarrow\":false,\"text\":\"-0.01\",\"x\":\"px_width\",\"xref\":\"x\",\"y\":\"fc_log\",\"yref\":\"y\"},{\"showarrow\":false,\"text\":\"0.02\",\"x\":\"ram\",\"xref\":\"x\",\"y\":\"fc_log\",\"yref\":\"y\"},{\"showarrow\":false,\"text\":\"-0.01\",\"x\":\"sc_h\",\"xref\":\"x\",\"y\":\"fc_log\",\"yref\":\"y\"},{\"showarrow\":false,\"text\":\"0.0\",\"x\":\"sc_w\",\"xref\":\"x\",\"y\":\"fc_log\",\"yref\":\"y\"},{\"showarrow\":false,\"text\":\"-0.0\",\"x\":\"talk_time\",\"xref\":\"x\",\"y\":\"fc_log\",\"yref\":\"y\"},{\"showarrow\":false,\"text\":\"-0.02\",\"x\":\"three_g\",\"xref\":\"x\",\"y\":\"fc_log\",\"yref\":\"y\"},{\"showarrow\":false,\"text\":\"-0.02\",\"x\":\"touch_screen\",\"xref\":\"x\",\"y\":\"fc_log\",\"yref\":\"y\"},{\"showarrow\":false,\"text\":\"0.01\",\"x\":\"wifi\",\"xref\":\"x\",\"y\":\"fc_log\",\"yref\":\"y\"},{\"showarrow\":false,\"text\":\"0.02\",\"x\":\"price_range\",\"xref\":\"x\",\"y\":\"fc_log\",\"yref\":\"y\"},{\"showarrow\":false,\"text\":\"1.0\",\"x\":\"fc_log\",\"xref\":\"x\",\"y\":\"fc_log\",\"yref\":\"y\"}],\"title\":{\"text\":\"Correlation Heatmap\"},\"template\":{\"data\":{\"histogram2dcontour\":[{\"type\":\"histogram2dcontour\",\"colorbar\":{\"outlinewidth\":0,\"ticks\":\"\"},\"colorscale\":[[0.0,\"#0d0887\"],[0.1111111111111111,\"#46039f\"],[0.2222222222222222,\"#7201a8\"],[0.3333333333333333,\"#9c179e\"],[0.4444444444444444,\"#bd3786\"],[0.5555555555555556,\"#d8576b\"],[0.6666666666666666,\"#ed7953\"],[0.7777777777777778,\"#fb9f3a\"],[0.8888888888888888,\"#fdca26\"],[1.0,\"#f0f921\"]]}],\"choropleth\":[{\"type\":\"choropleth\",\"colorbar\":{\"outlinewidth\":0,\"ticks\":\"\"}}],\"histogram2d\":[{\"type\":\"histogram2d\",\"colorbar\":{\"outlinewidth\":0,\"ticks\":\"\"},\"colorscale\":[[0.0,\"#0d0887\"],[0.1111111111111111,\"#46039f\"],[0.2222222222222222,\"#7201a8\"],[0.3333333333333333,\"#9c179e\"],[0.4444444444444444,\"#bd3786\"],[0.5555555555555556,\"#d8576b\"],[0.6666666666666666,\"#ed7953\"],[0.7777777777777778,\"#fb9f3a\"],[0.8888888888888888,\"#fdca26\"],[1.0,\"#f0f921\"]]}],\"heatmap\":[{\"type\":\"heatmap\",\"colorbar\":{\"outlinewidth\":0,\"ticks\":\"\"},\"colorscale\":[[0.0,\"#0d0887\"],[0.1111111111111111,\"#46039f\"],[0.2222222222222222,\"#7201a8\"],[0.3333333333333333,\"#9c179e\"],[0.4444444444444444,\"#bd3786\"],[0.5555555555555556,\"#d8576b\"],[0.6666666666666666,\"#ed7953\"],[0.7777777777777778,\"#fb9f3a\"],[0.8888888888888888,\"#fdca26\"],[1.0,\"#f0f921\"]]}],\"heatmapgl\":[{\"type\":\"heatmapgl\",\"colorbar\":{\"outlinewidth\":0,\"ticks\":\"\"},\"colorscale\":[[0.0,\"#0d0887\"],[0.1111111111111111,\"#46039f\"],[0.2222222222222222,\"#7201a8\"],[0.3333333333333333,\"#9c179e\"],[0.4444444444444444,\"#bd3786\"],[0.5555555555555556,\"#d8576b\"],[0.6666666666666666,\"#ed7953\"],[0.7777777777777778,\"#fb9f3a\"],[0.8888888888888888,\"#fdca26\"],[1.0,\"#f0f921\"]]}],\"contourcarpet\":[{\"type\":\"contourcarpet\",\"colorbar\":{\"outlinewidth\":0,\"ticks\":\"\"}}],\"contour\":[{\"type\":\"contour\",\"colorbar\":{\"outlinewidth\":0,\"ticks\":\"\"},\"colorscale\":[[0.0,\"#0d0887\"],[0.1111111111111111,\"#46039f\"],[0.2222222222222222,\"#7201a8\"],[0.3333333333333333,\"#9c179e\"],[0.4444444444444444,\"#bd3786\"],[0.5555555555555556,\"#d8576b\"],[0.6666666666666666,\"#ed7953\"],[0.7777777777777778,\"#fb9f3a\"],[0.8888888888888888,\"#fdca26\"],[1.0,\"#f0f921\"]]}],\"surface\":[{\"type\":\"surface\",\"colorbar\":{\"outlinewidth\":0,\"ticks\":\"\"},\"colorscale\":[[0.0,\"#0d0887\"],[0.1111111111111111,\"#46039f\"],[0.2222222222222222,\"#7201a8\"],[0.3333333333333333,\"#9c179e\"],[0.4444444444444444,\"#bd3786\"],[0.5555555555555556,\"#d8576b\"],[0.6666666666666666,\"#ed7953\"],[0.7777777777777778,\"#fb9f3a\"],[0.8888888888888888,\"#fdca26\"],[1.0,\"#f0f921\"]]}],\"mesh3d\":[{\"type\":\"mesh3d\",\"colorbar\":{\"outlinewidth\":0,\"ticks\":\"\"}}],\"scatter\":[{\"fillpattern\":{\"fillmode\":\"overlay\",\"size\":10,\"solidity\":0.2},\"type\":\"scatter\"}],\"parcoords\":[{\"type\":\"parcoords\",\"line\":{\"colorbar\":{\"outlinewidth\":0,\"ticks\":\"\"}}}],\"scatterpolargl\":[{\"type\":\"scatterpolargl\",\"marker\":{\"colorbar\":{\"outlinewidth\":0,\"ticks\":\"\"}}}],\"bar\":[{\"error_x\":{\"color\":\"#2a3f5f\"},\"error_y\":{\"color\":\"#2a3f5f\"},\"marker\":{\"line\":{\"color\":\"#E5ECF6\",\"width\":0.5},\"pattern\":{\"fillmode\":\"overlay\",\"size\":10,\"solidity\":0.2}},\"type\":\"bar\"}],\"scattergeo\":[{\"type\":\"scattergeo\",\"marker\":{\"colorbar\":{\"outlinewidth\":0,\"ticks\":\"\"}}}],\"scatterpolar\":[{\"type\":\"scatterpolar\",\"marker\":{\"colorbar\":{\"outlinewidth\":0,\"ticks\":\"\"}}}],\"histogram\":[{\"marker\":{\"pattern\":{\"fillmode\":\"overlay\",\"size\":10,\"solidity\":0.2}},\"type\":\"histogram\"}],\"scattergl\":[{\"type\":\"scattergl\",\"marker\":{\"colorbar\":{\"outlinewidth\":0,\"ticks\":\"\"}}}],\"scatter3d\":[{\"type\":\"scatter3d\",\"line\":{\"colorbar\":{\"outlinewidth\":0,\"ticks\":\"\"}},\"marker\":{\"colorbar\":{\"outlinewidth\":0,\"ticks\":\"\"}}}],\"scattermapbox\":[{\"type\":\"scattermapbox\",\"marker\":{\"colorbar\":{\"outlinewidth\":0,\"ticks\":\"\"}}}],\"scatterternary\":[{\"type\":\"scatterternary\",\"marker\":{\"colorbar\":{\"outlinewidth\":0,\"ticks\":\"\"}}}],\"scattercarpet\":[{\"type\":\"scattercarpet\",\"marker\":{\"colorbar\":{\"outlinewidth\":0,\"ticks\":\"\"}}}],\"carpet\":[{\"aaxis\":{\"endlinecolor\":\"#2a3f5f\",\"gridcolor\":\"white\",\"linecolor\":\"white\",\"minorgridcolor\":\"white\",\"startlinecolor\":\"#2a3f5f\"},\"baxis\":{\"endlinecolor\":\"#2a3f5f\",\"gridcolor\":\"white\",\"linecolor\":\"white\",\"minorgridcolor\":\"white\",\"startlinecolor\":\"#2a3f5f\"},\"type\":\"carpet\"}],\"table\":[{\"cells\":{\"fill\":{\"color\":\"#EBF0F8\"},\"line\":{\"color\":\"white\"}},\"header\":{\"fill\":{\"color\":\"#C8D4E3\"},\"line\":{\"color\":\"white\"}},\"type\":\"table\"}],\"barpolar\":[{\"marker\":{\"line\":{\"color\":\"#E5ECF6\",\"width\":0.5},\"pattern\":{\"fillmode\":\"overlay\",\"size\":10,\"solidity\":0.2}},\"type\":\"barpolar\"}],\"pie\":[{\"automargin\":true,\"type\":\"pie\"}]},\"layout\":{\"autotypenumbers\":\"strict\",\"colorway\":[\"#636efa\",\"#EF553B\",\"#00cc96\",\"#ab63fa\",\"#FFA15A\",\"#19d3f3\",\"#FF6692\",\"#B6E880\",\"#FF97FF\",\"#FECB52\"],\"font\":{\"color\":\"#2a3f5f\"},\"hovermode\":\"closest\",\"hoverlabel\":{\"align\":\"left\"},\"paper_bgcolor\":\"white\",\"plot_bgcolor\":\"#E5ECF6\",\"polar\":{\"bgcolor\":\"#E5ECF6\",\"angularaxis\":{\"gridcolor\":\"white\",\"linecolor\":\"white\",\"ticks\":\"\"},\"radialaxis\":{\"gridcolor\":\"white\",\"linecolor\":\"white\",\"ticks\":\"\"}},\"ternary\":{\"bgcolor\":\"#E5ECF6\",\"aaxis\":{\"gridcolor\":\"white\",\"linecolor\":\"white\",\"ticks\":\"\"},\"baxis\":{\"gridcolor\":\"white\",\"linecolor\":\"white\",\"ticks\":\"\"},\"caxis\":{\"gridcolor\":\"white\",\"linecolor\":\"white\",\"ticks\":\"\"}},\"coloraxis\":{\"colorbar\":{\"outlinewidth\":0,\"ticks\":\"\"}},\"colorscale\":{\"sequential\":[[0.0,\"#0d0887\"],[0.1111111111111111,\"#46039f\"],[0.2222222222222222,\"#7201a8\"],[0.3333333333333333,\"#9c179e\"],[0.4444444444444444,\"#bd3786\"],[0.5555555555555556,\"#d8576b\"],[0.6666666666666666,\"#ed7953\"],[0.7777777777777778,\"#fb9f3a\"],[0.8888888888888888,\"#fdca26\"],[1.0,\"#f0f921\"]],\"sequentialminus\":[[0.0,\"#0d0887\"],[0.1111111111111111,\"#46039f\"],[0.2222222222222222,\"#7201a8\"],[0.3333333333333333,\"#9c179e\"],[0.4444444444444444,\"#bd3786\"],[0.5555555555555556,\"#d8576b\"],[0.6666666666666666,\"#ed7953\"],[0.7777777777777778,\"#fb9f3a\"],[0.8888888888888888,\"#fdca26\"],[1.0,\"#f0f921\"]],\"diverging\":[[0,\"#8e0152\"],[0.1,\"#c51b7d\"],[0.2,\"#de77ae\"],[0.3,\"#f1b6da\"],[0.4,\"#fde0ef\"],[0.5,\"#f7f7f7\"],[0.6,\"#e6f5d0\"],[0.7,\"#b8e186\"],[0.8,\"#7fbc41\"],[0.9,\"#4d9221\"],[1,\"#276419\"]]},\"xaxis\":{\"gridcolor\":\"white\",\"linecolor\":\"white\",\"ticks\":\"\",\"title\":{\"standoff\":15},\"zerolinecolor\":\"white\",\"automargin\":true,\"zerolinewidth\":2},\"yaxis\":{\"gridcolor\":\"white\",\"linecolor\":\"white\",\"ticks\":\"\",\"title\":{\"standoff\":15},\"zerolinecolor\":\"white\",\"automargin\":true,\"zerolinewidth\":2},\"scene\":{\"xaxis\":{\"backgroundcolor\":\"#E5ECF6\",\"gridcolor\":\"white\",\"linecolor\":\"white\",\"showbackground\":true,\"ticks\":\"\",\"zerolinecolor\":\"white\",\"gridwidth\":2},\"yaxis\":{\"backgroundcolor\":\"#E5ECF6\",\"gridcolor\":\"white\",\"linecolor\":\"white\",\"showbackground\":true,\"ticks\":\"\",\"zerolinecolor\":\"white\",\"gridwidth\":2},\"zaxis\":{\"backgroundcolor\":\"#E5ECF6\",\"gridcolor\":\"white\",\"linecolor\":\"white\",\"showbackground\":true,\"ticks\":\"\",\"zerolinecolor\":\"white\",\"gridwidth\":2}},\"shapedefaults\":{\"line\":{\"color\":\"#2a3f5f\"}},\"annotationdefaults\":{\"arrowcolor\":\"#2a3f5f\",\"arrowhead\":0,\"arrowwidth\":1},\"geo\":{\"bgcolor\":\"white\",\"landcolor\":\"#E5ECF6\",\"subunitcolor\":\"white\",\"showland\":true,\"showlakes\":true,\"lakecolor\":\"white\"},\"title\":{\"x\":0.05},\"mapbox\":{\"style\":\"light\"}}}},                        {\"responsive\": true}                    ).then(function(){\n",
       "                            \n",
       "var gd = document.getElementById('2334786c-757f-4d2a-92b4-9785166e4841');\n",
       "var x = new MutationObserver(function (mutations, observer) {{\n",
       "        var display = window.getComputedStyle(gd).display;\n",
       "        if (!display || display === 'none') {{\n",
       "            console.log([gd, 'removed!']);\n",
       "            Plotly.purge(gd);\n",
       "            observer.disconnect();\n",
       "        }}\n",
       "}});\n",
       "\n",
       "// Listen for the removal of the full notebook cells\n",
       "var notebookContainer = gd.closest('#notebook-container');\n",
       "if (notebookContainer) {{\n",
       "    x.observe(notebookContainer, {childList: true});\n",
       "}}\n",
       "\n",
       "// Listen for the clearing of the current output cell\n",
       "var outputEl = gd.closest('.output');\n",
       "if (outputEl) {{\n",
       "    x.observe(outputEl, {childList: true});\n",
       "}}\n",
       "\n",
       "                        })                };                });            </script>        </div>"
      ]
     },
     "metadata": {},
     "output_type": "display_data"
    }
   ],
   "source": [
    "import plotly.graph_objs as go\n",
    "\n",
    "# Calculate the correlation matrix\n",
    "corr = df.corr()\n",
    "\n",
    "# Create a heatmap trace\n",
    "heatmap = go.Heatmap(z=corr.values,\n",
    "                     x=corr.columns,\n",
    "                     y=corr.columns,\n",
    "                     colorscale='Viridis',\n",
    "                     hoverongaps=False)\n",
    "\n",
    "# Add text annotations\n",
    "annotations = []\n",
    "for i, row in enumerate(corr.index):         #using enumerate method         #use any one method\n",
    "    for j in range(len(corr.columns)):       #using normal method \n",
    "        annotations.append(dict(text=str(round(corr.iloc[i, j], 2)),\n",
    "                                x=corr.columns[j],     #for normal method\n",
    "                                y=row,                 #for enumerate method\n",
    "                                xref='x1',\n",
    "                                yref='y1',\n",
    "                                showarrow=False))\n",
    "\n",
    "# Create layout\n",
    "layout = go.Layout(title='Correlation Heatmap',\n",
    "                   annotations=annotations)\n",
    "\n",
    "# Create figure\n",
    "fig = go.Figure(data=[heatmap], layout=layout)\n",
    "\n",
    "# Show the plot\n",
    "fig.show()\n"
   ]
  },
  {
   "cell_type": "code",
   "execution_count": null,
   "id": "e4ca07de-5dba-4db4-b6e9-aa23930768e0",
   "metadata": {},
   "outputs": [],
   "source": [
    "#primary camera and front camera has higher correlation\n",
    "# pixel height and pixel width has moderate correlation\n",
    "#screen height and screen width has moderate correlation\n",
    "\n",
    "pixel height and pixel width are directly propotional so i can keep any one of them to reduce redundancy\n",
    "so im eliminating pixel height due to its lower f-value compare to pixel width\n",
    "\n",
    "screen height and screen width are directly propotional so i can keep any one of them to reduce redundancy\n",
    "so im eliminating screen height due to its lower f-value compare to width width\n",
    "\n",
    "technically primary camera and front are unique features so i cant eliminate one of them"
   ]
  },
  {
   "cell_type": "code",
   "execution_count": null,
   "id": "b76aa6d8-9bec-445a-a3d5-0277f6d3778c",
   "metadata": {},
   "outputs": [],
   "source": [
    "# logarthmic transformation for fc"
   ]
  },
  {
   "cell_type": "code",
   "execution_count": 246,
   "id": "40750f26-78ac-4de5-a030-a68368bb2328",
   "metadata": {},
   "outputs": [],
   "source": [
    "epsilon = 1  # Small constant\n",
    "\n",
    "# Create a new column with the logarithmic transformation, handling zero and negative values\n",
    "df1['fc_log'] = np.log(df['fc'] + epsilon)"
   ]
  },
  {
   "cell_type": "code",
   "execution_count": 240,
   "id": "43117c65-8317-4bf1-8e74-dbc01455dd4d",
   "metadata": {},
   "outputs": [
    {
     "data": {
      "text/plain": [
       "0       0.693147\n",
       "1       0.000000\n",
       "2       1.098612\n",
       "3       0.000000\n",
       "4       2.639057\n",
       "          ...   \n",
       "1995    0.000000\n",
       "1996    0.000000\n",
       "1997    0.693147\n",
       "1998    1.609438\n",
       "1999    1.791759\n",
       "Name: fc_log, Length: 2000, dtype: float64"
      ]
     },
     "execution_count": 240,
     "metadata": {},
     "output_type": "execute_result"
    }
   ],
   "source": [
    "df1['fc_log']"
   ]
  },
  {
   "cell_type": "code",
   "execution_count": 248,
   "id": "baf74345-7233-4c14-a7da-36e0123fa8f1",
   "metadata": {},
   "outputs": [],
   "source": [
    "df['fc'] = df1['fc_log']"
   ]
  },
  {
   "cell_type": "code",
   "execution_count": 249,
   "id": "6eecb5bd-d393-4a40-893e-a492757a625d",
   "metadata": {},
   "outputs": [
    {
     "data": {
      "text/html": [
       "<div>\n",
       "<style scoped>\n",
       "    .dataframe tbody tr th:only-of-type {\n",
       "        vertical-align: middle;\n",
       "    }\n",
       "\n",
       "    .dataframe tbody tr th {\n",
       "        vertical-align: top;\n",
       "    }\n",
       "\n",
       "    .dataframe thead th {\n",
       "        text-align: right;\n",
       "    }\n",
       "</style>\n",
       "<table border=\"1\" class=\"dataframe\">\n",
       "  <thead>\n",
       "    <tr style=\"text-align: right;\">\n",
       "      <th></th>\n",
       "      <th>battery_power</th>\n",
       "      <th>blue</th>\n",
       "      <th>clock_speed</th>\n",
       "      <th>dual_sim</th>\n",
       "      <th>fc</th>\n",
       "      <th>four_g</th>\n",
       "      <th>int_memory</th>\n",
       "      <th>m_dep</th>\n",
       "      <th>mobile_wt</th>\n",
       "      <th>n_cores</th>\n",
       "      <th>...</th>\n",
       "      <th>px_height</th>\n",
       "      <th>px_width</th>\n",
       "      <th>ram</th>\n",
       "      <th>sc_h</th>\n",
       "      <th>sc_w</th>\n",
       "      <th>talk_time</th>\n",
       "      <th>three_g</th>\n",
       "      <th>touch_screen</th>\n",
       "      <th>wifi</th>\n",
       "      <th>price_range</th>\n",
       "    </tr>\n",
       "  </thead>\n",
       "  <tbody>\n",
       "    <tr>\n",
       "      <th>0</th>\n",
       "      <td>842</td>\n",
       "      <td>0</td>\n",
       "      <td>2.2</td>\n",
       "      <td>0</td>\n",
       "      <td>0.693147</td>\n",
       "      <td>0</td>\n",
       "      <td>7</td>\n",
       "      <td>0.6</td>\n",
       "      <td>188</td>\n",
       "      <td>2</td>\n",
       "      <td>...</td>\n",
       "      <td>20</td>\n",
       "      <td>756</td>\n",
       "      <td>2549</td>\n",
       "      <td>9</td>\n",
       "      <td>7</td>\n",
       "      <td>19</td>\n",
       "      <td>0</td>\n",
       "      <td>0</td>\n",
       "      <td>1</td>\n",
       "      <td>1</td>\n",
       "    </tr>\n",
       "    <tr>\n",
       "      <th>1</th>\n",
       "      <td>1021</td>\n",
       "      <td>1</td>\n",
       "      <td>0.5</td>\n",
       "      <td>1</td>\n",
       "      <td>0.000000</td>\n",
       "      <td>1</td>\n",
       "      <td>53</td>\n",
       "      <td>0.7</td>\n",
       "      <td>136</td>\n",
       "      <td>3</td>\n",
       "      <td>...</td>\n",
       "      <td>905</td>\n",
       "      <td>1988</td>\n",
       "      <td>2631</td>\n",
       "      <td>17</td>\n",
       "      <td>3</td>\n",
       "      <td>7</td>\n",
       "      <td>1</td>\n",
       "      <td>1</td>\n",
       "      <td>0</td>\n",
       "      <td>2</td>\n",
       "    </tr>\n",
       "    <tr>\n",
       "      <th>2</th>\n",
       "      <td>563</td>\n",
       "      <td>1</td>\n",
       "      <td>0.5</td>\n",
       "      <td>1</td>\n",
       "      <td>1.098612</td>\n",
       "      <td>1</td>\n",
       "      <td>41</td>\n",
       "      <td>0.9</td>\n",
       "      <td>145</td>\n",
       "      <td>5</td>\n",
       "      <td>...</td>\n",
       "      <td>1263</td>\n",
       "      <td>1716</td>\n",
       "      <td>2603</td>\n",
       "      <td>11</td>\n",
       "      <td>2</td>\n",
       "      <td>9</td>\n",
       "      <td>1</td>\n",
       "      <td>1</td>\n",
       "      <td>0</td>\n",
       "      <td>2</td>\n",
       "    </tr>\n",
       "    <tr>\n",
       "      <th>3</th>\n",
       "      <td>615</td>\n",
       "      <td>1</td>\n",
       "      <td>2.5</td>\n",
       "      <td>0</td>\n",
       "      <td>0.000000</td>\n",
       "      <td>0</td>\n",
       "      <td>10</td>\n",
       "      <td>0.8</td>\n",
       "      <td>131</td>\n",
       "      <td>6</td>\n",
       "      <td>...</td>\n",
       "      <td>1216</td>\n",
       "      <td>1786</td>\n",
       "      <td>2769</td>\n",
       "      <td>16</td>\n",
       "      <td>8</td>\n",
       "      <td>11</td>\n",
       "      <td>1</td>\n",
       "      <td>0</td>\n",
       "      <td>0</td>\n",
       "      <td>2</td>\n",
       "    </tr>\n",
       "    <tr>\n",
       "      <th>4</th>\n",
       "      <td>1821</td>\n",
       "      <td>1</td>\n",
       "      <td>1.2</td>\n",
       "      <td>0</td>\n",
       "      <td>2.639057</td>\n",
       "      <td>1</td>\n",
       "      <td>44</td>\n",
       "      <td>0.6</td>\n",
       "      <td>141</td>\n",
       "      <td>2</td>\n",
       "      <td>...</td>\n",
       "      <td>1208</td>\n",
       "      <td>1212</td>\n",
       "      <td>1411</td>\n",
       "      <td>8</td>\n",
       "      <td>2</td>\n",
       "      <td>15</td>\n",
       "      <td>1</td>\n",
       "      <td>1</td>\n",
       "      <td>0</td>\n",
       "      <td>1</td>\n",
       "    </tr>\n",
       "    <tr>\n",
       "      <th>...</th>\n",
       "      <td>...</td>\n",
       "      <td>...</td>\n",
       "      <td>...</td>\n",
       "      <td>...</td>\n",
       "      <td>...</td>\n",
       "      <td>...</td>\n",
       "      <td>...</td>\n",
       "      <td>...</td>\n",
       "      <td>...</td>\n",
       "      <td>...</td>\n",
       "      <td>...</td>\n",
       "      <td>...</td>\n",
       "      <td>...</td>\n",
       "      <td>...</td>\n",
       "      <td>...</td>\n",
       "      <td>...</td>\n",
       "      <td>...</td>\n",
       "      <td>...</td>\n",
       "      <td>...</td>\n",
       "      <td>...</td>\n",
       "      <td>...</td>\n",
       "    </tr>\n",
       "    <tr>\n",
       "      <th>1995</th>\n",
       "      <td>794</td>\n",
       "      <td>1</td>\n",
       "      <td>0.5</td>\n",
       "      <td>1</td>\n",
       "      <td>0.000000</td>\n",
       "      <td>1</td>\n",
       "      <td>2</td>\n",
       "      <td>0.8</td>\n",
       "      <td>106</td>\n",
       "      <td>6</td>\n",
       "      <td>...</td>\n",
       "      <td>1222</td>\n",
       "      <td>1890</td>\n",
       "      <td>668</td>\n",
       "      <td>13</td>\n",
       "      <td>4</td>\n",
       "      <td>19</td>\n",
       "      <td>1</td>\n",
       "      <td>1</td>\n",
       "      <td>0</td>\n",
       "      <td>0</td>\n",
       "    </tr>\n",
       "    <tr>\n",
       "      <th>1996</th>\n",
       "      <td>1965</td>\n",
       "      <td>1</td>\n",
       "      <td>2.6</td>\n",
       "      <td>1</td>\n",
       "      <td>0.000000</td>\n",
       "      <td>0</td>\n",
       "      <td>39</td>\n",
       "      <td>0.2</td>\n",
       "      <td>187</td>\n",
       "      <td>4</td>\n",
       "      <td>...</td>\n",
       "      <td>915</td>\n",
       "      <td>1965</td>\n",
       "      <td>2032</td>\n",
       "      <td>11</td>\n",
       "      <td>10</td>\n",
       "      <td>16</td>\n",
       "      <td>1</td>\n",
       "      <td>1</td>\n",
       "      <td>1</td>\n",
       "      <td>2</td>\n",
       "    </tr>\n",
       "    <tr>\n",
       "      <th>1997</th>\n",
       "      <td>1911</td>\n",
       "      <td>0</td>\n",
       "      <td>0.9</td>\n",
       "      <td>1</td>\n",
       "      <td>0.693147</td>\n",
       "      <td>1</td>\n",
       "      <td>36</td>\n",
       "      <td>0.7</td>\n",
       "      <td>108</td>\n",
       "      <td>8</td>\n",
       "      <td>...</td>\n",
       "      <td>868</td>\n",
       "      <td>1632</td>\n",
       "      <td>3057</td>\n",
       "      <td>9</td>\n",
       "      <td>1</td>\n",
       "      <td>5</td>\n",
       "      <td>1</td>\n",
       "      <td>1</td>\n",
       "      <td>0</td>\n",
       "      <td>3</td>\n",
       "    </tr>\n",
       "    <tr>\n",
       "      <th>1998</th>\n",
       "      <td>1512</td>\n",
       "      <td>0</td>\n",
       "      <td>0.9</td>\n",
       "      <td>0</td>\n",
       "      <td>1.609438</td>\n",
       "      <td>1</td>\n",
       "      <td>46</td>\n",
       "      <td>0.1</td>\n",
       "      <td>145</td>\n",
       "      <td>5</td>\n",
       "      <td>...</td>\n",
       "      <td>336</td>\n",
       "      <td>670</td>\n",
       "      <td>869</td>\n",
       "      <td>18</td>\n",
       "      <td>10</td>\n",
       "      <td>19</td>\n",
       "      <td>1</td>\n",
       "      <td>1</td>\n",
       "      <td>1</td>\n",
       "      <td>0</td>\n",
       "    </tr>\n",
       "    <tr>\n",
       "      <th>1999</th>\n",
       "      <td>510</td>\n",
       "      <td>1</td>\n",
       "      <td>2.0</td>\n",
       "      <td>1</td>\n",
       "      <td>1.791759</td>\n",
       "      <td>1</td>\n",
       "      <td>45</td>\n",
       "      <td>0.9</td>\n",
       "      <td>168</td>\n",
       "      <td>6</td>\n",
       "      <td>...</td>\n",
       "      <td>483</td>\n",
       "      <td>754</td>\n",
       "      <td>3919</td>\n",
       "      <td>19</td>\n",
       "      <td>4</td>\n",
       "      <td>2</td>\n",
       "      <td>1</td>\n",
       "      <td>1</td>\n",
       "      <td>1</td>\n",
       "      <td>3</td>\n",
       "    </tr>\n",
       "  </tbody>\n",
       "</table>\n",
       "<p>2000 rows × 21 columns</p>\n",
       "</div>"
      ],
      "text/plain": [
       "      battery_power  blue  clock_speed  dual_sim        fc  four_g  \\\n",
       "0               842     0          2.2         0  0.693147       0   \n",
       "1              1021     1          0.5         1  0.000000       1   \n",
       "2               563     1          0.5         1  1.098612       1   \n",
       "3               615     1          2.5         0  0.000000       0   \n",
       "4              1821     1          1.2         0  2.639057       1   \n",
       "...             ...   ...          ...       ...       ...     ...   \n",
       "1995            794     1          0.5         1  0.000000       1   \n",
       "1996           1965     1          2.6         1  0.000000       0   \n",
       "1997           1911     0          0.9         1  0.693147       1   \n",
       "1998           1512     0          0.9         0  1.609438       1   \n",
       "1999            510     1          2.0         1  1.791759       1   \n",
       "\n",
       "      int_memory  m_dep  mobile_wt  n_cores  ...  px_height  px_width   ram  \\\n",
       "0              7    0.6        188        2  ...         20       756  2549   \n",
       "1             53    0.7        136        3  ...        905      1988  2631   \n",
       "2             41    0.9        145        5  ...       1263      1716  2603   \n",
       "3             10    0.8        131        6  ...       1216      1786  2769   \n",
       "4             44    0.6        141        2  ...       1208      1212  1411   \n",
       "...          ...    ...        ...      ...  ...        ...       ...   ...   \n",
       "1995           2    0.8        106        6  ...       1222      1890   668   \n",
       "1996          39    0.2        187        4  ...        915      1965  2032   \n",
       "1997          36    0.7        108        8  ...        868      1632  3057   \n",
       "1998          46    0.1        145        5  ...        336       670   869   \n",
       "1999          45    0.9        168        6  ...        483       754  3919   \n",
       "\n",
       "      sc_h  sc_w  talk_time  three_g  touch_screen  wifi  price_range  \n",
       "0        9     7         19        0             0     1            1  \n",
       "1       17     3          7        1             1     0            2  \n",
       "2       11     2          9        1             1     0            2  \n",
       "3       16     8         11        1             0     0            2  \n",
       "4        8     2         15        1             1     0            1  \n",
       "...    ...   ...        ...      ...           ...   ...          ...  \n",
       "1995    13     4         19        1             1     0            0  \n",
       "1996    11    10         16        1             1     1            2  \n",
       "1997     9     1          5        1             1     0            3  \n",
       "1998    18    10         19        1             1     1            0  \n",
       "1999    19     4          2        1             1     1            3  \n",
       "\n",
       "[2000 rows x 21 columns]"
      ]
     },
     "execution_count": 249,
     "metadata": {},
     "output_type": "execute_result"
    }
   ],
   "source": [
    "df"
   ]
  },
  {
   "cell_type": "code",
   "execution_count": 170,
   "id": "1085fd9f-15da-48c5-bcdc-7260ecb9c4b9",
   "metadata": {},
   "outputs": [],
   "source": [
    "df.rename(columns={'fc': 'fc_log'}, inplace=True)"
   ]
  },
  {
   "cell_type": "code",
   "execution_count": 245,
   "id": "6a954b34-bc0f-4d77-b70d-4828e59c4069",
   "metadata": {},
   "outputs": [
    {
     "data": {
      "text/html": [
       "<div>\n",
       "<style scoped>\n",
       "    .dataframe tbody tr th:only-of-type {\n",
       "        vertical-align: middle;\n",
       "    }\n",
       "\n",
       "    .dataframe tbody tr th {\n",
       "        vertical-align: top;\n",
       "    }\n",
       "\n",
       "    .dataframe thead th {\n",
       "        text-align: right;\n",
       "    }\n",
       "</style>\n",
       "<table border=\"1\" class=\"dataframe\">\n",
       "  <thead>\n",
       "    <tr style=\"text-align: right;\">\n",
       "      <th></th>\n",
       "      <th>battery_power</th>\n",
       "      <th>blue</th>\n",
       "      <th>clock_speed</th>\n",
       "      <th>dual_sim</th>\n",
       "      <th>fc</th>\n",
       "      <th>four_g</th>\n",
       "      <th>int_memory</th>\n",
       "      <th>m_dep</th>\n",
       "      <th>mobile_wt</th>\n",
       "      <th>n_cores</th>\n",
       "      <th>...</th>\n",
       "      <th>px_height</th>\n",
       "      <th>px_width</th>\n",
       "      <th>ram</th>\n",
       "      <th>sc_h</th>\n",
       "      <th>sc_w</th>\n",
       "      <th>talk_time</th>\n",
       "      <th>three_g</th>\n",
       "      <th>touch_screen</th>\n",
       "      <th>wifi</th>\n",
       "      <th>price_range</th>\n",
       "    </tr>\n",
       "  </thead>\n",
       "  <tbody>\n",
       "    <tr>\n",
       "      <th>0</th>\n",
       "      <td>842</td>\n",
       "      <td>0</td>\n",
       "      <td>2.2</td>\n",
       "      <td>0</td>\n",
       "      <td>1</td>\n",
       "      <td>0</td>\n",
       "      <td>7</td>\n",
       "      <td>0.6</td>\n",
       "      <td>188</td>\n",
       "      <td>2</td>\n",
       "      <td>...</td>\n",
       "      <td>20</td>\n",
       "      <td>756</td>\n",
       "      <td>2549</td>\n",
       "      <td>9</td>\n",
       "      <td>7</td>\n",
       "      <td>19</td>\n",
       "      <td>0</td>\n",
       "      <td>0</td>\n",
       "      <td>1</td>\n",
       "      <td>1</td>\n",
       "    </tr>\n",
       "    <tr>\n",
       "      <th>1</th>\n",
       "      <td>1021</td>\n",
       "      <td>1</td>\n",
       "      <td>0.5</td>\n",
       "      <td>1</td>\n",
       "      <td>0</td>\n",
       "      <td>1</td>\n",
       "      <td>53</td>\n",
       "      <td>0.7</td>\n",
       "      <td>136</td>\n",
       "      <td>3</td>\n",
       "      <td>...</td>\n",
       "      <td>905</td>\n",
       "      <td>1988</td>\n",
       "      <td>2631</td>\n",
       "      <td>17</td>\n",
       "      <td>3</td>\n",
       "      <td>7</td>\n",
       "      <td>1</td>\n",
       "      <td>1</td>\n",
       "      <td>0</td>\n",
       "      <td>2</td>\n",
       "    </tr>\n",
       "    <tr>\n",
       "      <th>2</th>\n",
       "      <td>563</td>\n",
       "      <td>1</td>\n",
       "      <td>0.5</td>\n",
       "      <td>1</td>\n",
       "      <td>2</td>\n",
       "      <td>1</td>\n",
       "      <td>41</td>\n",
       "      <td>0.9</td>\n",
       "      <td>145</td>\n",
       "      <td>5</td>\n",
       "      <td>...</td>\n",
       "      <td>1263</td>\n",
       "      <td>1716</td>\n",
       "      <td>2603</td>\n",
       "      <td>11</td>\n",
       "      <td>2</td>\n",
       "      <td>9</td>\n",
       "      <td>1</td>\n",
       "      <td>1</td>\n",
       "      <td>0</td>\n",
       "      <td>2</td>\n",
       "    </tr>\n",
       "    <tr>\n",
       "      <th>3</th>\n",
       "      <td>615</td>\n",
       "      <td>1</td>\n",
       "      <td>2.5</td>\n",
       "      <td>0</td>\n",
       "      <td>0</td>\n",
       "      <td>0</td>\n",
       "      <td>10</td>\n",
       "      <td>0.8</td>\n",
       "      <td>131</td>\n",
       "      <td>6</td>\n",
       "      <td>...</td>\n",
       "      <td>1216</td>\n",
       "      <td>1786</td>\n",
       "      <td>2769</td>\n",
       "      <td>16</td>\n",
       "      <td>8</td>\n",
       "      <td>11</td>\n",
       "      <td>1</td>\n",
       "      <td>0</td>\n",
       "      <td>0</td>\n",
       "      <td>2</td>\n",
       "    </tr>\n",
       "    <tr>\n",
       "      <th>4</th>\n",
       "      <td>1821</td>\n",
       "      <td>1</td>\n",
       "      <td>1.2</td>\n",
       "      <td>0</td>\n",
       "      <td>13</td>\n",
       "      <td>1</td>\n",
       "      <td>44</td>\n",
       "      <td>0.6</td>\n",
       "      <td>141</td>\n",
       "      <td>2</td>\n",
       "      <td>...</td>\n",
       "      <td>1208</td>\n",
       "      <td>1212</td>\n",
       "      <td>1411</td>\n",
       "      <td>8</td>\n",
       "      <td>2</td>\n",
       "      <td>15</td>\n",
       "      <td>1</td>\n",
       "      <td>1</td>\n",
       "      <td>0</td>\n",
       "      <td>1</td>\n",
       "    </tr>\n",
       "    <tr>\n",
       "      <th>...</th>\n",
       "      <td>...</td>\n",
       "      <td>...</td>\n",
       "      <td>...</td>\n",
       "      <td>...</td>\n",
       "      <td>...</td>\n",
       "      <td>...</td>\n",
       "      <td>...</td>\n",
       "      <td>...</td>\n",
       "      <td>...</td>\n",
       "      <td>...</td>\n",
       "      <td>...</td>\n",
       "      <td>...</td>\n",
       "      <td>...</td>\n",
       "      <td>...</td>\n",
       "      <td>...</td>\n",
       "      <td>...</td>\n",
       "      <td>...</td>\n",
       "      <td>...</td>\n",
       "      <td>...</td>\n",
       "      <td>...</td>\n",
       "      <td>...</td>\n",
       "    </tr>\n",
       "    <tr>\n",
       "      <th>1995</th>\n",
       "      <td>794</td>\n",
       "      <td>1</td>\n",
       "      <td>0.5</td>\n",
       "      <td>1</td>\n",
       "      <td>0</td>\n",
       "      <td>1</td>\n",
       "      <td>2</td>\n",
       "      <td>0.8</td>\n",
       "      <td>106</td>\n",
       "      <td>6</td>\n",
       "      <td>...</td>\n",
       "      <td>1222</td>\n",
       "      <td>1890</td>\n",
       "      <td>668</td>\n",
       "      <td>13</td>\n",
       "      <td>4</td>\n",
       "      <td>19</td>\n",
       "      <td>1</td>\n",
       "      <td>1</td>\n",
       "      <td>0</td>\n",
       "      <td>0</td>\n",
       "    </tr>\n",
       "    <tr>\n",
       "      <th>1996</th>\n",
       "      <td>1965</td>\n",
       "      <td>1</td>\n",
       "      <td>2.6</td>\n",
       "      <td>1</td>\n",
       "      <td>0</td>\n",
       "      <td>0</td>\n",
       "      <td>39</td>\n",
       "      <td>0.2</td>\n",
       "      <td>187</td>\n",
       "      <td>4</td>\n",
       "      <td>...</td>\n",
       "      <td>915</td>\n",
       "      <td>1965</td>\n",
       "      <td>2032</td>\n",
       "      <td>11</td>\n",
       "      <td>10</td>\n",
       "      <td>16</td>\n",
       "      <td>1</td>\n",
       "      <td>1</td>\n",
       "      <td>1</td>\n",
       "      <td>2</td>\n",
       "    </tr>\n",
       "    <tr>\n",
       "      <th>1997</th>\n",
       "      <td>1911</td>\n",
       "      <td>0</td>\n",
       "      <td>0.9</td>\n",
       "      <td>1</td>\n",
       "      <td>1</td>\n",
       "      <td>1</td>\n",
       "      <td>36</td>\n",
       "      <td>0.7</td>\n",
       "      <td>108</td>\n",
       "      <td>8</td>\n",
       "      <td>...</td>\n",
       "      <td>868</td>\n",
       "      <td>1632</td>\n",
       "      <td>3057</td>\n",
       "      <td>9</td>\n",
       "      <td>1</td>\n",
       "      <td>5</td>\n",
       "      <td>1</td>\n",
       "      <td>1</td>\n",
       "      <td>0</td>\n",
       "      <td>3</td>\n",
       "    </tr>\n",
       "    <tr>\n",
       "      <th>1998</th>\n",
       "      <td>1512</td>\n",
       "      <td>0</td>\n",
       "      <td>0.9</td>\n",
       "      <td>0</td>\n",
       "      <td>4</td>\n",
       "      <td>1</td>\n",
       "      <td>46</td>\n",
       "      <td>0.1</td>\n",
       "      <td>145</td>\n",
       "      <td>5</td>\n",
       "      <td>...</td>\n",
       "      <td>336</td>\n",
       "      <td>670</td>\n",
       "      <td>869</td>\n",
       "      <td>18</td>\n",
       "      <td>10</td>\n",
       "      <td>19</td>\n",
       "      <td>1</td>\n",
       "      <td>1</td>\n",
       "      <td>1</td>\n",
       "      <td>0</td>\n",
       "    </tr>\n",
       "    <tr>\n",
       "      <th>1999</th>\n",
       "      <td>510</td>\n",
       "      <td>1</td>\n",
       "      <td>2.0</td>\n",
       "      <td>1</td>\n",
       "      <td>5</td>\n",
       "      <td>1</td>\n",
       "      <td>45</td>\n",
       "      <td>0.9</td>\n",
       "      <td>168</td>\n",
       "      <td>6</td>\n",
       "      <td>...</td>\n",
       "      <td>483</td>\n",
       "      <td>754</td>\n",
       "      <td>3919</td>\n",
       "      <td>19</td>\n",
       "      <td>4</td>\n",
       "      <td>2</td>\n",
       "      <td>1</td>\n",
       "      <td>1</td>\n",
       "      <td>1</td>\n",
       "      <td>3</td>\n",
       "    </tr>\n",
       "  </tbody>\n",
       "</table>\n",
       "<p>2000 rows × 21 columns</p>\n",
       "</div>"
      ],
      "text/plain": [
       "      battery_power  blue  clock_speed  dual_sim  fc  four_g  int_memory  \\\n",
       "0               842     0          2.2         0   1       0           7   \n",
       "1              1021     1          0.5         1   0       1          53   \n",
       "2               563     1          0.5         1   2       1          41   \n",
       "3               615     1          2.5         0   0       0          10   \n",
       "4              1821     1          1.2         0  13       1          44   \n",
       "...             ...   ...          ...       ...  ..     ...         ...   \n",
       "1995            794     1          0.5         1   0       1           2   \n",
       "1996           1965     1          2.6         1   0       0          39   \n",
       "1997           1911     0          0.9         1   1       1          36   \n",
       "1998           1512     0          0.9         0   4       1          46   \n",
       "1999            510     1          2.0         1   5       1          45   \n",
       "\n",
       "      m_dep  mobile_wt  n_cores  ...  px_height  px_width   ram  sc_h  sc_w  \\\n",
       "0       0.6        188        2  ...         20       756  2549     9     7   \n",
       "1       0.7        136        3  ...        905      1988  2631    17     3   \n",
       "2       0.9        145        5  ...       1263      1716  2603    11     2   \n",
       "3       0.8        131        6  ...       1216      1786  2769    16     8   \n",
       "4       0.6        141        2  ...       1208      1212  1411     8     2   \n",
       "...     ...        ...      ...  ...        ...       ...   ...   ...   ...   \n",
       "1995    0.8        106        6  ...       1222      1890   668    13     4   \n",
       "1996    0.2        187        4  ...        915      1965  2032    11    10   \n",
       "1997    0.7        108        8  ...        868      1632  3057     9     1   \n",
       "1998    0.1        145        5  ...        336       670   869    18    10   \n",
       "1999    0.9        168        6  ...        483       754  3919    19     4   \n",
       "\n",
       "      talk_time  three_g  touch_screen  wifi  price_range  \n",
       "0            19        0             0     1            1  \n",
       "1             7        1             1     0            2  \n",
       "2             9        1             1     0            2  \n",
       "3            11        1             0     0            2  \n",
       "4            15        1             1     0            1  \n",
       "...         ...      ...           ...   ...          ...  \n",
       "1995         19        1             1     0            0  \n",
       "1996         16        1             1     1            2  \n",
       "1997          5        1             1     0            3  \n",
       "1998         19        1             1     1            0  \n",
       "1999          2        1             1     1            3  \n",
       "\n",
       "[2000 rows x 21 columns]"
      ]
     },
     "execution_count": 245,
     "metadata": {},
     "output_type": "execute_result"
    }
   ],
   "source": [
    "df"
   ]
  },
  {
   "cell_type": "code",
   "execution_count": 197,
   "id": "fb896ab3-f650-4f7b-b51c-1e77a430dc52",
   "metadata": {},
   "outputs": [],
   "source": [
    "test=pd.read_csv('/Users/ptsaravanan/Documents/DATA SCIENCE/Project/Mentorness Project/Mobile Price Classification/test.csv')"
   ]
  },
  {
   "cell_type": "code",
   "execution_count": 279,
   "id": "2c5b3430-5190-49cd-97e6-fc85ded47c44",
   "metadata": {},
   "outputs": [
    {
     "name": "stdout",
     "output_type": "stream",
     "text": [
      "Train Accuracy: 1.0\n",
      "Train F1-Score (Weighted): 1.0\n",
      "Test Accuracy: 0.8725\n",
      "Test F1-Score (Weighted): 0.8731270211523707\n",
      "Confusion Matrix:\n",
      " [[101   4   0   0]\n",
      " [  6  77   8   0]\n",
      " [  0   8  75   9]\n",
      " [  0   0  16  96]]\n",
      "Classification Report:\n",
      "               precision    recall  f1-score   support\n",
      "\n",
      "           0       0.94      0.96      0.95       105\n",
      "           1       0.87      0.85      0.86        91\n",
      "           2       0.76      0.82      0.79        92\n",
      "           3       0.91      0.86      0.88       112\n",
      "\n",
      "    accuracy                           0.87       400\n",
      "   macro avg       0.87      0.87      0.87       400\n",
      "weighted avg       0.87      0.87      0.87       400\n",
      "\n"
     ]
    }
   ],
   "source": [
    "from sklearn.model_selection import train_test_split\n",
    "from sklearn.ensemble import RandomForestClassifier\n",
    "from sklearn.metrics import accuracy_score, confusion_matrix, classification_report, f1_score\n",
    "\n",
    "# Assume your target variable is 'price_range'\n",
    "X = df.drop(['px_height', 'sc_w', 'three_g', 'price_range'], axis=1)  # Features\n",
    "y = df['price_range']  # Target (class labels)\n",
    "\n",
    "# Split data into training and testing sets (80% training, 20% testing)\n",
    "X_train, X_test, y_train, y_test = train_test_split(X, y, test_size=0.2, random_state=42)\n",
    "\n",
    "# Initialize a Random Forest classifier with 500 trees\n",
    "rf_classifier = RandomForestClassifier(n_estimators=500, random_state=42)\n",
    "\n",
    "# Train the Random Forest model on the training data\n",
    "rf_classifier.fit(X_train, y_train)\n",
    "\n",
    "# Predict on the training set to evaluate training accuracy\n",
    "y_train_pred = rf_classifier.predict(X_train)\n",
    "train_accuracy = accuracy_score(y_train, y_train_pred)\n",
    "\n",
    "# Compute F1-score for the training set\n",
    "train_f1 = f1_score(y_train, y_train_pred, average=\"weighted\")\n",
    "\n",
    "# Predict on the test set to evaluate test accuracy\n",
    "y_test_pred = rf_classifier.predict(X_test)\n",
    "test_accuracy = accuracy_score(y_test, y_test_pred)\n",
    "\n",
    "# Compute F1-score for the test set\n",
    "test_f1 = f1_score(y_test, y_test_pred, average=\"weighted\")\n",
    "\n",
    "# Additional metrics\n",
    "conf_matrix = confusion_matrix(y_test, y_test_pred)  # Confusion matrix\n",
    "class_report = classification_report(y_test, y_test_pred)  # Precision, recall, F1-score\n",
    "\n",
    "# Output results\n",
    "print(\"Train Accuracy:\", train_accuracy)  # Train accuracy of the model\n",
    "print(\"Train F1-Score (Weighted):\", train_f1)  # Train F1-score with weighted average\n",
    "print(\"Test Accuracy:\", test_accuracy)  # Test accuracy of the model\n",
    "print(\"Test F1-Score (Weighted):\", test_f1)  # Test F1-score with weighted average\n",
    "print(\"Confusion Matrix:\\n\", conf_matrix)  # Display confusion matrix\n",
    "print(\"Classification Report:\\n\", class_report)  # Detailed report of metrics\n"
   ]
  },
  {
   "cell_type": "code",
   "execution_count": 278,
   "id": "9952753a-398b-46d9-93ba-b1fc6c5815cf",
   "metadata": {},
   "outputs": [
    {
     "name": "stdout",
     "output_type": "stream",
     "text": [
      "Train Accuracy: 0.69625\n",
      "Train F1-Score (Weighted): 0.6964184537860482\n",
      "Test Accuracy: 0.6975\n",
      "Test F1-Score (Weighted): 0.6992203516207838\n",
      "Confusion Matrix:\n",
      " [[86 19  0  0]\n",
      " [11 59 17  4]\n",
      " [ 0 20 48 24]\n",
      " [ 0  1 25 86]]\n",
      "Classification Report:\n",
      "               precision    recall  f1-score   support\n",
      "\n",
      "           0       0.89      0.82      0.85       105\n",
      "           1       0.60      0.65      0.62        91\n",
      "           2       0.53      0.52      0.53        92\n",
      "           3       0.75      0.77      0.76       112\n",
      "\n",
      "    accuracy                           0.70       400\n",
      "   macro avg       0.69      0.69      0.69       400\n",
      "weighted avg       0.70      0.70      0.70       400\n",
      "\n"
     ]
    },
    {
     "name": "stderr",
     "output_type": "stream",
     "text": [
      "/Users/ptsaravanan/anaconda3/lib/python3.11/site-packages/sklearn/linear_model/_logistic.py:460: ConvergenceWarning:\n",
      "\n",
      "lbfgs failed to converge (status=1):\n",
      "STOP: TOTAL NO. of ITERATIONS REACHED LIMIT.\n",
      "\n",
      "Increase the number of iterations (max_iter) or scale the data as shown in:\n",
      "    https://scikit-learn.org/stable/modules/preprocessing.html\n",
      "Please also refer to the documentation for alternative solver options:\n",
      "    https://scikit-learn.org/stable/modules/linear_model.html#logistic-regression\n",
      "\n"
     ]
    }
   ],
   "source": [
    "from sklearn.linear_model import LogisticRegression\n",
    "\n",
    "# Assume your target variable is 'price_range'\n",
    "X = df.drop(['px_height', 'sc_w', 'three_g', 'price_range'], axis=1)  # Features\n",
    "y = df['price_range']  # Target (class labels)\n",
    "\n",
    "# Split data into training and testing sets (80% training, 20% testing)\n",
    "X_train, X_test, y_train, y_test = train_test_split(X, y, test_size=0.2, random_state=42)\n",
    "\n",
    "# Initialize Logistic Regression with default parameters\n",
    "log_reg = LogisticRegression(random_state=42, max_iter=1000)  # Increase max_iter for convergence\n",
    "\n",
    "# Train the Logistic Regression model on the training data\n",
    "log_reg.fit(X_train, y_train)\n",
    "\n",
    "# Get predictions on the training set\n",
    "y_train_pred = log_reg.predict(X_train)\n",
    "train_accuracy = accuracy_score(y_train, y_train_pred)\n",
    "\n",
    "# Compute the F1-score for the training set\n",
    "train_f1 = f1_score(y_train, y_train_pred, average=\"weighted\")\n",
    "\n",
    "# Predict on the test set to get test accuracy\n",
    "y_test_pred = log_reg.predict(X_test)\n",
    "test_accuracy = accuracy_score(y_test, y_test_pred)\n",
    "\n",
    "# Compute the F1-score for the test set\n",
    "test_f1 = f1_score(y_test, y_test_pred, average=\"weighted\")\n",
    "\n",
    "# Additional metrics\n",
    "conf_matrix = confusion_matrix(y_test, y_test_pred)  # Confusion matrix\n",
    "class_report = classification_report(y_test, y_test_pred)  # Precision, recall, F1-score\n",
    "\n",
    "# Output results\n",
    "print(\"Train Accuracy:\", train_accuracy)  # Train accuracy of the model\n",
    "print(\"Train F1-Score (Weighted):\", train_f1)  # Train F1-score with weighted average\n",
    "print(\"Test Accuracy:\", test_accuracy)  # Test accuracy of the model\n",
    "print(\"Test F1-Score (Weighted):\", test_f1)  # Test F1-score with weighted average\n",
    "print(\"Confusion Matrix:\\n\", conf_matrix)  # Display confusion matrix\n",
    "print(\"Classification Report:\\n\", class_report)  # Detailed report of metrics\n"
   ]
  },
  {
   "cell_type": "code",
   "execution_count": 277,
   "id": "faf14f4c-10da-42e0-a790-4670ed6f176e",
   "metadata": {},
   "outputs": [
    {
     "name": "stdout",
     "output_type": "stream",
     "text": [
      "Train Accuracy: 1.0\n",
      "Train F1-Score (Weighted): 1.0\n",
      "Test Accuracy: 0.82\n",
      "Test F1-Score (Weighted): 0.8214177410604685\n",
      "Confusion Matrix:\n",
      " [[96  9  0  0]\n",
      " [ 6 71 14  0]\n",
      " [ 0 15 65 12]\n",
      " [ 0  0 16 96]]\n",
      "Classification Report:\n",
      "               precision    recall  f1-score   support\n",
      "\n",
      "           0       0.94      0.91      0.93       105\n",
      "           1       0.75      0.78      0.76        91\n",
      "           2       0.68      0.71      0.70        92\n",
      "           3       0.89      0.86      0.87       112\n",
      "\n",
      "    accuracy                           0.82       400\n",
      "   macro avg       0.82      0.81      0.81       400\n",
      "weighted avg       0.82      0.82      0.82       400\n",
      "\n"
     ]
    }
   ],
   "source": [
    "from sklearn.tree import DecisionTreeClassifier\n",
    "\n",
    "# Assuming your target variable is 'price_range'\n",
    "X = df.drop(['px_height', 'sc_w', 'three_g', 'price_range'], axis=1)  # Features\n",
    "y = df['price_range']  # Target (class labels)\n",
    "\n",
    "# Split data into training and testing sets (80% training, 20% testing)\n",
    "X_train, X_test, y_train, y_test = train_test_split(X, y, test_size=0.2, random_state=42)\n",
    "\n",
    "# Initialize Decision Tree classifier with default parameters\n",
    "tree_classifier = DecisionTreeClassifier(random_state=42)\n",
    "\n",
    "# Train the Decision Tree model on the training data\n",
    "tree_classifier.fit(X_train, y_train)\n",
    "\n",
    "# Get predictions on the training set\n",
    "y_train_pred = tree_classifier.predict(X_train)\n",
    "train_accuracy = accuracy_score(y_train, y_train_pred)\n",
    "\n",
    "# Compute the F1-score for the training set\n",
    "train_f1 = f1_score(y_train, y_train_pred, average=\"weighted\")\n",
    "\n",
    "# Predict on the test set to get test accuracy\n",
    "y_test_pred = tree_classifier.predict(X_test)\n",
    "test_accuracy = accuracy_score(y_test, y_test_pred)\n",
    "\n",
    "# Compute the F1-score for the test set\n",
    "test_f1 = f1_score(y_test, y_test_pred, average=\"weighted\")\n",
    "\n",
    "# Additional metrics\n",
    "conf_matrix = confusion_matrix(y_test, y_test_pred)  # Confusion matrix\n",
    "class_report = classification_report(y_test, y_test_pred)  # Precision, recall, F1-score\n",
    "\n",
    "# Output results\n",
    "print(\"Train Accuracy:\", train_accuracy)\n",
    "print(\"Train F1-Score (Weighted):\", train_f1)\n",
    "print(\"Test Accuracy:\", test_accuracy)\n",
    "print(\"Test F1-Score (Weighted):\", test_f1)\n",
    "print(\"Confusion Matrix:\\n\", conf_matrix)\n",
    "print(\"Classification Report:\\n\", class_report)  # Detailed report of metrics\n"
   ]
  },
  {
   "cell_type": "code",
   "execution_count": 276,
   "id": "cb46d8e3-61ef-40c8-98ba-8785b551421f",
   "metadata": {},
   "outputs": [
    {
     "name": "stdout",
     "output_type": "stream",
     "text": [
      "0:\tlearn: 1.2550150\ttotal: 5.48ms\tremaining: 2.73s\n",
      "100:\tlearn: 0.2040817\ttotal: 129ms\tremaining: 508ms\n",
      "200:\tlearn: 0.1255924\ttotal: 247ms\tremaining: 367ms\n",
      "300:\tlearn: 0.0865248\ttotal: 361ms\tremaining: 238ms\n",
      "400:\tlearn: 0.0628945\ttotal: 481ms\tremaining: 119ms\n",
      "499:\tlearn: 0.0485211\ttotal: 597ms\tremaining: 0us\n",
      "Train Accuracy: 1.0\n",
      "Train F1-Score (Weighted): 1.0\n",
      "Test Accuracy: 0.8875\n",
      "Test F1-Score (Weighted): 0.8884867818092259\n",
      "Confusion Matrix:\n",
      " [[100   5   0   0]\n",
      " [  3  82   6   0]\n",
      " [  0   8  77   7]\n",
      " [  0   0  16  96]]\n",
      "Classification Report:\n",
      "               precision    recall  f1-score   support\n",
      "\n",
      "           0       0.97      0.95      0.96       105\n",
      "           1       0.86      0.90      0.88        91\n",
      "           2       0.78      0.84      0.81        92\n",
      "           3       0.93      0.86      0.89       112\n",
      "\n",
      "    accuracy                           0.89       400\n",
      "   macro avg       0.89      0.89      0.89       400\n",
      "weighted avg       0.89      0.89      0.89       400\n",
      "\n"
     ]
    }
   ],
   "source": [
    "\n",
    "from catboost import CatBoostClassifier\n",
    "\n",
    "# Assuming df is your DataFrame and 'price_range' is the target variable\n",
    "X = df.drop(['px_height', 'sc_w', 'three_g', 'price_range'], axis=1)  # Features\n",
    "y = df['price_range']  # Target variable\n",
    "\n",
    "# Splitting data into training and testing sets\n",
    "X_train, X_test, y_train, y_test = train_test_split(X, y, test_size=0.2, random_state=42)\n",
    "\n",
    "# Initialize CatBoost classifier with specified parameters\n",
    "catboost_classifier = CatBoostClassifier(\n",
    "    iterations=500,  # Number of boosting iterations\n",
    "    learning_rate=0.1,  # Learning rate for CatBoost\n",
    "    depth=6,  # Maximum depth of trees\n",
    "    random_seed=42,  # For reproducibility\n",
    "    verbose=100  # Display progress every 100 iterations\n",
    ")\n",
    "\n",
    "# Train the CatBoost model on the training data\n",
    "catboost_classifier.fit(X_train, y_train)\n",
    "\n",
    "# Get predictions for the training set\n",
    "y_train_pred = catboost_classifier.predict(X_train)\n",
    "train_accuracy = accuracy_score(y_train, y_train_pred)\n",
    "\n",
    "# Compute the F1-score for the training set\n",
    "train_f1 = f1_score(y_train, y_train_pred, average=\"weighted\")\n",
    "\n",
    "# Predict on the test set\n",
    "y_test_pred = catboost_classifier.predict(X_test)\n",
    "test_accuracy = accuracy_score(y_test, y_test_pred)\n",
    "\n",
    "# Compute the F1-score for the test set\n",
    "test_f1 = f1_score(y_test, y_test_pred, average=\"weighted\")\n",
    "\n",
    "# Evaluate model performance with additional metrics\n",
    "conf_matrix = confusion_matrix(y_test, y_test_pred)\n",
    "class_report = classification_report(y_test, y_test_pred)\n",
    "\n",
    "# Output results\n",
    "print(\"Train Accuracy:\", train_accuracy)\n",
    "print(\"Train F1-Score (Weighted):\", train_f1)\n",
    "print(\"Test Accuracy:\", test_accuracy)\n",
    "print(\"Test F1-Score (Weighted):\", test_f1)\n",
    "print(\"Confusion Matrix:\\n\", conf_matrix)\n",
    "print(\"Classification Report:\\n\", class_report)\n"
   ]
  },
  {
   "cell_type": "code",
   "execution_count": 275,
   "id": "75637644-2b22-47ae-8fd3-ff04518ff55c",
   "metadata": {},
   "outputs": [
    {
     "name": "stdout",
     "output_type": "stream",
     "text": [
      "Train Accuracy: 1.0\n",
      "Train F1-Score (Weighted): 1.0\n",
      "Test Accuracy: 0.8875\n",
      "Test F1-Score (Weighted): 0.8874798979133689\n",
      "Confusion Matrix:\n",
      " [[99  6  0  0]\n",
      " [ 4 85  2  0]\n",
      " [ 0  8 74 10]\n",
      " [ 0  0 15 97]]\n",
      "Classification Report:\n",
      "               precision    recall  f1-score   support\n",
      "\n",
      "           0       0.96      0.94      0.95       105\n",
      "           1       0.86      0.93      0.89        91\n",
      "           2       0.81      0.80      0.81        92\n",
      "           3       0.91      0.87      0.89       112\n",
      "\n",
      "    accuracy                           0.89       400\n",
      "   macro avg       0.88      0.89      0.89       400\n",
      "weighted avg       0.89      0.89      0.89       400\n",
      "\n"
     ]
    }
   ],
   "source": [
    "import xgboost as xgb\n",
    "\n",
    "# Assuming 'df' is your DataFrame and 'price_range' is your target variable\n",
    "X = df.drop(['px_height', 'sc_w', 'three_g', 'price_range'], axis=1)  # Features\n",
    "y = df['price_range']  # Target variable\n",
    "\n",
    "# Split data into training and testing sets (80% training, 20% testing)\n",
    "X_train, X_test, y_train, y_test = train_test_split(X, y, test_size=0.2, random_state=42)\n",
    "\n",
    "# Initialize an XGBoost classifier\n",
    "xgb_classifier = xgb.XGBClassifier(\n",
    "    n_estimators=100,  # Number of boosting rounds\n",
    "    max_depth=6,  # Maximum depth of trees\n",
    "    learning_rate=0.1,  # Learning rate\n",
    "    random_state=42  # For reproducibility\n",
    ")\n",
    "\n",
    "# Train the XGBoost model on the training data\n",
    "xgb_classifier.fit(X_train, y_train)\n",
    "\n",
    "# Get predictions for the training set\n",
    "y_train_pred = xgb_classifier.predict(X_train)\n",
    "train_accuracy = accuracy_score(y_train, y_train_pred)\n",
    "\n",
    "# Compute F1-score for the training set\n",
    "train_f1_score = f1_score(y_train, y_train_pred, average=\"weighted\")\n",
    "\n",
    "# Predict on the test set to get test accuracy and F1-score\n",
    "y_test_pred = xgb_classifier.predict(X_test)\n",
    "test_accuracy = accuracy_score(y_test, y_test_pred)\n",
    "\n",
    "# Compute F1-score for the test set\n",
    "test_f1_score = f1_score(y_test, y_test_pred, average=\"weighted\")\n",
    "\n",
    "# Additional evaluation metrics\n",
    "conf_matrix = confusion_matrix(y_test, y_test_pred)\n",
    "class_report = classification_report(y_test, y_test_pred)\n",
    "\n",
    "# Output results\n",
    "print(\"Train Accuracy:\", train_accuracy)  # Accuracy on training data\n",
    "print(\"Train F1-Score (Weighted):\", train_f1_score)\n",
    "print(\"Test Accuracy:\", test_accuracy)  # Accuracy on test data\n",
    "print(\"Test F1-Score (Weighted):\", test_f1_score)\n",
    "print(\"Confusion Matrix:\\n\", conf_matrix)  # Display confusion matrix\n",
    "print(\"Classification Report:\\n\", class_report)  # Detailed report of metrics\n"
   ]
  },
  {
   "cell_type": "code",
   "execution_count": 274,
   "id": "5cfd2147-959f-4365-b325-fcf5608f5406",
   "metadata": {},
   "outputs": [
    {
     "name": "stdout",
     "output_type": "stream",
     "text": [
      "Train Accuracy: 0.990625\n",
      "Train F1-Score (Weighted): 0.9906255098079542\n",
      "Test Accuracy: 0.88\n",
      "Test F1-Score (Weighted): 0.8810347812039092\n",
      "Confusion Matrix:\n",
      " [[99  6  0  0]\n",
      " [ 3 81  7  0]\n",
      " [ 0  9 75  8]\n",
      " [ 0  0 15 97]]\n",
      "Classification Report:\n",
      "               precision    recall  f1-score   support\n",
      "\n",
      "           0       0.97      0.94      0.96       105\n",
      "           1       0.84      0.89      0.87        91\n",
      "           2       0.77      0.82      0.79        92\n",
      "           3       0.92      0.87      0.89       112\n",
      "\n",
      "    accuracy                           0.88       400\n",
      "   macro avg       0.88      0.88      0.88       400\n",
      "weighted avg       0.88      0.88      0.88       400\n",
      "\n"
     ]
    }
   ],
   "source": [
    "from sklearn.ensemble import GradientBoostingClassifier\n",
    "\n",
    "\n",
    "# Assuming 'df' is your DataFrame and 'price_range' is your target variable\n",
    "X = df.drop(['px_height', 'sc_w', 'three_g', 'price_range'], axis=1)  # Features\n",
    "y = df['price_range']  # Target variable\n",
    "\n",
    "# Split data into training and testing sets (80% training, 20% testing)\n",
    "X_train, X_test, y_train, y_test = train_test_split(X, y, test_size=0.2, random_state=42)\n",
    "\n",
    "# Initialize a Gradient Boosting classifier\n",
    "gb_classifier = GradientBoostingClassifier(\n",
    "    n_estimators=100,\n",
    "    learning_rate=0.1,\n",
    "    max_depth=3,\n",
    "    random_state=42,\n",
    ")\n",
    "\n",
    "# Train the Gradient Boosting model on the training data\n",
    "gb_classifier.fit(X_train, y_train)\n",
    "\n",
    "# Get predictions for the training set\n",
    "y_train_pred = gb_classifier.predict(X_train)\n",
    "train_accuracy = accuracy_score(y_train, y_train_pred)\n",
    "\n",
    "# Compute F1-score for the training set\n",
    "train_f1_score = f1_score(y_train, y_train_pred, average=\"weighted\")\n",
    "\n",
    "# Predict on the test set to get test accuracy and F1-score\n",
    "y_test_pred = gb_classifier.predict(X_test)\n",
    "test_accuracy = accuracy_score(y_test, y_test_pred)\n",
    "\n",
    "# Compute F1-score for the test set\n",
    "test_f1_score = f1_score(y_test, y_test_pred, average=\"weighted\")\n",
    "\n",
    "# Additional evaluation metrics\n",
    "conf_matrix = confusion_matrix(y_test, y_test_pred)  # Confusion matrix\n",
    "class_report = classification_report(y_test, y_test_pred)\n",
    "\n",
    "# Output results\n",
    "print(\"Train Accuracy:\", train_accuracy)\n",
    "print(\"Train F1-Score (Weighted):\", train_f1_score)\n",
    "print(\"Test Accuracy:\", test_accuracy)\n",
    "print(\"Test F1-Score (Weighted):\", test_f1_score)\n",
    "print(\"Confusion Matrix:\\n\", conf_matrix)\n",
    "print(\"Classification Report:\\n\", class_report)\n"
   ]
  },
  {
   "cell_type": "code",
   "execution_count": 273,
   "id": "b22f78fc-6459-43be-b9e9-f37922501624",
   "metadata": {},
   "outputs": [
    {
     "name": "stdout",
     "output_type": "stream",
     "text": [
      "Train Accuracy: 0.916875\n",
      "Test Accuracy: 0.905\n",
      "Train F1-Score (Weighted): 0.9169917241302623\n",
      "Test F1-Score (Weighted): 0.905586632885722\n",
      "Confusion Matrix:\n",
      " [[100   5   0   0]\n",
      " [  4  82   5   0]\n",
      " [  0   4  81   7]\n",
      " [  0   0  13  99]]\n",
      "Classification Report:\n",
      "               precision    recall  f1-score   support\n",
      "\n",
      "           0       0.96      0.95      0.96       105\n",
      "           1       0.90      0.90      0.90        91\n",
      "           2       0.82      0.88      0.85        92\n",
      "           3       0.93      0.88      0.91       112\n",
      "\n",
      "    accuracy                           0.91       400\n",
      "   macro avg       0.90      0.90      0.90       400\n",
      "weighted avg       0.91      0.91      0.91       400\n",
      "\n"
     ]
    }
   ],
   "source": [
    "from sklearn.svm import SVC\n",
    "\n",
    "# Prepare data\n",
    "X = df.drop(['px_height', 'sc_w', 'three_g', 'price_range'], axis=1)  # Features\n",
    "y = df['price_range']  # Target variable\n",
    "\n",
    "# Standardize the features\n",
    "scaler = StandardScaler()\n",
    "X_scaled = scaler.fit_transform(X)\n",
    "\n",
    "# Split into training and testing sets\n",
    "X_train, X_test, y_train, y_test = train_test_split(X_scaled, y, test_size=0.2, random_state=42)\n",
    "\n",
    "# Initialize and train the SVC model\n",
    "svc = SVC(kernel='linear', C=1.0, random_state=42)\n",
    "svc.fit(X_train, y_train)\n",
    "\n",
    "# Predictions for training and test sets\n",
    "y_train_pred = svc.predict(X_train)\n",
    "y_test_pred = svc.predict(X_test)\n",
    "\n",
    "# Calculate accuracy\n",
    "train_accuracy = accuracy_score(y_train, y_train_pred)\n",
    "test_accuracy = accuracy_score(y_test, y_test_pred)\n",
    "\n",
    "# Calculate F1-scores for training and test sets\n",
    "train_f1 = f1_score(y_train, y_train_pred, average=\"weighted\")\n",
    "test_f1 = f1_score(y_test, y_test_pred, average=\"weighted\")\n",
    "\n",
    "# Get confusion matrix and classification report for test set\n",
    "conf_matrix = confusion_matrix(y_test, y_test_pred)\n",
    "class_report = classification_report(y_test, y_test_pred)\n",
    "\n",
    "# Output results\n",
    "print(\"Train Accuracy:\", train_accuracy)\n",
    "print(\"Test Accuracy:\", test_accuracy)\n",
    "print(\"Train F1-Score (Weighted):\", train_f1)\n",
    "print(\"Test F1-Score (Weighted):\", test_f1)\n",
    "print(\"Confusion Matrix:\\n\", conf_matrix)\n",
    "print(\"Classification Report:\\n\", class_report)\n"
   ]
  },
  {
   "cell_type": "code",
   "execution_count": 272,
   "id": "d9741c57-31c6-48c0-a626-b91df53b9954",
   "metadata": {},
   "outputs": [
    {
     "name": "stdout",
     "output_type": "stream",
     "text": [
      "Train Accuracy: 0.7275\n",
      "Train F1-Score: 0.7281915461154551\n",
      "Test Accuracy: 0.5025\n",
      "Test F1-Score: 0.5148487099741648\n",
      "Confusion Matrix:\n",
      " [[75 26  4  0]\n",
      " [26 32 30  3]\n",
      " [ 8 37 35 12]\n",
      " [ 0 11 42 59]]\n",
      "Classification Report:\n",
      "               precision    recall  f1-score   support\n",
      "\n",
      "           0       0.69      0.71      0.70       105\n",
      "           1       0.30      0.35      0.32        91\n",
      "           2       0.32      0.38      0.34        92\n",
      "           3       0.80      0.53      0.63       112\n",
      "\n",
      "    accuracy                           0.50       400\n",
      "   macro avg       0.53      0.49      0.50       400\n",
      "weighted avg       0.55      0.50      0.51       400\n",
      "\n"
     ]
    }
   ],
   "source": [
    "from sklearn.neighbors import KNeighborsClassifier\n",
    "\n",
    "# Assuming 'df' is your DataFrame and 'price_range' is your target variable\n",
    "X = df.drop(['px_height', 'sc_w', 'three_g', 'price_range'], axis=1)  # Features\n",
    "y = df['price_range']  # Target variable\n",
    "\n",
    "# Standardize the features for KNN (important due to distance-based calculations)\n",
    "scaler = StandardScaler()\n",
    "X_scaled = scaler.fit_transform(X)\n",
    "\n",
    "# Split data into training and testing sets (80% training, 20% testing)\n",
    "X_train, X_test, y_train, y_test = train_test_split(X_scaled, y, test_size=0.2, random_state=42)\n",
    "\n",
    "# Initialize a KNN classifier with k=5\n",
    "knn_classifier = KNeighborsClassifier(\n",
    "    n_neighbors=5,  # Number of neighbors to consider\n",
    "    weights='uniform',  # 'uniform' for equal weighting, 'distance' for distance-based weighting\n",
    "    metric='euclidean'  # Distance metric ('euclidean', 'manhattan', etc.)\n",
    ")\n",
    "\n",
    "# Train the KNN model on the training data\n",
    "knn_classifier.fit(X_train, y_train)\n",
    "\n",
    "# Get predictions for the training set\n",
    "y_train_pred = knn_classifier.predict(X_train)\n",
    "train_accuracy = accuracy_score(y_train, y_train_pred)\n",
    "train_f1 = f1_score(y_train, y_train_pred, average='weighted')\n",
    "\n",
    "# Predict on the test set to get test accuracy\n",
    "y_test_pred = knn_classifier.predict(X_test)\n",
    "test_accuracy = accuracy_score(y_test, y_test_pred)\n",
    "test_f1 = f1_score(y_test, y_test_pred, average='weighted')\n",
    "\n",
    "# Additional evaluation metrics\n",
    "conf_matrix = confusion_matrix(y_test, y_test_pred)  # Confusion matrix\n",
    "class_report = classification_report(y_test, y_test_pred)  # Detailed report with precision, recall, F1-score\n",
    "\n",
    "# Output results\n",
    "print(\"Train Accuracy:\", train_accuracy)  # Accuracy on training data\n",
    "print(\"Train F1-Score:\", train_f1)  # F1-score on training data\n",
    "print(\"Test Accuracy:\", test_accuracy)  # Accuracy on test data\n",
    "print(\"Test F1-Score:\", test_f1)  # F1-score on test data\n",
    "print(\"Confusion Matrix:\\n\", conf_matrix)  # Display confusion matrix\n",
    "print(\"Classification Report:\\n\", class_report)  # Detailed report with metrics\n"
   ]
  },
  {
   "cell_type": "code",
   "execution_count": 271,
   "id": "66826ff7-8e60-40db-8bb3-734bb219cc67",
   "metadata": {},
   "outputs": [
    {
     "name": "stdout",
     "output_type": "stream",
     "text": [
      "Train Accuracy: 0.796875\n",
      "Train F1-Score: 0.7966096884987729\n",
      "Test Accuracy: 0.785\n",
      "Test F1-Score: 0.7861458165809274\n",
      "Confusion Matrix:\n",
      " [[94 11  0  0]\n",
      " [13 59 19  0]\n",
      " [ 0  8 71 13]\n",
      " [ 0  0 22 90]]\n",
      "Classification Report:\n",
      "               precision    recall  f1-score   support\n",
      "\n",
      "           0       0.88      0.90      0.89       105\n",
      "           1       0.76      0.65      0.70        91\n",
      "           2       0.63      0.77      0.70        92\n",
      "           3       0.87      0.80      0.84       112\n",
      "\n",
      "    accuracy                           0.79       400\n",
      "   macro avg       0.79      0.78      0.78       400\n",
      "weighted avg       0.79      0.79      0.79       400\n",
      "\n"
     ]
    }
   ],
   "source": [
    "from sklearn.naive_bayes import GaussianNB\n",
    "\n",
    "\n",
    "# Feature selection and target variable\n",
    "X = df.drop(['px_height', 'sc_w', 'three_g', 'price_range'], axis=1)  # Features\n",
    "y = df['price_range']  # Target variable\n",
    "\n",
    "# Standardize the features (optional for Gaussian Naive Bayes but recommended)\n",
    "scaler = StandardScaler()\n",
    "X_scaled = scaler.fit_transform(X)\n",
    "\n",
    "# Split data into training and testing sets (80% training, 20% testing)\n",
    "X_train, X_test, y_train, y_test = train_test_split(X_scaled, y, test_size=0.2, random_state=42)\n",
    "\n",
    "# Create and train a Gaussian Naive Bayes classifier\n",
    "nb_classifier = GaussianNB()\n",
    "nb_classifier.fit(X_train, y_train)\n",
    "\n",
    "# Get predictions for the training set\n",
    "y_train_pred = nb_classifier.predict(X_train)\n",
    "train_accuracy = accuracy_score(y_train, y_train_pred)\n",
    "train_f1 = f1_score(y_train, y_train_pred, average='weighted')\n",
    "\n",
    "# Predict on the test set to get test accuracy\n",
    "y_test_pred = nb_classifier.predict(X_test)\n",
    "test_accuracy = accuracy_score(y_test, y_test_pred)\n",
    "test_f1 = f1_score(y_test, y_test_pred, average='weighted')\n",
    "\n",
    "# Confusion matrix and classification report\n",
    "conf_matrix = confusion_matrix(y_test, y_test_pred)\n",
    "class_report = classification_report(y_test, y_test_pred)\n",
    "\n",
    "# Output results\n",
    "print(\"Train Accuracy:\", train_accuracy)  # Accuracy on training data\n",
    "print(\"Train F1-Score:\", train_f1)  # F1-score on training data\n",
    "print(\"Test Accuracy:\", test_accuracy)  # Accuracy on test data\n",
    "print(\"Test F1-Score:\", test_f1)  # F1-score on test data\n",
    "print(\"Confusion Matrix:\\n\", conf_matrix)  # Display confusion matrix\n",
    "print(\"Classification Report:\\n\", class_report)  # Detailed report of metrics\n"
   ]
  },
  {
   "cell_type": "code",
   "execution_count": 282,
   "id": "60208315-d6cc-4d63-aa31-6e456ce43655",
   "metadata": {},
   "outputs": [],
   "source": [
    "# svc shows higher accuracy of 90% so i'm predicting my test data by svc algorithm"
   ]
  },
  {
   "cell_type": "code",
   "execution_count": null,
   "id": "bfa0aaa2-736e-4ff7-a972-b77aa2ba2a51",
   "metadata": {},
   "outputs": [],
   "source": [
    "predict_data=pd.read_csv('test_data.csv')\n",
    "predict_data"
   ]
  },
  {
   "cell_type": "code",
   "execution_count": null,
   "id": "37cdc166-1979-41d0-9497-7bf2a9d1581d",
   "metadata": {},
   "outputs": [],
   "source": [
    "from sklearn.svm import SVC\n",
    "\n",
    "# Prepare data\n",
    "X = df.drop(['px_height', 'sc_w', 'three_g', 'price_range'], axis=1)  # Features\n",
    "y = df['price_range']  # Target variable\n",
    "\n",
    "# Standardize the features\n",
    "scaler = StandardScaler()\n",
    "X_scaled = scaler.fit_transform(X)\n",
    "\n",
    "# Split into training and testing sets\n",
    "X_train, X_test, y_train, y_test = train_test_split(X_scaled, y, test_size=0.2, random_state=42)\n",
    "\n",
    "# Initialize and train the SVC model\n",
    "svc = SVC(kernel='linear', C=1.0, random_state=42)\n",
    "svc.fit(X_train, y_train)\n",
    "\n",
    "# Predictions for training and test sets\n",
    "y_pred = svc.predict(X_test)\n",
    "# Evaluate model using cross-validation\n",
    "# Assuming you want to use 5-fold cross-validation\n",
    "cv_scores = cross_val_score(rf_classifier, x_train, y_train, cv=5, scoring='accuracy')\n",
    "print(\"Cross-Validation Scores:\", cv_scores)\n",
    "print(\"Mean Accuracy:\", cv_scores.mean())\n"
   ]
  },
  {
   "cell_type": "code",
   "execution_count": null,
   "id": "9b631ff4-245d-4c08-8fa8-1f007479308f",
   "metadata": {},
   "outputs": [],
   "source": [
    "# Print the predicted values\n",
    "print(\"Predicted Values:\")\n",
    "print(y_pred)"
   ]
  },
  {
   "cell_type": "code",
   "execution_count": null,
   "id": "fb8f38a6-0331-4b1a-909f-fbc89ec44b54",
   "metadata": {},
   "outputs": [],
   "source": [
    "# Assuming you have already made predictions and stored them in y_pred\n",
    "\n",
    "# Convert the predicted values to a DataFrame\n",
    "predictions_df = pd.DataFrame(y_pred, columns=['predicted_price_range'])\n",
    "\n",
    "# Concatenate the predictions DataFrame with the test data DataFrame\n",
    "test_data_with_predictions = pd.concat([x_test, predictions_df], axis=1)\n",
    "\n",
    "# Display the test data with predicted values\n",
    "print(\"Test Data with Predictions:\")\n",
    "test_data_with_predictions"
   ]
  },
  {
   "cell_type": "code",
   "execution_count": null,
   "id": "b1d7c9d7-cf50-4bc5-8095-f136d620d01a",
   "metadata": {},
   "outputs": [],
   "source": [
    "#transfer to local_system\n",
    "test_data_with_predictions.to_csv('ur_location.csv', index=False)"
   ]
  }
 ],
 "metadata": {
  "kernelspec": {
   "display_name": "Python 3 (ipykernel)",
   "language": "python",
   "name": "python3"
  },
  "language_info": {
   "codemirror_mode": {
    "name": "ipython",
    "version": 3
   },
   "file_extension": ".py",
   "mimetype": "text/x-python",
   "name": "python",
   "nbconvert_exporter": "python",
   "pygments_lexer": "ipython3",
   "version": "3.11.5"
  }
 },
 "nbformat": 4,
 "nbformat_minor": 5
}
